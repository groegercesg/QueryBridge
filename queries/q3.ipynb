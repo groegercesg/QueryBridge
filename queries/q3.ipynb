{
 "cells": [
  {
   "cell_type": "code",
   "execution_count": 37,
   "metadata": {},
   "outputs": [],
   "source": [
    "import pandas as pd\n",
    "import numpy as np\n",
    "from datetime import date\n",
    "from numpy import char\n",
    "pd.set_option('display.float_format', str)"
   ]
  },
  {
   "cell_type": "markdown",
   "metadata": {},
   "source": [
    "## Data"
   ]
  },
  {
   "cell_type": "code",
   "execution_count": 38,
   "metadata": {},
   "outputs": [],
   "source": [
    "l_columnnames = [\"L_ORDERKEY\", \"L_PARTKEY\", \"L_SUPPKEY\", \"L_LINENUMBER\", \"L_QUANTITY\", \"L_EXTENDEDPRICE\", \"L_DISCOUNT\", \"L_TAX\", \"L_RETURNFLAG\", \"L_LINESTATUS\", \"L_SHIPDATE\", \"L_COMMITDATE\", \"L_RECEIPTDATE\", \"L_SHIPINSTRUCT\",\"L_SHIPMODE\", \"L_COMMENT\"]\n",
    "\n",
    "for i in range(len(l_columnnames)):\n",
    "    l_columnnames[i] = l_columnnames[i].lower()\n",
    "    \n",
    "l_data_types = {\n",
    "    'l_orderkey': int,\n",
    "    'l_partkey': int,\n",
    "    'l_suppkey': int,\n",
    "    'l_linenumber': int,\n",
    "    'l_quantity': float,\n",
    "    'l_extendedprice': float,\n",
    "    'l_discount': float,\n",
    "    'l_tax': float,\n",
    "    'l_returnflag': str,\n",
    "    'l_linestatus': str,\n",
    "    'l_shipinstruct': str,\n",
    "    'l_shipmode': str,\n",
    "    'l_comment': str\n",
    "}\n",
    "\n",
    "l_parse_dates = ['l_shipdate', 'l_commitdate', 'l_receiptdate']"
   ]
  },
  {
   "cell_type": "code",
   "execution_count": 39,
   "metadata": {},
   "outputs": [],
   "source": [
    "o_columnnames = [\"O_ORDERKEY\", \"O_CUSTKEY\", \"O_ORDERSTATUS\", \"O_TOTALPRICE\", \"O_ORDERDATE\", \"O_ORDERPRIORITY\", \"O_CLERK\", \"O_SHIPPRIORITY\", \"O_COMMENT\"]\n",
    "\n",
    "for i in range(len(o_columnnames)):\n",
    "    o_columnnames[i] = o_columnnames[i].lower()\n",
    "    \n",
    "o_data_types = {\n",
    "    'o_orderkey': int,\n",
    "    'o_custkey': int,\n",
    "    'o_orderstatus': str,\n",
    "    'o_totalprice': float,\n",
    "    'o_orderpriority': str,\n",
    "    'o_clerk': str,\n",
    "    'o_shippriority': int,\n",
    "    'o_comment': str\n",
    "}\n",
    "\n",
    "o_parse_dates = ['o_orderdate']"
   ]
  },
  {
   "cell_type": "code",
   "execution_count": 40,
   "metadata": {},
   "outputs": [],
   "source": [
    "c_columnnames = [\"C_CUSTKEY\", \"C_NAME\", \"C_ADDRESS\", \"C_NATIONKEY\", \"C_PHONE\", \"C_ACCTBAL\", \"C_MKTSEGMENT\", \"C_COMMENT\"]\n",
    "\n",
    "for i in range(len(c_columnnames)):\n",
    "    c_columnnames[i] = c_columnnames[i].lower()\n",
    "    \n",
    "c_data_types = {\n",
    "    'c_custkey': int,\n",
    "    'c_name': str,\n",
    "    'c_address': str,\n",
    "    'c_nationkey': int,\n",
    "    'c_phone': str,\n",
    "    'c_acctbal': float,\n",
    "    'c_mktsegment': str,\n",
    "    'c_comment': str\n",
    "}\n",
    "\n",
    "c_parse_dates = []"
   ]
  },
  {
   "cell_type": "markdown",
   "metadata": {},
   "source": [
    "### Lineitem DataFrame"
   ]
  },
  {
   "cell_type": "code",
   "execution_count": 41,
   "metadata": {},
   "outputs": [],
   "source": [
    "# Don't set indexes, as we can't access them with Pandas selection!\n",
    "lineitem = pd.read_table(\"../tpch-pgsql-master/data/load/lineitem.tbl.csv\", sep=\"|\", names=l_columnnames, dtype=l_data_types, parse_dates=l_parse_dates)"
   ]
  },
  {
   "cell_type": "markdown",
   "metadata": {},
   "source": [
    "### Orders DataFrame"
   ]
  },
  {
   "cell_type": "code",
   "execution_count": 42,
   "metadata": {},
   "outputs": [],
   "source": [
    "# Don't set indexes, as we can't access them with Pandas selection!\n",
    "orders = pd.read_table(\"../tpch-pgsql-master/data/load/orders.tbl.csv\", sep=\"|\", names=o_columnnames, dtype=o_data_types, parse_dates=o_parse_dates)"
   ]
  },
  {
   "cell_type": "markdown",
   "metadata": {},
   "source": [
    "### Customer DataFrame"
   ]
  },
  {
   "cell_type": "code",
   "execution_count": 43,
   "metadata": {},
   "outputs": [],
   "source": [
    "# Don't set indexes, as we can't access them with Pandas selection!\n",
    "customer = pd.read_table(\"../tpch-pgsql-master/data/load/customer.tbl.csv\", sep=\"|\", names=c_columnnames, dtype=c_data_types, parse_dates=c_parse_dates)"
   ]
  },
  {
   "cell_type": "markdown",
   "metadata": {},
   "source": [
    "## Q3"
   ]
  },
  {
   "cell_type": "code",
   "execution_count": 50,
   "metadata": {},
   "outputs": [
    {
     "name": "stdout",
     "output_type": "stream",
     "text": [
      "                                                 revenue\n",
      "l_orderkey o_orderdate o_shippriority                   \n",
      "885895     1995-03-26  0                     428442.5359\n",
      "4207744    1995-03-26  0              392122.02509999997\n",
      "5660420    1995-03-08  0                     389343.1796\n",
      "3837441    1995-02-14  0                     382568.0383\n",
      "5006400    1995-03-18  0                     377083.4322\n",
      "1983815    1995-03-25  0                     373983.2402\n",
      "4837957    1995-02-21  0                     369585.3452\n",
      "2759685    1995-02-27  0                     368851.5057\n",
      "2500838    1995-03-18  0                      357224.291\n",
      "2315457    1995-02-25  0                     354719.2327\n",
      "--- 12.143398761749268 seconds ---\n"
     ]
    }
   ],
   "source": [
    "import time\n",
    "start_time = time.time()\n",
    "\n",
    "df_intermediate = orders[orders.o_orderdate < pd.Timestamp('1995-03-27 00:00:00')]\n",
    "df_filter_1 = df_intermediate[['o_orderkey', 'o_custkey', 'o_orderstatus', 'o_totalprice', 'o_orderdate', 'o_orderpriority', 'o_clerk', 'o_shippriority', 'o_comment']]\n",
    "df_intermediate = customer[customer.c_mktsegment == 'MACHINERY']\n",
    "df_filter_2 = df_intermediate[['c_custkey']]\n",
    "df_intermediate = pd.DataFrame()\n",
    "df_intermediate = df_filter_1.merge(df_filter_2, left_on=\"o_custkey\", right_on=\"c_custkey\")\n",
    "df_merge_1 = df_intermediate[['o_orderdate', 'o_shippriority', 'o_orderkey']]\n",
    "df_intermediate = lineitem[lineitem.l_shipdate > pd.Timestamp('1995-03-27 00:00:00')]\n",
    "df_filter_3 = df_intermediate[['l_orderkey', 'l_partkey', 'l_suppkey', 'l_linenumber', 'l_quantity', 'l_extendedprice', 'l_discount', 'l_tax', 'l_returnflag', 'l_linestatus', 'l_shipdate', 'l_commitdate', 'l_receiptdate', 'l_shipinstruct', 'l_shipmode', 'l_comment']]\n",
    "df_intermediate = pd.DataFrame()\n",
    "df_intermediate = df_merge_1.merge(df_filter_3, left_on=\"o_orderkey\", right_on=\"l_orderkey\")\n",
    "df_merge_2 = df_intermediate[['l_orderkey', 'o_orderdate', 'o_shippriority', 'l_extendedprice', 'l_discount']]\n",
    "df_intermediate = df_merge_2.groupby(['l_orderkey', 'o_orderdate', 'o_shippriority'])\n",
    "df_intermediate = df_intermediate.apply(lambda s: pd.Series({\n",
    "    \"revenue\": (s[\"l_extendedprice\"] * ( 1 - s[\"l_discount\"] )).sum(),\n",
    "}))\n",
    "df_group_1 = df_intermediate[['revenue']]\n",
    "df_intermediate = df_group_1.sort_values(by=['revenue', 'o_orderdate'], ascending=[False, True])\n",
    "df_sort_1 = df_intermediate[['revenue']]\n",
    "df_limit_1 = df_sort_1[['revenue']]\n",
    "print(df_limit_1.head(10))\n",
    "\n",
    "print(\"--- %s seconds ---\" % (time.time() - start_time))"
   ]
  },
  {
   "cell_type": "markdown",
   "metadata": {},
   "source": [
    "### Success!\n",
    "\n",
    "Running the command in PSQL gives the output:\n",
    "\n",
    "| l_orderkey | revenue | o_orderdate | o_shippriority |\n",
    "|--------|-------------|-------------|----------------|\n",
    "| 885895 | 428442.5359 | 1995-03-26 | 0 |\n",
    "| 4207744 | 392122.0251 | 1995-03-26 | 0 |\n",
    "| 5660420 | 389343.1796 | 1995-03-08 | 0 |\n",
    "| 3837441 | 382568.0383 | 1995-02-14 | 0 |\n",
    "| 5006400 | 377083.4322 | 1995-03-18 | 0 |\n",
    "| 1983815 | 373983.2402 | 1995-03-25 | 0 |\n",
    "| 4837957 | 369585.3452 | 1995-02-21 | 0 |\n",
    "|2759685 | 368851.5057 | 1995-02-27 | 0 |\n",
    "| 2500838 | 357224.2910 | 1995-03-18 | 0 |\n",
    "| 2315457 | 354719.2327 | 1995-02-25 | 0 |\n",
    "\n",
    "This is **ROUGHLY** the same numbers as Pandas, so good.\n",
    "\n",
    "Time information (all times in seconds, to 3 s.f.):\n",
    "| | Run 1 | Run 2 | Run 3 | Average |\n",
    "| --- | --- | --- | --- | --- |\n",
    "| Pandas | 10.0 | 11.8 | 12.1 | 11.3 |\n",
    "| PostgreSQL | 1.81 | 1.03 | 1.06 | 1.3 |"
   ]
  },
  {
   "cell_type": "markdown",
   "metadata": {},
   "source": [
    "### Future Change Needed\n",
    "\n",
    "Not super essential, but at the moment we have no way to make the output occur in the correct **order**. This is because we have some columns that are actually indexes and there's no ways to change the order between indexes and columns. \n",
    "\n",
    "What we could do, is in the final node (the \"presentation node\"/LIMIT), we convert all the indexes to columns (using rename_axis and reset_index) and then we change change the order based on output there"
   ]
  }
 ],
 "metadata": {
  "kernelspec": {
   "display_name": "Python 3.10.6 64-bit",
   "language": "python",
   "name": "python3"
  },
  "language_info": {
   "codemirror_mode": {
    "name": "ipython",
    "version": 3
   },
   "file_extension": ".py",
   "mimetype": "text/x-python",
   "name": "python",
   "nbconvert_exporter": "python",
   "pygments_lexer": "ipython3",
   "version": "3.10.6"
  },
  "orig_nbformat": 4,
  "vscode": {
   "interpreter": {
    "hash": "e7370f93d1d0cde622a1f8e1c04877d8463912d04d973331ad4851f04de6915a"
   }
  }
 },
 "nbformat": 4,
 "nbformat_minor": 2
}
