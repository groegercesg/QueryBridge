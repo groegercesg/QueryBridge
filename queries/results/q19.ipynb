{
 "cells": [
  {
   "cell_type": "code",
   "execution_count": 1,
   "metadata": {},
   "outputs": [],
   "source": [
    "import pandas as pd\n",
    "import numpy as np\n",
    "from datetime import date\n",
    "from numpy import char\n",
    "import time\n",
    "pd.set_option('display.float_format', str)"
   ]
  },
  {
   "cell_type": "markdown",
   "metadata": {},
   "source": [
    "## Data"
   ]
  },
  {
   "cell_type": "code",
   "execution_count": 2,
   "metadata": {},
   "outputs": [],
   "source": [
    "l_columnnames = [\"L_ORDERKEY\", \"L_PARTKEY\", \"L_SUPPKEY\", \"L_LINENUMBER\", \"L_QUANTITY\", \"L_EXTENDEDPRICE\", \"L_DISCOUNT\", \"L_TAX\", \"L_RETURNFLAG\", \"L_LINESTATUS\", \"L_SHIPDATE\", \"L_COMMITDATE\", \"L_RECEIPTDATE\", \"L_SHIPINSTRUCT\",\"L_SHIPMODE\", \"L_COMMENT\"]\n",
    "\n",
    "for i in range(len(l_columnnames)):\n",
    "    l_columnnames[i] = l_columnnames[i].lower()\n",
    "    \n",
    "l_data_types = {\n",
    "    'l_orderkey': int,\n",
    "    'l_partkey': int,\n",
    "    'l_suppkey': int,\n",
    "    'l_linenumber': int,\n",
    "    'l_quantity': float,\n",
    "    'l_extendedprice': float,\n",
    "    'l_discount': float,\n",
    "    'l_tax': float,\n",
    "    'l_returnflag': str,\n",
    "    'l_linestatus': str,\n",
    "    'l_shipinstruct': str,\n",
    "    'l_shipmode': str,\n",
    "    'l_comment': str\n",
    "}\n",
    "\n",
    "l_parse_dates = ['l_shipdate', 'l_commitdate', 'l_receiptdate']"
   ]
  },
  {
   "cell_type": "code",
   "execution_count": 3,
   "metadata": {},
   "outputs": [],
   "source": [
    "p_columnnames = [\"P_PARTKEY\", \"P_NAME\", \"P_MFGR\", \"P_BRAND\", \"P_TYPE\", \"P_SIZE\", \"P_CONTAINER\", \"P_RETAILPRICE\", \"P_COMMENT\"]\n",
    "\n",
    "for i in range(len(p_columnnames)):\n",
    "    p_columnnames[i] = p_columnnames[i].lower()\n",
    "    \n",
    "p_data_types = {\n",
    "    'p_partkey': int, \n",
    "    'p_name': str,\n",
    "    'p_mfgr': str,\n",
    "    'p_brand': str,\n",
    "    'p_type': str,\n",
    "    'p_size': int,\n",
    "    'p_container': str,\n",
    "    'p_retailprice': float,\n",
    "    'p_comment': str\n",
    "}\n",
    "\n",
    "p_parse_dates = []"
   ]
  },
  {
   "cell_type": "markdown",
   "metadata": {},
   "source": [
    "### Lineitem DataFrame"
   ]
  },
  {
   "cell_type": "code",
   "execution_count": 4,
   "metadata": {},
   "outputs": [],
   "source": [
    "# Don't set indexes, as we can't access them with Pandas selection!\n",
    "lineitem = pd.read_table(\"../../tpch-pgsql-master/data/load/lineitem.tbl.csv\", sep=\"|\", names=l_columnnames, dtype=l_data_types, parse_dates=l_parse_dates)"
   ]
  },
  {
   "cell_type": "markdown",
   "metadata": {},
   "source": [
    "### Part DataFrame"
   ]
  },
  {
   "cell_type": "code",
   "execution_count": 5,
   "metadata": {},
   "outputs": [],
   "source": [
    "# Don't set indexes, as we can't access them with Pandas selection!\n",
    "part = pd.read_table(\"../../tpch-pgsql-master/data/load/part.tbl.csv\", sep=\"|\", names=p_columnnames, dtype=p_data_types, parse_dates=p_parse_dates)"
   ]
  },
  {
   "cell_type": "markdown",
   "metadata": {},
   "source": [
    "## Q19"
   ]
  },
  {
   "cell_type": "code",
   "execution_count": 14,
   "metadata": {},
   "outputs": [
    {
     "name": "stdout",
     "output_type": "stream",
     "text": [
      "       revenue\n",
      "0 3083843.0578\n",
      "--- 0.7763514518737793 seconds ---\n"
     ]
    }
   ],
   "source": [
    "start_time = time.time()\n",
    "\n",
    "df_filter_1 = part[(part.p_size >= 1) & (((part.p_brand == 'Brand#12') & (part.p_container.isin([\"SM CASE\",\"SM BOX\",\"SM PACK\",\"SM PKG\"])) & (part.p_size <= 5)) | ((part.p_brand == 'Brand#23') & (part.p_container.isin([\"MED BAG\",\"MED BOX\",\"MED PKG\",\"MED PACK\"])) & (part.p_size <= 10)) | ((part.p_brand == 'Brand#34') & (part.p_container.isin([\"LG CASE\",\"LG BOX\",\"LG PACK\",\"LG PKG\"])) & (part.p_size <= 15)))]\n",
    "df_filter_1 = df_filter_1[['p_partkey', 'p_name', 'p_mfgr', 'p_brand', 'p_type', 'p_size', 'p_container', 'p_retailprice', 'p_comment']]\n",
    "df_filter_2 = lineitem[(lineitem.l_shipmode.isin([\"AIR\",\"AIR REG\"])) & (lineitem.l_shipinstruct == 'DELIVER IN PERSON') & (((lineitem.l_quantity >= 1) & (lineitem.l_quantity <= 11)) | ((lineitem.l_quantity >= 10) & (lineitem.l_quantity <= 20)) | ((lineitem.l_quantity >= 20) & (lineitem.l_quantity <= 30)))]\n",
    "df_filter_2 = df_filter_2[['l_orderkey', 'l_partkey', 'l_suppkey', 'l_linenumber', 'l_quantity', 'l_extendedprice', 'l_discount', 'l_tax', 'l_returnflag', 'l_linestatus', 'l_shipdate', 'l_commitdate', 'l_receiptdate', 'l_shipinstruct', 'l_shipmode', 'l_comment']]\n",
    "df_merge_1 = df_filter_1.merge(df_filter_2, left_on=\"p_partkey\", right_on=\"l_partkey\")\n",
    "df_merge_1 = df_merge_1[((df_merge_1.p_brand == 'Brand#12') & (df_merge_1.p_container.isin([\"SM CASE\",\"SM BOX\",\"SM PACK\",\"SM PKG\"])) & (df_merge_1.l_quantity >= 1) & (df_merge_1.l_quantity <= 11) & (df_merge_1.p_size <= 5)) | ((df_merge_1.p_brand == 'Brand#23') & (df_merge_1.p_container.isin([\"MED BAG\",\"MED BOX\",\"MED PKG\",\"MED PACK\"])) & (df_merge_1.l_quantity >= 10) & (df_merge_1.l_quantity <= 20) & (df_merge_1.p_size <= 10)) | ((df_merge_1.p_brand == 'Brand#34') & (df_merge_1.p_container.isin([\"LG CASE\",\"LG BOX\",\"LG PACK\",\"LG PKG\"])) & (df_merge_1.l_quantity >= 20) & (df_merge_1.l_quantity <= 30) & (df_merge_1.p_size <= 15))]\n",
    "df_merge_1 = df_merge_1[['l_extendedprice', 'l_discount']]\n",
    "df_aggr_1 = pd.DataFrame()\n",
    "df_aggr_1['revenue'] = [(df_merge_1.l_extendedprice * ( 1 - df_merge_1.l_discount )).sum()]\n",
    "df_aggr_1 = df_aggr_1[['revenue']]\n",
    "df_limit_1 = df_aggr_1[['revenue']]\n",
    "end_time = time.time()\n",
    "print(df_limit_1.head(1))\n",
    "\n",
    "print(\"--- %s seconds ---\" % (end_time - start_time))"
   ]
  },
  {
   "cell_type": "code",
   "execution_count": 12,
   "metadata": {},
   "outputs": [
    {
     "name": "stdout",
     "output_type": "stream",
     "text": [
      "3083843.0578\n",
      "--- 1.328519582748413 seconds ---\n"
     ]
    },
    {
     "name": "stderr",
     "output_type": "stream",
     "text": [
      "/tmp/ipykernel_660945/2838853430.py:20: SettingWithCopyWarning: \n",
      "A value is trying to be set on a copy of a slice from a DataFrame.\n",
      "Try using .loc[row_indexer,col_indexer] = value instead\n",
      "\n",
      "See the caveats in the documentation: https://pandas.pydata.org/pandas-docs/stable/user_guide/indexing.html#returning-a-view-versus-a-copy\n",
      "  li_pa_join_filt[\"revenue\"] = li_pa_join_filt.l_extendedprice * (1 - li_pa_join_filt.l_discount)\n"
     ]
    }
   ],
   "source": [
    "# Hesam Pandas Query\n",
    "start_time = time.time()\n",
    "\n",
    "pa_filt = part[\n",
    "                ((part.p_brand == \"Brand#12\") & (part.p_container.isin([\"SM CASE\", \"SM BOX\", \"SM PACK\", \"SM PKG\"])) & (part.p_size >= 1) & (part.p_size <= 5)) |\n",
    "                ((part.p_brand == \"Brand#23\") & (part.p_container.isin([\"MED BAG\", \"MED BOX\", \"MED PKG\", \"MED PACK\"])) & (part.p_size >= 1) & (part.p_size <= 10)) |\n",
    "                ((part.p_brand == \"Brand#34\") & (part.p_container.isin([\"LG CASE\", \"LG BOX\", \"LG PACK\", \"LG PKG\"])) & (part.p_size >= 1) & (part.p_size <= 15))\n",
    "            ]\n",
    "pa_proj = pa_filt[[\"p_partkey\", \"p_brand\", \"p_size\", \"p_container\"]]\n",
    "\n",
    "li_filt = lineitem[(((lineitem.l_shipmode == \"AIR\") | (lineitem.l_shipmode == \"AIR REG\")) & (lineitem.l_shipinstruct == \"DELIVER IN PERSON\"))]\n",
    "li_pa_join = pd.merge(pa_proj, li_filt, left_on = \"p_partkey\", right_on = \"l_partkey\", how = \"inner\")\n",
    "li_pa_join_filt = li_pa_join[\n",
    "                        (\n",
    "                            ((li_pa_join.p_brand == \"Brand#12\") & ((li_pa_join.l_quantity >= 1) & (li_pa_join.l_quantity <= 11))) | \n",
    "                            ((li_pa_join.p_brand == \"Brand#23\") & ((li_pa_join.l_quantity >= 10) & (li_pa_join.l_quantity <= 20))) |\n",
    "                            ((li_pa_join.p_brand == \"Brand#34\") & ((li_pa_join.l_quantity >= 20) & (li_pa_join.l_quantity <= 30)))\n",
    "                        )\n",
    "                    ]\n",
    "li_pa_join_filt[\"revenue\"] = li_pa_join_filt.l_extendedprice * (1 - li_pa_join_filt.l_discount)\n",
    "\n",
    "result = li_pa_join_filt.revenue.sum()\n",
    "end_time = time.time()\n",
    "print(result)\n",
    "\n",
    "print(\"--- %s seconds ---\" % (end_time - start_time))"
   ]
  },
  {
   "cell_type": "markdown",
   "metadata": {},
   "source": [
    "### Success!\n",
    "\n",
    "Running the command in PSQL gives the output:\n",
    "\n",
    "| revenue |\n",
    "|--------|\n",
    "| 3083843.0578 |\n",
    "\n",
    "This is similar to Pandas, so all good.\n",
    "\n",
    "Time information (all times in seconds, to 3 s.f.):\n",
    "| | Run 1 | Run 2 | Run 3 | Average |\n",
    "| --- | --- | --- | --- | --- |\n",
    "| Pandas |  |  |  |  |\n",
    "| PostgreSQL | 0.202 | 0.0728 | 0.0972 | 0.124 |\n",
    "| Hesam Pandas | 1.50 | 1.27 | 1.33 | 1.37 |"
   ]
  }
 ],
 "metadata": {
  "kernelspec": {
   "display_name": "Python 3.10.6 64-bit",
   "language": "python",
   "name": "python3"
  },
  "language_info": {
   "codemirror_mode": {
    "name": "ipython",
    "version": 3
   },
   "file_extension": ".py",
   "mimetype": "text/x-python",
   "name": "python",
   "nbconvert_exporter": "python",
   "pygments_lexer": "ipython3",
   "version": "3.10.6"
  },
  "orig_nbformat": 4,
  "vscode": {
   "interpreter": {
    "hash": "e7370f93d1d0cde622a1f8e1c04877d8463912d04d973331ad4851f04de6915a"
   }
  }
 },
 "nbformat": 4,
 "nbformat_minor": 2
}
