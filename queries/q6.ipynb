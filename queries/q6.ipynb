{
 "cells": [
  {
   "cell_type": "code",
   "execution_count": 2,
   "metadata": {},
   "outputs": [],
   "source": [
    "import pandas as pd\n",
    "import numpy as np\n",
    "pd.set_option('display.float_format', str)"
   ]
  },
  {
   "cell_type": "code",
   "execution_count": 3,
   "metadata": {},
   "outputs": [],
   "source": [
    "\"\"\" \n",
    "from tpch-pgsql-master/query_root/prep_query:\n",
    "    create_tbl.sql\n",
    "\n",
    "CREATE TABLE LINEITEM (\n",
    "    L_ORDERKEY        INTEGER NOT NULL, -- references O_ORDERKEY\n",
    "    L_PARTKEY        INTEGER NOT NULL, -- references P_PARTKEY (compound fk to PARTSUPP)\n",
    "    L_SUPPKEY        INTEGER NOT NULL, -- references S_SUPPKEY (compound fk to PARTSUPP)\n",
    "    L_LINENUMBER    INTEGER,\n",
    "    L_QUANTITY        DECIMAL,\n",
    "    L_EXTENDEDPRICE    DECIMAL,\n",
    "    L_DISCOUNT        DECIMAL,\n",
    "    L_TAX            DECIMAL,\n",
    "    L_RETURNFLAG    CHAR(1),\n",
    "    L_LINESTATUS    CHAR(1),\n",
    "    L_SHIPDATE        DATE,\n",
    "    L_COMMITDATE    DATE,\n",
    "    L_RECEIPTDATE    DATE,\n",
    "    L_SHIPINSTRUCT    CHAR(25),\n",
    "    L_SHIPMODE        CHAR(10),\n",
    "    L_COMMENT        VARCHAR(44)\n",
    ");\n",
    "\n",
    "and\n",
    "    create_idx.sql\n",
    "    \n",
    "ALTER TABLE LINEITEM ADD PRIMARY KEY (L_ORDERKEY, L_LINENUMBER);\n",
    "\"\"\"\n",
    "\n",
    "from datetime import date\n",
    "from numpy import char\n",
    "\n",
    "\n",
    "columnnames = [\"L_ORDERKEY\", \"L_PARTKEY\", \"L_SUPPKEY\", \"L_LINENUMBER\", \"L_QUANTITY\", \"L_EXTENDEDPRICE\", \"L_DISCOUNT\", \"L_TAX\", \"L_RETURNFLAG\", \"L_LINESTATUS\", \"L_SHIPDATE\", \"L_COMMITDATE\", \"L_RECEIPTDATE\", \"L_SHIPINSTRUCT\",\"L_SHIPMODE\", \"L_COMMENT\"]\n",
    "\n",
    "for i in range(len(columnnames)):\n",
    "    columnnames[i] = columnnames[i].lower()\n",
    "    \n",
    "data_types = {\n",
    "    'l_orderkey': int,\n",
    "    'l_partkey': int,\n",
    "    'l_suppkey': int,\n",
    "    'l_linenumber': int,\n",
    "    'l_quantity': float,\n",
    "    'l_extendedprice': float,\n",
    "    'l_discount': float,\n",
    "    'l_tax': float,\n",
    "    'l_returnflag': str,\n",
    "    'l_linestatus': str,\n",
    "    'l_shipinstruct': str,\n",
    "    'l_shipmode': str,\n",
    "    'l_comment': str\n",
    "}"
   ]
  },
  {
   "cell_type": "code",
   "execution_count": 4,
   "metadata": {},
   "outputs": [],
   "source": [
    "# Don't set indexes, as we can't access them with Pandas selection!\n",
    "df = pd.read_table(\"../tpch-pgsql-master/data/load/lineitem.tbl.csv\", sep=\"|\", names=columnnames, dtype=data_types, parse_dates=['l_shipdate', 'l_commitdate', 'l_receiptdate'])"
   ]
  },
  {
   "cell_type": "code",
   "execution_count": 5,
   "metadata": {},
   "outputs": [
    {
     "name": "stdout",
     "output_type": "stream",
     "text": [
      "         revenue\n",
      "0 179018379.9113\n",
      "--- 0.2662086486816406 seconds ---\n"
     ]
    }
   ],
   "source": [
    "import time\n",
    "start_time = time.time()\n",
    "\n",
    "df_intermediate = df[(df.l_shipdate >= pd.Timestamp('1993-01-01 00:00:00')) & (df.l_shipdate < pd.Timestamp('1994-01-01 00:00:00')) & (df.l_discount >= 0.07) & (df.l_discount <= 0.09) & (df.l_quantity < 25) ]\n",
    "df_filter = df_intermediate[['l_orderkey', 'l_partkey', 'l_suppkey', 'l_linenumber', 'l_quantity', 'l_extendedprice', 'l_discount', 'l_tax', 'l_returnflag', 'l_linestatus', 'l_shipdate', 'l_commitdate', 'l_receiptdate', 'l_shipinstruct', 'l_shipmode', 'l_comment']]\n",
    "df_aggr = pd.DataFrame()\n",
    "df_aggr['revenue'] = [(df_filter.l_extendedprice * df_filter.l_discount).sum()]\n",
    "print(df_aggr.head(1))\n",
    "\n",
    "print(\"--- %s seconds ---\" % (time.time() - start_time))"
   ]
  },
  {
   "cell_type": "markdown",
   "metadata": {},
   "source": [
    "# Success!\n",
    "\n",
    "Running the command in PSQL gives the output:\n",
    "|     revenue      |\n",
    "| ---------------- |\n",
    "|  179018379.9113  |\n",
    "\n",
    "This is the same number as Pandas, so good.\n",
    "\n",
    "Time information (all times in seconds, to 3 s.f.):\n",
    "| | Run 1 | Run 2 | Run 3 | Average |\n",
    "| --- | --- | --- | --- | --- |\n",
    "| Pandas | 0.136 | 0.143 | 0.155 | 0.145 |\n",
    "| PostgreSQL | 0.926 | 0.442 | 0.364 | 0.577 |"
   ]
  },
  {
   "cell_type": "markdown",
   "metadata": {},
   "source": [
    "## Q1"
   ]
  },
  {
   "cell_type": "code",
   "execution_count": 10,
   "metadata": {},
   "outputs": [
    {
     "name": "stdout",
     "output_type": "stream",
     "text": [
      "                             sum_qty    sum_base_price    sum_disc_price  \\\n",
      "l_returnflag l_linestatus                                                  \n",
      "A            F            37734107.0 56586554400.72996 53758257134.87001   \n",
      "\n",
      "                                 sum_charge            avg_qty  \\\n",
      "l_returnflag l_linestatus                                        \n",
      "A            F            55909065222.82771 25.522005853257337   \n",
      "\n",
      "                                   avg_price             avg_disc  count_order  \n",
      "l_returnflag l_linestatus                                                       \n",
      "A            F            38273.129734621645 0.049985295838397614    1478493.0  \n"
     ]
    }
   ],
   "source": [
    "df_intermediate = df[df.l_shipdate <= pd.Timestamp('1998-08-11 00:00:00')]\n",
    "df_filter = df_intermediate[['l_orderkey', 'l_partkey', 'l_suppkey', 'l_linenumber', 'l_quantity', 'l_extendedprice', 'l_discount', 'l_tax', 'l_returnflag', 'l_linestatus', 'l_shipdate', 'l_commitdate', 'l_receiptdate', 'l_shipinstruct', 'l_shipmode', 'l_comment']]\n",
    "df_intermediate = df_filter.groupby(['l_returnflag', 'l_linestatus'])\n",
    "df_intermediate = df_intermediate.apply(lambda s: pd.Series({\n",
    "    \"sum_qty\": (s[\"l_quantity\"]).sum(),\n",
    "    \"sum_base_price\": (s[\"l_extendedprice\"]).sum(),\n",
    "    \"sum_disc_price\": (s[\"l_extendedprice\"] * ( 1 - s[\"l_discount\"] )).sum(),\n",
    "    \"sum_charge\": (( s[\"l_extendedprice\"] * ( 1 - s[\"l_discount\"] )) * ( 1 + s[\"l_tax\"] )).sum(),\n",
    "    \"avg_qty\": (s[\"l_quantity\"]).mean(),\n",
    "    \"avg_price\": (s[\"l_extendedprice\"]).mean(),\n",
    "    \"avg_disc\": (s[\"l_discount\"]).mean(),\n",
    "    \"count_order\": len(s.index),\n",
    "}))\n",
    "df_group = df_intermediate[['sum_qty', 'sum_base_price', 'sum_disc_price', 'sum_charge', 'avg_qty', 'avg_price', 'avg_disc', 'count_order']]\n",
    "df_intermediate = df_group.sort_values(by=['l_returnflag', 'l_linestatus'], ascending=[True, True])\n",
    "df_sort = df_intermediate[['sum_qty', 'sum_base_price', 'sum_disc_price', 'sum_charge', 'avg_qty', 'avg_price', 'avg_disc', 'count_order']]\n",
    "df_limit = df_sort[['sum_qty', 'sum_base_price', 'sum_disc_price', 'sum_charge', 'avg_qty', 'avg_price', 'avg_disc', 'count_order']]\n",
    "print(df_limit.head(1))"
   ]
  },
  {
   "cell_type": "markdown",
   "metadata": {},
   "source": [
    "### Potential Issue\n",
    "\n",
    "Is is going to be a problem for us.\n",
    "The fact that the SQL plan has in the output section, all columns - including index ones\n",
    "But in pandas we can't filter to return index ones as it gives an error\n",
    "\n",
    "*TODO:* Work on Pandas output so to limit selecting by columns\n",
    "\n",
    "### Further Issue\n",
    "\n",
    "The rounding in Pandas and PostgreSQL might (and on initial inspection looks to be)\n",
    "\n",
    "*TODO:* Investigate Pandas and PostgreSQL datatypes, potentially look at schema"
   ]
  }
 ],
 "metadata": {
  "kernelspec": {
   "display_name": "Python 3.10.6 64-bit",
   "language": "python",
   "name": "python3"
  },
  "language_info": {
   "codemirror_mode": {
    "name": "ipython",
    "version": 3
   },
   "file_extension": ".py",
   "mimetype": "text/x-python",
   "name": "python",
   "nbconvert_exporter": "python",
   "pygments_lexer": "ipython3",
   "version": "3.10.6"
  },
  "orig_nbformat": 4,
  "vscode": {
   "interpreter": {
    "hash": "e7370f93d1d0cde622a1f8e1c04877d8463912d04d973331ad4851f04de6915a"
   }
  }
 },
 "nbformat": 4,
 "nbformat_minor": 2
}
