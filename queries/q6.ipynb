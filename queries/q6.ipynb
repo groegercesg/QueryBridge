{
 "cells": [
  {
   "cell_type": "code",
   "execution_count": 24,
   "metadata": {},
   "outputs": [],
   "source": [
    "import pandas as pd\n",
    "import numpy as np"
   ]
  },
  {
   "cell_type": "code",
   "execution_count": 28,
   "metadata": {},
   "outputs": [],
   "source": [
    "\"\"\"\n",
    "CREATE TABLE LINEITEM (\n",
    "    L_ORDERKEY        INTEGER NOT NULL, -- references O_ORDERKEY\n",
    "    L_PARTKEY        INTEGER NOT NULL, -- references P_PARTKEY (compound fk to PARTSUPP)\n",
    "    L_SUPPKEY        INTEGER NOT NULL, -- references S_SUPPKEY (compound fk to PARTSUPP)\n",
    "    L_LINENUMBER    INTEGER,\n",
    "    L_QUANTITY        DECIMAL,\n",
    "    L_EXTENDEDPRICE    DECIMAL,\n",
    "    L_DISCOUNT        DECIMAL,\n",
    "    L_TAX            DECIMAL,\n",
    "    L_RETURNFLAG    CHAR(1),\n",
    "    L_LINESTATUS    CHAR(1),\n",
    "    L_SHIPDATE        DATE,\n",
    "    L_COMMITDATE    DATE,\n",
    "    L_RECEIPTDATE    DATE,\n",
    "    L_SHIPINSTRUCT    CHAR(25),\n",
    "    L_SHIPMODE        CHAR(10),\n",
    "    L_COMMENT        VARCHAR(44)\n",
    ");\n",
    "\"\"\"\n",
    "\n",
    "from datetime import date\n",
    "from numpy import char\n",
    "\n",
    "\n",
    "columnnames = [\"L_ORDERKEY\", \"L_PARTKEY\", \"L_SUPPKEY\", \"L_LINENUMBER\", \"L_QUANTITY\", \"L_EXTENDEDPRICE\", \"L_DISCOUNT\", \"L_TAX\", \"L_RETURNFLAG\", \"L_LINESTATUS\", \"L_SHIPDATE\", \"L_COMMITDATE\", \"L_RECEIPTDATE\", \"L_SHIPINSTRUCT\",\"L_SHIPMODE\", \"L_COMMENT\"]\n",
    "\n",
    "for i in range(len(columnnames)):\n",
    "    columnnames[i] = columnnames[i].lower()\n",
    "    \n",
    "data_types = {\n",
    "    'l_orderkey': int,\n",
    "    'l_partkey': int,\n",
    "    'l_suppkey': int,\n",
    "    'l_linenumber': int,\n",
    "    'l_quantity': float,\n",
    "    'l_extendedprice': float,\n",
    "    'l_discount': float,\n",
    "    'l_tax': float,\n",
    "    'l_returnflag': str,\n",
    "    'l_linestatus': str,\n",
    "    'l_shipinstruct': str,\n",
    "    'l_shipmode': str,\n",
    "    'l_comment': str\n",
    "}"
   ]
  },
  {
   "cell_type": "code",
   "execution_count": 32,
   "metadata": {},
   "outputs": [],
   "source": [
    "df = pd.read_table(\"../tpch-pgsql-master/data/load/lineitem.tbl.csv\", sep=\"|\", names=columnnames, index_col=(\"l_orderkey\", \"l_linenumber\"), dtype=data_types, parse_dates=['l_shipdate', 'l_commitdate', 'l_receiptdate'])"
   ]
  },
  {
   "cell_type": "code",
   "execution_count": 40,
   "metadata": {},
   "outputs": [
    {
     "name": "stdout",
     "output_type": "stream",
     "text": [
      "179018379.9113\n",
      "--- 0.15473103523254395 seconds ---\n"
     ]
    }
   ],
   "source": [
    "import time\n",
    "start_time = time.time()\n",
    "\n",
    "df_filter = df[(df.l_shipdate >= pd.Timestamp('1993-01-01 00:00:00')) & (df.l_shipdate < pd.Timestamp('1994-01-01 00:00:00')) & (df.l_discount >= 0.07) & (df.l_discount <= 0.09) & (df.l_quantity < 25) ]\n",
    "revenue = (df_filter.l_extendedprice * df_filter.l_discount).sum()\n",
    "print(revenue)\n",
    "\n",
    "print(\"--- %s seconds ---\" % (time.time() - start_time))"
   ]
  },
  {
   "cell_type": "markdown",
   "metadata": {},
   "source": [
    "# Success!\n",
    "\n",
    "Running the command in PSQL gives the output:\n",
    "|     revenue      |\n",
    "| ---------------- |\n",
    "|  179018379.9113  |\n",
    "\n",
    "This is the same number as Pandas, so good.\n",
    "\n",
    "Time information:\n",
    "| Technology | Run 1 (3 s.f.) | Run 2 | Run 3 | Average (s) |\n",
    "| --- | --- | --- | --- | --- |\n",
    "| Pandas | 0.136 | 0.143 | 0.155 | 0.145 |\n",
    "| PostgreSQL | 0.926 | 0.442 | 0.364 | 0.577 |"
   ]
  }
 ],
 "metadata": {
  "kernelspec": {
   "display_name": "Python 3.10.6 64-bit",
   "language": "python",
   "name": "python3"
  },
  "language_info": {
   "codemirror_mode": {
    "name": "ipython",
    "version": 3
   },
   "file_extension": ".py",
   "mimetype": "text/x-python",
   "name": "python",
   "nbconvert_exporter": "python",
   "pygments_lexer": "ipython3",
   "version": "3.10.6"
  },
  "orig_nbformat": 4,
  "vscode": {
   "interpreter": {
    "hash": "e7370f93d1d0cde622a1f8e1c04877d8463912d04d973331ad4851f04de6915a"
   }
  }
 },
 "nbformat": 4,
 "nbformat_minor": 2
}
