{
 "cells": [
  {
   "cell_type": "code",
   "execution_count": 18,
   "metadata": {},
   "outputs": [],
   "source": [
    "import pandas as pd\n",
    "import numpy as np\n",
    "from datetime import date\n",
    "from numpy import char\n",
    "pd.set_option('display.float_format', str)"
   ]
  },
  {
   "cell_type": "markdown",
   "metadata": {},
   "source": [
    "## Data"
   ]
  },
  {
   "cell_type": "code",
   "execution_count": 19,
   "metadata": {},
   "outputs": [],
   "source": [
    "l_columnnames = [\"L_ORDERKEY\", \"L_PARTKEY\", \"L_SUPPKEY\", \"L_LINENUMBER\", \"L_QUANTITY\", \"L_EXTENDEDPRICE\", \"L_DISCOUNT\", \"L_TAX\", \"L_RETURNFLAG\", \"L_LINESTATUS\", \"L_SHIPDATE\", \"L_COMMITDATE\", \"L_RECEIPTDATE\", \"L_SHIPINSTRUCT\",\"L_SHIPMODE\", \"L_COMMENT\"]\n",
    "\n",
    "for i in range(len(l_columnnames)):\n",
    "    l_columnnames[i] = l_columnnames[i].lower()\n",
    "    \n",
    "l_data_types = {\n",
    "    'l_orderkey': int,\n",
    "    'l_partkey': int,\n",
    "    'l_suppkey': int,\n",
    "    'l_linenumber': int,\n",
    "    'l_quantity': float,\n",
    "    'l_extendedprice': float,\n",
    "    'l_discount': float,\n",
    "    'l_tax': float,\n",
    "    'l_returnflag': str,\n",
    "    'l_linestatus': str,\n",
    "    'l_shipinstruct': str,\n",
    "    'l_shipmode': str,\n",
    "    'l_comment': str\n",
    "}\n",
    "\n",
    "l_parse_dates = ['l_shipdate', 'l_commitdate', 'l_receiptdate']"
   ]
  },
  {
   "cell_type": "code",
   "execution_count": 20,
   "metadata": {},
   "outputs": [],
   "source": [
    "o_columnnames = [\"O_ORDERKEY\", \"O_CUSTKEY\", \"O_ORDERSTATUS\", \"O_TOTALPRICE\", \"O_ORDERDATE\", \"O_ORDERPRIORITY\", \"O_CLERK\", \"O_SHIPPRIORITY\", \"O_COMMENT\"]\n",
    "\n",
    "for i in range(len(o_columnnames)):\n",
    "    o_columnnames[i] = o_columnnames[i].lower()\n",
    "    \n",
    "o_data_types = {\n",
    "    'o_orderkey': int,\n",
    "    'o_custkey': int,\n",
    "    'o_orderstatus': str,\n",
    "    'o_totalprice': float,\n",
    "    'o_orderpriority': str,\n",
    "    'o_clerk': str,\n",
    "    'o_shippriority': int,\n",
    "    'o_comment': str\n",
    "}\n",
    "\n",
    "o_parse_dates = ['o_orderdate']"
   ]
  },
  {
   "cell_type": "code",
   "execution_count": 21,
   "metadata": {},
   "outputs": [],
   "source": [
    "c_columnnames = [\"C_CUSTKEY\", \"C_NAME\", \"C_ADDRESS\", \"C_NATIONKEY\", \"C_PHONE\", \"C_ACCTBAL\", \"C_MKTSEGMENT\", \"C_COMMENT\"]\n",
    "\n",
    "for i in range(len(c_columnnames)):\n",
    "    c_columnnames[i] = c_columnnames[i].lower()\n",
    "    \n",
    "c_data_types = {\n",
    "    'c_custkey': int,\n",
    "    'c_name': str,\n",
    "    'c_address': str,\n",
    "    'c_nationkey': int,\n",
    "    'c_phone': str,\n",
    "    'c_acctbal': float,\n",
    "    'c_mktsegment': str,\n",
    "    'c_comment': str\n",
    "}\n",
    "\n",
    "c_parse_dates = []"
   ]
  },
  {
   "cell_type": "markdown",
   "metadata": {},
   "source": [
    "### Lineitem DataFrame"
   ]
  },
  {
   "cell_type": "code",
   "execution_count": 22,
   "metadata": {},
   "outputs": [],
   "source": [
    "# Don't set indexes, as we can't access them with Pandas selection!\n",
    "lineitem = pd.read_table(\"../../tpch-pgsql-master/data/load/lineitem.tbl.csv\", sep=\"|\", names=l_columnnames, dtype=l_data_types, parse_dates=l_parse_dates)"
   ]
  },
  {
   "cell_type": "markdown",
   "metadata": {},
   "source": [
    "### Orders DataFrame"
   ]
  },
  {
   "cell_type": "code",
   "execution_count": 23,
   "metadata": {},
   "outputs": [],
   "source": [
    "# Don't set indexes, as we can't access them with Pandas selection!\n",
    "orders = pd.read_table(\"../../tpch-pgsql-master/data/load/orders.tbl.csv\", sep=\"|\", names=o_columnnames, dtype=o_data_types, parse_dates=o_parse_dates)"
   ]
  },
  {
   "cell_type": "markdown",
   "metadata": {},
   "source": [
    "### Customer DataFrame"
   ]
  },
  {
   "cell_type": "code",
   "execution_count": 24,
   "metadata": {},
   "outputs": [],
   "source": [
    "# Don't set indexes, as we can't access them with Pandas selection!\n",
    "customer = pd.read_table(\"../../tpch-pgsql-master/data/load/customer.tbl.csv\", sep=\"|\", names=c_columnnames, dtype=c_data_types, parse_dates=c_parse_dates)"
   ]
  },
  {
   "cell_type": "markdown",
   "metadata": {},
   "source": [
    "## Q3"
   ]
  },
  {
   "cell_type": "code",
   "execution_count": 30,
   "metadata": {},
   "outputs": [
    {
     "name": "stdout",
     "output_type": "stream",
     "text": [
      "   l_orderkey            revenue o_orderdate  o_shippriority\n",
      "0     2456423        406181.0111  1995-03-05               0\n",
      "1     3459808 405838.69889999996  1995-03-04               0\n",
      "2      492164         390324.061  1995-02-19               0\n",
      "3     1188320        384537.9359  1995-03-09               0\n",
      "4     2435712 378673.05580000003  1995-02-26               0\n",
      "5     4878020        378376.7952  1995-03-12               0\n",
      "6     5521732        375153.9215  1995-03-13               0\n",
      "7     2628192 373133.30939999997  1995-02-22               0\n",
      "8      993600        371407.4595  1995-03-05               0\n",
      "9     2300070  367371.1452000001  1995-03-13               0\n",
      "--- 9.829975605010986 seconds ---\n"
     ]
    }
   ],
   "source": [
    "import time\n",
    "start_time = time.time()\n",
    "\n",
    "df_filter_1 = orders[orders.o_orderdate < pd.Timestamp('1995-03-15 00:00:00')]\n",
    "df_filter_1 = df_filter_1[['o_orderkey', 'o_custkey', 'o_orderstatus', 'o_totalprice', 'o_orderdate', 'o_orderpriority', 'o_clerk', 'o_shippriority', 'o_comment']]\n",
    "df_filter_2 = customer[customer.c_mktsegment == 'BUILDING']\n",
    "df_filter_2 = df_filter_2[['c_custkey']]\n",
    "df_merge_1 = df_filter_1.merge(df_filter_2, left_on=\"o_custkey\", right_on=\"c_custkey\")\n",
    "df_merge_1 = df_merge_1[['o_orderdate', 'o_shippriority', 'o_orderkey']]\n",
    "df_filter_3 = lineitem[lineitem.l_shipdate > pd.Timestamp('1995-03-15 00:00:00')]\n",
    "df_filter_3 = df_filter_3[['l_orderkey', 'l_partkey', 'l_suppkey', 'l_linenumber', 'l_quantity', 'l_extendedprice', 'l_discount', 'l_tax', 'l_returnflag', 'l_linestatus', 'l_shipdate', 'l_commitdate', 'l_receiptdate', 'l_shipinstruct', 'l_shipmode', 'l_comment']]\n",
    "df_merge_2 = df_merge_1.merge(df_filter_3, left_on=\"o_orderkey\", right_on=\"l_orderkey\")\n",
    "df_merge_2 = df_merge_2[['l_orderkey', 'o_orderdate', 'o_shippriority', 'l_extendedprice', 'l_discount']]\n",
    "df_group_1 = df_merge_2.groupby(['l_orderkey', 'o_orderdate', 'o_shippriority'])\n",
    "df_group_1 = df_group_1.apply(lambda s: pd.Series({\n",
    "    \"revenue\": (s[\"l_extendedprice\"] * ( 1 - s[\"l_discount\"] )).sum(),\n",
    "}))\n",
    "df_group_1 = df_group_1[['revenue']]\n",
    "df_sort_1 = df_group_1.sort_values(by=['revenue', 'o_orderdate'], ascending=[False, True])\n",
    "df_sort_1 = df_sort_1[['revenue']]\n",
    "df_limit_1 = df_sort_1.rename_axis(['l_orderkey', 'o_orderdate', 'o_shippriority']).reset_index()\n",
    "df_limit_1 = df_limit_1[['l_orderkey', 'revenue', 'o_orderdate', 'o_shippriority']]\n",
    "end_time = time.time()\n",
    "print(df_limit_1.head(10))\n",
    "\n",
    "print(\"--- %s seconds ---\" % (end_time - start_time))"
   ]
  },
  {
   "cell_type": "code",
   "execution_count": 33,
   "metadata": {},
   "outputs": [
    {
     "name": "stdout",
     "output_type": "stream",
     "text": [
      "                                                 revenue\n",
      "l_orderkey o_orderdate o_shippriority                   \n",
      "2456423    1995-03-05  0                     406181.0111\n",
      "3459808    1995-03-04  0              405838.69889999996\n",
      "492164     1995-02-19  0                      390324.061\n",
      "1188320    1995-03-09  0                     384537.9359\n",
      "2435712    1995-02-26  0                     378673.0558\n",
      "4878020    1995-03-12  0                     378376.7952\n",
      "5521732    1995-03-13  0                     375153.9215\n",
      "2628192    1995-02-22  0                     373133.3094\n",
      "993600     1995-03-05  0                     371407.4595\n",
      "2300070    1995-03-13  0                     367371.1452\n",
      "--- 1.6345527172088623 seconds ---\n"
     ]
    }
   ],
   "source": [
    "# Hesam / SDQL Pandas\n",
    "start_time = time.time()\n",
    "\n",
    "cu_filt = customer[customer.c_mktsegment == \"BUILDING\"]\n",
    "cu_filt = cu_filt[[\"c_custkey\"]]\n",
    "\n",
    "ord_filt = orders[orders.o_orderdate < \"1995-03-15\"]\n",
    "ord_cu_join = pd.merge(cu_filt, ord_filt, left_on = \"c_custkey\", right_on = \"o_custkey\", how = \"inner\")\n",
    "ord_cu_join = ord_cu_join[[\"o_orderkey\", \"o_orderdate\", \"o_shippriority\"]]\n",
    "\n",
    "li_filt = lineitem[lineitem.l_shipdate > \"1995-03-15\"]\n",
    "li_order_join = pd.merge(ord_cu_join, li_filt, left_on = \"o_orderkey\", right_on = \"l_orderkey\", how = \"inner\")\n",
    "li_order_join[\"revenue\"] = li_order_join.l_extendedprice * (1 - li_order_join.l_discount)\n",
    "\n",
    "result = li_order_join \\\n",
    "    .groupby([\"l_orderkey\", \"o_orderdate\", \"o_shippriority\"]) \\\n",
    "    .agg(revenue=(\"revenue\", \"sum\"))  \n",
    "\n",
    "df_sort_1 = result.sort_values(by=['revenue', 'o_orderdate'], ascending=[False, True])\n",
    "end_time = time.time()\n",
    "print(df_sort_1.head(10))\n",
    "\n",
    "print(\"--- %s seconds ---\" % (end_time - start_time))"
   ]
  },
  {
   "cell_type": "code",
   "execution_count": 36,
   "metadata": {},
   "outputs": [
    {
     "name": "stdout",
     "output_type": "stream",
     "text": [
      "   l_orderkey            revenue o_orderdate  o_shippriority\n",
      "0     2456423        406181.0111  1995-03-05               0\n",
      "1     3459808 405838.69889999996  1995-03-04               0\n",
      "2      492164         390324.061  1995-02-19               0\n",
      "3     1188320        384537.9359  1995-03-09               0\n",
      "4     2435712        378673.0558  1995-02-26               0\n",
      "5     4878020        378376.7952  1995-03-12               0\n",
      "6     5521732        375153.9215  1995-03-13               0\n",
      "7     2628192        373133.3094  1995-02-22               0\n",
      "8      993600        371407.4595  1995-03-05               0\n",
      "9     2300070        367371.1452  1995-03-13               0\n",
      "--- 1.544177770614624 seconds ---\n"
     ]
    }
   ],
   "source": [
    "# New Callum Query\n",
    "start_time = time.time()\n",
    "\n",
    "df_filter_1 = orders[orders.o_orderdate < pd.Timestamp('1995-03-15 00:00:00')]\n",
    "df_filter_1 = df_filter_1[['o_orderkey', 'o_custkey', 'o_orderstatus', 'o_totalprice', 'o_orderdate', 'o_orderpriority', 'o_clerk', 'o_shippriority', 'o_comment']]\n",
    "df_filter_2 = customer[customer.c_mktsegment == 'BUILDING']\n",
    "df_filter_2 = df_filter_2[['c_custkey']]\n",
    "df_merge_1 = df_filter_1.merge(df_filter_2, left_on=\"o_custkey\", right_on=\"c_custkey\")\n",
    "df_merge_1 = df_merge_1[['o_orderdate', 'o_shippriority', 'o_orderkey']]\n",
    "df_filter_3 = lineitem[lineitem.l_shipdate > pd.Timestamp('1995-03-15 00:00:00')]\n",
    "df_filter_3 = df_filter_3[['l_orderkey', 'l_partkey', 'l_suppkey', 'l_linenumber', 'l_quantity', 'l_extendedprice', 'l_discount', 'l_tax', 'l_returnflag', 'l_linestatus', 'l_shipdate', 'l_commitdate', 'l_receiptdate', 'l_shipinstruct', 'l_shipmode', 'l_comment']]\n",
    "df_merge_2 = df_merge_1.merge(df_filter_3, left_on=\"o_orderkey\", right_on=\"l_orderkey\")\n",
    "df_merge_2 = df_merge_2[['l_orderkey', 'o_orderdate', 'o_shippriority', 'l_extendedprice', 'l_discount']]\n",
    "df_merge_2['revenue'] = df_merge_2.l_extendedprice * ( 1 - df_merge_2.l_discount )\n",
    "df_group_1 = df_merge_2 \\\n",
    "    .groupby(['l_orderkey', 'o_orderdate', 'o_shippriority']) \\\n",
    "    .agg(\n",
    "        revenue=(\"revenue\", \"sum\"),\n",
    "    )\n",
    "df_group_1 = df_group_1[['revenue']]\n",
    "df_sort_1 = df_group_1.sort_values(by=['revenue', 'o_orderdate'], ascending=[False, True])\n",
    "df_sort_1 = df_sort_1[['revenue']]\n",
    "df_limit_1 = df_sort_1.rename_axis(['l_orderkey', 'o_orderdate', 'o_shippriority']).reset_index()\n",
    "df_limit_1 = df_limit_1[['l_orderkey', 'revenue', 'o_orderdate', 'o_shippriority']]\n",
    "end_time = time.time()\n",
    "print(df_limit_1.head(10))\n",
    "\n",
    "print(\"--- %s seconds ---\" % (end_time - start_time))"
   ]
  },
  {
   "cell_type": "markdown",
   "metadata": {},
   "source": [
    "### Success!\n",
    "\n",
    "Running the command in PSQL gives the output:\n",
    "\n",
    "| l_orderkey | revenue | o_orderdate | o_shippriority |\n",
    "|--------|-------------|-------------|----------------|\n",
    "| 2456423 | 406181.0111 | 1995-03-05  |              0 |\n",
    "| 3459808 | 405838.6989 | 1995-03-04  |              0 |\n",
    "| 492164 | 390324.0610 | 1995-02-19  |              0 |\n",
    "| 1188320 | 384537.9359 | 1995-03-09  |              0 |\n",
    "| 2435712 | 378673.0558 | 1995-02-26  |              0 |\n",
    "| 4878020 | 378376.7952 | 1995-03-12  |              0 |\n",
    "| 5521732 | 375153.9215 | 1995-03-13  |              0 |\n",
    "| 2628192 | 373133.3094 | 1995-02-22  |              0 |\n",
    "| 993600 | 371407.4595 | 1995-03-05  |              0 |\n",
    "| 2300070 | 367371.1452 | 1995-03-13  |              0 |\n",
    "\n",
    "This is **ROUGHLY** the same numbers as Pandas, so good.\n",
    "\n",
    "Time information (all times in seconds, to 3 s.f.):\n",
    "| | Run 1 | Run 2 | Run 3 | Average |\n",
    "| --- | --- | --- | --- | --- |\n",
    "| Pandas | 8.92 | 8.83 | 9.83 | 9.19 |\n",
    "| New Pandas | 1.58 | 1.49 | 1.54 | 1.54|\n",
    "| PostgreSQL | 2.38 | 1.25 | 1.13 | 1.59 |\n",
    "| Hesam Pandas | 1.91 | 1.21 | 1.63 | 1.58 |"
   ]
  },
  {
   "cell_type": "markdown",
   "metadata": {},
   "source": [
    "### Future Change Needed\n",
    "\n",
    "Not super essential, but at the moment we have no way to make the output occur in the correct **order**. This is because we have some columns that are actually indexes and there's no ways to change the order between indexes and columns. \n",
    "\n",
    "What we could do, is in the final node (the \"presentation node\"/LIMIT), we convert all the indexes to columns (using rename_axis and reset_index) and then we change change the order based on output there\n",
    "\n",
    "**DONE: 25.10.2022**"
   ]
  }
 ],
 "metadata": {
  "kernelspec": {
   "display_name": "Python 3.10.6 64-bit",
   "language": "python",
   "name": "python3"
  },
  "language_info": {
   "codemirror_mode": {
    "name": "ipython",
    "version": 3
   },
   "file_extension": ".py",
   "mimetype": "text/x-python",
   "name": "python",
   "nbconvert_exporter": "python",
   "pygments_lexer": "ipython3",
   "version": "3.10.9 (main, Dec  7 2022, 00:00:00) [GCC 12.2.1 20221121 (Red Hat 12.2.1-4)]"
  },
  "orig_nbformat": 4,
  "vscode": {
   "interpreter": {
    "hash": "e7370f93d1d0cde622a1f8e1c04877d8463912d04d973331ad4851f04de6915a"
   }
  }
 },
 "nbformat": 4,
 "nbformat_minor": 2
}
