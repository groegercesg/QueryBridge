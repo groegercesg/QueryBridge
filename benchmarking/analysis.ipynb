{
 "cells": [
  {
   "cell_type": "code",
   "execution_count": 1,
   "metadata": {},
   "outputs": [],
   "source": [
    "import pandas as pd\n",
    "import matplotlib.pyplot as plt\n",
    "from matplotlib.ticker import MultipleLocator\n",
    "plt.style.use('ggplot')\n",
    "import seaborn as sns\n",
    "import statistics"
   ]
  },
  {
   "cell_type": "code",
   "execution_count": 2,
   "metadata": {},
   "outputs": [],
   "source": [
    "results = pd.read_csv(\"test_results/pg_duck_tpch_test_results.csv\") \n",
    "test_name = \"postgres_duck_db\"\n",
    "\n",
    "results = results.rename(columns={\"Average\": \"Mean\"})"
   ]
  },
  {
   "cell_type": "code",
   "execution_count": 3,
   "metadata": {},
   "outputs": [
    {
     "name": "stdout",
     "output_type": "stream",
     "text": [
      "88\n"
     ]
    },
    {
     "data": {
      "text/html": [
       "<div>\n",
       "<style scoped>\n",
       "    .dataframe tbody tr th:only-of-type {\n",
       "        vertical-align: middle;\n",
       "    }\n",
       "\n",
       "    .dataframe tbody tr th {\n",
       "        vertical-align: top;\n",
       "    }\n",
       "\n",
       "    .dataframe thead th {\n",
       "        text-align: right;\n",
       "    }\n",
       "</style>\n",
       "<table border=\"1\" class=\"dataframe\">\n",
       "  <thead>\n",
       "    <tr style=\"text-align: right;\">\n",
       "      <th></th>\n",
       "      <th>Data Type</th>\n",
       "      <th>Scaling Factor</th>\n",
       "      <th>Query Name</th>\n",
       "      <th>Query Number</th>\n",
       "      <th>Mean</th>\n",
       "      <th>Correct</th>\n",
       "      <th>Executed</th>\n",
       "      <th>Runs</th>\n",
       "    </tr>\n",
       "  </thead>\n",
       "  <tbody>\n",
       "    <tr>\n",
       "      <th>0</th>\n",
       "      <td>SQL</td>\n",
       "      <td>1</td>\n",
       "      <td>Postgres</td>\n",
       "      <td>Query 1</td>\n",
       "      <td>6.370</td>\n",
       "      <td>True</td>\n",
       "      <td>Yes</td>\n",
       "      <td>[6.4829206466674805, 6.112210273742676, 6.0885...</td>\n",
       "    </tr>\n",
       "    <tr>\n",
       "      <th>1</th>\n",
       "      <td>SQL</td>\n",
       "      <td>1</td>\n",
       "      <td>Duck DB</td>\n",
       "      <td>Query 1</td>\n",
       "      <td>0.426</td>\n",
       "      <td>True</td>\n",
       "      <td>Yes</td>\n",
       "      <td>[0.4917769432067871, 0.42227673530578613, 0.41...</td>\n",
       "    </tr>\n",
       "    <tr>\n",
       "      <th>2</th>\n",
       "      <td>Pandas</td>\n",
       "      <td>1</td>\n",
       "      <td>Pandas Converted (Duck DB)</td>\n",
       "      <td>Query 1</td>\n",
       "      <td>2.430</td>\n",
       "      <td>True</td>\n",
       "      <td>Yes</td>\n",
       "      <td>[7.15959906578064, 1.510803461074829, 1.478646...</td>\n",
       "    </tr>\n",
       "    <tr>\n",
       "      <th>3</th>\n",
       "      <td>Pandas</td>\n",
       "      <td>1</td>\n",
       "      <td>Pandas Converted (Postgres)</td>\n",
       "      <td>Query 1</td>\n",
       "      <td>1.910</td>\n",
       "      <td>True</td>\n",
       "      <td>Yes</td>\n",
       "      <td>[2.4505927562713623, 1.823503017425537, 1.7725...</td>\n",
       "    </tr>\n",
       "    <tr>\n",
       "      <th>4</th>\n",
       "      <td>SQL</td>\n",
       "      <td>1</td>\n",
       "      <td>Postgres</td>\n",
       "      <td>Query 2</td>\n",
       "      <td>1.180</td>\n",
       "      <td>True</td>\n",
       "      <td>Yes</td>\n",
       "      <td>[1.2991671562194824, 1.2142317295074463, 1.162...</td>\n",
       "    </tr>\n",
       "  </tbody>\n",
       "</table>\n",
       "</div>"
      ],
      "text/plain": [
       "  Data Type  Scaling Factor                   Query Name Query Number   Mean  \\\n",
       "0       SQL               1                     Postgres      Query 1  6.370   \n",
       "1       SQL               1                      Duck DB      Query 1  0.426   \n",
       "2    Pandas               1   Pandas Converted (Duck DB)      Query 1  2.430   \n",
       "3    Pandas               1  Pandas Converted (Postgres)      Query 1  1.910   \n",
       "4       SQL               1                     Postgres      Query 2  1.180   \n",
       "\n",
       "   Correct Executed                                               Runs  \n",
       "0     True      Yes  [6.4829206466674805, 6.112210273742676, 6.0885...  \n",
       "1     True      Yes  [0.4917769432067871, 0.42227673530578613, 0.41...  \n",
       "2     True      Yes  [7.15959906578064, 1.510803461074829, 1.478646...  \n",
       "3     True      Yes  [2.4505927562713623, 1.823503017425537, 1.7725...  \n",
       "4     True      Yes  [1.2991671562194824, 1.2142317295074463, 1.162...  "
      ]
     },
     "execution_count": 3,
     "metadata": {},
     "output_type": "execute_result"
    }
   ],
   "source": [
    "print(len(results))\n",
    "results.head()"
   ]
  },
  {
   "cell_type": "code",
   "execution_count": 4,
   "metadata": {},
   "outputs": [
    {
     "name": "stdout",
     "output_type": "stream",
     "text": [
      "88\n"
     ]
    }
   ],
   "source": [
    "# Filter for Correct == True and Executed == Yes\n",
    "results = results[(results.Correct == True) & (results.Executed == \"Yes\")]\n",
    "print(len(results))"
   ]
  },
  {
   "cell_type": "code",
   "execution_count": 5,
   "metadata": {},
   "outputs": [],
   "source": [
    "# Sort Query Name column to in-order\n",
    "def extract_number(name):\n",
    "    return int(name.split(\" \")[1])\n",
    "\n",
    "results['Query Number'] = results.apply(lambda row : extract_number(row['Query Number']), axis = 1)\n",
    "results = results.sort_values(['Query Number'])\n",
    "\n",
    "# Fix the runs column\n",
    "def fix_runs(runs):\n",
    "    new_runs = list(str(str(runs)[1:-1]).split(\",\"))\n",
    "    for i in range(0, len(new_runs)):\n",
    "        new_runs[i] = float(new_runs[i].strip())\n",
    "    return new_runs\n",
    "\n",
    "results['Runs'] = results.apply(lambda row : fix_runs(row['Runs']), axis = 1)\n",
    "\n",
    "results['Median'] = results.apply(lambda row: statistics.median(sorted(row['Runs'])), axis = 1)\n",
    "\n",
    "def ignore_first_mean(runs):\n",
    "    return statistics.mean(runs[1:])\n",
    "\n",
    "results['Mean_first'] = results.apply(lambda row : ignore_first_mean(row['Runs']), axis = 1)\n",
    "results[\"Query Type\"] = results[\"Query Name\"]"
   ]
  },
  {
   "cell_type": "code",
   "execution_count": 6,
   "metadata": {},
   "outputs": [
    {
     "data": {
      "image/png": "[encoded data removed]",
      "text/plain": [
       "<Figure size 1000x600 with 1 Axes>"
      ]
     },
     "metadata": {},
     "output_type": "display_data"
    }
   ],
   "source": [
    "# plot with seaborn barplot\n",
    "sns.set(rc={'figure.figsize':(10,6)})\n",
    "background_color = '#f1f4f5'\n",
    "sns.set(rc={'axes.facecolor':background_color})\n",
    "plt.rcParams['patch.linewidth'] = 0.3\n",
    "plt.rcParams['patch.edgecolor'] = 'k'\n",
    "\n",
    "# The other colors are 70% tints of the original\n",
    "# From: https://imagecolorpicker.com/color-code/\n",
    "color = ['tab:orange','tab:blue','#ffd9b7', '#bcd6e9']\n",
    "order = [\"Postgres\", \"Duck DB\", \"Pandas Converted (Postgres)\", \"Pandas Converted (Duck DB)\"]\n",
    "\n",
    "ax = sns.barplot(data=results, x='Query Number', y='Mean_first', hue='Query Type',\n",
    "                 palette=color, hue_order=order)\n",
    "\n",
    "ax.set_yscale(\"log\")\n",
    "ax.set(xlabel='Queries', ylabel='Mean Runtime (s)')\n",
    "\n",
    "# the non-logarithmic labels \n",
    "ticks = [0.1, 1, 10]\n",
    "ax.set_yticks(ticks)\n",
    "ax.set_yticklabels(ticks)\n",
    "\n",
    "#set parameters for tick labels\n",
    "plt.tick_params(axis='x', which='major', labelsize=10)\n",
    "plt.tick_params(axis='y', which='major', direction=\"out\", colors=\"k\", left=True)\n",
    "\n",
    "ax.legend(loc='upper center', bbox_to_anchor=(0.5, 1.10),\n",
    "          ncol=4, fancybox=True, shadow=True)\n",
    "\n",
    "plt.savefig(\"analysis_results/\" + str(test_name) + \"_compare_queries.pdf\", bbox_inches=\"tight\")\n",
    "plt.show()"
   ]
  },
  {
   "cell_type": "code",
   "execution_count": 93,
   "metadata": {},
   "outputs": [],
   "source": [
    "# Number to show peformance of each, in comparison to each other"
   ]
  },
  {
   "cell_type": "code",
   "execution_count": 94,
   "metadata": {},
   "outputs": [
    {
     "data": {
      "text/plain": [
       "'\\n# Make graph of change in runtimes\\n# Y: Run time, X: Run Number\\n# Line: Query Number\\nprev_colors = {}\\n\\nfig, ax = plt.subplots()\\n\\nfor index, row in results.iterrows():\\n    if row[\"Data Type\"] == \"SQL\":\\n        line_style = \\'dashed\\'\\n        legend_info = None\\n    else:\\n        line_style = \\'solid\\'\\n        legend_info = row[\"Query Name\"]\\n    \\n    # Choose line color\\n    if prev_colors.get(row[\"Query Name\"], None) == None:\\n        # Not in dataframe\\n        line = ax.plot(list(range(1, len(row[\"Runs\"])+1)), row[\"Runs\"], label=legend_info, linestyle=line_style)\\n        prev_colors[row[\"Query Name\"]] = line[0].get_color()\\n    else:\\n        color_line = prev_colors[row[\"Query Name\"]]\\n        ax.plot(list(range(1, len(row[\"Runs\"])+1)), row[\"Runs\"], label=legend_info, linestyle=line_style, color=color_line)\\n\\n# Add extra info to legend\\nax.plot([], [], \" \", label=\" \"*5,)\\nax.plot([], [], label=\"SQL\", color=\"black\", linestyle=\"dashed\")\\nax.plot([], [], label=\"Pandas\", color=\"black\", linestyle=\"solid\")\\n\\nax.xaxis.set_major_locator(MultipleLocator(5))\\nax.xaxis.set_major_formatter(\\'{x:.0f}\\')\\nax.xaxis.set_minor_locator(MultipleLocator(1))\\n\\nplt.title(\\'Change in Execution Speed across Time\\')\\nplt.xlabel(\\'Run Number\\')\\nplt.ylabel(\\'Runtime, seconds (s)\\')\\nax.legend(labelspacing=0.01)\\nplt.savefig(\"analysis_results/\" + str(test_name) + \"_compare_queries_exec_time.pdf\")\\nplt.show()\\n'"
      ]
     },
     "execution_count": 94,
     "metadata": {},
     "output_type": "execute_result"
    }
   ],
   "source": [
    "# This is old and no longer works\n",
    "\"\"\"\n",
    "# Make graph of change in runtimes\n",
    "# Y: Run time, X: Run Number\n",
    "# Line: Query Number\n",
    "prev_colors = {}\n",
    "\n",
    "fig, ax = plt.subplots()\n",
    "\n",
    "for index, row in results.iterrows():\n",
    "    if row[\"Data Type\"] == \"SQL\":\n",
    "        line_style = 'dashed'\n",
    "        legend_info = None\n",
    "    else:\n",
    "        line_style = 'solid'\n",
    "        legend_info = row[\"Query Name\"]\n",
    "    \n",
    "    # Choose line color\n",
    "    if prev_colors.get(row[\"Query Name\"], None) == None:\n",
    "        # Not in dataframe\n",
    "        line = ax.plot(list(range(1, len(row[\"Runs\"])+1)), row[\"Runs\"], label=legend_info, linestyle=line_style)\n",
    "        prev_colors[row[\"Query Name\"]] = line[0].get_color()\n",
    "    else:\n",
    "        color_line = prev_colors[row[\"Query Name\"]]\n",
    "        ax.plot(list(range(1, len(row[\"Runs\"])+1)), row[\"Runs\"], label=legend_info, linestyle=line_style, color=color_line)\n",
    "\n",
    "# Add extra info to legend\n",
    "ax.plot([], [], \" \", label=\" \"*5,)\n",
    "ax.plot([], [], label=\"SQL\", color=\"black\", linestyle=\"dashed\")\n",
    "ax.plot([], [], label=\"Pandas\", color=\"black\", linestyle=\"solid\")\n",
    "\n",
    "ax.xaxis.set_major_locator(MultipleLocator(5))\n",
    "ax.xaxis.set_major_formatter('{x:.0f}')\n",
    "ax.xaxis.set_minor_locator(MultipleLocator(1))\n",
    "\n",
    "plt.title('Change in Execution Speed across Time')\n",
    "plt.xlabel('Run Number')\n",
    "plt.ylabel('Runtime, seconds (s)')\n",
    "ax.legend(labelspacing=0.01)\n",
    "plt.savefig(\"analysis_results/\" + str(test_name) + \"_compare_queries_exec_time.pdf\")\n",
    "plt.show()\n",
    "\"\"\""
   ]
  }
 ],
 "metadata": {
  "kernelspec": {
   "display_name": "Python [conda env:.conda-sql_benchmark] *",
   "language": "python",
   "name": "conda-env-.conda-sql_benchmark-py"
  },
  "language_info": {
   "codemirror_mode": {
    "name": "ipython",
    "version": 3
   },
   "file_extension": ".py",
   "mimetype": "text/x-python",
   "name": "python",
   "nbconvert_exporter": "python",
   "pygments_lexer": "ipython3",
   "version": "3.9.16"
  },
  "vscode": {
   "interpreter": {
    "hash": "3eb53a504e8f544f2db49e5c7d22a7422ec84315f2f9760969f8c7a9f3384b9e"
   }
  }
 },
 "nbformat": 4,
 "nbformat_minor": 2
}
