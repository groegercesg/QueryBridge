{
 "cells": [
  {
   "cell_type": "code",
   "execution_count": 68,
   "metadata": {},
   "outputs": [],
   "source": [
    "import pandas as pd\n",
    "import numpy as np\n",
    "import matplotlib.pyplot as plt\n",
    "from matplotlib.ticker import MultipleLocator\n",
    "plt.style.use('ggplot')\n",
    "import seaborn as sns\n",
    "import statistics"
   ]
  },
  {
   "cell_type": "code",
   "execution_count": 69,
   "metadata": {},
   "outputs": [],
   "source": [
    "results = pd.read_csv(\"test_results/pg_duck_hand_tpch_test_results.csv\") \n",
    "test_name = \"postgres_duck_db_hand\"\n",
    "\n",
    "results = results.rename(columns={\"Average\": \"Mean\"})"
   ]
  },
  {
   "cell_type": "code",
   "execution_count": 70,
   "metadata": {},
   "outputs": [
    {
     "name": "stdout",
     "output_type": "stream",
     "text": [
      "110\n"
     ]
    },
    {
     "data": {
      "text/html": [
       "<div>\n",
       "<style scoped>\n",
       "    .dataframe tbody tr th:only-of-type {\n",
       "        vertical-align: middle;\n",
       "    }\n",
       "\n",
       "    .dataframe tbody tr th {\n",
       "        vertical-align: top;\n",
       "    }\n",
       "\n",
       "    .dataframe thead th {\n",
       "        text-align: right;\n",
       "    }\n",
       "</style>\n",
       "<table border=\"1\" class=\"dataframe\">\n",
       "  <thead>\n",
       "    <tr style=\"text-align: right;\">\n",
       "      <th></th>\n",
       "      <th>Data Type</th>\n",
       "      <th>Scaling Factor</th>\n",
       "      <th>Query Name</th>\n",
       "      <th>Query Number</th>\n",
       "      <th>Mean</th>\n",
       "      <th>Correct</th>\n",
       "      <th>Executed</th>\n",
       "      <th>Runs</th>\n",
       "    </tr>\n",
       "  </thead>\n",
       "  <tbody>\n",
       "    <tr>\n",
       "      <th>0</th>\n",
       "      <td>SQL</td>\n",
       "      <td>1</td>\n",
       "      <td>Postgres</td>\n",
       "      <td>Query 1</td>\n",
       "      <td>5.95</td>\n",
       "      <td>False</td>\n",
       "      <td>Yes</td>\n",
       "      <td>[5.438749551773071, 5.925055027008057, 6.24359...</td>\n",
       "    </tr>\n",
       "    <tr>\n",
       "      <th>1</th>\n",
       "      <td>SQL</td>\n",
       "      <td>1</td>\n",
       "      <td>Duck DB</td>\n",
       "      <td>Query 1</td>\n",
       "      <td>0.38</td>\n",
       "      <td>False</td>\n",
       "      <td>Yes</td>\n",
       "      <td>[0.3842482566833496, 0.3767247200012207, 0.375...</td>\n",
       "    </tr>\n",
       "    <tr>\n",
       "      <th>2</th>\n",
       "      <td>Pandas</td>\n",
       "      <td>1</td>\n",
       "      <td>Pandas Converted (Duck DB)</td>\n",
       "      <td>Query 1</td>\n",
       "      <td>1.40</td>\n",
       "      <td>False</td>\n",
       "      <td>Yes</td>\n",
       "      <td>[1.8379549980163574, 1.312117576599121, 1.3133...</td>\n",
       "    </tr>\n",
       "    <tr>\n",
       "      <th>3</th>\n",
       "      <td>Pandas</td>\n",
       "      <td>1</td>\n",
       "      <td>Pandas Converted (Postgres)</td>\n",
       "      <td>Query 1</td>\n",
       "      <td>1.59</td>\n",
       "      <td>False</td>\n",
       "      <td>Yes</td>\n",
       "      <td>[2.1008336544036865, 1.4961133003234863, 1.483...</td>\n",
       "    </tr>\n",
       "    <tr>\n",
       "      <th>4</th>\n",
       "      <td>Pandas</td>\n",
       "      <td>1</td>\n",
       "      <td>Pandas By-hand</td>\n",
       "      <td>Query 1</td>\n",
       "      <td>1.07</td>\n",
       "      <td>False</td>\n",
       "      <td>Yes</td>\n",
       "      <td>[1.0855119228363037, 1.073991298675537, 1.0591...</td>\n",
       "    </tr>\n",
       "  </tbody>\n",
       "</table>\n",
       "</div>"
      ],
      "text/plain": [
       "  Data Type  Scaling Factor                   Query Name Query Number  Mean  \\\n",
       "0       SQL               1                     Postgres      Query 1  5.95   \n",
       "1       SQL               1                      Duck DB      Query 1  0.38   \n",
       "2    Pandas               1   Pandas Converted (Duck DB)      Query 1  1.40   \n",
       "3    Pandas               1  Pandas Converted (Postgres)      Query 1  1.59   \n",
       "4    Pandas               1               Pandas By-hand      Query 1  1.07   \n",
       "\n",
       "   Correct Executed                                               Runs  \n",
       "0    False      Yes  [5.438749551773071, 5.925055027008057, 6.24359...  \n",
       "1    False      Yes  [0.3842482566833496, 0.3767247200012207, 0.375...  \n",
       "2    False      Yes  [1.8379549980163574, 1.312117576599121, 1.3133...  \n",
       "3    False      Yes  [2.1008336544036865, 1.4961133003234863, 1.483...  \n",
       "4    False      Yes  [1.0855119228363037, 1.073991298675537, 1.0591...  "
      ]
     },
     "execution_count": 70,
     "metadata": {},
     "output_type": "execute_result"
    }
   ],
   "source": [
    "print(len(results))\n",
    "results.head()"
   ]
  },
  {
   "cell_type": "code",
   "execution_count": 71,
   "metadata": {},
   "outputs": [
    {
     "name": "stdout",
     "output_type": "stream",
     "text": [
      "110\n"
     ]
    }
   ],
   "source": [
    "# Filter for Correct == True and Executed == Yes\n",
    "# results = results[(results.Correct == True) & (results.Executed == \"Yes\")]\n",
    "print(len(results))"
   ]
  },
  {
   "cell_type": "code",
   "execution_count": 72,
   "metadata": {},
   "outputs": [],
   "source": [
    "# Sort Query Name column to in-order\n",
    "def extract_number(name):\n",
    "    return int(name.split(\" \")[1])\n",
    "\n",
    "results['Query Number'] = results.apply(lambda row : extract_number(row['Query Number']), axis = 1)\n",
    "results = results.sort_values(['Query Number'])\n",
    "\n",
    "# Fix the runs column\n",
    "def fix_runs(runs):\n",
    "    new_runs = list(str(str(runs)[1:-1]).split(\",\"))\n",
    "    for i in range(0, len(new_runs)):\n",
    "        new_runs[i] = float(new_runs[i].strip())\n",
    "    return new_runs\n",
    "\n",
    "results['Runs'] = results.apply(lambda row : fix_runs(row['Runs']), axis = 1)\n",
    "\n",
    "results['Median'] = results.apply(lambda row: statistics.median(sorted(row['Runs'])), axis = 1)\n",
    "\n",
    "def ignore_first_mean(runs):\n",
    "    return statistics.mean(runs[1:])\n",
    "\n",
    "results['Mean_first'] = results.apply(lambda row : ignore_first_mean(row['Runs']), axis = 1)\n",
    "results[\"Query Type\"] = results[\"Query Name\"]"
   ]
  },
  {
   "cell_type": "code",
   "execution_count": 73,
   "metadata": {},
   "outputs": [],
   "source": [
    "results = results[results[\"Data Type\"] != \"SQL\"]\n",
    "# Rename \"Pandas By-hand\" to \"Pandas Manual\"\n",
    "\n",
    "def rename_specific(q_type):\n",
    "    if q_type == \"Pandas By-hand\":\n",
    "        return \"Pandas Manual\"\n",
    "    else:\n",
    "        return q_type\n",
    "\n",
    "results['Query Type'] = results.apply(lambda row : rename_specific(row['Query Type']), axis = 1)"
   ]
  },
  {
   "cell_type": "code",
   "execution_count": 74,
   "metadata": {},
   "outputs": [],
   "source": [
    "# Make ordered results\n",
    "#order_results = results.sort_values(by=[\"Mean_first\"])\n",
    "query_order = list(results[results[\"Query Type\"] == \"Pandas Converted (Postgres)\"].sort_values(by=[\"Mean_first\"])[\"Query Number\"])\n",
    "#query_order\n",
    "def query_order_sorter(column):\n",
    "    \"\"\"Sort function\"\"\"\n",
    "    correspondence = {query: order for order, query in enumerate(query_order)}\n",
    "    return column.map(correspondence)\n",
    "\n",
    "order_results = results.sort_values(by='Query Number', key=query_order_sorter)"
   ]
  },
  {
   "cell_type": "code",
   "execution_count": 75,
   "metadata": {},
   "outputs": [
    {
     "data": {
      "image/png": "[encoded data removed]",
      "text/plain": [
       "<Figure size 1000x600 with 1 Axes>"
      ]
     },
     "metadata": {},
     "output_type": "display_data"
    }
   ],
   "source": [
    "# plot with seaborn barplot\n",
    "sns.set(rc={'figure.figsize':(10,6)})\n",
    "background_color = '#f1f4f5'\n",
    "sns.set(rc={'axes.facecolor':background_color})\n",
    "plt.rcParams['patch.linewidth'] = 0.3\n",
    "plt.rcParams['patch.edgecolor'] = 'k'\n",
    "\n",
    "color = ['#028090','#CBFF4D','#ED254E']\n",
    "order = [\"Pandas Converted (Postgres)\", \"Pandas Converted (Duck DB)\", \"Pandas Manual\"]\n",
    "\n",
    "\n",
    "ax = sns.barplot(data=order_results, x='Query Number', y='Mean_first', hue='Query Type',\n",
    "                 palette=color, order=query_order, hue_order=order)\n",
    "\n",
    "ax.set_yscale(\"log\")\n",
    "ax.set(xlabel='Queries', ylabel='Mean Runtime (s)')\n",
    "\n",
    "# the non-logarithmic labels \n",
    "ticks = [0.1, 1, 10]\n",
    "ax.set_yticks(ticks)\n",
    "ax.set_yticklabels(ticks)\n",
    "\n",
    "#set parameters for tick labels\n",
    "plt.tick_params(axis='x', which='major', labelsize=10)\n",
    "plt.tick_params(axis='y', which='major', direction=\"out\", colors=\"k\", left=True)\n",
    "\n",
    "ax.legend(loc='upper center', bbox_to_anchor=(0.5, 1.10),\n",
    "          ncol=4, fancybox=True, shadow=True)\n",
    "\n",
    "plt.savefig(\"analysis_results/\" + str(test_name) + \"_queries.pdf\", bbox_inches=\"tight\")\n",
    "plt.show()"
   ]
  },
  {
   "cell_type": "code",
   "execution_count": 76,
   "metadata": {},
   "outputs": [
    {
     "data": {
      "text/html": [
       "<div>\n",
       "<style scoped>\n",
       "    .dataframe tbody tr th:only-of-type {\n",
       "        vertical-align: middle;\n",
       "    }\n",
       "\n",
       "    .dataframe tbody tr th {\n",
       "        vertical-align: top;\n",
       "    }\n",
       "\n",
       "    .dataframe thead th {\n",
       "        text-align: right;\n",
       "    }\n",
       "</style>\n",
       "<table border=\"1\" class=\"dataframe\">\n",
       "  <thead>\n",
       "    <tr style=\"text-align: right;\">\n",
       "      <th></th>\n",
       "      <th>mean_runtime</th>\n",
       "    </tr>\n",
       "    <tr>\n",
       "      <th>Query Type</th>\n",
       "      <th></th>\n",
       "    </tr>\n",
       "  </thead>\n",
       "  <tbody>\n",
       "    <tr>\n",
       "      <th>Pandas Converted (Duck DB)</th>\n",
       "      <td>1.190961</td>\n",
       "    </tr>\n",
       "    <tr>\n",
       "      <th>Pandas Manual</th>\n",
       "      <td>1.609380</td>\n",
       "    </tr>\n",
       "    <tr>\n",
       "      <th>Pandas Converted (Postgres)</th>\n",
       "      <td>1.799407</td>\n",
       "    </tr>\n",
       "  </tbody>\n",
       "</table>\n",
       "</div>"
      ],
      "text/plain": [
       "                             mean_runtime\n",
       "Query Type                               \n",
       "Pandas Converted (Duck DB)       1.190961\n",
       "Pandas Manual                    1.609380\n",
       "Pandas Converted (Postgres)      1.799407"
      ]
     },
     "execution_count": 76,
     "metadata": {},
     "output_type": "execute_result"
    }
   ],
   "source": [
    "# Number to show peformance of each, in comparison to each other\n",
    "group_results = results \\\n",
    "    .groupby(['Query Type'], sort=False) \\\n",
    "    .agg(\n",
    "        mean_runtime=(\"Mean_first\", \"mean\"),\n",
    "    )\n",
    "\n",
    "group_results = group_results.sort_values(by=[\"mean_runtime\"])\n",
    "group_results"
   ]
  }
 ],
 "metadata": {
  "kernelspec": {
   "display_name": "Python [conda env:.conda-sql_benchmark] *",
   "language": "python",
   "name": "conda-env-.conda-sql_benchmark-py"
  },
  "language_info": {
   "codemirror_mode": {
    "name": "ipython",
    "version": 3
   },
   "file_extension": ".py",
   "mimetype": "text/x-python",
   "name": "python",
   "nbconvert_exporter": "python",
   "pygments_lexer": "ipython3",
   "version": "3.9.16"
  },
  "vscode": {
   "interpreter": {
    "hash": "3eb53a504e8f544f2db49e5c7d22a7422ec84315f2f9760969f8c7a9f3384b9e"
   }
  }
 },
 "nbformat": 4,
 "nbformat_minor": 2
}
