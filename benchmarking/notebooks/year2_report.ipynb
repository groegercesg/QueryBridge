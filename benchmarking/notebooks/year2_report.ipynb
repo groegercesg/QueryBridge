{
 "cells": [
  {
   "cell_type": "code",
   "execution_count": 2,
   "metadata": {},
   "outputs": [],
   "source": [
    "import pandas as pd\n",
    "import numpy as np\n",
    "import matplotlib.pyplot as plt\n",
    "import matplotlib\n",
    "# plt.style.use('ggplot')\n",
    "import seaborn as sns\n",
    "from enum import Enum\n",
    "import matplotlib.colors as mcolors\n",
    "import colorsys\n",
    "import os"
   ]
  },
  {
   "cell_type": "code",
   "execution_count": 3,
   "metadata": {},
   "outputs": [],
   "source": [
    "# results = pd.read_csv(\"../test_results/hyper_sdqlpy_dense_tuning_test_results.csv\") \n",
    "results = pd.read_csv(\"../test_results/hyper_sdqlpy_pandas_tpch_direct_optimisations_test_results.csv\") "
   ]
  },
  {
   "cell_type": "code",
   "execution_count": 4,
   "metadata": {},
   "outputs": [
    {
     "name": "stdout",
     "output_type": "stream",
     "text": [
      "Overall Results: 176\n",
      "Correct Results: 176\n"
     ]
    }
   ],
   "source": [
    "print(f\"Overall Results: {len(results)}\")\n",
    "\n",
    "# Filter for Correct == True and Executed == Yes\n",
    "results = results[(results.Correct == True) & (results.Executed == \"Yes\")]\n",
    "print(f\"Correct Results: {len(results)}\")"
   ]
  },
  {
   "cell_type": "code",
   "execution_count": 5,
   "metadata": {},
   "outputs": [],
   "source": [
    "def g_mean(x):\n",
    "    a = np.log(x)\n",
    "    return np.exp(a.mean())\n",
    "\n",
    "def pre_process(df):\n",
    "    # Sort Query Name column to in-order\n",
    "    def extract_number(name):\n",
    "        if isinstance(name, int):\n",
    "            return name\n",
    "        else:\n",
    "            return int(name.split(\" \")[1])\n",
    "\n",
    "    df['Query Number'] = df.apply(lambda row : extract_number(row['Query Number']), axis = 1)\n",
    "    df = df.sort_values(['Query Number'])\n",
    "\n",
    "    # Fix the runs column\n",
    "    def fix_runs(runs):\n",
    "        new_runs = list(str(str(runs)[1:-1]).split(\",\"))\n",
    "        for i in range(0, len(new_runs)):\n",
    "            new_runs[i] = float(new_runs[i].strip())\n",
    "        return new_runs\n",
    "\n",
    "    df['Runs'] = df.apply(lambda row : fix_runs(row['Runs']), axis = 1)\n",
    "\n",
    "    def ignore_first_gmean(runs):\n",
    "        return g_mean(runs[1:])\n",
    "    \n",
    "    def ignore_first_mean(runs):\n",
    "        return sum(runs[1:]) / len(runs[1:])\n",
    "\n",
    "    df[\"Mean\"] = df.apply(lambda row : ignore_first_mean(row['Runs']), axis = 1)\n",
    "    df[\"Query Type\"] = df[\"Query Name\"]\n",
    "    df = df[[\"Query Type\", \"Query Number\", \"Mean\", \"Runs\"]]\n",
    "    \n",
    "    return df\n",
    "\n",
    "results = pre_process(results)"
   ]
  },
  {
   "cell_type": "code",
   "execution_count": 6,
   "metadata": {},
   "outputs": [],
   "source": [
    "def make_overall_table(df):\n",
    "    overall = df.groupby(\"Query Type\").agg(\n",
    "        overall_mean_runtime=(\"Mean\", g_mean)\n",
    "    )\n",
    "    overall = overall.sort_values(by=\"overall_mean_runtime\")\n",
    "    overall = overall.rename(columns={\"overall_mean_runtime\": \"Overall Mean Runtime (s)\"})\n",
    "    return overall"
   ]
  },
  {
   "cell_type": "code",
   "execution_count": 7,
   "metadata": {},
   "outputs": [
    {
     "data": {
      "text/html": [
       "<div>\n",
       "<style scoped>\n",
       "    .dataframe tbody tr th:only-of-type {\n",
       "        vertical-align: middle;\n",
       "    }\n",
       "\n",
       "    .dataframe tbody tr th {\n",
       "        vertical-align: top;\n",
       "    }\n",
       "\n",
       "    .dataframe thead th {\n",
       "        text-align: right;\n",
       "    }\n",
       "</style>\n",
       "<table border=\"1\" class=\"dataframe\">\n",
       "  <thead>\n",
       "    <tr style=\"text-align: right;\">\n",
       "      <th></th>\n",
       "      <th>Overall Mean Runtime (s)</th>\n",
       "    </tr>\n",
       "    <tr>\n",
       "      <th>Query Type</th>\n",
       "      <th></th>\n",
       "    </tr>\n",
       "  </thead>\n",
       "  <tbody>\n",
       "    <tr>\n",
       "      <th>Hyper DB</th>\n",
       "      <td>0.153907</td>\n",
       "    </tr>\n",
       "    <tr>\n",
       "      <th>O1 SDQLpy</th>\n",
       "      <td>0.155856</td>\n",
       "    </tr>\n",
       "    <tr>\n",
       "      <th>O4 SDQLpy</th>\n",
       "      <td>0.220752</td>\n",
       "    </tr>\n",
       "    <tr>\n",
       "      <th>O2 SDQLpy</th>\n",
       "      <td>0.274375</td>\n",
       "    </tr>\n",
       "    <tr>\n",
       "      <th>O3 SDQLpy</th>\n",
       "      <td>0.274924</td>\n",
       "    </tr>\n",
       "    <tr>\n",
       "      <th>Naive SDQLpy</th>\n",
       "      <td>0.278308</td>\n",
       "    </tr>\n",
       "    <tr>\n",
       "      <th>Pandas Converted + O4 (Hyper DB)</th>\n",
       "      <td>0.426387</td>\n",
       "    </tr>\n",
       "    <tr>\n",
       "      <th>Pandas Converted (Hyper DB)</th>\n",
       "      <td>0.427010</td>\n",
       "    </tr>\n",
       "  </tbody>\n",
       "</table>\n",
       "</div>"
      ],
      "text/plain": [
       "                                  Overall Mean Runtime (s)\n",
       "Query Type                                                \n",
       "Hyper DB                                          0.153907\n",
       "O1 SDQLpy                                         0.155856\n",
       "O4 SDQLpy                                         0.220752\n",
       "O2 SDQLpy                                         0.274375\n",
       "O3 SDQLpy                                         0.274924\n",
       "Naive SDQLpy                                      0.278308\n",
       "Pandas Converted + O4 (Hyper DB)                  0.426387\n",
       "Pandas Converted (Hyper DB)                       0.427010"
      ]
     },
     "execution_count": 7,
     "metadata": {},
     "output_type": "execute_result"
    }
   ],
   "source": [
    "overall = make_overall_table(results)\n",
    "overall.head(15)"
   ]
  },
  {
   "cell_type": "code",
   "execution_count": 8,
   "metadata": {},
   "outputs": [
    {
     "data": {
      "text/plain": [
       "1.2159190537102773"
      ]
     },
     "execution_count": 8,
     "metadata": {},
     "output_type": "execute_result"
    }
   ],
   "source": [
    "((0.278308 - 0.274924) / 0.278308) * 100"
   ]
  },
  {
   "cell_type": "code",
   "execution_count": 9,
   "metadata": {},
   "outputs": [
    {
     "name": "stdout",
     "output_type": "stream",
     "text": [
      "For Query 2, 'O4 SDQLpy' was more than 5% faster than 'Naive SDQLpy'.\n",
      "\t'O4 SDQLpy': 0.04543347358703613\n",
      "\t'Naive SDQLpy': 0.1019127368927002\n",
      "\tPercentage difference: 76.66198%\n",
      "For Query 3, 'O4 SDQLpy' was more than 5% faster than 'Naive SDQLpy'.\n",
      "\t'O4 SDQLpy': 0.5106194496154786\n",
      "\t'Naive SDQLpy': 0.6046677589416504\n",
      "\tPercentage difference: 16.86531%\n",
      "For Query 4, 'O4 SDQLpy' was more than 5% faster than 'Naive SDQLpy'.\n",
      "\t'O4 SDQLpy': 0.5832040309906006\n",
      "\t'Naive SDQLpy': 0.8553495407104492\n",
      "\tPercentage difference: 37.83599%\n",
      "For Query 5, 'O4 SDQLpy' was more than 5% faster than 'Naive SDQLpy'.\n",
      "\t'O4 SDQLpy': 0.1601255416870117\n",
      "\t'Naive SDQLpy': 0.2751466751098633\n",
      "\tPercentage difference: 52.85021%\n",
      "For Query 6, 'O4 SDQLpy' was more than 5% faster than 'Naive SDQLpy'.\n",
      "\t'O4 SDQLpy': 0.0580294132232666\n",
      "\t'Naive SDQLpy': 0.06105551719665527\n",
      "\tPercentage difference: 5.08226%\n",
      "For Query 9, 'O4 SDQLpy' was more than 5% faster than 'Naive SDQLpy'.\n",
      "\t'O4 SDQLpy': 0.501565408706665\n",
      "\t'Naive SDQLpy': 1.198706817626953\n",
      "\tPercentage difference: 82.0035%\n",
      "For Query 10, 'O4 SDQLpy' was more than 5% faster than 'Naive SDQLpy'.\n",
      "\t'O4 SDQLpy': 1.2660458564758301\n",
      "\t'Naive SDQLpy': 1.3351372241973878\n",
      "\tPercentage difference: 5.3123%\n",
      "For Query 11, 'O4 SDQLpy' was more than 5% faster than 'Naive SDQLpy'.\n",
      "\t'O4 SDQLpy': 0.027782678604125977\n",
      "\t'Naive SDQLpy': 0.05090336799621582\n",
      "\tPercentage difference: 58.76694%\n",
      "For Query 12, 'O4 SDQLpy' was more than 5% faster than 'Naive SDQLpy'.\n",
      "\t'O4 SDQLpy': 0.29122366905212405\n",
      "\t'Naive SDQLpy': 0.3201327323913574\n",
      "\tPercentage difference: 9.45735%\n",
      "For Query 13, 'O4 SDQLpy' was more than 5% faster than 'Naive SDQLpy'.\n",
      "\t'O4 SDQLpy': 0.6180640697479248\n",
      "\t'Naive SDQLpy': 1.6008520126342773\n",
      "\tPercentage difference: 88.5827%\n",
      "For Query 15, 'O4 SDQLpy' was more than 5% faster than 'Naive SDQLpy'.\n",
      "\t'O4 SDQLpy': 0.07558784484863282\n",
      "\t'Naive SDQLpy': 0.08737034797668457\n",
      "\tPercentage difference: 14.46077%\n",
      "For Query 16, 'O4 SDQLpy' was more than 5% slower than 'Naive SDQLpy'.\n",
      "\t'O4 SDQLpy': 0.1539219856262207\n",
      "\t'Naive SDQLpy': 0.14639945030212403\n",
      "\tPercentage difference: 5.00966%\n",
      "For Query 17, 'O4 SDQLpy' was more than 5% faster than 'Naive SDQLpy'.\n",
      "\t'O4 SDQLpy': 0.14974660873413087\n",
      "\t'Naive SDQLpy': 0.15941958427429198\n",
      "\tPercentage difference: 6.25746%\n",
      "For Query 18, 'O4 SDQLpy' was more than 5% slower than 'Naive SDQLpy'.\n",
      "\t'O4 SDQLpy': 0.22753400802612306\n",
      "\t'Naive SDQLpy': 0.202647066116333\n",
      "\tPercentage difference: 11.57045%\n",
      "For Query 19, 'O4 SDQLpy' was more than 5% faster than 'Naive SDQLpy'.\n",
      "\t'O4 SDQLpy': 0.2325523853302002\n",
      "\t'Naive SDQLpy': 0.29403257369995117\n",
      "\tPercentage difference: 23.35053%\n",
      "For Query 21, 'O4 SDQLpy' was more than 5% faster than 'Naive SDQLpy'.\n",
      "\t'O4 SDQLpy': 2.136074256896973\n",
      "\t'Naive SDQLpy': 2.366813611984253\n",
      "\tPercentage difference: 10.24851%\n",
      "For Query 22, 'O4 SDQLpy' was more than 5% faster than 'Naive SDQLpy'.\n",
      "\t'O4 SDQLpy': 0.02900419235229492\n",
      "\t'Naive SDQLpy': 0.03185625076293945\n",
      "\tPercentage difference: 9.37245%\n",
      "2 Queries were Slower after Optimising\n",
      "15 Queries were Faster after Optimising\n"
     ]
    }
   ],
   "source": [
    "def get_querytype_mean_dict(query_type):\n",
    "    query_numbers = list(results[results['Query Type'] == query_type].to_dict()['Query Number'].values())\n",
    "    query_means = list(results[results['Query Type'] == query_type].to_dict()['Mean'].values())\n",
    "\n",
    "    return dict(zip(query_numbers, query_means))\n",
    "\n",
    "def percentage_difference(num1, num2):\n",
    "    return 100 * (abs(num1 - num2) / ((num1 + num2) / 2))\n",
    "\n",
    "all_type = \"O4 SDQLpy\"\n",
    "prev_type = \"Naive SDQLpy\"\n",
    "\n",
    "all_runtimes = get_querytype_mean_dict(all_type)\n",
    "prev_runtimes = get_querytype_mean_dict(prev_type)\n",
    "\n",
    "slower = 0\n",
    "faster = 0\n",
    "\n",
    "for query, all_runtime in all_runtimes.items():\n",
    "    prev_runtime = prev_runtimes[query]\n",
    "    perc_diff = round(percentage_difference(all_runtime, prev_runtime), 5)\n",
    "    if prev_runtime < all_runtime and perc_diff >= 5:\n",
    "        print(f\"For Query {query}, '{all_type}' was more than 5% slower than '{prev_type}'.\")\n",
    "        print(f\"\\t'{all_type}': {all_runtime}\")\n",
    "        print(f\"\\t'{prev_type}': {prev_runtime}\")\n",
    "        print(f\"\\tPercentage difference: {perc_diff}%\")\n",
    "        slower += 1\n",
    "    elif prev_runtime > all_runtime and perc_diff >= 5:\n",
    "        print(f\"For Query {query}, '{all_type}' was more than 5% faster than '{prev_type}'.\")\n",
    "        print(f\"\\t'{all_type}': {all_runtime}\")\n",
    "        print(f\"\\t'{prev_type}': {prev_runtime}\")\n",
    "        print(f\"\\tPercentage difference: {perc_diff}%\")\n",
    "        faster += 1\n",
    "        \n",
    "print(f\"{slower} Queries were Slower after Optimising\")\n",
    "print(f\"{faster} Queries were Faster after Optimising\")\n",
    "\n",
    "# round(percentage_difference(0.274375, 0.278308), 5)"
   ]
  },
  {
   "cell_type": "code",
   "execution_count": 10,
   "metadata": {},
   "outputs": [
    {
     "data": {
      "text/plain": [
       "15.285179408050048"
      ]
     },
     "execution_count": 10,
     "metadata": {},
     "output_type": "execute_result"
    }
   ],
   "source": [
    "def runtime_reduction(old, new):\n",
    "    return ((old - new) / old) * 100\n",
    "\n",
    "runtime_reduction(0.08513712882995605, 0.07212376594543457)"
   ]
  },
  {
   "cell_type": "code",
   "execution_count": 11,
   "metadata": {},
   "outputs": [
    {
     "data": {
      "text/plain": [
       "6.255937302089938"
      ]
     },
     "execution_count": 11,
     "metadata": {},
     "output_type": "execute_result"
    }
   ],
   "source": [
    "runtime_reduction(0.202112, 0.189468)"
   ]
  },
  {
   "cell_type": "markdown",
   "metadata": {},
   "source": [
    "## Boxplots"
   ]
  },
  {
   "cell_type": "code",
   "execution_count": 12,
   "metadata": {},
   "outputs": [],
   "source": [
    "results['Query Type'] = results['Query Type'].replace(\n",
    "    {\n",
    "        'Pandas Converted (Hyper DB)': 'Pandas',\n",
    "        'Pandas Converted + O4 (Hyper DB)': 'O4 Pandas'\n",
    "    }\n",
    ")"
   ]
  },
  {
   "cell_type": "code",
   "execution_count": 13,
   "metadata": {},
   "outputs": [
    {
     "data": {
      "text/html": [
       "<div>\n",
       "<style scoped>\n",
       "    .dataframe tbody tr th:only-of-type {\n",
       "        vertical-align: middle;\n",
       "    }\n",
       "\n",
       "    .dataframe tbody tr th {\n",
       "        vertical-align: top;\n",
       "    }\n",
       "\n",
       "    .dataframe thead th {\n",
       "        text-align: right;\n",
       "    }\n",
       "</style>\n",
       "<table border=\"1\" class=\"dataframe\">\n",
       "  <thead>\n",
       "    <tr style=\"text-align: right;\">\n",
       "      <th></th>\n",
       "      <th>Query Type</th>\n",
       "      <th>Query Number</th>\n",
       "      <th>Mean</th>\n",
       "      <th>Runs</th>\n",
       "    </tr>\n",
       "  </thead>\n",
       "  <tbody>\n",
       "    <tr>\n",
       "      <th>0</th>\n",
       "      <td>Hyper DB</td>\n",
       "      <td>1</td>\n",
       "      <td>0.129322</td>\n",
       "      <td>[0.13045930862426758, 0.1293809413909912, 0.12...</td>\n",
       "    </tr>\n",
       "    <tr>\n",
       "      <th>1</th>\n",
       "      <td>Naive SDQLpy</td>\n",
       "      <td>1</td>\n",
       "      <td>1.295751</td>\n",
       "      <td>[1.366431713104248, 1.3349874019622803, 1.2851...</td>\n",
       "    </tr>\n",
       "    <tr>\n",
       "      <th>2</th>\n",
       "      <td>O1 SDQLpy</td>\n",
       "      <td>1</td>\n",
       "      <td>0.073416</td>\n",
       "      <td>[0.07568359375, 0.07184267044067383, 0.0736100...</td>\n",
       "    </tr>\n",
       "    <tr>\n",
       "      <th>3</th>\n",
       "      <td>O2 SDQLpy</td>\n",
       "      <td>1</td>\n",
       "      <td>1.343711</td>\n",
       "      <td>[1.3827297687530518, 1.3863816261291504, 1.312...</td>\n",
       "    </tr>\n",
       "    <tr>\n",
       "      <th>4</th>\n",
       "      <td>O3 SDQLpy</td>\n",
       "      <td>1</td>\n",
       "      <td>1.333620</td>\n",
       "      <td>[1.4018220901489258, 1.3590068817138672, 1.331...</td>\n",
       "    </tr>\n",
       "    <tr>\n",
       "      <th>...</th>\n",
       "      <td>...</td>\n",
       "      <td>...</td>\n",
       "      <td>...</td>\n",
       "      <td>...</td>\n",
       "    </tr>\n",
       "    <tr>\n",
       "      <th>170</th>\n",
       "      <td>O1 SDQLpy</td>\n",
       "      <td>22</td>\n",
       "      <td>0.027338</td>\n",
       "      <td>[0.03550386428833008, 0.02771592140197754, 0.0...</td>\n",
       "    </tr>\n",
       "    <tr>\n",
       "      <th>171</th>\n",
       "      <td>O2 SDQLpy</td>\n",
       "      <td>22</td>\n",
       "      <td>0.028643</td>\n",
       "      <td>[0.039954423904418945, 0.028383493423461914, 0...</td>\n",
       "    </tr>\n",
       "    <tr>\n",
       "      <th>172</th>\n",
       "      <td>O3 SDQLpy</td>\n",
       "      <td>22</td>\n",
       "      <td>0.061738</td>\n",
       "      <td>[0.07193589210510254, 0.0604250431060791, 0.06...</td>\n",
       "    </tr>\n",
       "    <tr>\n",
       "      <th>173</th>\n",
       "      <td>O4 SDQLpy</td>\n",
       "      <td>22</td>\n",
       "      <td>0.029004</td>\n",
       "      <td>[0.03833436965942383, 0.02956557273864746, 0.0...</td>\n",
       "    </tr>\n",
       "    <tr>\n",
       "      <th>175</th>\n",
       "      <td>O4 Pandas</td>\n",
       "      <td>22</td>\n",
       "      <td>0.277459</td>\n",
       "      <td>[0.27046966552734375, 0.2759683132171631, 0.27...</td>\n",
       "    </tr>\n",
       "  </tbody>\n",
       "</table>\n",
       "<p>176 rows × 4 columns</p>\n",
       "</div>"
      ],
      "text/plain": [
       "       Query Type  Query Number      Mean  \\\n",
       "0        Hyper DB             1  0.129322   \n",
       "1    Naive SDQLpy             1  1.295751   \n",
       "2       O1 SDQLpy             1  0.073416   \n",
       "3       O2 SDQLpy             1  1.343711   \n",
       "4       O3 SDQLpy             1  1.333620   \n",
       "..            ...           ...       ...   \n",
       "170     O1 SDQLpy            22  0.027338   \n",
       "171     O2 SDQLpy            22  0.028643   \n",
       "172     O3 SDQLpy            22  0.061738   \n",
       "173     O4 SDQLpy            22  0.029004   \n",
       "175     O4 Pandas            22  0.277459   \n",
       "\n",
       "                                                  Runs  \n",
       "0    [0.13045930862426758, 0.1293809413909912, 0.12...  \n",
       "1    [1.366431713104248, 1.3349874019622803, 1.2851...  \n",
       "2    [0.07568359375, 0.07184267044067383, 0.0736100...  \n",
       "3    [1.3827297687530518, 1.3863816261291504, 1.312...  \n",
       "4    [1.4018220901489258, 1.3590068817138672, 1.331...  \n",
       "..                                                 ...  \n",
       "170  [0.03550386428833008, 0.02771592140197754, 0.0...  \n",
       "171  [0.039954423904418945, 0.028383493423461914, 0...  \n",
       "172  [0.07193589210510254, 0.0604250431060791, 0.06...  \n",
       "173  [0.03833436965942383, 0.02956557273864746, 0.0...  \n",
       "175  [0.27046966552734375, 0.2759683132171631, 0.27...  \n",
       "\n",
       "[176 rows x 4 columns]"
      ]
     },
     "execution_count": 13,
     "metadata": {},
     "output_type": "execute_result"
    }
   ],
   "source": [
    "results"
   ]
  },
  {
   "cell_type": "code",
   "execution_count": 14,
   "metadata": {},
   "outputs": [],
   "source": [
    "# Compare \n",
    "compare_groups = [\n",
    "    (\"O4_graph.pdf\", [\"Naive SDQLpy\", \"O4 SDQLpy\", \"Pandas\", \"O4 Pandas\"]),\n",
    "    (\"O1_graph.pdf\", [\"Naive SDQLpy\", \"O1 SDQLpy\"]),\n",
    "    (\"O2_graph.pdf\", [\"Naive SDQLpy\", \"O2 SDQLpy\"]),\n",
    "    (\"O3_graph.pdf\", [\"Naive SDQLpy\", \"O3 SDQLpy\"])\n",
    "]"
   ]
  },
  {
   "cell_type": "code",
   "execution_count": 15,
   "metadata": {},
   "outputs": [],
   "source": [
    "def make_boxplot_graph(original_df, data_labels, filename = None):\n",
    "    new_df = original_df[original_df[\"Query Type\"].isin(data_labels)]\n",
    "    # Convert to ms\n",
    "    new_df['Mean'] = new_df['Mean'].apply(lambda x : x * 1000)\n",
    "    \n",
    "    new_df['Query Type'] = new_df['Query Type'].replace(\n",
    "        {\n",
    "            'O4 SDQLpy': 'Variable Elimination\\nSDQLpy', \n",
    "            'O4 Pandas': 'Variable Elimination\\nPandas', \n",
    "            'O1 SDQLpy': 'Fusion\\nSDQLpy', \n",
    "            'O2 SDQLpy': 'Update Sum\\nSDQLpy', \n",
    "            'O3 SDQLpy': 'Dense\\nSDQLpy', \n",
    "        }\n",
    "    )\n",
    "\n",
    "    with sns.axes_style(\"ticks\"):\n",
    "        sns.set_theme(rc={'figure.figsize':(8,6)})\n",
    "\n",
    "        ax = sns.boxplot(data=new_df, x=\"Query Type\", y=\"Mean\", color=\"#D9D9D9\", linecolor=\"#137\", linewidth=.75)\n",
    "        \n",
    "        ax.set_ylabel(\"Runtime (ms)\")\n",
    "        ax.set_xlabel(\"\")\n",
    "        \n",
    "        # Make axes weightier\n",
    "        plt.setp(ax.spines.values(), linewidth=1)\n",
    "        \n",
    "        for spine in ax.spines.values():\n",
    "            spine.set_edgecolor('k')\n",
    "            \n",
    "        ax.spines[['right', 'top']].set_visible(False)\n",
    "        \n",
    "        plt.tight_layout()\n",
    "    \n",
    "        if filename != None:\n",
    "            os.makedirs(os.path.dirname(filename), exist_ok=True)  \n",
    "            plt.savefig(filename, bbox_inches=\"tight\", transparent=True)\n",
    "        \n",
    "        plt.show()"
   ]
  },
  {
   "cell_type": "code",
   "execution_count": 16,
   "metadata": {},
   "outputs": [
    {
     "name": "stderr",
     "output_type": "stream",
     "text": [
      "/tmp/ipykernel_1062192/3796061260.py:4: SettingWithCopyWarning: \n",
      "A value is trying to be set on a copy of a slice from a DataFrame.\n",
      "Try using .loc[row_indexer,col_indexer] = value instead\n",
      "\n",
      "See the caveats in the documentation: https://pandas.pydata.org/pandas-docs/stable/user_guide/indexing.html#returning-a-view-versus-a-copy\n",
      "  new_df['Mean'] = new_df['Mean'].apply(lambda x : x * 1000)\n",
      "/tmp/ipykernel_1062192/3796061260.py:6: SettingWithCopyWarning: \n",
      "A value is trying to be set on a copy of a slice from a DataFrame.\n",
      "Try using .loc[row_indexer,col_indexer] = value instead\n",
      "\n",
      "See the caveats in the documentation: https://pandas.pydata.org/pandas-docs/stable/user_guide/indexing.html#returning-a-view-versus-a-copy\n",
      "  new_df['Query Type'] = new_df['Query Type'].replace(\n"
     ]
    },
    {
     "data": {
      "image/png": "[encoded data removed]",
      "text/plain": [
       "<Figure size 800x600 with 1 Axes>"
      ]
     },
     "metadata": {},
     "output_type": "display_data"
    },
    {
     "name": "stderr",
     "output_type": "stream",
     "text": [
      "/tmp/ipykernel_1062192/3796061260.py:4: SettingWithCopyWarning: \n",
      "A value is trying to be set on a copy of a slice from a DataFrame.\n",
      "Try using .loc[row_indexer,col_indexer] = value instead\n",
      "\n",
      "See the caveats in the documentation: https://pandas.pydata.org/pandas-docs/stable/user_guide/indexing.html#returning-a-view-versus-a-copy\n",
      "  new_df['Mean'] = new_df['Mean'].apply(lambda x : x * 1000)\n",
      "/tmp/ipykernel_1062192/3796061260.py:6: SettingWithCopyWarning: \n",
      "A value is trying to be set on a copy of a slice from a DataFrame.\n",
      "Try using .loc[row_indexer,col_indexer] = value instead\n",
      "\n",
      "See the caveats in the documentation: https://pandas.pydata.org/pandas-docs/stable/user_guide/indexing.html#returning-a-view-versus-a-copy\n",
      "  new_df['Query Type'] = new_df['Query Type'].replace(\n"
     ]
    },
    {
     "data": {
      "image/png": "[encoded data removed]",
      "text/plain": [
       "<Figure size 800x600 with 1 Axes>"
      ]
     },
     "metadata": {},
     "output_type": "display_data"
    },
    {
     "name": "stderr",
     "output_type": "stream",
     "text": [
      "/tmp/ipykernel_1062192/3796061260.py:4: SettingWithCopyWarning: \n",
      "A value is trying to be set on a copy of a slice from a DataFrame.\n",
      "Try using .loc[row_indexer,col_indexer] = value instead\n",
      "\n",
      "See the caveats in the documentation: https://pandas.pydata.org/pandas-docs/stable/user_guide/indexing.html#returning-a-view-versus-a-copy\n",
      "  new_df['Mean'] = new_df['Mean'].apply(lambda x : x * 1000)\n",
      "/tmp/ipykernel_1062192/3796061260.py:6: SettingWithCopyWarning: \n",
      "A value is trying to be set on a copy of a slice from a DataFrame.\n",
      "Try using .loc[row_indexer,col_indexer] = value instead\n",
      "\n",
      "See the caveats in the documentation: https://pandas.pydata.org/pandas-docs/stable/user_guide/indexing.html#returning-a-view-versus-a-copy\n",
      "  new_df['Query Type'] = new_df['Query Type'].replace(\n"
     ]
    },
    {
     "data": {
      "image/png": "[encoded data removed]",
      "text/plain": [
       "<Figure size 800x600 with 1 Axes>"
      ]
     },
     "metadata": {},
     "output_type": "display_data"
    },
    {
     "name": "stderr",
     "output_type": "stream",
     "text": [
      "/tmp/ipykernel_1062192/3796061260.py:4: SettingWithCopyWarning: \n",
      "A value is trying to be set on a copy of a slice from a DataFrame.\n",
      "Try using .loc[row_indexer,col_indexer] = value instead\n",
      "\n",
      "See the caveats in the documentation: https://pandas.pydata.org/pandas-docs/stable/user_guide/indexing.html#returning-a-view-versus-a-copy\n",
      "  new_df['Mean'] = new_df['Mean'].apply(lambda x : x * 1000)\n",
      "/tmp/ipykernel_1062192/3796061260.py:6: SettingWithCopyWarning: \n",
      "A value is trying to be set on a copy of a slice from a DataFrame.\n",
      "Try using .loc[row_indexer,col_indexer] = value instead\n",
      "\n",
      "See the caveats in the documentation: https://pandas.pydata.org/pandas-docs/stable/user_guide/indexing.html#returning-a-view-versus-a-copy\n",
      "  new_df['Query Type'] = new_df['Query Type'].replace(\n"
     ]
    },
    {
     "data": {
      "image/png": "[encoded data removed]",
      "text/plain": [
       "<Figure size 800x600 with 1 Axes>"
      ]
     },
     "metadata": {},
     "output_type": "display_data"
    }
   ],
   "source": [
    "for filename, data_labels in compare_groups:\n",
    "    make_boxplot_graph(\n",
    "        results,\n",
    "        data_labels,\n",
    "        f\"../analysis_results/y2_report/{filename}\"\n",
    "    )"
   ]
  },
  {
   "cell_type": "markdown",
   "metadata": {},
   "source": [
    "## Dense Hyper Parameter Tuning"
   ]
  },
  {
   "cell_type": "code",
   "execution_count": 19,
   "metadata": {},
   "outputs": [
    {
     "name": "stdout",
     "output_type": "stream",
     "text": [
      "Overall Results: 286\n",
      "Correct Results: 286\n"
     ]
    }
   ],
   "source": [
    "results = pd.read_csv(\"../test_results/hyper_sdqlpy_dense_tuning_test_results.csv\") \n",
    "\n",
    "print(f\"Overall Results: {len(results)}\")\n",
    "\n",
    "# Filter for Correct == True and Executed == Yes\n",
    "results = results[(results.Correct == True) & (results.Executed == \"Yes\")]\n",
    "print(f\"Correct Results: {len(results)}\")\n",
    "\n",
    "results = pre_process(results)"
   ]
  },
  {
   "cell_type": "code",
   "execution_count": 24,
   "metadata": {},
   "outputs": [
    {
     "data": {
      "text/html": [
       "<div>\n",
       "<style scoped>\n",
       "    .dataframe tbody tr th:only-of-type {\n",
       "        vertical-align: middle;\n",
       "    }\n",
       "\n",
       "    .dataframe tbody tr th {\n",
       "        vertical-align: top;\n",
       "    }\n",
       "\n",
       "    .dataframe thead th {\n",
       "        text-align: right;\n",
       "    }\n",
       "</style>\n",
       "<table border=\"1\" class=\"dataframe\">\n",
       "  <thead>\n",
       "    <tr style=\"text-align: right;\">\n",
       "      <th></th>\n",
       "      <th>Overall Mean Runtime (s)</th>\n",
       "    </tr>\n",
       "    <tr>\n",
       "      <th>Query Type</th>\n",
       "      <th></th>\n",
       "    </tr>\n",
       "  </thead>\n",
       "  <tbody>\n",
       "    <tr>\n",
       "      <th>O3 (0.4) SDQLpy</th>\n",
       "      <td>0.142164</td>\n",
       "    </tr>\n",
       "    <tr>\n",
       "      <th>O3 (0.5) SDQLpy</th>\n",
       "      <td>0.142544</td>\n",
       "    </tr>\n",
       "    <tr>\n",
       "      <th>O3 (0.9999) SDQLpy</th>\n",
       "      <td>0.142696</td>\n",
       "    </tr>\n",
       "    <tr>\n",
       "      <th>O3 (0.6) SDQLpy</th>\n",
       "      <td>0.142729</td>\n",
       "    </tr>\n",
       "    <tr>\n",
       "      <th>O3 (0.3) SDQLpy</th>\n",
       "      <td>0.142804</td>\n",
       "    </tr>\n",
       "    <tr>\n",
       "      <th>O3 (0.7) SDQLpy</th>\n",
       "      <td>0.143092</td>\n",
       "    </tr>\n",
       "    <tr>\n",
       "      <th>O3 (0.9) SDQLpy</th>\n",
       "      <td>0.144155</td>\n",
       "    </tr>\n",
       "    <tr>\n",
       "      <th>O3 (0.8) SDQLpy</th>\n",
       "      <td>0.144403</td>\n",
       "    </tr>\n",
       "    <tr>\n",
       "      <th>O3 (0.2) SDQLpy</th>\n",
       "      <td>0.144925</td>\n",
       "    </tr>\n",
       "    <tr>\n",
       "      <th>O3 (0.1) SDQLpy</th>\n",
       "      <td>0.146747</td>\n",
       "    </tr>\n",
       "    <tr>\n",
       "      <th>Hyper DB</th>\n",
       "      <td>0.150351</td>\n",
       "    </tr>\n",
       "    <tr>\n",
       "      <th>O3 (0.0001) SDQLpy</th>\n",
       "      <td>0.165064</td>\n",
       "    </tr>\n",
       "    <tr>\n",
       "      <th>Pandas Converted (Hyper DB)</th>\n",
       "      <td>0.424499</td>\n",
       "    </tr>\n",
       "  </tbody>\n",
       "</table>\n",
       "</div>"
      ],
      "text/plain": [
       "                             Overall Mean Runtime (s)\n",
       "Query Type                                           \n",
       "O3 (0.4) SDQLpy                              0.142164\n",
       "O3 (0.5) SDQLpy                              0.142544\n",
       "O3 (0.9999) SDQLpy                           0.142696\n",
       "O3 (0.6) SDQLpy                              0.142729\n",
       "O3 (0.3) SDQLpy                              0.142804\n",
       "O3 (0.7) SDQLpy                              0.143092\n",
       "O3 (0.9) SDQLpy                              0.144155\n",
       "O3 (0.8) SDQLpy                              0.144403\n",
       "O3 (0.2) SDQLpy                              0.144925\n",
       "O3 (0.1) SDQLpy                              0.146747\n",
       "Hyper DB                                     0.150351\n",
       "O3 (0.0001) SDQLpy                           0.165064\n",
       "Pandas Converted (Hyper DB)                  0.424499"
      ]
     },
     "execution_count": 24,
     "metadata": {},
     "output_type": "execute_result"
    }
   ],
   "source": [
    "# O1 SDQLpy\t: 0.155856\n",
    "\n",
    "dense_overall = make_overall_table(results)\n",
    "dense_overall.head(15)"
   ]
  },
  {
   "cell_type": "code",
   "execution_count": 27,
   "metadata": {},
   "outputs": [
    {
     "name": "stdout",
     "output_type": "stream",
     "text": [
      "Best O3: 8.785032337542335\n",
      "Worst O3: -5.908017657324707\n"
     ]
    }
   ],
   "source": [
    "print(f\"Best O3: {runtime_reduction(0.155856, 0.142164)}\")\n",
    "print(f\"Worst O3: {runtime_reduction(0.155856, 0.165064)}\")"
   ]
  },
  {
   "cell_type": "code",
   "execution_count": 28,
   "metadata": {},
   "outputs": [
    {
     "data": {
      "image/png": "[encoded data removed]",
      "text/plain": [
       "<Figure size 2000x600 with 1 Axes>"
      ]
     },
     "metadata": {},
     "output_type": "display_data"
    }
   ],
   "source": [
    "sns.set_theme(rc={'figure.figsize':(20,6)})\n",
    "\n",
    "ax = sns.boxplot(data=results, x=\"Query Type\", y=\"Mean\", color=\"#D9D9D9\", linecolor=\"#137\", linewidth=.75)\n",
    "\n",
    "ax.set_ylabel(\"Runtime (ms)\")\n",
    "ax.set_xlabel(\"\")\n",
    "\n",
    "# Make axes weightier\n",
    "plt.setp(ax.spines.values(), linewidth=1)\n",
    "\n",
    "for spine in ax.spines.values():\n",
    "    spine.set_edgecolor('k')\n",
    "    \n",
    "ax.spines[['right', 'top']].set_visible(False)\n",
    "\n",
    "plt.tight_layout()\n",
    "\n",
    "# if filename != None:\n",
    "#     os.makedirs(os.path.dirname(filename), exist_ok=True)  \n",
    "#     plt.savefig(filename, bbox_inches=\"tight\", transparent=True)\n",
    "\n",
    "plt.show()"
   ]
  }
 ],
 "metadata": {
  "kernelspec": {
   "display_name": "sqlconv_env",
   "language": "python",
   "name": "python3"
  },
  "language_info": {
   "codemirror_mode": {
    "name": "ipython",
    "version": 3
   },
   "file_extension": ".py",
   "mimetype": "text/x-python",
   "name": "python",
   "nbconvert_exporter": "python",
   "pygments_lexer": "ipython3",
   "version": "3.10.13"
  }
 },
 "nbformat": 4,
 "nbformat_minor": 2
}
