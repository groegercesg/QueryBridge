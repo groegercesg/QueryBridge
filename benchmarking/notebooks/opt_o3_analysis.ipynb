{
 "cells": [
  {
   "cell_type": "code",
   "execution_count": 49,
   "metadata": {},
   "outputs": [],
   "source": [
    "import pandas as pd\n",
    "import numpy as np\n",
    "import matplotlib.pyplot as plt\n",
    "import matplotlib\n",
    "plt.style.use('ggplot')\n",
    "import seaborn as sns\n",
    "from enum import Enum\n",
    "import matplotlib.colors as mcolors\n",
    "import colorsys"
   ]
  },
  {
   "cell_type": "code",
   "execution_count": 50,
   "metadata": {},
   "outputs": [],
   "source": [
    "results = pd.read_csv(\"../test_results/hyper_sdqlpy_pandas_tpch_opt_o3_comparison_test_results.csv\") \n",
    "\n",
    "#results = pd.concat([results, results2], ignore_index=True)\n",
    "#results = results.rename(columns={\"Average\": \"Mean\"})"
   ]
  },
  {
   "cell_type": "code",
   "execution_count": 51,
   "metadata": {},
   "outputs": [
    {
     "name": "stdout",
     "output_type": "stream",
     "text": [
      "Overall Results: 132\n",
      "Correct Results: 132\n"
     ]
    }
   ],
   "source": [
    "print(f\"Overall Results: {len(results)}\")\n",
    "\n",
    "# Filter for Correct == True and Executed == Yes\n",
    "results = results[(results.Correct == True) & (results.Executed == \"Yes\")]\n",
    "print(f\"Correct Results: {len(results)}\")"
   ]
  },
  {
   "cell_type": "code",
   "execution_count": 52,
   "metadata": {},
   "outputs": [],
   "source": [
    "def pre_process(df):\n",
    "    # Sort Query Name column to in-order\n",
    "    def extract_number(name):\n",
    "        return int(name.split(\" \")[1])\n",
    "\n",
    "    df['Query Number'] = df.apply(lambda row : extract_number(row['Query Number']), axis = 1)\n",
    "    df = df.sort_values(['Query Number'])\n",
    "\n",
    "    # Fix the runs column\n",
    "    def fix_runs(runs):\n",
    "        new_runs = list(str(str(runs)[1:-1]).split(\",\"))\n",
    "        for i in range(0, len(new_runs)):\n",
    "            new_runs[i] = float(new_runs[i].strip())\n",
    "        return new_runs\n",
    "\n",
    "    df['Runs'] = df.apply(lambda row : fix_runs(row['Runs']), axis = 1)\n",
    "\n",
    "    def g_mean(x):\n",
    "        a = np.log(x)\n",
    "        return np.exp(a.mean())\n",
    "\n",
    "    def ignore_first_gmean(runs):\n",
    "        return g_mean(runs[1:])\n",
    "\n",
    "    df[\"Mean\"] = df.apply(lambda row : ignore_first_gmean(row['Runs']), axis = 1)\n",
    "    df[\"Query Type\"] = df[\"Query Name\"]\n",
    "    df = df[[\"Query Type\", \"Query Number\", \"Mean\", \"Runs\"]]\n",
    "    \n",
    "    return df\n",
    "\n",
    "results = pre_process(results)"
   ]
  },
  {
   "cell_type": "code",
   "execution_count": 53,
   "metadata": {},
   "outputs": [],
   "source": [
    "all_named_colors = {}\n",
    "all_named_colors.update(mcolors.TABLEAU_COLORS)\n",
    "\n",
    "def handle_colour(color):\n",
    "    if \"tab:\" in color:\n",
    "        return all_named_colors[color]\n",
    "    else:\n",
    "        raise Exception(f\"Unrecognised color format: {color}\")\n",
    "\n",
    "def scale_lightness(hex, scale_l):\n",
    "    # convert rgb to hls\n",
    "    rgb = mcolors.ColorConverter.to_rgb(hex)\n",
    "    h, l, s = colorsys.rgb_to_hls(*rgb)\n",
    "    # manipulate h, l, s values and return as rgb\n",
    "    return colorsys.hls_to_rgb(h, min(1, l * scale_l), s = s)"
   ]
  },
  {
   "cell_type": "code",
   "execution_count": 54,
   "metadata": {},
   "outputs": [],
   "source": [
    "def make_compare_graph(title, df, order, color, hatching, filename, x_value='Query Number', y_value='Mean'):\n",
    "    assert len(order) == len(color) == len(hatching)\n",
    "    print(f\"The DataFrame has {len(df)} rows\")\n",
    "    # plot with seaborn barplot\n",
    "    sns.set(rc={'figure.figsize':(10,6)})\n",
    "    background_color = '#f1f4f5'\n",
    "    sns.set(rc={'axes.facecolor':background_color})\n",
    "    plt.rcParams['patch.linewidth'] = 0.3\n",
    "    plt.rcParams['patch.edgecolor'] = 'k'\n",
    "\n",
    "    ax = sns.barplot(data=df, x=x_value, y=y_value, hue='Query Type',\n",
    "                     palette=color, hue_order=order)\n",
    "    \n",
    "    # Loop over the bars\n",
    "    for bars, hatch in zip(ax.containers, hatching):\n",
    "        if hatch != None:\n",
    "            for bar in bars:\n",
    "                bar.set_hatch(hatch)\n",
    "    \n",
    "    ax.set_yscale(\"log\")\n",
    "    ax.set(xlabel='Queries', ylabel='Mean Runtime (s)')\n",
    "\n",
    "    # the non-logarithmic labels \n",
    "    ticks = [0.1, 1, 10]\n",
    "    ax.set_yticks(ticks)\n",
    "    ax.set_yticklabels(ticks)\n",
    "\n",
    "    #set parameters for tick labels\n",
    "    plt.tick_params(axis='x', which='major', labelsize=10)\n",
    "    plt.tick_params(axis='y', which='major', direction=\"out\", colors=\"k\", left=True)\n",
    "    \n",
    "    leg_artists = []\n",
    "    for i in range(len(order)):\n",
    "        p = matplotlib.patches.Patch(facecolor=color[i], hatch=hatching[i])\n",
    "        # can also explicitly declare 2nd color like this\n",
    "        #p = matplotlib.patches.Patch(facecolor='#DCDCDC', hatch=hatch_dict[i], edgecolor='0.5')\n",
    "\n",
    "        leg_artists.append(p)\n",
    "\n",
    "    # Add them to legend\n",
    "    ax.legend(leg_artists, order, loc='upper center', bbox_to_anchor=(0.5, -0.1),\n",
    "              ncol=5, fancybox=True, shadow=True)\n",
    "    \n",
    "    ax.set_title(title)\n",
    "\n",
    "    if filename != None:\n",
    "        plt.savefig(filename, bbox_inches=\"tight\")\n",
    "    plt.show()"
   ]
  },
  {
   "cell_type": "markdown",
   "metadata": {},
   "source": [
    "## O3 Optimisation Comparison"
   ]
  },
  {
   "cell_type": "code",
   "execution_count": 55,
   "metadata": {},
   "outputs": [
    {
     "data": {
      "text/html": [
       "<div>\n",
       "<style scoped>\n",
       "    .dataframe tbody tr th:only-of-type {\n",
       "        vertical-align: middle;\n",
       "    }\n",
       "\n",
       "    .dataframe tbody tr th {\n",
       "        vertical-align: top;\n",
       "    }\n",
       "\n",
       "    .dataframe thead th {\n",
       "        text-align: right;\n",
       "    }\n",
       "</style>\n",
       "<table border=\"1\" class=\"dataframe\">\n",
       "  <thead>\n",
       "    <tr style=\"text-align: right;\">\n",
       "      <th></th>\n",
       "      <th>Query Type</th>\n",
       "      <th>Query Number</th>\n",
       "      <th>Mean</th>\n",
       "      <th>Runs</th>\n",
       "    </tr>\n",
       "  </thead>\n",
       "  <tbody>\n",
       "    <tr>\n",
       "      <th>0</th>\n",
       "      <td>Hyper DB</td>\n",
       "      <td>1</td>\n",
       "      <td>0.271776</td>\n",
       "      <td>[0.2899594306945801, 0.2741270065307617, 0.273...</td>\n",
       "    </tr>\n",
       "    <tr>\n",
       "      <th>1</th>\n",
       "      <td>SDQLpy Converted (Hyper DB)</td>\n",
       "      <td>1</td>\n",
       "      <td>1.558139</td>\n",
       "      <td>[1.557185411453247, 1.5580523014068604, 1.5590...</td>\n",
       "    </tr>\n",
       "    <tr>\n",
       "      <th>2</th>\n",
       "      <td>SDQLpy Converted + O3 (Hyper DB)</td>\n",
       "      <td>1</td>\n",
       "      <td>1.556688</td>\n",
       "      <td>[1.5882062911987305, 1.5515456199645996, 1.553...</td>\n",
       "    </tr>\n",
       "    <tr>\n",
       "      <th>3</th>\n",
       "      <td>SDQLpy Converted + O1,O2,O4 (Hyper DB)</td>\n",
       "      <td>1</td>\n",
       "      <td>0.066779</td>\n",
       "      <td>[0.07999229431152344, 0.06739568710327148, 0.0...</td>\n",
       "    </tr>\n",
       "    <tr>\n",
       "      <th>4</th>\n",
       "      <td>SDQLpy Converted + O1,O2,O3,O4 (Hyper DB)</td>\n",
       "      <td>1</td>\n",
       "      <td>0.066988</td>\n",
       "      <td>[0.0824129581451416, 0.06701421737670898, 0.06...</td>\n",
       "    </tr>\n",
       "    <tr>\n",
       "      <th>5</th>\n",
       "      <td>Pandas Converted (Hyper DB)</td>\n",
       "      <td>1</td>\n",
       "      <td>2.214949</td>\n",
       "      <td>[2.268165111541748, 2.3847618103027344, 2.5456...</td>\n",
       "    </tr>\n",
       "  </tbody>\n",
       "</table>\n",
       "</div>"
      ],
      "text/plain": [
       "                                  Query Type  Query Number      Mean  \\\n",
       "0                                   Hyper DB             1  0.271776   \n",
       "1                SDQLpy Converted (Hyper DB)             1  1.558139   \n",
       "2           SDQLpy Converted + O3 (Hyper DB)             1  1.556688   \n",
       "3     SDQLpy Converted + O1,O2,O4 (Hyper DB)             1  0.066779   \n",
       "4  SDQLpy Converted + O1,O2,O3,O4 (Hyper DB)             1  0.066988   \n",
       "5                Pandas Converted (Hyper DB)             1  2.214949   \n",
       "\n",
       "                                                Runs  \n",
       "0  [0.2899594306945801, 0.2741270065307617, 0.273...  \n",
       "1  [1.557185411453247, 1.5580523014068604, 1.5590...  \n",
       "2  [1.5882062911987305, 1.5515456199645996, 1.553...  \n",
       "3  [0.07999229431152344, 0.06739568710327148, 0.0...  \n",
       "4  [0.0824129581451416, 0.06701421737670898, 0.06...  \n",
       "5  [2.268165111541748, 2.3847618103027344, 2.5456...  "
      ]
     },
     "execution_count": 55,
     "metadata": {},
     "output_type": "execute_result"
    }
   ],
   "source": [
    "results.head(6)"
   ]
  },
  {
   "cell_type": "code",
   "execution_count": 56,
   "metadata": {},
   "outputs": [],
   "source": [
    "results['Query Type'] = results['Query Type'].replace(\n",
    "    {\n",
    "        'SDQLpy Converted (Hyper DB)': 'Naive SDQLpy',\n",
    "        'SDQLpy Converted + O3 (Hyper DB)': 'O3 SDQLpy',\n",
    "        'SDQLpy Converted + O1,O2,O4 (Hyper DB)': 'O1+O2+O4 SDQLpy',\n",
    "        'SDQLpy Converted + O1,O2,O3,O4 (Hyper DB)': 'O1+O2+O3+O4 SDQLpy',\n",
    "        'Pandas Converted (Hyper DB)': 'Naive Pandas',\n",
    "     }\n",
    ")"
   ]
  },
  {
   "cell_type": "code",
   "execution_count": 57,
   "metadata": {},
   "outputs": [
    {
     "name": "stdout",
     "output_type": "stream",
     "text": [
      "The DataFrame has 110 rows\n"
     ]
    },
    {
     "data": {
      "image/png": "[encoded data removed]",
      "text/plain": [
       "<Figure size 1000x600 with 1 Axes>"
      ]
     },
     "metadata": {},
     "output_type": "display_data"
    }
   ],
   "source": [
    "# All 4 Datapoints - TPC-H\n",
    "class HesamColours(Enum):\n",
    "    HYPER = \"#D62E4E\"\n",
    "    NAIVE_SDQLPY = \"#5EB91E\"\n",
    "    O1_O2_O4_SDQLPY = \"#ff8157\"\n",
    "    O1_O2_O3_O4_SDQLPY = \"#00DEFF\"\n",
    "    NAIVE_PANDAS = \"#FF4000\"\n",
    "\n",
    "all_4_order = [\"Hyper DB\", \"Naive Pandas\", \"Naive SDQLpy\", 'O1+O2+O4 SDQLpy', 'O1+O2+O3+O4 SDQLpy']\n",
    "all_4_data = results[results[\"Query Type\"].isin(all_4_order)]\n",
    "\n",
    "all_4_color = [HesamColours.HYPER.value, HesamColours.NAIVE_PANDAS.value, HesamColours.NAIVE_SDQLPY.value, HesamColours.O1_O2_O4_SDQLPY.value,\n",
    "               HesamColours.O1_O2_O3_O4_SDQLPY.value]\n",
    "all_4_hatch = [None, None, None, None, None]\n",
    "all_4_filename = \"../analysis_results/Hyper_SDQLpy_Optimisation_O3_08022024.jpg\"\n",
    "all_4_title = \"Optimisation O3 (Dense Arrays)\"\n",
    "\n",
    "make_compare_graph(all_4_title,\n",
    "                   all_4_data, \n",
    "                   all_4_order,\n",
    "                   all_4_color,\n",
    "                   all_4_hatch,\n",
    "                   all_4_filename)"
   ]
  },
  {
   "cell_type": "markdown",
   "metadata": {},
   "source": [
    "## Statistics"
   ]
  },
  {
   "cell_type": "code",
   "execution_count": 58,
   "metadata": {},
   "outputs": [
    {
     "data": {
      "text/html": [
       "<div>\n",
       "<style scoped>\n",
       "    .dataframe tbody tr th:only-of-type {\n",
       "        vertical-align: middle;\n",
       "    }\n",
       "\n",
       "    .dataframe tbody tr th {\n",
       "        vertical-align: top;\n",
       "    }\n",
       "\n",
       "    .dataframe thead th {\n",
       "        text-align: right;\n",
       "    }\n",
       "</style>\n",
       "<table border=\"1\" class=\"dataframe\">\n",
       "  <thead>\n",
       "    <tr style=\"text-align: right;\">\n",
       "      <th></th>\n",
       "      <th>Overall Mean Runtime (s)</th>\n",
       "    </tr>\n",
       "    <tr>\n",
       "      <th>Query Type</th>\n",
       "      <th></th>\n",
       "    </tr>\n",
       "  </thead>\n",
       "  <tbody>\n",
       "    <tr>\n",
       "      <th>O1+O2+O3+O4 SDQLpy</th>\n",
       "      <td>0.289062</td>\n",
       "    </tr>\n",
       "    <tr>\n",
       "      <th>O1+O2+O4 SDQLpy</th>\n",
       "      <td>0.317983</td>\n",
       "    </tr>\n",
       "    <tr>\n",
       "      <th>Hyper DB</th>\n",
       "      <td>0.326132</td>\n",
       "    </tr>\n",
       "    <tr>\n",
       "      <th>O3 SDQLpy</th>\n",
       "      <td>0.622095</td>\n",
       "    </tr>\n",
       "    <tr>\n",
       "      <th>Naive SDQLpy</th>\n",
       "      <td>0.644279</td>\n",
       "    </tr>\n",
       "    <tr>\n",
       "      <th>Naive Pandas</th>\n",
       "      <td>0.906167</td>\n",
       "    </tr>\n",
       "  </tbody>\n",
       "</table>\n",
       "</div>"
      ],
      "text/plain": [
       "                    Overall Mean Runtime (s)\n",
       "Query Type                                  \n",
       "O1+O2+O3+O4 SDQLpy                  0.289062\n",
       "O1+O2+O4 SDQLpy                     0.317983\n",
       "Hyper DB                            0.326132\n",
       "O3 SDQLpy                           0.622095\n",
       "Naive SDQLpy                        0.644279\n",
       "Naive Pandas                        0.906167"
      ]
     },
     "execution_count": 58,
     "metadata": {},
     "output_type": "execute_result"
    }
   ],
   "source": [
    "overall = results.groupby(\"Query Type\").agg(\n",
    "    overall_mean_runtime=(\"Mean\", \"mean\")\n",
    ")\n",
    "overall = overall.sort_values(by=\"overall_mean_runtime\")\n",
    "overall = overall.rename(columns={\"overall_mean_runtime\": \"Overall Mean Runtime (s)\"})\n",
    "\n",
    "overall.head(10)"
   ]
  },
  {
   "cell_type": "code",
   "execution_count": 59,
   "metadata": {},
   "outputs": [
    {
     "name": "stdout",
     "output_type": "stream",
     "text": [
      "From Naive SDQLpy to O3 SDQLpy, there was a 3.44% reduction in runtime\n",
      "From O1+O2+O4 SDQLpy to O1+O2+O3+O4 SDQLpy, there was a 9.1% reduction in runtime\n",
      "From Hyper DB to O1+O2+O4 SDQLpy, there was a 2.5% reduction in runtime\n",
      "From Hyper DB to O1+O2+O3+O4 SDQLpy, there was a 11.37% reduction in runtime\n"
     ]
    }
   ],
   "source": [
    "# Should be: (OLD, NEW)\n",
    "relevant_pairs = [\n",
    "    (\"Naive SDQLpy\", \"O3 SDQLpy\"),\n",
    "    (\"O1+O2+O4 SDQLpy\", \"O1+O2+O3+O4 SDQLpy\"),\n",
    "    (\"Hyper DB\", \"O1+O2+O4 SDQLpy\"),\n",
    "    (\"Hyper DB\", \"O1+O2+O3+O4 SDQLpy\")\n",
    "]\n",
    "\n",
    "def get_from_df_by_index(index_value):\n",
    "    return float(overall.loc[[index_value]][\"Overall Mean Runtime (s)\"].iloc[0])\n",
    "\n",
    "def percentage_reduction_in_time(old_time, new_time):\n",
    "    return round(((old_time - new_time) / old_time) * 100, 2)\n",
    "\n",
    "for old, new in relevant_pairs:\n",
    "    old_value = get_from_df_by_index(old)\n",
    "    new_value = get_from_df_by_index(new)\n",
    "    print(f\"From {old} to {new}, there was a {percentage_reduction_in_time(old_value, new_value)}% reduction in runtime\")"
   ]
  },
  {
   "cell_type": "markdown",
   "metadata": {},
   "source": [
    "### Where is 'O1+O2+O3+O4 SDQLpy' worse than 'O1+O2+O4 SDQLpy'"
   ]
  },
  {
   "cell_type": "code",
   "execution_count": 60,
   "metadata": {},
   "outputs": [
    {
     "name": "stdout",
     "output_type": "stream",
     "text": [
      "For Query 2, 'O1+O2+O3+O4 SDQLpy' was more than 5% slower than 'O1+O2+O4 SDQLpy'.\n",
      "\t'O1+O2+O3+O4 SDQLpy': 0.042150560774288304\n",
      "\t'O1+O2+O4 SDQLpy': 0.03599629916564981\n",
      "\tPercentage difference: 15.7505%\n",
      "For Query 22, 'O1+O2+O3+O4 SDQLpy' was more than 5% slower than 'O1+O2+O4 SDQLpy'.\n",
      "\t'O1+O2+O3+O4 SDQLpy': 0.06043953458897658\n",
      "\t'O1+O2+O4 SDQLpy': 0.02332272081203441\n",
      "\tPercentage difference: 88.6242%\n"
     ]
    }
   ],
   "source": [
    "def get_querytype_mean_dict(query_type):\n",
    "    query_numbers = list(results[results['Query Type'] == query_type].to_dict()['Query Number'].values())\n",
    "    query_means = list(results[results['Query Type'] == query_type].to_dict()['Mean'].values())\n",
    "\n",
    "    return dict(zip(query_numbers, query_means))\n",
    "\n",
    "def percentage_difference(num1, num2):\n",
    "    return 100 * (abs(num1 - num2) / ((num1 + num2) / 2))\n",
    "\n",
    "all_type = \"O1+O2+O3+O4 SDQLpy\"\n",
    "prev_type = \"O1+O2+O4 SDQLpy\"\n",
    "\n",
    "all_runtimes = get_querytype_mean_dict(all_type)\n",
    "prev_runtimes = get_querytype_mean_dict(prev_type)\n",
    "\n",
    "for query, all_runtime in all_runtimes.items():\n",
    "    prev_runtime = prev_runtimes[query]\n",
    "    perc_diff = round(percentage_difference(all_runtime, prev_runtime), 5)\n",
    "    if prev_runtime < all_runtime and perc_diff >= 5:\n",
    "        print(f\"For Query {query}, '{all_type}' was more than 5% slower than '{prev_type}'.\")\n",
    "        print(f\"\\t'{all_type}': {all_runtime}\")\n",
    "        print(f\"\\t'{prev_type}': {prev_runtime}\")\n",
    "        print(f\"\\tPercentage difference: {perc_diff}%\")"
   ]
  }
 ],
 "metadata": {
  "kernelspec": {
   "display_name": "sqlconv_env",
   "language": "python",
   "name": "python3"
  },
  "language_info": {
   "codemirror_mode": {
    "name": "ipython",
    "version": 3
   },
   "file_extension": ".py",
   "mimetype": "text/x-python",
   "name": "python",
   "nbconvert_exporter": "python",
   "pygments_lexer": "ipython3",
   "version": "3.10.13"
  }
 },
 "nbformat": 4,
 "nbformat_minor": 2
}
