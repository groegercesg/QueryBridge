{
 "cells": [
  {
   "cell_type": "code",
   "execution_count": 1,
   "metadata": {},
   "outputs": [],
   "source": [
    "import pandas as pd\n",
    "import numpy as np\n",
    "import matplotlib.pyplot as plt\n",
    "import matplotlib\n",
    "plt.style.use('ggplot')\n",
    "import seaborn as sns\n",
    "from enum import Enum\n",
    "import matplotlib.colors as mcolors\n",
    "import colorsys"
   ]
  },
  {
   "cell_type": "code",
   "execution_count": 2,
   "metadata": {},
   "outputs": [],
   "source": [
    "results = pd.read_csv(\"../test_results/hyper_sdqlpy_pandas_tpch_opt_all_comparison_test_results.csv\") \n",
    "\n",
    "#results = pd.concat([results, results2], ignore_index=True)\n",
    "#results = results.rename(columns={\"Average\": \"Mean\"})"
   ]
  },
  {
   "cell_type": "code",
   "execution_count": 3,
   "metadata": {},
   "outputs": [
    {
     "name": "stdout",
     "output_type": "stream",
     "text": [
      "Overall Results: 154\n",
      "Correct Results: 154\n"
     ]
    }
   ],
   "source": [
    "print(f\"Overall Results: {len(results)}\")\n",
    "\n",
    "# Filter for Correct == True and Executed == Yes\n",
    "results = results[(results.Correct == True) & (results.Executed == \"Yes\")]\n",
    "print(f\"Correct Results: {len(results)}\")"
   ]
  },
  {
   "cell_type": "code",
   "execution_count": 4,
   "metadata": {},
   "outputs": [],
   "source": [
    "def g_mean(x):\n",
    "    a = np.log(x)\n",
    "    return np.exp(a.mean())\n",
    "\n",
    "def pre_process(df):\n",
    "    # Sort Query Name column to in-order\n",
    "    def extract_number(name):\n",
    "        return int(name.split(\" \")[1])\n",
    "\n",
    "    df['Query Number'] = df.apply(lambda row : extract_number(row['Query Number']), axis = 1)\n",
    "    df = df.sort_values(['Query Number'])\n",
    "\n",
    "    # Fix the runs column\n",
    "    def fix_runs(runs):\n",
    "        new_runs = list(str(str(runs)[1:-1]).split(\",\"))\n",
    "        for i in range(0, len(new_runs)):\n",
    "            new_runs[i] = float(new_runs[i].strip())\n",
    "        return new_runs\n",
    "\n",
    "    df['Runs'] = df.apply(lambda row : fix_runs(row['Runs']), axis = 1)\n",
    "\n",
    "    def ignore_first_gmean(runs):\n",
    "        return g_mean(runs[1:])\n",
    "    \n",
    "    def ignore_first_mean(runs):\n",
    "        return sum(runs[1:]) / len(runs[1:])\n",
    "\n",
    "    df[\"Mean\"] = df.apply(lambda row : ignore_first_mean(row['Runs']), axis = 1)\n",
    "    df[\"Query Type\"] = df[\"Query Name\"]\n",
    "    df = df[[\"Query Type\", \"Query Number\", \"Mean\", \"Runs\"]]\n",
    "    \n",
    "    return df\n",
    "\n",
    "results = pre_process(results)"
   ]
  },
  {
   "cell_type": "code",
   "execution_count": 5,
   "metadata": {},
   "outputs": [],
   "source": [
    "all_named_colors = {}\n",
    "all_named_colors.update(mcolors.TABLEAU_COLORS)\n",
    "\n",
    "def handle_colour(color):\n",
    "    if \"tab:\" in color:\n",
    "        return all_named_colors[color]\n",
    "    else:\n",
    "        raise Exception(f\"Unrecognised color format: {color}\")\n",
    "\n",
    "def scale_lightness(hex, scale_l):\n",
    "    # convert rgb to hls\n",
    "    rgb = mcolors.ColorConverter.to_rgb(hex)\n",
    "    h, l, s = colorsys.rgb_to_hls(*rgb)\n",
    "    # manipulate h, l, s values and return as rgb\n",
    "    return colorsys.hls_to_rgb(h, min(1, l * scale_l), s = s)"
   ]
  },
  {
   "cell_type": "code",
   "execution_count": 6,
   "metadata": {},
   "outputs": [],
   "source": [
    "def make_compare_graph(title, df, order, color, hatching, filename, x_value='Query Number', y_value='Mean'):\n",
    "    assert len(order) == len(color) == len(hatching)\n",
    "    print(f\"The DataFrame has {len(df)} rows\")\n",
    "    # plot with seaborn barplot\n",
    "    sns.set(rc={'figure.figsize':(10,6)})\n",
    "    background_color = '#f1f4f5'\n",
    "    sns.set(rc={'axes.facecolor':background_color})\n",
    "    plt.rcParams['patch.linewidth'] = 0.3\n",
    "    plt.rcParams['patch.edgecolor'] = 'k'\n",
    "\n",
    "    ax = sns.barplot(data=df, x=x_value, y=y_value, hue='Query Type',\n",
    "                     palette=color, hue_order=order)\n",
    "    \n",
    "    # Loop over the bars\n",
    "    for bars, hatch in zip(ax.containers, hatching):\n",
    "        if hatch != None:\n",
    "            for bar in bars:\n",
    "                bar.set_hatch(hatch)\n",
    "    \n",
    "    ax.set_yscale(\"log\")\n",
    "    ax.set(xlabel='Queries', ylabel='Mean Runtime (s)')\n",
    "\n",
    "    # the non-logarithmic labels \n",
    "    ticks = [0.1, 1, 10]\n",
    "    ax.set_yticks(ticks)\n",
    "    ax.set_yticklabels(ticks)\n",
    "\n",
    "    #set parameters for tick labels\n",
    "    plt.tick_params(axis='x', which='major', labelsize=10)\n",
    "    plt.tick_params(axis='y', which='major', direction=\"out\", colors=\"k\", left=True)\n",
    "    \n",
    "    leg_artists = []\n",
    "    for i in range(len(order)):\n",
    "        p = matplotlib.patches.Patch(facecolor=color[i], hatch=hatching[i])\n",
    "        # can also explicitly declare 2nd color like this\n",
    "        #p = matplotlib.patches.Patch(facecolor='#DCDCDC', hatch=hatch_dict[i], edgecolor='0.5')\n",
    "\n",
    "        leg_artists.append(p)\n",
    "\n",
    "    # Add them to legend\n",
    "    ax.legend(leg_artists, order, loc='upper center', bbox_to_anchor=(0.5, -0.1),\n",
    "              ncol=5, fancybox=True, shadow=True)\n",
    "    \n",
    "    ax.set_title(title)\n",
    "\n",
    "    if filename != None:\n",
    "        plt.savefig(filename, bbox_inches=\"tight\")\n",
    "    plt.show()"
   ]
  },
  {
   "cell_type": "code",
   "execution_count": 11,
   "metadata": {},
   "outputs": [
    {
     "data": {
      "text/html": [
       "<div>\n",
       "<style scoped>\n",
       "    .dataframe tbody tr th:only-of-type {\n",
       "        vertical-align: middle;\n",
       "    }\n",
       "\n",
       "    .dataframe tbody tr th {\n",
       "        vertical-align: top;\n",
       "    }\n",
       "\n",
       "    .dataframe thead th {\n",
       "        text-align: right;\n",
       "    }\n",
       "</style>\n",
       "<table border=\"1\" class=\"dataframe\">\n",
       "  <thead>\n",
       "    <tr style=\"text-align: right;\">\n",
       "      <th></th>\n",
       "      <th>Query Type</th>\n",
       "      <th>Query Number</th>\n",
       "      <th>Mean</th>\n",
       "      <th>Runs</th>\n",
       "    </tr>\n",
       "  </thead>\n",
       "  <tbody>\n",
       "    <tr>\n",
       "      <th>95</th>\n",
       "      <td>O1,O2,O3 SDQLpy</td>\n",
       "      <td>14</td>\n",
       "      <td>0.214456</td>\n",
       "      <td>[0.21660685539245605, 0.22284603118896484, 0.2...</td>\n",
       "    </tr>\n",
       "    <tr>\n",
       "      <th>96</th>\n",
       "      <td>O1,O2,O3,O4 SDQLpy</td>\n",
       "      <td>14</td>\n",
       "      <td>0.235425</td>\n",
       "      <td>[0.2272639274597168, 0.23552227020263672, 0.23...</td>\n",
       "    </tr>\n",
       "    <tr>\n",
       "      <th>97</th>\n",
       "      <td>Pandas Converted (Hyper DB)</td>\n",
       "      <td>14</td>\n",
       "      <td>0.158186</td>\n",
       "      <td>[0.1591956615447998, 0.1570281982421875, 0.156...</td>\n",
       "    </tr>\n",
       "    <tr>\n",
       "      <th>94</th>\n",
       "      <td>O1,O2 SDQLpy</td>\n",
       "      <td>14</td>\n",
       "      <td>0.305272</td>\n",
       "      <td>[0.308347225189209, 0.3032653331756592, 0.3078...</td>\n",
       "    </tr>\n",
       "    <tr>\n",
       "      <th>92</th>\n",
       "      <td>Naive SDQLpy</td>\n",
       "      <td>14</td>\n",
       "      <td>0.114008</td>\n",
       "      <td>[0.13196825981140137, 0.10314559936523438, 0.1...</td>\n",
       "    </tr>\n",
       "    <tr>\n",
       "      <th>91</th>\n",
       "      <td>Hyper DB</td>\n",
       "      <td>14</td>\n",
       "      <td>0.220347</td>\n",
       "      <td>[0.25397682189941406, 0.22121214866638184, 0.2...</td>\n",
       "    </tr>\n",
       "    <tr>\n",
       "      <th>93</th>\n",
       "      <td>O1 SDQLpy</td>\n",
       "      <td>14</td>\n",
       "      <td>0.323669</td>\n",
       "      <td>[0.325106143951416, 0.31877660751342773, 0.327...</td>\n",
       "    </tr>\n",
       "  </tbody>\n",
       "</table>\n",
       "</div>"
      ],
      "text/plain": [
       "                     Query Type  Query Number      Mean  \\\n",
       "95              O1,O2,O3 SDQLpy            14  0.214456   \n",
       "96           O1,O2,O3,O4 SDQLpy            14  0.235425   \n",
       "97  Pandas Converted (Hyper DB)            14  0.158186   \n",
       "94                 O1,O2 SDQLpy            14  0.305272   \n",
       "92                 Naive SDQLpy            14  0.114008   \n",
       "91                     Hyper DB            14  0.220347   \n",
       "93                    O1 SDQLpy            14  0.323669   \n",
       "\n",
       "                                                 Runs  \n",
       "95  [0.21660685539245605, 0.22284603118896484, 0.2...  \n",
       "96  [0.2272639274597168, 0.23552227020263672, 0.23...  \n",
       "97  [0.1591956615447998, 0.1570281982421875, 0.156...  \n",
       "94  [0.308347225189209, 0.3032653331756592, 0.3078...  \n",
       "92  [0.13196825981140137, 0.10314559936523438, 0.1...  \n",
       "91  [0.25397682189941406, 0.22121214866638184, 0.2...  \n",
       "93  [0.325106143951416, 0.31877660751342773, 0.327...  "
      ]
     },
     "execution_count": 11,
     "metadata": {},
     "output_type": "execute_result"
    }
   ],
   "source": [
    "results[results[\"Query Number\"] == 14]"
   ]
  },
  {
   "cell_type": "markdown",
   "metadata": {},
   "source": [
    "## Statistics"
   ]
  },
  {
   "cell_type": "code",
   "execution_count": 7,
   "metadata": {},
   "outputs": [
    {
     "data": {
      "text/html": [
       "<div>\n",
       "<style scoped>\n",
       "    .dataframe tbody tr th:only-of-type {\n",
       "        vertical-align: middle;\n",
       "    }\n",
       "\n",
       "    .dataframe tbody tr th {\n",
       "        vertical-align: top;\n",
       "    }\n",
       "\n",
       "    .dataframe thead th {\n",
       "        text-align: right;\n",
       "    }\n",
       "</style>\n",
       "<table border=\"1\" class=\"dataframe\">\n",
       "  <thead>\n",
       "    <tr style=\"text-align: right;\">\n",
       "      <th></th>\n",
       "      <th>Overall Mean Runtime (s)</th>\n",
       "    </tr>\n",
       "    <tr>\n",
       "      <th>Query Type</th>\n",
       "      <th></th>\n",
       "    </tr>\n",
       "  </thead>\n",
       "  <tbody>\n",
       "    <tr>\n",
       "      <th>O1,O2,O3,O4 SDQLpy</th>\n",
       "      <td>0.170093</td>\n",
       "    </tr>\n",
       "    <tr>\n",
       "      <th>O1,O2,O3 SDQLpy</th>\n",
       "      <td>0.189468</td>\n",
       "    </tr>\n",
       "    <tr>\n",
       "      <th>O1,O2 SDQLpy</th>\n",
       "      <td>0.202112</td>\n",
       "    </tr>\n",
       "    <tr>\n",
       "      <th>O1 SDQLpy</th>\n",
       "      <td>0.205774</td>\n",
       "    </tr>\n",
       "    <tr>\n",
       "      <th>Hyper DB</th>\n",
       "      <td>0.366398</td>\n",
       "    </tr>\n",
       "    <tr>\n",
       "      <th>Naive SDQLpy</th>\n",
       "      <td>0.369673</td>\n",
       "    </tr>\n",
       "    <tr>\n",
       "      <th>Pandas Converted (Hyper DB)</th>\n",
       "      <td>0.524752</td>\n",
       "    </tr>\n",
       "  </tbody>\n",
       "</table>\n",
       "</div>"
      ],
      "text/plain": [
       "                             Overall Mean Runtime (s)\n",
       "Query Type                                           \n",
       "O1,O2,O3,O4 SDQLpy                           0.170093\n",
       "O1,O2,O3 SDQLpy                              0.189468\n",
       "O1,O2 SDQLpy                                 0.202112\n",
       "O1 SDQLpy                                    0.205774\n",
       "Hyper DB                                     0.366398\n",
       "Naive SDQLpy                                 0.369673\n",
       "Pandas Converted (Hyper DB)                  0.524752"
      ]
     },
     "execution_count": 7,
     "metadata": {},
     "output_type": "execute_result"
    }
   ],
   "source": [
    "overall = results.groupby(\"Query Type\").agg(\n",
    "    overall_mean_runtime=(\"Mean\", g_mean)\n",
    ")\n",
    "overall = overall.sort_values(by=\"overall_mean_runtime\")\n",
    "overall = overall.rename(columns={\"overall_mean_runtime\": \"Overall Mean Runtime (s)\"})\n",
    "\n",
    "overall.head(10)"
   ]
  },
  {
   "cell_type": "code",
   "execution_count": 9,
   "metadata": {},
   "outputs": [
    {
     "name": "stdout",
     "output_type": "stream",
     "text": [
      "From Hyper DB to O1,O2,O3,O4 SDQLpy, there was a 53.58% reduction in runtime\n",
      "From Hyper DB to O1 SDQLpy, there was a 43.84% reduction in runtime\n",
      "From Naive SDQLpy to O1,O2,O3,O4 SDQLpy, there was a 53.99% reduction in runtime\n"
     ]
    }
   ],
   "source": [
    "# Should be: (OLD, NEW)\n",
    "relevant_pairs = [\n",
    "    (\"Hyper DB\", \"O1,O2,O3,O4 SDQLpy\"),\n",
    "    (\"Hyper DB\", \"O1 SDQLpy\"),\n",
    "    (\"Naive SDQLpy\", \"O1,O2,O3,O4 SDQLpy\")\n",
    "]\n",
    "\n",
    "def get_from_df_by_index(index_value):\n",
    "    return float(overall.loc[[index_value]][\"Overall Mean Runtime (s)\"].iloc[0])\n",
    "\n",
    "def percentage_reduction_in_time(old_time, new_time):\n",
    "    return round(((old_time - new_time) / old_time) * 100, 2)\n",
    "\n",
    "for old, new in relevant_pairs:\n",
    "    old_value = get_from_df_by_index(old)\n",
    "    new_value = get_from_df_by_index(new)\n",
    "    print(f\"From {old} to {new}, there was a {percentage_reduction_in_time(old_value, new_value)}% reduction in runtime\")"
   ]
  },
  {
   "cell_type": "markdown",
   "metadata": {},
   "source": [
    "## Speedup Graph\n"
   ]
  },
  {
   "cell_type": "code",
   "execution_count": 40,
   "metadata": {},
   "outputs": [
    {
     "data": {
      "text/html": [
       "<div>\n",
       "<style scoped>\n",
       "    .dataframe tbody tr th:only-of-type {\n",
       "        vertical-align: middle;\n",
       "    }\n",
       "\n",
       "    .dataframe tbody tr th {\n",
       "        vertical-align: top;\n",
       "    }\n",
       "\n",
       "    .dataframe thead th {\n",
       "        text-align: right;\n",
       "    }\n",
       "</style>\n",
       "<table border=\"1\" class=\"dataframe\">\n",
       "  <thead>\n",
       "    <tr style=\"text-align: right;\">\n",
       "      <th></th>\n",
       "      <th>Overall Mean Runtime (s)</th>\n",
       "    </tr>\n",
       "    <tr>\n",
       "      <th>Query Type</th>\n",
       "      <th></th>\n",
       "    </tr>\n",
       "  </thead>\n",
       "  <tbody>\n",
       "    <tr>\n",
       "      <th>O1,O2,O3,O4 SDQLpy</th>\n",
       "      <td>0.170093</td>\n",
       "    </tr>\n",
       "    <tr>\n",
       "      <th>O1,O2,O3 SDQLpy</th>\n",
       "      <td>0.189468</td>\n",
       "    </tr>\n",
       "    <tr>\n",
       "      <th>O1,O2 SDQLpy</th>\n",
       "      <td>0.202112</td>\n",
       "    </tr>\n",
       "    <tr>\n",
       "      <th>O1 SDQLpy</th>\n",
       "      <td>0.205774</td>\n",
       "    </tr>\n",
       "    <tr>\n",
       "      <th>Hyper DB</th>\n",
       "      <td>0.366398</td>\n",
       "    </tr>\n",
       "    <tr>\n",
       "      <th>Naive SDQLpy</th>\n",
       "      <td>0.369673</td>\n",
       "    </tr>\n",
       "    <tr>\n",
       "      <th>Pandas Converted (Hyper DB)</th>\n",
       "      <td>0.524752</td>\n",
       "    </tr>\n",
       "  </tbody>\n",
       "</table>\n",
       "</div>"
      ],
      "text/plain": [
       "                             Overall Mean Runtime (s)\n",
       "Query Type                                           \n",
       "O1,O2,O3,O4 SDQLpy                           0.170093\n",
       "O1,O2,O3 SDQLpy                              0.189468\n",
       "O1,O2 SDQLpy                                 0.202112\n",
       "O1 SDQLpy                                    0.205774\n",
       "Hyper DB                                     0.366398\n",
       "Naive SDQLpy                                 0.369673\n",
       "Pandas Converted (Hyper DB)                  0.524752"
      ]
     },
     "execution_count": 40,
     "metadata": {},
     "output_type": "execute_result"
    }
   ],
   "source": [
    "overall"
   ]
  },
  {
   "cell_type": "code",
   "execution_count": 43,
   "metadata": {},
   "outputs": [
    {
     "name": "stderr",
     "output_type": "stream",
     "text": [
      "/tmp/ipykernel_336438/4287883368.py:11: FutureWarning: Calling float on a single element Series is deprecated and will raise a TypeError in the future. Use float(ser.iloc[0]) instead\n",
      "  hyper_runtime = float(speedup[speedup[\"Query Type\"] == \"Hyper DB\"][\"Overall Mean Runtime (s)\"])\n"
     ]
    },
    {
     "data": {
      "text/html": [
       "<div>\n",
       "<style scoped>\n",
       "    .dataframe tbody tr th:only-of-type {\n",
       "        vertical-align: middle;\n",
       "    }\n",
       "\n",
       "    .dataframe tbody tr th {\n",
       "        vertical-align: top;\n",
       "    }\n",
       "\n",
       "    .dataframe thead th {\n",
       "        text-align: right;\n",
       "    }\n",
       "</style>\n",
       "<table border=\"1\" class=\"dataframe\">\n",
       "  <thead>\n",
       "    <tr style=\"text-align: right;\">\n",
       "      <th></th>\n",
       "      <th>Query Type</th>\n",
       "      <th>Overall Mean Runtime (s)</th>\n",
       "    </tr>\n",
       "  </thead>\n",
       "  <tbody>\n",
       "    <tr>\n",
       "      <th>0</th>\n",
       "      <td>Pandas</td>\n",
       "      <td>0.698230</td>\n",
       "    </tr>\n",
       "    <tr>\n",
       "      <th>1</th>\n",
       "      <td>Naive SDQLpy</td>\n",
       "      <td>0.991139</td>\n",
       "    </tr>\n",
       "    <tr>\n",
       "      <th>2</th>\n",
       "      <td>O1 SDQLpy</td>\n",
       "      <td>1.780584</td>\n",
       "    </tr>\n",
       "    <tr>\n",
       "      <th>3</th>\n",
       "      <td>O1-O2 SDQLpy</td>\n",
       "      <td>1.812845</td>\n",
       "    </tr>\n",
       "    <tr>\n",
       "      <th>4</th>\n",
       "      <td>O1-O3 SDQLpy</td>\n",
       "      <td>1.933824</td>\n",
       "    </tr>\n",
       "    <tr>\n",
       "      <th>5</th>\n",
       "      <td>O1-O4 SDQLpy</td>\n",
       "      <td>2.154102</td>\n",
       "    </tr>\n",
       "    <tr>\n",
       "      <th>6</th>\n",
       "      <td>Hyper DB</td>\n",
       "      <td>1.000000</td>\n",
       "    </tr>\n",
       "  </tbody>\n",
       "</table>\n",
       "</div>"
      ],
      "text/plain": [
       "     Query Type  Overall Mean Runtime (s)\n",
       "0        Pandas                  0.698230\n",
       "1  Naive SDQLpy                  0.991139\n",
       "2     O1 SDQLpy                  1.780584\n",
       "3  O1-O2 SDQLpy                  1.812845\n",
       "4  O1-O3 SDQLpy                  1.933824\n",
       "5  O1-O4 SDQLpy                  2.154102\n",
       "6      Hyper DB                  1.000000"
      ]
     },
     "execution_count": 43,
     "metadata": {},
     "output_type": "execute_result"
    }
   ],
   "source": [
    "speedup = overall.reset_index()\n",
    "speedup['Query Type'] = speedup['Query Type'].replace(\n",
    "    {\n",
    "        'Pandas Converted (Hyper DB)': 'Pandas',\n",
    "        'O1,O2 SDQLpy': 'O1-O2 SDQLpy',\n",
    "        'O1,O2,O3 SDQLpy': 'O1-O3 SDQLpy',\n",
    "        'O1,O2,O3,O4 SDQLpy': 'O1-O4 SDQLpy',\n",
    "     }\n",
    ")\n",
    "# Against HyperDB\n",
    "hyper_runtime = float(speedup[speedup[\"Query Type\"] == \"Hyper DB\"][\"Overall Mean Runtime (s)\"])\n",
    "\n",
    "order = ['Pandas', 'Naive SDQLpy', 'O1 SDQLpy', 'O1-O2 SDQLpy', 'O1-O3 SDQLpy', 'O1-O4 SDQLpy', 'Hyper DB']\n",
    "\n",
    "speedup = speedup.set_index('Query Type').loc[order]\n",
    "speedup = speedup.reset_index()\n",
    "\n",
    "speedup[\"Overall Mean Runtime (s)\"] = speedup[\"Overall Mean Runtime (s)\"].apply(lambda x: hyper_runtime/x)\n",
    "\n",
    "speedup"
   ]
  },
  {
   "cell_type": "code",
   "execution_count": 51,
   "metadata": {},
   "outputs": [
    {
     "data": {
      "text/plain": [
       "<Figure size 640x480 with 0 Axes>"
      ]
     },
     "metadata": {},
     "output_type": "display_data"
    },
    {
     "data": {
      "image/png": "[encoded data removed]",
      "text/plain": [
       "<Figure size 640x480 with 1 Axes>"
      ]
     },
     "metadata": {},
     "output_type": "display_data"
    }
   ],
   "source": [
    "import matplotlib.pyplot as plt\n",
    "fig = plt.figure()\n",
    "\n",
    "colours = ['#ff4000', '#5eb91e', '#3465a4', '#5d91f4', '#378ceb', '#00deff', '#d62e4e']\n",
    "ax = speedup.plot(kind='bar', x='Query Type', y='Overall Mean Runtime (s)', rot=45, color=colours)\n",
    "ax.get_legend().remove()\n",
    "ax.set_ylabel(\"Speedup\")\n",
    "plt.tight_layout()\n",
    "plt.savefig(\"speedup.png\")"
   ]
  }
 ],
 "metadata": {
  "kernelspec": {
   "display_name": "sqlconv_env",
   "language": "python",
   "name": "python3"
  },
  "language_info": {
   "codemirror_mode": {
    "name": "ipython",
    "version": 3
   },
   "file_extension": ".py",
   "mimetype": "text/x-python",
   "name": "python",
   "nbconvert_exporter": "python",
   "pygments_lexer": "ipython3",
   "version": "3.10.13"
  }
 },
 "nbformat": 4,
 "nbformat_minor": 2
}
