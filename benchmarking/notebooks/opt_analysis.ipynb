{
 "cells": [
  {
   "cell_type": "code",
   "execution_count": 1,
   "metadata": {},
   "outputs": [],
   "source": [
    "import pandas as pd\n",
    "import numpy as np\n",
    "import matplotlib.pyplot as plt\n",
    "import matplotlib\n",
    "plt.style.use('ggplot')\n",
    "import seaborn as sns\n",
    "from enum import Enum\n",
    "import matplotlib.colors as mcolors\n",
    "import colorsys"
   ]
  },
  {
   "cell_type": "code",
   "execution_count": 8,
   "metadata": {},
   "outputs": [],
   "source": [
    "results = pd.read_csv(\"../test_results/hyper_sdqlpy_pandas_tpch_opt_all_4threads_comparison_test_results.csv\") \n",
    "\n",
    "#results = pd.concat([results, results2], ignore_index=True)\n",
    "#results = results.rename(columns={\"Average\": \"Mean\"})"
   ]
  },
  {
   "cell_type": "code",
   "execution_count": 9,
   "metadata": {},
   "outputs": [
    {
     "name": "stdout",
     "output_type": "stream",
     "text": [
      "Overall Results: 154\n",
      "Correct Results: 154\n"
     ]
    }
   ],
   "source": [
    "print(f\"Overall Results: {len(results)}\")\n",
    "\n",
    "# Filter for Correct == True and Executed == Yes\n",
    "results = results[(results.Correct == True) & (results.Executed == \"Yes\")]\n",
    "print(f\"Correct Results: {len(results)}\")"
   ]
  },
  {
   "cell_type": "code",
   "execution_count": 10,
   "metadata": {},
   "outputs": [],
   "source": [
    "def pre_process(df):\n",
    "    # Sort Query Name column to in-order\n",
    "    def extract_number(name):\n",
    "        return int(name.split(\" \")[1])\n",
    "\n",
    "    df['Query Number'] = df.apply(lambda row : extract_number(row['Query Number']), axis = 1)\n",
    "    df = df.sort_values(['Query Number'])\n",
    "\n",
    "    # Fix the runs column\n",
    "    def fix_runs(runs):\n",
    "        new_runs = list(str(str(runs)[1:-1]).split(\",\"))\n",
    "        for i in range(0, len(new_runs)):\n",
    "            new_runs[i] = float(new_runs[i].strip())\n",
    "        return new_runs\n",
    "\n",
    "    df['Runs'] = df.apply(lambda row : fix_runs(row['Runs']), axis = 1)\n",
    "\n",
    "    def g_mean(x):\n",
    "        a = np.log(x)\n",
    "        return np.exp(a.mean())\n",
    "\n",
    "    def ignore_first_gmean(runs):\n",
    "        return g_mean(runs[1:])\n",
    "\n",
    "    df[\"Mean\"] = df.apply(lambda row : ignore_first_gmean(row['Runs']), axis = 1)\n",
    "    df[\"Query Type\"] = df[\"Query Name\"]\n",
    "    df = df[[\"Query Type\", \"Query Number\", \"Mean\", \"Runs\"]]\n",
    "    \n",
    "    return df\n",
    "\n",
    "results = pre_process(results)"
   ]
  },
  {
   "cell_type": "code",
   "execution_count": 11,
   "metadata": {},
   "outputs": [],
   "source": [
    "all_named_colors = {}\n",
    "all_named_colors.update(mcolors.TABLEAU_COLORS)\n",
    "\n",
    "def handle_colour(color):\n",
    "    if \"tab:\" in color:\n",
    "        return all_named_colors[color]\n",
    "    else:\n",
    "        raise Exception(f\"Unrecognised color format: {color}\")\n",
    "\n",
    "def scale_lightness(hex, scale_l):\n",
    "    # convert rgb to hls\n",
    "    rgb = mcolors.ColorConverter.to_rgb(hex)\n",
    "    h, l, s = colorsys.rgb_to_hls(*rgb)\n",
    "    # manipulate h, l, s values and return as rgb\n",
    "    return colorsys.hls_to_rgb(h, min(1, l * scale_l), s = s)"
   ]
  },
  {
   "cell_type": "code",
   "execution_count": 12,
   "metadata": {},
   "outputs": [],
   "source": [
    "def make_compare_graph(title, df, order, color, hatching, filename, x_value='Query Number', y_value='Mean'):\n",
    "    assert len(order) == len(color) == len(hatching)\n",
    "    print(f\"The DataFrame has {len(df)} rows\")\n",
    "    # plot with seaborn barplot\n",
    "    sns.set(rc={'figure.figsize':(10,6)})\n",
    "    background_color = '#f1f4f5'\n",
    "    sns.set(rc={'axes.facecolor':background_color})\n",
    "    plt.rcParams['patch.linewidth'] = 0.3\n",
    "    plt.rcParams['patch.edgecolor'] = 'k'\n",
    "\n",
    "    ax = sns.barplot(data=df, x=x_value, y=y_value, hue='Query Type',\n",
    "                     palette=color, hue_order=order)\n",
    "    \n",
    "    # Loop over the bars\n",
    "    for bars, hatch in zip(ax.containers, hatching):\n",
    "        if hatch != None:\n",
    "            for bar in bars:\n",
    "                bar.set_hatch(hatch)\n",
    "    \n",
    "    ax.set_yscale(\"log\")\n",
    "    ax.set(xlabel='Queries', ylabel='Mean Runtime (s)')\n",
    "\n",
    "    # the non-logarithmic labels \n",
    "    ticks = [0.1, 1, 10]\n",
    "    ax.set_yticks(ticks)\n",
    "    ax.set_yticklabels(ticks)\n",
    "\n",
    "    #set parameters for tick labels\n",
    "    plt.tick_params(axis='x', which='major', labelsize=10)\n",
    "    plt.tick_params(axis='y', which='major', direction=\"out\", colors=\"k\", left=True)\n",
    "    \n",
    "    leg_artists = []\n",
    "    for i in range(len(order)):\n",
    "        p = matplotlib.patches.Patch(facecolor=color[i], hatch=hatching[i])\n",
    "        # can also explicitly declare 2nd color like this\n",
    "        #p = matplotlib.patches.Patch(facecolor='#DCDCDC', hatch=hatch_dict[i], edgecolor='0.5')\n",
    "\n",
    "        leg_artists.append(p)\n",
    "\n",
    "    # Add them to legend\n",
    "    ax.legend(leg_artists, order, loc='upper center', bbox_to_anchor=(0.5, -0.1),\n",
    "              ncol=5, fancybox=True, shadow=True)\n",
    "    \n",
    "    ax.set_title(title)\n",
    "\n",
    "    if filename != None:\n",
    "        plt.savefig(filename, bbox_inches=\"tight\")\n",
    "    plt.show()"
   ]
  },
  {
   "cell_type": "markdown",
   "metadata": {},
   "source": [
    "## Statistics"
   ]
  },
  {
   "cell_type": "code",
   "execution_count": 13,
   "metadata": {},
   "outputs": [
    {
     "data": {
      "text/html": [
       "<div>\n",
       "<style scoped>\n",
       "    .dataframe tbody tr th:only-of-type {\n",
       "        vertical-align: middle;\n",
       "    }\n",
       "\n",
       "    .dataframe tbody tr th {\n",
       "        vertical-align: top;\n",
       "    }\n",
       "\n",
       "    .dataframe thead th {\n",
       "        text-align: right;\n",
       "    }\n",
       "</style>\n",
       "<table border=\"1\" class=\"dataframe\">\n",
       "  <thead>\n",
       "    <tr style=\"text-align: right;\">\n",
       "      <th></th>\n",
       "      <th>Overall Mean Runtime (s)</th>\n",
       "    </tr>\n",
       "    <tr>\n",
       "      <th>Query Type</th>\n",
       "      <th></th>\n",
       "    </tr>\n",
       "  </thead>\n",
       "  <tbody>\n",
       "    <tr>\n",
       "      <th>O1,O2,O3,O4 SDQLpy</th>\n",
       "      <td>0.192914</td>\n",
       "    </tr>\n",
       "    <tr>\n",
       "      <th>O1,O2,O3 SDQLpy</th>\n",
       "      <td>0.222325</td>\n",
       "    </tr>\n",
       "    <tr>\n",
       "      <th>Hyper DB</th>\n",
       "      <td>0.253070</td>\n",
       "    </tr>\n",
       "    <tr>\n",
       "      <th>O1,O2 SDQLpy</th>\n",
       "      <td>0.255094</td>\n",
       "    </tr>\n",
       "    <tr>\n",
       "      <th>O1 SDQLpy</th>\n",
       "      <td>0.265031</td>\n",
       "    </tr>\n",
       "    <tr>\n",
       "      <th>Naive SDQLpy</th>\n",
       "      <td>0.585016</td>\n",
       "    </tr>\n",
       "    <tr>\n",
       "      <th>Pandas Converted (Hyper DB)</th>\n",
       "      <td>0.592412</td>\n",
       "    </tr>\n",
       "  </tbody>\n",
       "</table>\n",
       "</div>"
      ],
      "text/plain": [
       "                             Overall Mean Runtime (s)\n",
       "Query Type                                           \n",
       "O1,O2,O3,O4 SDQLpy                           0.192914\n",
       "O1,O2,O3 SDQLpy                              0.222325\n",
       "Hyper DB                                     0.253070\n",
       "O1,O2 SDQLpy                                 0.255094\n",
       "O1 SDQLpy                                    0.265031\n",
       "Naive SDQLpy                                 0.585016\n",
       "Pandas Converted (Hyper DB)                  0.592412"
      ]
     },
     "execution_count": 13,
     "metadata": {},
     "output_type": "execute_result"
    }
   ],
   "source": [
    "overall = results.groupby(\"Query Type\").agg(\n",
    "    overall_mean_runtime=(\"Mean\", \"mean\")\n",
    ")\n",
    "overall = overall.sort_values(by=\"overall_mean_runtime\")\n",
    "overall = overall.rename(columns={\"overall_mean_runtime\": \"Overall Mean Runtime (s)\"})\n",
    "\n",
    "overall.head(10)"
   ]
  }
 ],
 "metadata": {
  "kernelspec": {
   "display_name": "sqlconv_env",
   "language": "python",
   "name": "python3"
  },
  "language_info": {
   "codemirror_mode": {
    "name": "ipython",
    "version": 3
   },
   "file_extension": ".py",
   "mimetype": "text/x-python",
   "name": "python",
   "nbconvert_exporter": "python",
   "pygments_lexer": "ipython3",
   "version": "3.10.13"
  }
 },
 "nbformat": 4,
 "nbformat_minor": 2
}
