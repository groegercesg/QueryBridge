{
 "cells": [
  {
   "cell_type": "code",
   "execution_count": 66,
   "metadata": {},
   "outputs": [],
   "source": [
    "import pandas as pd\n",
    "import numpy as np\n",
    "import matplotlib.pyplot as plt\n",
    "import matplotlib\n",
    "plt.style.use('ggplot')\n",
    "import seaborn as sns\n",
    "from enum import Enum\n",
    "import matplotlib.colors as mcolors\n",
    "import colorsys"
   ]
  },
  {
   "cell_type": "code",
   "execution_count": 67,
   "metadata": {},
   "outputs": [],
   "source": [
    "results = pd.read_csv(\"../test_results/hyper_sdqlpy_pandas_tpch_opt_o4_comparison_test_results.csv\") \n",
    "\n",
    "#results = pd.concat([results, results2], ignore_index=True)\n",
    "#results = results.rename(columns={\"Average\": \"Mean\"})"
   ]
  },
  {
   "cell_type": "code",
   "execution_count": 68,
   "metadata": {},
   "outputs": [
    {
     "name": "stdout",
     "output_type": "stream",
     "text": [
      "Overall Results: 154\n",
      "Correct Results: 154\n"
     ]
    }
   ],
   "source": [
    "print(f\"Overall Results: {len(results)}\")\n",
    "\n",
    "# Filter for Correct == True and Executed == Yes\n",
    "results = results[(results.Correct == True) & (results.Executed == \"Yes\")]\n",
    "print(f\"Correct Results: {len(results)}\")"
   ]
  },
  {
   "cell_type": "code",
   "execution_count": 69,
   "metadata": {},
   "outputs": [],
   "source": [
    "def pre_process(df):\n",
    "    # Sort Query Name column to in-order\n",
    "    def extract_number(name):\n",
    "        return int(name.split(\" \")[1])\n",
    "\n",
    "    df['Query Number'] = df.apply(lambda row : extract_number(row['Query Number']), axis = 1)\n",
    "    df = df.sort_values(['Query Number'])\n",
    "\n",
    "    # Fix the runs column\n",
    "    def fix_runs(runs):\n",
    "        new_runs = list(str(str(runs)[1:-1]).split(\",\"))\n",
    "        for i in range(0, len(new_runs)):\n",
    "            new_runs[i] = float(new_runs[i].strip())\n",
    "        return new_runs\n",
    "\n",
    "    df['Runs'] = df.apply(lambda row : fix_runs(row['Runs']), axis = 1)\n",
    "\n",
    "    def g_mean(x):\n",
    "        a = np.log(x)\n",
    "        return np.exp(a.mean())\n",
    "\n",
    "    def ignore_first_gmean(runs):\n",
    "        return g_mean(runs[1:])\n",
    "\n",
    "    df[\"Mean\"] = df.apply(lambda row : ignore_first_gmean(row['Runs']), axis = 1)\n",
    "    df[\"Query Type\"] = df[\"Query Name\"]\n",
    "    df = df[[\"Query Type\", \"Query Number\", \"Mean\", \"Runs\"]]\n",
    "    \n",
    "    return df\n",
    "\n",
    "results = pre_process(results)"
   ]
  },
  {
   "cell_type": "code",
   "execution_count": 70,
   "metadata": {},
   "outputs": [],
   "source": [
    "all_named_colors = {}\n",
    "all_named_colors.update(mcolors.TABLEAU_COLORS)\n",
    "\n",
    "def handle_colour(color):\n",
    "    if \"tab:\" in color:\n",
    "        return all_named_colors[color]\n",
    "    else:\n",
    "        raise Exception(f\"Unrecognised color format: {color}\")\n",
    "\n",
    "def scale_lightness(hex, scale_l):\n",
    "    # convert rgb to hls\n",
    "    rgb = mcolors.ColorConverter.to_rgb(hex)\n",
    "    h, l, s = colorsys.rgb_to_hls(*rgb)\n",
    "    # manipulate h, l, s values and return as rgb\n",
    "    return colorsys.hls_to_rgb(h, min(1, l * scale_l), s = s)"
   ]
  },
  {
   "cell_type": "code",
   "execution_count": 71,
   "metadata": {},
   "outputs": [],
   "source": [
    "def make_compare_graph(title, df, order, color, hatching, filename, x_value='Query Number', y_value='Mean'):\n",
    "    assert len(order) == len(color) == len(hatching)\n",
    "    print(f\"The DataFrame has {len(df)} rows\")\n",
    "    # plot with seaborn barplot\n",
    "    sns.set(rc={'figure.figsize':(10,6)})\n",
    "    background_color = '#f1f4f5'\n",
    "    sns.set(rc={'axes.facecolor':background_color})\n",
    "    plt.rcParams['patch.linewidth'] = 0.3\n",
    "    plt.rcParams['patch.edgecolor'] = 'k'\n",
    "\n",
    "    ax = sns.barplot(data=df, x=x_value, y=y_value, hue='Query Type',\n",
    "                     palette=color, hue_order=order)\n",
    "    \n",
    "    # Loop over the bars\n",
    "    for bars, hatch in zip(ax.containers, hatching):\n",
    "        if hatch != None:\n",
    "            for bar in bars:\n",
    "                bar.set_hatch(hatch)\n",
    "    \n",
    "    ax.set_yscale(\"log\")\n",
    "    ax.set(xlabel='Queries', ylabel='Mean Runtime (s)')\n",
    "\n",
    "    # the non-logarithmic labels \n",
    "    ticks = [0.1, 1, 10]\n",
    "    ax.set_yticks(ticks)\n",
    "    ax.set_yticklabels(ticks)\n",
    "\n",
    "    #set parameters for tick labels\n",
    "    plt.tick_params(axis='x', which='major', labelsize=10)\n",
    "    plt.tick_params(axis='y', which='major', direction=\"out\", colors=\"k\", left=True)\n",
    "    \n",
    "    leg_artists = []\n",
    "    for i in range(len(order)):\n",
    "        p = matplotlib.patches.Patch(facecolor=color[i], hatch=hatching[i])\n",
    "        # can also explicitly declare 2nd color like this\n",
    "        #p = matplotlib.patches.Patch(facecolor='#DCDCDC', hatch=hatch_dict[i], edgecolor='0.5')\n",
    "\n",
    "        leg_artists.append(p)\n",
    "\n",
    "    # Add them to legend\n",
    "    ax.legend(leg_artists, order, loc='upper center', bbox_to_anchor=(0.5, -0.1),\n",
    "              ncol=5, fancybox=True, shadow=True)\n",
    "    \n",
    "    ax.set_title(title)\n",
    "\n",
    "    if filename != None:\n",
    "        plt.savefig(filename, bbox_inches=\"tight\")\n",
    "    plt.show()"
   ]
  },
  {
   "cell_type": "markdown",
   "metadata": {},
   "source": [
    "## O4 Optimisation Comparison"
   ]
  },
  {
   "cell_type": "code",
   "execution_count": 72,
   "metadata": {},
   "outputs": [
    {
     "data": {
      "text/html": [
       "<div>\n",
       "<style scoped>\n",
       "    .dataframe tbody tr th:only-of-type {\n",
       "        vertical-align: middle;\n",
       "    }\n",
       "\n",
       "    .dataframe tbody tr th {\n",
       "        vertical-align: top;\n",
       "    }\n",
       "\n",
       "    .dataframe thead th {\n",
       "        text-align: right;\n",
       "    }\n",
       "</style>\n",
       "<table border=\"1\" class=\"dataframe\">\n",
       "  <thead>\n",
       "    <tr style=\"text-align: right;\">\n",
       "      <th></th>\n",
       "      <th>Query Type</th>\n",
       "      <th>Query Number</th>\n",
       "      <th>Mean</th>\n",
       "      <th>Runs</th>\n",
       "    </tr>\n",
       "  </thead>\n",
       "  <tbody>\n",
       "    <tr>\n",
       "      <th>0</th>\n",
       "      <td>Hyper DB</td>\n",
       "      <td>1</td>\n",
       "      <td>0.301130</td>\n",
       "      <td>[0.28839564323425293, 0.2917461395263672, 0.31...</td>\n",
       "    </tr>\n",
       "    <tr>\n",
       "      <th>1</th>\n",
       "      <td>SDQLpy Converted (Hyper DB)</td>\n",
       "      <td>1</td>\n",
       "      <td>1.463069</td>\n",
       "      <td>[1.4763152599334717, 1.5563132762908936, 1.447...</td>\n",
       "    </tr>\n",
       "    <tr>\n",
       "      <th>2</th>\n",
       "      <td>SDQLpy Converted + O4 (Hyper DB)</td>\n",
       "      <td>1</td>\n",
       "      <td>1.355785</td>\n",
       "      <td>[1.3387641906738281, 1.3538529872894287, 1.341...</td>\n",
       "    </tr>\n",
       "    <tr>\n",
       "      <th>3</th>\n",
       "      <td>SDQLpy Converted + O1,O2 (Hyper DB)</td>\n",
       "      <td>1</td>\n",
       "      <td>0.092830</td>\n",
       "      <td>[0.09838581085205078, 0.09351801872253418, 0.0...</td>\n",
       "    </tr>\n",
       "    <tr>\n",
       "      <th>4</th>\n",
       "      <td>SDQLpy Converted + O1,O2,O4 (Hyper DB)</td>\n",
       "      <td>1</td>\n",
       "      <td>0.086398</td>\n",
       "      <td>[0.09086894989013672, 0.08392190933227539, 0.0...</td>\n",
       "    </tr>\n",
       "    <tr>\n",
       "      <th>5</th>\n",
       "      <td>Pandas Converted (Hyper DB)</td>\n",
       "      <td>1</td>\n",
       "      <td>1.723447</td>\n",
       "      <td>[1.7290997505187988, 1.6777832508087158, 1.770...</td>\n",
       "    </tr>\n",
       "    <tr>\n",
       "      <th>6</th>\n",
       "      <td>Pandas Converted + O4 (Hyper DB)</td>\n",
       "      <td>1</td>\n",
       "      <td>1.677821</td>\n",
       "      <td>[1.657153844833374, 1.682152271270752, 1.67364...</td>\n",
       "    </tr>\n",
       "  </tbody>\n",
       "</table>\n",
       "</div>"
      ],
      "text/plain": [
       "                               Query Type  Query Number      Mean  \\\n",
       "0                                Hyper DB             1  0.301130   \n",
       "1             SDQLpy Converted (Hyper DB)             1  1.463069   \n",
       "2        SDQLpy Converted + O4 (Hyper DB)             1  1.355785   \n",
       "3     SDQLpy Converted + O1,O2 (Hyper DB)             1  0.092830   \n",
       "4  SDQLpy Converted + O1,O2,O4 (Hyper DB)             1  0.086398   \n",
       "5             Pandas Converted (Hyper DB)             1  1.723447   \n",
       "6        Pandas Converted + O4 (Hyper DB)             1  1.677821   \n",
       "\n",
       "                                                Runs  \n",
       "0  [0.28839564323425293, 0.2917461395263672, 0.31...  \n",
       "1  [1.4763152599334717, 1.5563132762908936, 1.447...  \n",
       "2  [1.3387641906738281, 1.3538529872894287, 1.341...  \n",
       "3  [0.09838581085205078, 0.09351801872253418, 0.0...  \n",
       "4  [0.09086894989013672, 0.08392190933227539, 0.0...  \n",
       "5  [1.7290997505187988, 1.6777832508087158, 1.770...  \n",
       "6  [1.657153844833374, 1.682152271270752, 1.67364...  "
      ]
     },
     "execution_count": 72,
     "metadata": {},
     "output_type": "execute_result"
    }
   ],
   "source": [
    "results.head(7)"
   ]
  },
  {
   "cell_type": "code",
   "execution_count": 73,
   "metadata": {},
   "outputs": [],
   "source": [
    "results['Query Type'] = results['Query Type'].replace(\n",
    "    {\n",
    "        'SDQLpy Converted (Hyper DB)': 'Naive SDQLpy',\n",
    "        'SDQLpy Converted + O4 (Hyper DB)': 'O4 SDQLpy',\n",
    "        'SDQLpy Converted + O1,O2 (Hyper DB)': 'O1+O2 SDQLpy',\n",
    "        'SDQLpy Converted + O1,O2,O4 (Hyper DB)': 'O1+O2+O4 SDQLpy',\n",
    "        'Pandas Converted (Hyper DB)': 'Naive Pandas',\n",
    "        'Pandas Converted + O4 (Hyper DB)': 'O4 Pandas'\n",
    "     }\n",
    ")"
   ]
  },
  {
   "cell_type": "code",
   "execution_count": 74,
   "metadata": {},
   "outputs": [
    {
     "name": "stdout",
     "output_type": "stream",
     "text": [
      "The DataFrame has 110 rows\n"
     ]
    },
    {
     "data": {
      "image/png": "[encoded data removed]",
      "text/plain": [
       "<Figure size 1000x600 with 1 Axes>"
      ]
     },
     "metadata": {},
     "output_type": "display_data"
    }
   ],
   "source": [
    "# All 4 Datapoints - TPC-H\n",
    "class HesamColours(Enum):\n",
    "    HYPER = \"#D62E4E\"\n",
    "    NAIVE_SDQLPY = \"#5EB91E\"\n",
    "    O1_O2_O4_SDQLPY = \"#00DEFF\"\n",
    "    NAIVE_PANDAS = \"#FF4000\"\n",
    "    O4_PANDAS = \"#ff8157\"\n",
    "\n",
    "all_4_order = [\"Naive Pandas\", 'O4 Pandas', \"Naive SDQLpy\", 'O1+O2+O4 SDQLpy', \"Hyper DB\"]\n",
    "all_4_data = results[results[\"Query Type\"].isin(all_4_order)]\n",
    "\n",
    "all_4_color = [HesamColours.NAIVE_PANDAS.value, HesamColours.O4_PANDAS.value,\n",
    "               HesamColours.NAIVE_SDQLPY.value, HesamColours.O1_O2_O4_SDQLPY.value, HesamColours.HYPER.value]\n",
    "all_4_hatch = [None, None, None, None, None]\n",
    "all_4_filename = \"../analysis_results/Hyper_SDQLpy_Optimisation_O4_01022024.jpg\"\n",
    "all_4_title = \"Optimisation O4 (Variable Elimination)\"\n",
    "\n",
    "make_compare_graph(all_4_title,\n",
    "                   all_4_data, \n",
    "                   all_4_order,\n",
    "                   all_4_color,\n",
    "                   all_4_hatch,\n",
    "                   all_4_filename)"
   ]
  },
  {
   "cell_type": "markdown",
   "metadata": {},
   "source": [
    "## Statistics"
   ]
  },
  {
   "cell_type": "code",
   "execution_count": 75,
   "metadata": {},
   "outputs": [
    {
     "data": {
      "text/html": [
       "<div>\n",
       "<style scoped>\n",
       "    .dataframe tbody tr th:only-of-type {\n",
       "        vertical-align: middle;\n",
       "    }\n",
       "\n",
       "    .dataframe tbody tr th {\n",
       "        vertical-align: top;\n",
       "    }\n",
       "\n",
       "    .dataframe thead th {\n",
       "        text-align: right;\n",
       "    }\n",
       "</style>\n",
       "<table border=\"1\" class=\"dataframe\">\n",
       "  <thead>\n",
       "    <tr style=\"text-align: right;\">\n",
       "      <th></th>\n",
       "      <th>Overall Mean Runtime (s)</th>\n",
       "    </tr>\n",
       "    <tr>\n",
       "      <th>Query Type</th>\n",
       "      <th></th>\n",
       "    </tr>\n",
       "  </thead>\n",
       "  <tbody>\n",
       "    <tr>\n",
       "      <th>O1+O2+O4 SDQLpy</th>\n",
       "      <td>0.260713</td>\n",
       "    </tr>\n",
       "    <tr>\n",
       "      <th>Hyper DB</th>\n",
       "      <td>0.279434</td>\n",
       "    </tr>\n",
       "    <tr>\n",
       "      <th>O1+O2 SDQLpy</th>\n",
       "      <td>0.303240</td>\n",
       "    </tr>\n",
       "    <tr>\n",
       "      <th>O4 SDQLpy</th>\n",
       "      <td>0.439060</td>\n",
       "    </tr>\n",
       "    <tr>\n",
       "      <th>Naive SDQLpy</th>\n",
       "      <td>0.567511</td>\n",
       "    </tr>\n",
       "    <tr>\n",
       "      <th>O4 Pandas</th>\n",
       "      <td>0.633025</td>\n",
       "    </tr>\n",
       "    <tr>\n",
       "      <th>Naive Pandas</th>\n",
       "      <td>0.645916</td>\n",
       "    </tr>\n",
       "  </tbody>\n",
       "</table>\n",
       "</div>"
      ],
      "text/plain": [
       "                 Overall Mean Runtime (s)\n",
       "Query Type                               \n",
       "O1+O2+O4 SDQLpy                  0.260713\n",
       "Hyper DB                         0.279434\n",
       "O1+O2 SDQLpy                     0.303240\n",
       "O4 SDQLpy                        0.439060\n",
       "Naive SDQLpy                     0.567511\n",
       "O4 Pandas                        0.633025\n",
       "Naive Pandas                     0.645916"
      ]
     },
     "execution_count": 75,
     "metadata": {},
     "output_type": "execute_result"
    }
   ],
   "source": [
    "overall = results.groupby(\"Query Type\").agg(\n",
    "    overall_mean_runtime=(\"Mean\", \"mean\")\n",
    ")\n",
    "overall = overall.sort_values(by=\"overall_mean_runtime\")\n",
    "overall = overall.rename(columns={\"overall_mean_runtime\": \"Overall Mean Runtime (s)\"})\n",
    "\n",
    "overall.head(10)"
   ]
  },
  {
   "cell_type": "code",
   "execution_count": 76,
   "metadata": {},
   "outputs": [
    {
     "name": "stdout",
     "output_type": "stream",
     "text": [
      "Going from Naive Pandas to O4 Pandas, there was a 2.0% reduction in runtime\n",
      "Going from Naive SDQLpy to O4 SDQLpy, there was a 22.63% reduction in runtime\n",
      "Going from O1+O2 SDQLpy to O1+O2+O4 SDQLpy, there was a 14.02% reduction in runtime\n",
      "Going from Hyper DB to O1+O2+O4 SDQLpy, there was a 6.7% reduction in runtime\n"
     ]
    }
   ],
   "source": [
    "# Should be: (OLD, NEW)\n",
    "relevant_pairs = [\n",
    "    (\"Naive Pandas\", \"O4 Pandas\"),\n",
    "    (\"Naive SDQLpy\", \"O4 SDQLpy\"),\n",
    "    (\"O1+O2 SDQLpy\", \"O1+O2+O4 SDQLpy\"),\n",
    "    (\"Hyper DB\", \"O1+O2+O4 SDQLpy\")\n",
    "]\n",
    "\n",
    "def get_from_df_by_index(index_value):\n",
    "    return float(overall.loc[[index_value]][\"Overall Mean Runtime (s)\"].iloc[0])\n",
    "\n",
    "def percentage_reduction_in_time(old_time, new_time):\n",
    "    return round(((old_time - new_time) / old_time) * 100, 2)\n",
    "\n",
    "for old, new in relevant_pairs:\n",
    "    old_value = get_from_df_by_index(old)\n",
    "    new_value = get_from_df_by_index(new)\n",
    "    print(f\"Going from {old} to {new}, there was a {percentage_reduction_in_time(old_value, new_value)}% reduction in runtime\")"
   ]
  }
 ],
 "metadata": {
  "kernelspec": {
   "display_name": "sqlconv_env",
   "language": "python",
   "name": "python3"
  },
  "language_info": {
   "codemirror_mode": {
    "name": "ipython",
    "version": 3
   },
   "file_extension": ".py",
   "mimetype": "text/x-python",
   "name": "python",
   "nbconvert_exporter": "python",
   "pygments_lexer": "ipython3",
   "version": "3.10.13"
  }
 },
 "nbformat": 4,
 "nbformat_minor": 2
}
