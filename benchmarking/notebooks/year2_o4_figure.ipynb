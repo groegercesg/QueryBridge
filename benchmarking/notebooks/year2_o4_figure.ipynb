{
 "cells": [
  {
   "cell_type": "code",
   "execution_count": 58,
   "metadata": {},
   "outputs": [],
   "source": [
    "import pandas as pd"
   ]
  },
  {
   "cell_type": "code",
   "execution_count": 59,
   "metadata": {},
   "outputs": [
    {
     "data": {
      "text/html": [
       "<div>\n",
       "<style scoped>\n",
       "    .dataframe tbody tr th:only-of-type {\n",
       "        vertical-align: middle;\n",
       "    }\n",
       "\n",
       "    .dataframe tbody tr th {\n",
       "        vertical-align: top;\n",
       "    }\n",
       "\n",
       "    .dataframe thead th {\n",
       "        text-align: right;\n",
       "    }\n",
       "</style>\n",
       "<table border=\"1\" class=\"dataframe\">\n",
       "  <thead>\n",
       "    <tr style=\"text-align: right;\">\n",
       "      <th></th>\n",
       "      <th>Part</th>\n",
       "      <th>Type</th>\n",
       "      <th>Cardinality</th>\n",
       "      <th>Columns</th>\n",
       "    </tr>\n",
       "  </thead>\n",
       "  <tbody>\n",
       "    <tr>\n",
       "      <th>0</th>\n",
       "      <td>A</td>\n",
       "      <td>Before</td>\n",
       "      <td>200000</td>\n",
       "      <td>5</td>\n",
       "    </tr>\n",
       "    <tr>\n",
       "      <th>1</th>\n",
       "      <td>A</td>\n",
       "      <td>After</td>\n",
       "      <td>200000</td>\n",
       "      <td>5</td>\n",
       "    </tr>\n",
       "    <tr>\n",
       "      <th>2</th>\n",
       "      <td>B</td>\n",
       "      <td>Before</td>\n",
       "      <td>529392</td>\n",
       "      <td>8</td>\n",
       "    </tr>\n",
       "    <tr>\n",
       "      <th>3</th>\n",
       "      <td>B</td>\n",
       "      <td>After</td>\n",
       "      <td>529392</td>\n",
       "      <td>6</td>\n",
       "    </tr>\n",
       "    <tr>\n",
       "      <th>4</th>\n",
       "      <td>C</td>\n",
       "      <td>Before</td>\n",
       "      <td>269118</td>\n",
       "      <td>12</td>\n",
       "    </tr>\n",
       "    <tr>\n",
       "      <th>5</th>\n",
       "      <td>C</td>\n",
       "      <td>After</td>\n",
       "      <td>269118</td>\n",
       "      <td>4</td>\n",
       "    </tr>\n",
       "  </tbody>\n",
       "</table>\n",
       "</div>"
      ],
      "text/plain": [
       "  Part    Type  Cardinality  Columns\n",
       "0    A  Before       200000        5\n",
       "1    A   After       200000        5\n",
       "2    B  Before       529392        8\n",
       "3    B   After       529392        6\n",
       "4    C  Before       269118       12\n",
       "5    C   After       269118        4"
      ]
     },
     "execution_count": 59,
     "metadata": {},
     "output_type": "execute_result"
    }
   ],
   "source": [
    "results = pd.read_csv(\"query19_o4_sizes.csv\")\n",
    "results"
   ]
  },
  {
   "cell_type": "code",
   "execution_count": 60,
   "metadata": {},
   "outputs": [
    {
     "data": {
      "text/html": [
       "<div>\n",
       "<style scoped>\n",
       "    .dataframe tbody tr th:only-of-type {\n",
       "        vertical-align: middle;\n",
       "    }\n",
       "\n",
       "    .dataframe tbody tr th {\n",
       "        vertical-align: top;\n",
       "    }\n",
       "\n",
       "    .dataframe thead th {\n",
       "        text-align: right;\n",
       "    }\n",
       "</style>\n",
       "<table border=\"1\" class=\"dataframe\">\n",
       "  <thead>\n",
       "    <tr style=\"text-align: right;\">\n",
       "      <th></th>\n",
       "      <th>Part</th>\n",
       "      <th>Type</th>\n",
       "      <th>Cardinality</th>\n",
       "      <th>Columns</th>\n",
       "      <th>Size</th>\n",
       "    </tr>\n",
       "  </thead>\n",
       "  <tbody>\n",
       "    <tr>\n",
       "      <th>0</th>\n",
       "      <td>A</td>\n",
       "      <td>Before</td>\n",
       "      <td>200000</td>\n",
       "      <td>5</td>\n",
       "      <td>46.000000</td>\n",
       "    </tr>\n",
       "    <tr>\n",
       "      <th>1</th>\n",
       "      <td>A</td>\n",
       "      <td>After</td>\n",
       "      <td>200000</td>\n",
       "      <td>5</td>\n",
       "      <td>46.000000</td>\n",
       "    </tr>\n",
       "    <tr>\n",
       "      <th>2</th>\n",
       "      <td>B</td>\n",
       "      <td>Before</td>\n",
       "      <td>529392</td>\n",
       "      <td>8</td>\n",
       "      <td>194.816256</td>\n",
       "    </tr>\n",
       "    <tr>\n",
       "      <th>3</th>\n",
       "      <td>B</td>\n",
       "      <td>After</td>\n",
       "      <td>529392</td>\n",
       "      <td>6</td>\n",
       "      <td>146.112192</td>\n",
       "    </tr>\n",
       "    <tr>\n",
       "      <th>4</th>\n",
       "      <td>C</td>\n",
       "      <td>Before</td>\n",
       "      <td>269118</td>\n",
       "      <td>12</td>\n",
       "      <td>148.553136</td>\n",
       "    </tr>\n",
       "    <tr>\n",
       "      <th>5</th>\n",
       "      <td>C</td>\n",
       "      <td>After</td>\n",
       "      <td>269118</td>\n",
       "      <td>4</td>\n",
       "      <td>49.517712</td>\n",
       "    </tr>\n",
       "  </tbody>\n",
       "</table>\n",
       "</div>"
      ],
      "text/plain": [
       "  Part    Type  Cardinality  Columns        Size\n",
       "0    A  Before       200000        5   46.000000\n",
       "1    A   After       200000        5   46.000000\n",
       "2    B  Before       529392        8  194.816256\n",
       "3    B   After       529392        6  146.112192\n",
       "4    C  Before       269118       12  148.553136\n",
       "5    C   After       269118        4   49.517712"
      ]
     },
     "execution_count": 60,
     "metadata": {},
     "output_type": "execute_result"
    }
   ],
   "source": [
    "string_characters = 10\n",
    "# Bytes - jonskeet.uk\n",
    "string_size = string_characters * 2 + 26\n",
    "\n",
    "results['Size'] = results.apply(lambda x : x[\"Cardinality\"] * x[\"Columns\"] * string_size, axis=1)\n",
    "results['Size'] = results['Size'].apply(lambda x : x / 1000000)\n",
    "results"
   ]
  },
  {
   "cell_type": "code",
   "execution_count": 66,
   "metadata": {},
   "outputs": [
    {
     "name": "stdout",
     "output_type": "stream",
     "text": [
      "Part B reduction: 25.000000000000007\n",
      "Part C reduction: 66.66666666666666\n"
     ]
    }
   ],
   "source": [
    "print(f\"Part B reduction: {((194.816256 - 146.112192) / 194.816256) * 100}\")\n",
    "print(f\"Part C reduction: {((148.553136 - 49.517712) / 148.553136) * 100}\")"
   ]
  },
  {
   "cell_type": "code",
   "execution_count": 61,
   "metadata": {},
   "outputs": [],
   "source": [
    "import seaborn as sns\n",
    "import matplotlib.pyplot as plt\n",
    "from itertools import cycle\n",
    "import os"
   ]
  },
  {
   "cell_type": "code",
   "execution_count": 64,
   "metadata": {},
   "outputs": [],
   "source": [
    "filename = f\"../analysis_results/y2_report/o4_intermediate_result_sizes.png\""
   ]
  },
  {
   "cell_type": "code",
   "execution_count": 65,
   "metadata": {},
   "outputs": [
    {
     "data": {
      "image/png": "[encoded data removed]",
      "text/plain": [
       "<Figure size 640x480 with 1 Axes>"
      ]
     },
     "metadata": {},
     "output_type": "display_data"
    }
   ],
   "source": [
    "sns.set(style=\"whitegrid\", color_codes=True)\n",
    "\n",
    "barplot_order = sorted(list(set(results[\"Part\"].to_list())), reverse=True)\n",
    "\n",
    "bar = sns.barplot(results, x=\"Size\", y=\"Part\", hue=\"Type\", legend=True, order=barplot_order)\n",
    "\n",
    "chosen_hatches = cycle([\"///\", \"x\"])\n",
    "\n",
    "num_locations = len(results.Part.unique())\n",
    "assert chosen_hatches.__sizeof__() >= num_locations\n",
    "\n",
    "\n",
    "bar.set_ylabel(\"Section of Pipeline\")\n",
    "bar.set_xlabel(\"Estimated Size (mb)\")\n",
    "bar.legend(title=\"\")\n",
    "\n",
    "for i, thisbar in enumerate(bar.patches):\n",
    "    if i % num_locations == 0:\n",
    "        hatch = next(chosen_hatches)\n",
    "    thisbar.set_hatch(hatch)\n",
    "    \n",
    "# Make axes weightier\n",
    "plt.setp(bar.spines.values(), linewidth=1)\n",
    "\n",
    "for spine in bar.spines.values():\n",
    "    spine.set_edgecolor('k')\n",
    "    \n",
    "bar.spines[['right', 'top']].set_visible(False)\n",
    "\n",
    "plt.tight_layout()\n",
    "\n",
    "if filename != None:\n",
    "    os.makedirs(os.path.dirname(filename), exist_ok=True)  \n",
    "    plt.savefig(filename, bbox_inches=\"tight\", transparent=True)\n",
    "        \n",
    "\n",
    "plt.show()"
   ]
  }
 ],
 "metadata": {
  "kernelspec": {
   "display_name": "sqlconv_env",
   "language": "python",
   "name": "python3"
  },
  "language_info": {
   "codemirror_mode": {
    "name": "ipython",
    "version": 3
   },
   "file_extension": ".py",
   "mimetype": "text/x-python",
   "name": "python",
   "nbconvert_exporter": "python",
   "pygments_lexer": "ipython3",
   "version": "3.10.13"
  }
 },
 "nbformat": 4,
 "nbformat_minor": 2
}
