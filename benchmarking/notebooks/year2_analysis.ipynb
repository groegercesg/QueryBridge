{
 "cells": [
  {
   "cell_type": "code",
   "execution_count": 1,
   "metadata": {},
   "outputs": [],
   "source": [
    "import pandas as pd\n",
    "import numpy as np\n",
    "import matplotlib.pyplot as plt\n",
    "import matplotlib\n",
    "plt.style.use('ggplot')\n",
    "import seaborn as sns\n",
    "from enum import Enum\n",
    "import matplotlib.colors as mcolors\n",
    "import colorsys"
   ]
  },
  {
   "cell_type": "code",
   "execution_count": 34,
   "metadata": {},
   "outputs": [],
   "source": [
    "results2 = pd.read_csv(\"../test_results/hyper_sdqlpy_optimisations_v2_pandas_tpch_test_results.csv\") \n",
    "#results2 = results2.rename(columns={\"Average\": \"Mean\"})\n",
    "\n",
    "results2 = results2[results2[\"Query Name\"].isin([\"SDQLpy Converted + PipelineBreakers NRP (Hyper DB)\", \"SDQLpy Converted + Both NRP (Hyper DB)\"])]"
   ]
  },
  {
   "cell_type": "code",
   "execution_count": 2,
   "metadata": {},
   "outputs": [],
   "source": [
    "results = pd.read_csv(\"../test_results/hyper_sdqlpy_pandas_tpch_aggrs_opts_test_results.csv\") \n",
    "\n",
    "#results = pd.concat([results, results2], ignore_index=True)\n",
    "#results = results.rename(columns={\"Average\": \"Mean\"})"
   ]
  },
  {
   "cell_type": "code",
   "execution_count": 3,
   "metadata": {},
   "outputs": [
    {
     "name": "stdout",
     "output_type": "stream",
     "text": [
      "110\n"
     ]
    },
    {
     "data": {
      "text/html": [
       "<div>\n",
       "<style scoped>\n",
       "    .dataframe tbody tr th:only-of-type {\n",
       "        vertical-align: middle;\n",
       "    }\n",
       "\n",
       "    .dataframe tbody tr th {\n",
       "        vertical-align: top;\n",
       "    }\n",
       "\n",
       "    .dataframe thead th {\n",
       "        text-align: right;\n",
       "    }\n",
       "</style>\n",
       "<table border=\"1\" class=\"dataframe\">\n",
       "  <thead>\n",
       "    <tr style=\"text-align: right;\">\n",
       "      <th></th>\n",
       "      <th>Data Type</th>\n",
       "      <th>Scaling Factor</th>\n",
       "      <th>Query Name</th>\n",
       "      <th>Query Number</th>\n",
       "      <th>Average</th>\n",
       "      <th>Correct</th>\n",
       "      <th>Executed</th>\n",
       "      <th>Runs</th>\n",
       "    </tr>\n",
       "  </thead>\n",
       "  <tbody>\n",
       "    <tr>\n",
       "      <th>0</th>\n",
       "      <td>SQL</td>\n",
       "      <td>1</td>\n",
       "      <td>Hyper DB</td>\n",
       "      <td>Query 1</td>\n",
       "      <td>0.263</td>\n",
       "      <td>True</td>\n",
       "      <td>Yes</td>\n",
       "      <td>[0.2617640495300293, 0.24797940254211426, 0.25...</td>\n",
       "    </tr>\n",
       "    <tr>\n",
       "      <th>1</th>\n",
       "      <td>SDQLpy</td>\n",
       "      <td>1</td>\n",
       "      <td>SDQLpy Converted (Hyper DB)</td>\n",
       "      <td>Query 1</td>\n",
       "      <td>1.240</td>\n",
       "      <td>True</td>\n",
       "      <td>Yes</td>\n",
       "      <td>[1.2370579242706299, 1.2325491905212402, 1.234...</td>\n",
       "    </tr>\n",
       "    <tr>\n",
       "      <th>2</th>\n",
       "      <td>SDQLpy</td>\n",
       "      <td>1</td>\n",
       "      <td>SDQLpy Converted + UpdateSum (Hyper DB)</td>\n",
       "      <td>Query 1</td>\n",
       "      <td>1.270</td>\n",
       "      <td>True</td>\n",
       "      <td>Yes</td>\n",
       "      <td>[1.274428129196167, 1.269331693649292, 1.26878...</td>\n",
       "    </tr>\n",
       "    <tr>\n",
       "      <th>3</th>\n",
       "      <td>SDQLpy</td>\n",
       "      <td>1</td>\n",
       "      <td>SDQLpy Converted + Both (Hyper DB)</td>\n",
       "      <td>Query 1</td>\n",
       "      <td>0.070</td>\n",
       "      <td>True</td>\n",
       "      <td>Yes</td>\n",
       "      <td>[0.07096385955810547, 0.0702667236328125, 0.06...</td>\n",
       "    </tr>\n",
       "    <tr>\n",
       "      <th>4</th>\n",
       "      <td>Pandas</td>\n",
       "      <td>1</td>\n",
       "      <td>Pandas Converted (Hyper DB)</td>\n",
       "      <td>Query 1</td>\n",
       "      <td>1.760</td>\n",
       "      <td>True</td>\n",
       "      <td>Yes</td>\n",
       "      <td>[2.069288969039917, 2.066094398498535, 1.73427...</td>\n",
       "    </tr>\n",
       "  </tbody>\n",
       "</table>\n",
       "</div>"
      ],
      "text/plain": [
       "  Data Type  Scaling Factor                               Query Name  \\\n",
       "0       SQL               1                                 Hyper DB   \n",
       "1    SDQLpy               1              SDQLpy Converted (Hyper DB)   \n",
       "2    SDQLpy               1  SDQLpy Converted + UpdateSum (Hyper DB)   \n",
       "3    SDQLpy               1       SDQLpy Converted + Both (Hyper DB)   \n",
       "4    Pandas               1              Pandas Converted (Hyper DB)   \n",
       "\n",
       "  Query Number  Average  Correct Executed  \\\n",
       "0      Query 1    0.263     True      Yes   \n",
       "1      Query 1    1.240     True      Yes   \n",
       "2      Query 1    1.270     True      Yes   \n",
       "3      Query 1    0.070     True      Yes   \n",
       "4      Query 1    1.760     True      Yes   \n",
       "\n",
       "                                                Runs  \n",
       "0  [0.2617640495300293, 0.24797940254211426, 0.25...  \n",
       "1  [1.2370579242706299, 1.2325491905212402, 1.234...  \n",
       "2  [1.274428129196167, 1.269331693649292, 1.26878...  \n",
       "3  [0.07096385955810547, 0.0702667236328125, 0.06...  \n",
       "4  [2.069288969039917, 2.066094398498535, 1.73427...  "
      ]
     },
     "execution_count": 3,
     "metadata": {},
     "output_type": "execute_result"
    }
   ],
   "source": [
    "print(len(results))\n",
    "results.head()"
   ]
  },
  {
   "cell_type": "code",
   "execution_count": 4,
   "metadata": {},
   "outputs": [
    {
     "name": "stdout",
     "output_type": "stream",
     "text": [
      "110\n"
     ]
    }
   ],
   "source": [
    "# Filter for Correct == True and Executed == Yes\n",
    "results = results[(results.Correct == True) & (results.Executed == \"Yes\")]\n",
    "print(len(results))"
   ]
  },
  {
   "cell_type": "code",
   "execution_count": 5,
   "metadata": {},
   "outputs": [],
   "source": [
    "# Sort Query Name column to in-order\n",
    "def extract_number(name):\n",
    "    return int(name.split(\" \")[1])\n",
    "\n",
    "results['Query Number'] = results.apply(lambda row : extract_number(row['Query Number']), axis = 1)\n",
    "results = results.sort_values(['Query Number'])\n",
    "\n",
    "# Fix the runs column\n",
    "def fix_runs(runs):\n",
    "    new_runs = list(str(str(runs)[1:-1]).split(\",\"))\n",
    "    for i in range(0, len(new_runs)):\n",
    "        new_runs[i] = float(new_runs[i].strip())\n",
    "    return new_runs\n",
    "\n",
    "results['Runs'] = results.apply(lambda row : fix_runs(row['Runs']), axis = 1)\n",
    "\n",
    "def g_mean(x):\n",
    "    a = np.log(x)\n",
    "    return np.exp(a.mean())\n",
    "\n",
    "def ignore_first_gmean(runs):\n",
    "    return g_mean(runs[1:])\n",
    "\n",
    "results[\"Mean\"] = results.apply(lambda row : ignore_first_gmean(row['Runs']), axis = 1)\n",
    "results[\"Query Type\"] = results[\"Query Name\"]\n",
    "results = results[[\"Query Type\", \"Query Number\", \"Mean\", \"Runs\"]]"
   ]
  },
  {
   "cell_type": "code",
   "execution_count": 6,
   "metadata": {},
   "outputs": [],
   "source": [
    "all_named_colors = {}\n",
    "all_named_colors.update(mcolors.TABLEAU_COLORS)\n",
    "\n",
    "def handle_colour(color):\n",
    "    if \"tab:\" in color:\n",
    "        return all_named_colors[color]\n",
    "    else:\n",
    "        raise Exception(f\"Unrecognised color format: {color}\")\n",
    "\n",
    "def scale_lightness(hex, scale_l):\n",
    "    # convert rgb to hls\n",
    "    rgb = mcolors.ColorConverter.to_rgb(hex)\n",
    "    h, l, s = colorsys.rgb_to_hls(*rgb)\n",
    "    # manipulate h, l, s values and return as rgb\n",
    "    return colorsys.hls_to_rgb(h, min(1, l * scale_l), s = s)"
   ]
  },
  {
   "cell_type": "code",
   "execution_count": 7,
   "metadata": {},
   "outputs": [],
   "source": [
    "def make_compare_graph(df, order, color, hatching, filename, x_value='Query Number', y_value='Mean'):\n",
    "    assert len(order) == len(color) == len(hatching)\n",
    "    print(f\"The DataFrame has {len(df)} rows\")\n",
    "    # plot with seaborn barplot\n",
    "    sns.set(rc={'figure.figsize':(10,6)})\n",
    "    background_color = '#f1f4f5'\n",
    "    sns.set(rc={'axes.facecolor':background_color})\n",
    "    plt.rcParams['patch.linewidth'] = 0.3\n",
    "    plt.rcParams['patch.edgecolor'] = 'k'\n",
    "\n",
    "    ax = sns.barplot(data=df, x=x_value, y=y_value, hue='Query Type',\n",
    "                     palette=color, hue_order=order)\n",
    "    \n",
    "    # Loop over the bars\n",
    "    for bars, hatch in zip(ax.containers, hatching):\n",
    "        if hatch != None:\n",
    "            for bar in bars:\n",
    "                bar.set_hatch(hatch)\n",
    "    \n",
    "    ax.set_yscale(\"log\")\n",
    "    ax.set(xlabel='Queries', ylabel='Mean Runtime (s)')\n",
    "\n",
    "    # the non-logarithmic labels \n",
    "    ticks = [0.1, 1, 10]\n",
    "    ax.set_yticks(ticks)\n",
    "    ax.set_yticklabels(ticks)\n",
    "\n",
    "    #set parameters for tick labels\n",
    "    plt.tick_params(axis='x', which='major', labelsize=10)\n",
    "    plt.tick_params(axis='y', which='major', direction=\"out\", colors=\"k\", left=True)\n",
    "    \n",
    "    leg_artists = []\n",
    "    for i in range(len(order)):\n",
    "        p = matplotlib.patches.Patch(facecolor=color[i], hatch=hatching[i])\n",
    "        # can also explicitly declare 2nd color like this\n",
    "        #p = matplotlib.patches.Patch(facecolor='#DCDCDC', hatch=hatch_dict[i], edgecolor='0.5')\n",
    "\n",
    "        leg_artists.append(p)\n",
    "\n",
    "    # Add them to legend\n",
    "    ax.legend(leg_artists, order, loc='upper center', bbox_to_anchor=(0.5, 1.10),\n",
    "              ncol=4, fancybox=True, shadow=True)\n",
    "\n",
    "    if filename != None:\n",
    "        plt.savefig(filename, bbox_inches=\"tight\")\n",
    "    plt.show()\n",
    "    \n",
    "def make_average_graph(df, order, color, hatching, filename, x_value='Query Number', y_value='Mean'):\n",
    "    assert len(order) == len(color) == len(hatching)\n",
    "    print(f\"The DataFrame has {len(df)} rows\")\n",
    "    # plot with seaborn barplot\n",
    "    sns.set(rc={'figure.figsize':(10,6)})\n",
    "    background_color = '#f1f4f5'\n",
    "    sns.set(rc={'axes.facecolor':background_color})\n",
    "    plt.rcParams['patch.linewidth'] = 0.3\n",
    "    plt.rcParams['patch.edgecolor'] = 'k'\n",
    "\n",
    "    ax = sns.barplot(data=df, x=x_value, y=y_value, hue='Query Type',\n",
    "                     palette=color, hue_order=order)\n",
    "    \n",
    "    # Loop over the bars\n",
    "    for bars, hatch in zip(ax.containers, hatching):\n",
    "        if hatch != None:\n",
    "            for bar in bars:\n",
    "                bar.set_hatch(hatch)\n",
    "    \n",
    "    ax.set_yscale(\"log\")\n",
    "    ax.set(xlabel='Queries', ylabel='Mean Runtime (s)')\n",
    "\n",
    "    # the non-logarithmic labels \n",
    "    ticks = [0.1, 1, 10]\n",
    "    ax.set_yticks(ticks)\n",
    "    ax.set_yticklabels(ticks)\n",
    "    \n",
    "\n",
    "    #set parameters for tick labels\n",
    "    plt.tick_params(axis='x', which='major', labelsize=10)\n",
    "    plt.tick_params(axis='y', which='major', direction=\"out\", colors=\"k\", left=True)\n",
    "    \n",
    "    plt.xticks(rotation=45, ha='right')\n",
    "    \n",
    "    leg_artists = []\n",
    "    for i in range(len(order)):\n",
    "        p = matplotlib.patches.Patch(facecolor=color[i], hatch=hatching[i])\n",
    "        # can also explicitly declare 2nd color like this\n",
    "        #p = matplotlib.patches.Patch(facecolor='#DCDCDC', hatch=hatch_dict[i], edgecolor='0.5')\n",
    "\n",
    "        leg_artists.append(p)\n",
    "\n",
    "    # Add them to legend\n",
    "    ax.legend(leg_artists, order, loc='upper center', bbox_to_anchor=(0.5, 1.10),\n",
    "              ncol=4, fancybox=True, shadow=True)\n",
    "\n",
    "    if filename != None:\n",
    "        plt.savefig(filename, bbox_inches=\"tight\")\n",
    "    plt.show()"
   ]
  },
  {
   "cell_type": "code",
   "execution_count": 15,
   "metadata": {},
   "outputs": [],
   "source": [
    "scale_amount = 1.35\n",
    "\n",
    "class DBColors(Enum):\n",
    "    # POSTGRES = \"#edae49\"\n",
    "    # PD_POSTGRES = scale_lightness(\"#edae49\", scale_amount)\n",
    "    # HYPER = \"#d1495b\"\n",
    "    # PD_HYPER = scale_lightness(\"#d1495b\", 1.25)\n",
    "    # SDQL_HYPER = scale_lightness(\"#d1495b\", 1.50)\n",
    "    # DUCK = \"#00798c\"\n",
    "    # PD_DUCK = scale_lightness(handle_colour('tab:green'), scale_amount)\n",
    "    HYPER = \"#FC9F5B\"\n",
    "    SDQLPY = \"#FBD1A2\"\n",
    "    SDQLPY_HESAM = \"#D80032\"\n",
    "    SDQLPY_VF = \"#ECE4B7\"\n",
    "    SDQLPY_PB = \"#B5DAB7\"\n",
    "    SDQLPY_PB_NRP = \"#00798c\"  # NRP - No Right (Filter) Propagation\n",
    "    SDQLPY_BOTH = \"#7DCFB6\"\n",
    "    SDQLPY_BOTH_NRP = \"#d1495b\"  # NRP - No Right (Filter) Propagation\n",
    "    PANDAS = \"#33CA7F\"\n",
    "    "
   ]
  },
  {
   "cell_type": "markdown",
   "metadata": {},
   "source": [
    "## Hesam Comparison"
   ]
  },
  {
   "cell_type": "code",
   "execution_count": 10,
   "metadata": {},
   "outputs": [
    {
     "ename": "NameError",
     "evalue": "name 'DBColors' is not defined",
     "output_type": "error",
     "traceback": [
      "\u001b[0;31m---------------------------------------------------------------------------\u001b[0m",
      "\u001b[0;31mNameError\u001b[0m                                 Traceback (most recent call last)",
      "Cell \u001b[0;32mIn[10], line 5\u001b[0m\n\u001b[1;32m      1\u001b[0m all_4_order \u001b[38;5;241m=\u001b[39m [\u001b[38;5;124m\"\u001b[39m\u001b[38;5;124mHyper DB\u001b[39m\u001b[38;5;124m\"\u001b[39m, \u001b[38;5;124m\"\u001b[39m\u001b[38;5;124mSDQLpy Converted (Hyper DB)\u001b[39m\u001b[38;5;124m\"\u001b[39m, \u001b[38;5;124m\"\u001b[39m\u001b[38;5;124mSDQLpy Hesam\u001b[39m\u001b[38;5;124m\"\u001b[39m,\n\u001b[1;32m      2\u001b[0m                \u001b[38;5;124m\"\u001b[39m\u001b[38;5;124mPandas Converted (Hyper DB)\u001b[39m\u001b[38;5;124m\"\u001b[39m]\n\u001b[1;32m      3\u001b[0m all_4_data \u001b[38;5;241m=\u001b[39m results[results[\u001b[38;5;124m\"\u001b[39m\u001b[38;5;124mQuery Type\u001b[39m\u001b[38;5;124m\"\u001b[39m]\u001b[38;5;241m.\u001b[39misin(all_4_order)]\n\u001b[0;32m----> 5\u001b[0m all_4_color \u001b[38;5;241m=\u001b[39m [\u001b[43mDBColors\u001b[49m\u001b[38;5;241m.\u001b[39mHYPER\u001b[38;5;241m.\u001b[39mvalue, DBColors\u001b[38;5;241m.\u001b[39mSDQLPY\u001b[38;5;241m.\u001b[39mvalue, DBColors\u001b[38;5;241m.\u001b[39mSDQLPY_HESAM\u001b[38;5;241m.\u001b[39mvalue, DBColors\u001b[38;5;241m.\u001b[39mPANDAS\u001b[38;5;241m.\u001b[39mvalue]\n\u001b[1;32m      6\u001b[0m all_4_hatch \u001b[38;5;241m=\u001b[39m [\u001b[38;5;28;01mNone\u001b[39;00m, \u001b[38;5;28;01mNone\u001b[39;00m, \u001b[38;5;28;01mNone\u001b[39;00m, \u001b[38;5;28;01mNone\u001b[39;00m]\n\u001b[1;32m      7\u001b[0m all_4_filename \u001b[38;5;241m=\u001b[39m \u001b[38;5;28;01mNone\u001b[39;00m\n",
      "\u001b[0;31mNameError\u001b[0m: name 'DBColors' is not defined"
     ]
    }
   ],
   "source": [
    "all_4_order = [\"Hyper DB\", \"SDQLpy Converted (Hyper DB)\", \"SDQLpy Hesam\",\n",
    "               \"Pandas Converted (Hyper DB)\"]\n",
    "all_4_data = results[results[\"Query Type\"].isin(all_4_order)]\n",
    "\n",
    "all_4_color = [DBColors.HYPER.value, DBColors.SDQLPY.value, DBColors.SDQLPY_HESAM.value, DBColors.PANDAS.value]\n",
    "all_4_hatch = [None, None, None, None]\n",
    "all_4_filename = None\n",
    "\n",
    "make_compare_graph(all_4_data, \n",
    "                   all_4_order,\n",
    "                   all_4_color,\n",
    "                   all_4_hatch,\n",
    "                   all_4_filename)"
   ]
  },
  {
   "cell_type": "markdown",
   "metadata": {},
   "source": [
    "## Hesam Chart (25/01/2024)\n",
    "\n",
    "- A chart that compares Pandas, Naive, Optimized, and Hyper for all supported queries. By optimized version, I only mean the fusion optimizer"
   ]
  },
  {
   "cell_type": "code",
   "execution_count": 11,
   "metadata": {},
   "outputs": [],
   "source": [
    "results['Query Type'] = results['Query Type'].replace(\n",
    "    {\n",
    "        'SDQLpy Converted (Hyper DB)': 'Naive SDQLpy',\n",
    "        'SDQLpy Converted + Both (Hyper DB)': 'Optimised SDQLpy',\n",
    "        'Pandas Converted (Hyper DB)': 'Pandas'\n",
    "     }\n",
    ")"
   ]
  },
  {
   "cell_type": "code",
   "execution_count": 12,
   "metadata": {},
   "outputs": [
    {
     "data": {
      "text/html": [
       "<div>\n",
       "<style scoped>\n",
       "    .dataframe tbody tr th:only-of-type {\n",
       "        vertical-align: middle;\n",
       "    }\n",
       "\n",
       "    .dataframe tbody tr th {\n",
       "        vertical-align: top;\n",
       "    }\n",
       "\n",
       "    .dataframe thead th {\n",
       "        text-align: right;\n",
       "    }\n",
       "</style>\n",
       "<table border=\"1\" class=\"dataframe\">\n",
       "  <thead>\n",
       "    <tr style=\"text-align: right;\">\n",
       "      <th></th>\n",
       "      <th>Query Type</th>\n",
       "      <th>Query Number</th>\n",
       "      <th>Mean</th>\n",
       "      <th>Runs</th>\n",
       "    </tr>\n",
       "  </thead>\n",
       "  <tbody>\n",
       "    <tr>\n",
       "      <th>0</th>\n",
       "      <td>Hyper DB</td>\n",
       "      <td>1</td>\n",
       "      <td>0.262509</td>\n",
       "      <td>[0.2617640495300293, 0.24797940254211426, 0.25...</td>\n",
       "    </tr>\n",
       "    <tr>\n",
       "      <th>1</th>\n",
       "      <td>Naive SDQLpy</td>\n",
       "      <td>1</td>\n",
       "      <td>1.235516</td>\n",
       "      <td>[1.2370579242706299, 1.2325491905212402, 1.234...</td>\n",
       "    </tr>\n",
       "    <tr>\n",
       "      <th>2</th>\n",
       "      <td>SDQLpy Converted + UpdateSum (Hyper DB)</td>\n",
       "      <td>1</td>\n",
       "      <td>1.270026</td>\n",
       "      <td>[1.274428129196167, 1.269331693649292, 1.26878...</td>\n",
       "    </tr>\n",
       "    <tr>\n",
       "      <th>3</th>\n",
       "      <td>Optimised SDQLpy</td>\n",
       "      <td>1</td>\n",
       "      <td>0.069806</td>\n",
       "      <td>[0.07096385955810547, 0.0702667236328125, 0.06...</td>\n",
       "    </tr>\n",
       "    <tr>\n",
       "      <th>4</th>\n",
       "      <td>Pandas</td>\n",
       "      <td>1</td>\n",
       "      <td>1.692027</td>\n",
       "      <td>[2.069288969039917, 2.066094398498535, 1.73427...</td>\n",
       "    </tr>\n",
       "    <tr>\n",
       "      <th>...</th>\n",
       "      <td>...</td>\n",
       "      <td>...</td>\n",
       "      <td>...</td>\n",
       "      <td>...</td>\n",
       "    </tr>\n",
       "    <tr>\n",
       "      <th>108</th>\n",
       "      <td>Optimised SDQLpy</td>\n",
       "      <td>22</td>\n",
       "      <td>0.019725</td>\n",
       "      <td>[0.025319576263427734, 0.02042698860168457, 0....</td>\n",
       "    </tr>\n",
       "    <tr>\n",
       "      <th>105</th>\n",
       "      <td>Hyper DB</td>\n",
       "      <td>22</td>\n",
       "      <td>0.194253</td>\n",
       "      <td>[0.19567131996154785, 0.19878053665161133, 0.1...</td>\n",
       "    </tr>\n",
       "    <tr>\n",
       "      <th>106</th>\n",
       "      <td>Naive SDQLpy</td>\n",
       "      <td>22</td>\n",
       "      <td>0.046447</td>\n",
       "      <td>[0.07675290107727051, 0.046974897384643555, 0....</td>\n",
       "    </tr>\n",
       "    <tr>\n",
       "      <th>107</th>\n",
       "      <td>SDQLpy Converted + UpdateSum (Hyper DB)</td>\n",
       "      <td>22</td>\n",
       "      <td>0.027460</td>\n",
       "      <td>[0.03670620918273926, 0.027329683303833008, 0....</td>\n",
       "    </tr>\n",
       "    <tr>\n",
       "      <th>109</th>\n",
       "      <td>Pandas</td>\n",
       "      <td>22</td>\n",
       "      <td>0.327109</td>\n",
       "      <td>[0.3165702819824219, 0.3277242183685303, 0.326...</td>\n",
       "    </tr>\n",
       "  </tbody>\n",
       "</table>\n",
       "<p>110 rows × 4 columns</p>\n",
       "</div>"
      ],
      "text/plain": [
       "                                  Query Type  Query Number      Mean  \\\n",
       "0                                   Hyper DB             1  0.262509   \n",
       "1                               Naive SDQLpy             1  1.235516   \n",
       "2    SDQLpy Converted + UpdateSum (Hyper DB)             1  1.270026   \n",
       "3                           Optimised SDQLpy             1  0.069806   \n",
       "4                                     Pandas             1  1.692027   \n",
       "..                                       ...           ...       ...   \n",
       "108                         Optimised SDQLpy            22  0.019725   \n",
       "105                                 Hyper DB            22  0.194253   \n",
       "106                             Naive SDQLpy            22  0.046447   \n",
       "107  SDQLpy Converted + UpdateSum (Hyper DB)            22  0.027460   \n",
       "109                                   Pandas            22  0.327109   \n",
       "\n",
       "                                                  Runs  \n",
       "0    [0.2617640495300293, 0.24797940254211426, 0.25...  \n",
       "1    [1.2370579242706299, 1.2325491905212402, 1.234...  \n",
       "2    [1.274428129196167, 1.269331693649292, 1.26878...  \n",
       "3    [0.07096385955810547, 0.0702667236328125, 0.06...  \n",
       "4    [2.069288969039917, 2.066094398498535, 1.73427...  \n",
       "..                                                 ...  \n",
       "108  [0.025319576263427734, 0.02042698860168457, 0....  \n",
       "105  [0.19567131996154785, 0.19878053665161133, 0.1...  \n",
       "106  [0.07675290107727051, 0.046974897384643555, 0....  \n",
       "107  [0.03670620918273926, 0.027329683303833008, 0....  \n",
       "109  [0.3165702819824219, 0.3277242183685303, 0.326...  \n",
       "\n",
       "[110 rows x 4 columns]"
      ]
     },
     "execution_count": 12,
     "metadata": {},
     "output_type": "execute_result"
    }
   ],
   "source": [
    "results"
   ]
  },
  {
   "cell_type": "code",
   "execution_count": 13,
   "metadata": {},
   "outputs": [
    {
     "name": "stdout",
     "output_type": "stream",
     "text": [
      "The DataFrame has 88 rows\n"
     ]
    },
    {
     "data": {
      "image/png": "[encoded data removed]",
      "text/plain": [
       "<Figure size 1000x600 with 1 Axes>"
      ]
     },
     "metadata": {},
     "output_type": "display_data"
    }
   ],
   "source": [
    "# All 4 Datapoints - TPC-H\n",
    "class HesamColours(Enum):\n",
    "    HYPER = \"#A31621\"\n",
    "    NAIVE_SDQLPY = \"#06D6A0\"\n",
    "    OPT_SDQLPY = \"#143109\"\n",
    "    PANDAS = \"#FE621D\"\n",
    "\n",
    "all_4_order = [\"Hyper DB\", \"Naive SDQLpy\", \"Optimised SDQLpy\", \"Pandas\"]\n",
    "all_4_data = results[results[\"Query Type\"].isin(all_4_order)]\n",
    "\n",
    "all_4_color = [HesamColours.HYPER.value, HesamColours.NAIVE_SDQLPY.value,\n",
    "               HesamColours.OPT_SDQLPY.value, HesamColours.PANDAS .value]\n",
    "all_4_hatch = [None, None, None, None]\n",
    "all_4_filename = \"../analysis_results/Hyper_SDQLpy_Optimised_24012024.jpg\"\n",
    "\n",
    "make_compare_graph(all_4_data, \n",
    "                   all_4_order,\n",
    "                   all_4_color,\n",
    "                   all_4_hatch,\n",
    "                   all_4_filename)"
   ]
  },
  {
   "cell_type": "code",
   "execution_count": 23,
   "metadata": {},
   "outputs": [
    {
     "data": {
      "text/html": [
       "<div>\n",
       "<style scoped>\n",
       "    .dataframe tbody tr th:only-of-type {\n",
       "        vertical-align: middle;\n",
       "    }\n",
       "\n",
       "    .dataframe tbody tr th {\n",
       "        vertical-align: top;\n",
       "    }\n",
       "\n",
       "    .dataframe thead th {\n",
       "        text-align: right;\n",
       "    }\n",
       "</style>\n",
       "<table border=\"1\" class=\"dataframe\">\n",
       "  <thead>\n",
       "    <tr style=\"text-align: right;\">\n",
       "      <th></th>\n",
       "      <th>Overall Mean Runtime (s)</th>\n",
       "    </tr>\n",
       "    <tr>\n",
       "      <th>Query Type</th>\n",
       "      <th></th>\n",
       "    </tr>\n",
       "  </thead>\n",
       "  <tbody>\n",
       "    <tr>\n",
       "      <th>Optimised SDQLpy</th>\n",
       "      <td>0.234396</td>\n",
       "    </tr>\n",
       "    <tr>\n",
       "      <th>Hyper DB</th>\n",
       "      <td>0.236792</td>\n",
       "    </tr>\n",
       "    <tr>\n",
       "      <th>Naive SDQLpy</th>\n",
       "      <td>0.375568</td>\n",
       "    </tr>\n",
       "    <tr>\n",
       "      <th>Pandas</th>\n",
       "      <td>0.539498</td>\n",
       "    </tr>\n",
       "  </tbody>\n",
       "</table>\n",
       "</div>"
      ],
      "text/plain": [
       "                  Overall Mean Runtime (s)\n",
       "Query Type                                \n",
       "Optimised SDQLpy                  0.234396\n",
       "Hyper DB                          0.236792\n",
       "Naive SDQLpy                      0.375568\n",
       "Pandas                            0.539498"
      ]
     },
     "execution_count": 23,
     "metadata": {},
     "output_type": "execute_result"
    }
   ],
   "source": [
    "overall = results.groupby(\"Query Type\").agg(\n",
    "    overall_mean_runtime=(\"Mean\", \"mean\")\n",
    ")\n",
    "overall = overall.sort_values(by=\"overall_mean_runtime\")\n",
    "overall = overall.rename(columns={\"overall_mean_runtime\": \"Overall Mean Runtime (s)\"})\n",
    "\n",
    "overall.head(10)"
   ]
  },
  {
   "cell_type": "markdown",
   "metadata": {},
   "source": [
    "## Graphs to Produce\n",
    "\n",
    "- All 6 Datapoints - TPC-H\n",
    "- Hyper VS Pandas (Hyper) VS SDQLpy Converted + Both (Hyper) - TPC-H\n",
    "- SDQLpy Converted (Hyper) VS SDQLpy Converted + VerticalFolding (Hyper) VS SDQLpy Converted + PipelineBreakers (Hyper) VS SDQLpy Converted + Both (Hyper) - TPC-H"
   ]
  },
  {
   "cell_type": "code",
   "execution_count": 42,
   "metadata": {},
   "outputs": [
    {
     "name": "stdout",
     "output_type": "stream",
     "text": [
      "['#FC9F5B', '#FBD1A2', '#ECE4B7', '#B5DAB7', '#7DCFB6', '#33CA7F']\n",
      "The DataFrame has 102 rows\n"
     ]
    },
    {
     "data": {
      "image/png": "[encoded data removed]",
      "text/plain": [
       "<Figure size 1000x600 with 1 Axes>"
      ]
     },
     "metadata": {},
     "output_type": "display_data"
    }
   ],
   "source": [
    "# All 6 Datapoints - TPC-H\n",
    "all_6_order = [\"Hyper DB\", \"SDQLpy Converted (Hyper DB)\", \"SDQLpy Converted + VerticalFolding (Hyper DB)\",\n",
    "               \"SDQLpy Converted + PipelineBreakers (Hyper DB)\", \"SDQLpy Converted + Both (Hyper DB)\",\n",
    "               \"Pandas Converted (Hyper DB)\"]\n",
    "all_6_data = results[results[\"Query Type\"].isin(all_6_order)]\n",
    "\n",
    "all_6_color = [DBColors.HYPER.value, DBColors.SDQLPY.value, DBColors.SDQLPY_VF.value,\n",
    "               DBColors.SDQLPY_PB.value, DBColors.SDQLPY_BOTH.value, DBColors.PANDAS.value]\n",
    "print(all_6_color)\n",
    "all_6_hatch = [None, None, None, None, None, None]\n",
    "all_6_filename = None\n",
    "\n",
    "make_compare_graph(all_6_data, \n",
    "                   all_6_order,\n",
    "                   all_6_color,\n",
    "                   all_6_hatch,\n",
    "                   all_6_filename)"
   ]
  },
  {
   "cell_type": "code",
   "execution_count": 43,
   "metadata": {},
   "outputs": [
    {
     "name": "stdout",
     "output_type": "stream",
     "text": [
      "The DataFrame has 51 rows\n"
     ]
    },
    {
     "data": {
      "image/png": "[encoded data removed]",
      "text/plain": [
       "<Figure size 1000x600 with 1 Axes>"
      ]
     },
     "metadata": {},
     "output_type": "display_data"
    }
   ],
   "source": [
    "#  Hyper VS Pandas (Hyper) VS SDQLpy Converted + Both (Hyper) - TPC-H\n",
    "hyper_vs_pd_vs_sdqlpy_best_order = [\"Hyper DB\", \"SDQLpy Converted + Both (Hyper DB)\",\n",
    "               \"Pandas Converted (Hyper DB)\"]\n",
    "hyper_vs_pd_vs_sdqlpy_best_data = results[results[\"Query Type\"].isin(hyper_vs_pd_vs_sdqlpy_best_order)]\n",
    "\n",
    "hyper_vs_pd_vs_sdqlpy_best_color = [DBColors.HYPER.value, DBColors.SDQLPY_BOTH.value, DBColors.PANDAS.value]\n",
    "hyper_vs_pd_vs_sdqlpy_best_hatch = [None, None, None]\n",
    "hyper_vs_pd_vs_sdqlpy_best_filename = None\n",
    "\n",
    "make_compare_graph(hyper_vs_pd_vs_sdqlpy_best_data, \n",
    "                   hyper_vs_pd_vs_sdqlpy_best_order,\n",
    "                   hyper_vs_pd_vs_sdqlpy_best_color,\n",
    "                   hyper_vs_pd_vs_sdqlpy_best_hatch,\n",
    "                   hyper_vs_pd_vs_sdqlpy_best_filename)"
   ]
  },
  {
   "cell_type": "code",
   "execution_count": 44,
   "metadata": {},
   "outputs": [
    {
     "name": "stdout",
     "output_type": "stream",
     "text": [
      "The DataFrame has 34 rows\n"
     ]
    },
    {
     "data": {
      "image/png": "[encoded data removed]",
      "text/plain": [
       "<Figure size 1000x600 with 1 Axes>"
      ]
     },
     "metadata": {},
     "output_type": "display_data"
    }
   ],
   "source": [
    "# SDQLpy Converted (Hyper) VS SDQLpy Converted + VerticalFolding (Hyper) VS SDQLpy Converted + PipelineBreakers (Hyper) VS SDQLpy Converted + Both (Hyper) - TPC-H\n",
    "sdqlpy_versions_order = [#\"SDQLpy Converted (Hyper DB)\", \"SDQLpy Converted + VerticalFolding (Hyper DB)\",\n",
    "                                    \"SDQLpy Converted + PipelineBreakers (Hyper DB)\", \"SDQLpy Converted + PipelineBreakers NRP (Hyper DB)\"] # ,\n",
    "                                    #\"SDQLpy Converted + Both (Hyper DB)\", \"SDQLpy Converted + Both V2 (Hyper DB)\"]\n",
    "sdqlpy_versions_data = results[results[\"Query Type\"].isin(sdqlpy_versions_order)]\n",
    "\n",
    "sdqlpy_versions_color = [#DBColors.SDQLPY.value, DBColors.SDQLPY_VF.value,\n",
    "                         DBColors.SDQLPY_PB.value, DBColors.SDQLPY_PB_NRP.value] # ,\n",
    "                         #DBColors.SDQLPY_BOTH.value, DBColors.SDQLPY_BOTH_V2.value]\n",
    "sdqlpy_versions_hatch = [None, None] #, None, None, None, None]\n",
    "sdqlpy_versions_filename = None\n",
    "\n",
    "make_compare_graph(sdqlpy_versions_data, \n",
    "                   sdqlpy_versions_order,\n",
    "                   sdqlpy_versions_color,\n",
    "                   sdqlpy_versions_hatch,\n",
    "                   sdqlpy_versions_filename)\n",
    "\n",
    "# NRP - No Right Filter Propagation\n",
    "# We are carrying a filter from the right side up into the join\n",
    "# This is instead of creating another summation, *can* we use some heuristics to determine whether it's worth doing\n",
    "# As sometimes, moving it is quicker (Q3) - but sometimes, leaving it is quicker (Q19)\n",
    "\n",
    "# Doing Right Filter Propagation is:\n",
    "# Equivalent: Q1, Q2, Q4, Q5, Q6, Q8, Q9, Q10, Q11, Q15, Q16, Q18, Q20\n",
    "# Quicker: Q3, \n",
    "# Slower: Q12, Q14, Q19"
   ]
  },
  {
   "cell_type": "markdown",
   "metadata": {},
   "source": [
    "## Statistics"
   ]
  },
  {
   "cell_type": "code",
   "execution_count": 8,
   "metadata": {},
   "outputs": [
    {
     "data": {
      "text/html": [
       "<div>\n",
       "<style scoped>\n",
       "    .dataframe tbody tr th:only-of-type {\n",
       "        vertical-align: middle;\n",
       "    }\n",
       "\n",
       "    .dataframe tbody tr th {\n",
       "        vertical-align: top;\n",
       "    }\n",
       "\n",
       "    .dataframe thead th {\n",
       "        text-align: right;\n",
       "    }\n",
       "</style>\n",
       "<table border=\"1\" class=\"dataframe\">\n",
       "  <thead>\n",
       "    <tr style=\"text-align: right;\">\n",
       "      <th></th>\n",
       "      <th>Overall Mean Runtime (s)</th>\n",
       "    </tr>\n",
       "    <tr>\n",
       "      <th>Query Type</th>\n",
       "      <th></th>\n",
       "    </tr>\n",
       "  </thead>\n",
       "  <tbody>\n",
       "    <tr>\n",
       "      <th>Hyper DB</th>\n",
       "      <td>0.258853</td>\n",
       "    </tr>\n",
       "    <tr>\n",
       "      <th>SDQLpy Converted + Both (Hyper DB)</th>\n",
       "      <td>0.294058</td>\n",
       "    </tr>\n",
       "    <tr>\n",
       "      <th>SDQLpy Converted (Hyper DB)</th>\n",
       "      <td>0.518932</td>\n",
       "    </tr>\n",
       "    <tr>\n",
       "      <th>SDQLpy Converted + UpdateSum (Hyper DB)</th>\n",
       "      <td>0.525679</td>\n",
       "    </tr>\n",
       "    <tr>\n",
       "      <th>Pandas Converted (Hyper DB)</th>\n",
       "      <td>0.691249</td>\n",
       "    </tr>\n",
       "  </tbody>\n",
       "</table>\n",
       "</div>"
      ],
      "text/plain": [
       "                                         Overall Mean Runtime (s)\n",
       "Query Type                                                       \n",
       "Hyper DB                                                 0.258853\n",
       "SDQLpy Converted + Both (Hyper DB)                       0.294058\n",
       "SDQLpy Converted (Hyper DB)                              0.518932\n",
       "SDQLpy Converted + UpdateSum (Hyper DB)                  0.525679\n",
       "Pandas Converted (Hyper DB)                              0.691249"
      ]
     },
     "execution_count": 8,
     "metadata": {},
     "output_type": "execute_result"
    }
   ],
   "source": [
    "overall = results.groupby(\"Query Type\").agg(\n",
    "    overall_mean_runtime=(\"Mean\", \"mean\")\n",
    ")\n",
    "overall = overall.sort_values(by=\"overall_mean_runtime\")\n",
    "overall = overall.rename(columns={\"overall_mean_runtime\": \"Overall Mean Runtime (s)\"})\n",
    "\n",
    "overall.head(10)"
   ]
  },
  {
   "cell_type": "code",
   "execution_count": 9,
   "metadata": {},
   "outputs": [
    {
     "ename": "NameError",
     "evalue": "name 'DBColors' is not defined",
     "output_type": "error",
     "traceback": [
      "\u001b[0;31m---------------------------------------------------------------------------\u001b[0m",
      "\u001b[0;31mNameError\u001b[0m                                 Traceback (most recent call last)",
      "Cell \u001b[0;32mIn[9], line 7\u001b[0m\n\u001b[1;32m      1\u001b[0m \u001b[38;5;66;03m# Average runtime chart\u001b[39;00m\n\u001b[1;32m      2\u001b[0m \n\u001b[1;32m      3\u001b[0m \u001b[38;5;66;03m# Hyper VS Pandas (Hyper) - TPC-H\u001b[39;00m\n\u001b[1;32m      4\u001b[0m hyper_order \u001b[38;5;241m=\u001b[39m [\u001b[38;5;124m\"\u001b[39m\u001b[38;5;124mHyper DB\u001b[39m\u001b[38;5;124m\"\u001b[39m, \u001b[38;5;124m\"\u001b[39m\u001b[38;5;124mSDQLpy Converted (Hyper DB)\u001b[39m\u001b[38;5;124m\"\u001b[39m, \u001b[38;5;124m\"\u001b[39m\u001b[38;5;124mSDQLpy Converted + VerticalFolding (Hyper DB)\u001b[39m\u001b[38;5;124m\"\u001b[39m,\n\u001b[1;32m      5\u001b[0m                \u001b[38;5;124m\"\u001b[39m\u001b[38;5;124mSDQLpy Converted + PipelineBreakers (Hyper DB)\u001b[39m\u001b[38;5;124m\"\u001b[39m, \u001b[38;5;124m\"\u001b[39m\u001b[38;5;124mSDQLpy Converted + PipelineBreakers NRP (Hyper DB)\u001b[39m\u001b[38;5;124m\"\u001b[39m, \u001b[38;5;124m\"\u001b[39m\u001b[38;5;124mSDQLpy Converted + Both (Hyper DB)\u001b[39m\u001b[38;5;124m\"\u001b[39m,\n\u001b[1;32m      6\u001b[0m                \u001b[38;5;124m\"\u001b[39m\u001b[38;5;124mSDQLpy Converted + Both NRP (Hyper DB)\u001b[39m\u001b[38;5;124m\"\u001b[39m, \u001b[38;5;124m\"\u001b[39m\u001b[38;5;124mPandas Converted (Hyper DB)\u001b[39m\u001b[38;5;124m\"\u001b[39m]\n\u001b[0;32m----> 7\u001b[0m hyper_color \u001b[38;5;241m=\u001b[39m [\u001b[43mDBColors\u001b[49m\u001b[38;5;241m.\u001b[39mHYPER\u001b[38;5;241m.\u001b[39mvalue, DBColors\u001b[38;5;241m.\u001b[39mSDQLPY\u001b[38;5;241m.\u001b[39mvalue, DBColors\u001b[38;5;241m.\u001b[39mSDQLPY_VF\u001b[38;5;241m.\u001b[39mvalue,\n\u001b[1;32m      8\u001b[0m                DBColors\u001b[38;5;241m.\u001b[39mSDQLPY_PB\u001b[38;5;241m.\u001b[39mvalue, DBColors\u001b[38;5;241m.\u001b[39mSDQLPY_PB_NRP\u001b[38;5;241m.\u001b[39mvalue,  DBColors\u001b[38;5;241m.\u001b[39mSDQLPY_BOTH\u001b[38;5;241m.\u001b[39mvalue,\n\u001b[1;32m      9\u001b[0m                DBColors\u001b[38;5;241m.\u001b[39mSDQLPY_BOTH_NRP\u001b[38;5;241m.\u001b[39mvalue,  DBColors\u001b[38;5;241m.\u001b[39mPANDAS\u001b[38;5;241m.\u001b[39mvalue]\n\u001b[1;32m     10\u001b[0m hyper_hatch \u001b[38;5;241m=\u001b[39m [\u001b[38;5;28;01mNone\u001b[39;00m, \u001b[38;5;28;01mNone\u001b[39;00m, \u001b[38;5;28;01mNone\u001b[39;00m, \u001b[38;5;28;01mNone\u001b[39;00m, \u001b[38;5;28;01mNone\u001b[39;00m, \u001b[38;5;28;01mNone\u001b[39;00m, \u001b[38;5;28;01mNone\u001b[39;00m, \u001b[38;5;28;01mNone\u001b[39;00m]\n\u001b[1;32m     11\u001b[0m hyper_filename \u001b[38;5;241m=\u001b[39m \u001b[38;5;28;01mNone\u001b[39;00m\n",
      "\u001b[0;31mNameError\u001b[0m: name 'DBColors' is not defined"
     ]
    }
   ],
   "source": [
    "# Average runtime chart\n",
    "\n",
    "# Hyper VS Pandas (Hyper) - TPC-H\n",
    "hyper_order = [\"Hyper DB\", \"SDQLpy Converted (Hyper DB)\", \"SDQLpy Converted + VerticalFolding (Hyper DB)\",\n",
    "               \"SDQLpy Converted + PipelineBreakers (Hyper DB)\", \"SDQLpy Converted + PipelineBreakers NRP (Hyper DB)\", \"SDQLpy Converted + Both (Hyper DB)\",\n",
    "               \"SDQLpy Converted + Both NRP (Hyper DB)\", \"Pandas Converted (Hyper DB)\"]\n",
    "hyper_color = [DBColors.HYPER.value, DBColors.SDQLPY.value, DBColors.SDQLPY_VF.value,\n",
    "               DBColors.SDQLPY_PB.value, DBColors.SDQLPY_PB_NRP.value,  DBColors.SDQLPY_BOTH.value,\n",
    "               DBColors.SDQLPY_BOTH_NRP.value,  DBColors.PANDAS.value]\n",
    "hyper_hatch = [None, None, None, None, None, None, None, None]\n",
    "hyper_filename = None\n",
    "\n",
    "make_average_graph(overall, \n",
    "                   hyper_order,\n",
    "                   hyper_color,\n",
    "                   hyper_hatch,\n",
    "                   hyper_filename, \"Query Type\", \"Overall Mean Runtime (s)\")"
   ]
  }
 ],
 "metadata": {
  "kernelspec": {
   "display_name": "sqlconv_env",
   "language": "python",
   "name": "python3"
  },
  "language_info": {
   "codemirror_mode": {
    "name": "ipython",
    "version": 3
   },
   "file_extension": ".py",
   "mimetype": "text/x-python",
   "name": "python",
   "nbconvert_exporter": "python",
   "pygments_lexer": "ipython3",
   "version": "3.10.13"
  }
 },
 "nbformat": 4,
 "nbformat_minor": 2
}
