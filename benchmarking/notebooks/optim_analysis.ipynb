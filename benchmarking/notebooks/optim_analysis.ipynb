{
 "cells": [
  {
   "cell_type": "code",
   "execution_count": 1,
   "metadata": {},
   "outputs": [],
   "source": [
    "import pandas as pd\n",
    "import numpy as np\n",
    "import matplotlib.pyplot as plt\n",
    "from matplotlib.ticker import MultipleLocator\n",
    "plt.style.use('ggplot')\n",
    "import seaborn as sns\n",
    "import statistics"
   ]
  },
  {
   "cell_type": "code",
   "execution_count": 2,
   "metadata": {},
   "outputs": [],
   "source": [
    "results = pd.read_csv(\"../test_results/pg_optimisations_retry_tpch_queries_test_results.csv\") \n",
    "test_name = \"postgres_optimisations\"\n",
    "\n",
    "results = results.rename(columns={\"Average\": \"Mean\"})"
   ]
  },
  {
   "cell_type": "code",
   "execution_count": 3,
   "metadata": {},
   "outputs": [],
   "source": [
    "#print(len(results))\n",
    "#results.head()"
   ]
  },
  {
   "cell_type": "code",
   "execution_count": 4,
   "metadata": {},
   "outputs": [
    {
     "name": "stdout",
     "output_type": "stream",
     "text": [
      "154\n"
     ]
    }
   ],
   "source": [
    "# Filter for Correct == True and Executed == Yes\n",
    "results = results[(results.Correct == True) & (results.Executed == \"Yes\")]\n",
    "print(len(results))"
   ]
  },
  {
   "cell_type": "code",
   "execution_count": 5,
   "metadata": {},
   "outputs": [],
   "source": [
    "# Sort Query Name column to in-order\n",
    "def extract_number(name):\n",
    "    return int(name.split(\" \")[1])\n",
    "\n",
    "results['Query Number'] = results.apply(lambda row : extract_number(row['Query Number']), axis = 1)\n",
    "results = results.sort_values(['Query Number'])\n",
    "\n",
    "# Fix the runs column\n",
    "def fix_runs(runs):\n",
    "    new_runs = list(str(str(runs)[1:-1]).split(\",\"))\n",
    "    for i in range(0, len(new_runs)):\n",
    "        new_runs[i] = float(new_runs[i].strip())\n",
    "    return new_runs\n",
    "\n",
    "results['Runs'] = results.apply(lambda row : fix_runs(row['Runs']), axis = 1)\n",
    "    \n",
    "def g_mean(x):\n",
    "    a = np.log(x)\n",
    "    return np.exp(a.mean())\n",
    "\n",
    "def ignore_first_mean_geom(runs):\n",
    "    return g_mean(runs[1:])\n",
    "\n",
    "results['Mean'] = results.apply(lambda row : ignore_first_mean_geom(row['Runs']), axis = 1)\n",
    "results[\"Query Type\"] = results[\"Query Name\"]"
   ]
  },
  {
   "cell_type": "code",
   "execution_count": 6,
   "metadata": {},
   "outputs": [],
   "source": [
    "def process_optim_type(name):\n",
    "    split_name = name.split(\" \")\n",
    "    if split_name[-1] == \"Baseline\":\n",
    "        return \"B\"\n",
    "    else:\n",
    "        return str(split_name[-1]).strip()\n",
    "\n",
    "results = results[results[\"Data Type\"] != \"SQL\"]\n",
    "results['Optimisation'] = results.apply(lambda row : process_optim_type(row['Query Name']), axis = 1)"
   ]
  },
  {
   "cell_type": "code",
   "execution_count": 7,
   "metadata": {},
   "outputs": [],
   "source": [
    "results = results.sort_values(by=['Query Number', 'Query Name'], ascending=[True, True])"
   ]
  },
  {
   "cell_type": "code",
   "execution_count": 8,
   "metadata": {},
   "outputs": [],
   "source": [
    "#results\n",
    "unique_query_numbers = list(results[\"Query Number\"].unique())\n",
    "q_scores_in_order = []\n",
    "#unique_query_numbers\n",
    "for q_num in unique_query_numbers:\n",
    "    baseline_score = float(results[(results[\"Query Number\"] == q_num) & (results[\"Optimisation\"] == \"B\")][\"Mean\"])\n",
    "    query_scores = results[(results[\"Query Number\"] == q_num) & (results[\"Optimisation\"] != \"B\")]\n",
    "    \n",
    "    optimisation_types = list(query_scores[\"Optimisation\"].unique())\n",
    "    for optim in optimisation_types:\n",
    "        current_q_score = query_scores[query_scores[\"Optimisation\"] == optim]\n",
    "        q_scores_in_order.append(float((baseline_score - current_q_score[\"Mean\"]) / baseline_score))\n",
    "    q_scores_in_order.append(0)\n",
    "    \n",
    "    #print(baseline_score)"
   ]
  },
  {
   "cell_type": "code",
   "execution_count": 9,
   "metadata": {},
   "outputs": [],
   "source": [
    "results['Optim_improve'] = pd.Series(q_scores_in_order, index=results.index)"
   ]
  },
  {
   "cell_type": "code",
   "execution_count": 10,
   "metadata": {},
   "outputs": [
    {
     "name": "stdout",
     "output_type": "stream",
     "text": [
      "\\begin{tabular}{lr}\n",
      "\\toprule\n",
      "Optimisation &  Percentage Improvement \\\\\n",
      "\\midrule\n",
      "           1 &               -0.017079 \\\\\n",
      "       1+2+3 &                0.550513 \\\\\n",
      "           2 &                0.128606 \\\\\n",
      "         2+3 &                0.377529 \\\\\n",
      "           3 &                0.028307 \\\\\n",
      "\\bottomrule\n",
      "\\end{tabular}\n",
      "\n"
     ]
    },
    {
     "name": "stderr",
     "output_type": "stream",
     "text": [
      "/tmp/ipykernel_8664/942183370.py:11: FutureWarning: In future versions `DataFrame.to_latex` is expected to utilise the base implementation of `Styler.to_latex` for formatting and rendering. The arguments signature may therefore change. It is recommended instead to use `DataFrame.style.to_latex` which also contains additional functionality.\n",
      "  print(optim_results.to_latex(index=False))\n"
     ]
    }
   ],
   "source": [
    "optim_results = results \\\n",
    "    .groupby(by=[\"Optimisation\"]) \\\n",
    "    .agg(\n",
    "            avg_percent_improve=(\"Optim_improve\", \"mean\"),\n",
    "        )\n",
    "\n",
    "optim_results['Percentage Improvement'] = optim_results['avg_percent_improve'].apply(lambda x: x*100)\n",
    "optim_results = optim_results.reset_index()\n",
    "optim_results = optim_results[optim_results[\"Optimisation\"] != \"B\"]\n",
    "optim_results = optim_results[[\"Optimisation\", \"Percentage Improvement\"]]\n",
    "print(optim_results.to_latex(index=False))"
   ]
  },
  {
   "cell_type": "code",
   "execution_count": 11,
   "metadata": {},
   "outputs": [
    {
     "data": {
      "image/png": "[encoded data removed]",
      "text/plain": [
       "<Figure size 1000x600 with 1 Axes>"
      ]
     },
     "metadata": {},
     "output_type": "display_data"
    }
   ],
   "source": [
    "sns.set(rc={'figure.figsize':(10,6)})\n",
    "background_color = '#f1f4f5'\n",
    "sns.set(rc={'axes.facecolor':background_color})\n",
    "plt.rcParams['patch.linewidth'] = 0.3\n",
    "plt.rcParams['patch.edgecolor'] = 'k'\n",
    "\n",
    "colors = ['tab:orange','tab:blue','tab:green', 'tab:red', 'tab:purple']\n",
    "optim_order = [\"1\", \"2\", \"3\", \"2+3\", \"1+2+3\"]\n",
    "\n",
    "ax = sns.barplot(data=optim_results, x='Optimisation', y='Percentage Improvement',\n",
    "                 order=optim_order, palette=colors)\n",
    "\n",
    "plt.savefig(\"../analysis_results/\" + str(test_name) + \"_compare.pdf\", bbox_inches=\"tight\")\n",
    "plt.show()"
   ]
  },
  {
   "cell_type": "code",
   "execution_count": 12,
   "metadata": {
    "scrolled": true
   },
   "outputs": [
    {
     "data": {
      "text/html": [
       "<div>\n",
       "<style scoped>\n",
       "    .dataframe tbody tr th:only-of-type {\n",
       "        vertical-align: middle;\n",
       "    }\n",
       "\n",
       "    .dataframe tbody tr th {\n",
       "        vertical-align: top;\n",
       "    }\n",
       "\n",
       "    .dataframe thead th {\n",
       "        text-align: right;\n",
       "    }\n",
       "</style>\n",
       "<table border=\"1\" class=\"dataframe\">\n",
       "  <thead>\n",
       "    <tr style=\"text-align: right;\">\n",
       "      <th></th>\n",
       "      <th>Data Type</th>\n",
       "      <th>Scaling Factor</th>\n",
       "      <th>Query Name</th>\n",
       "      <th>Query Number</th>\n",
       "      <th>Mean</th>\n",
       "      <th>Correct</th>\n",
       "      <th>Executed</th>\n",
       "      <th>Runs</th>\n",
       "      <th>Query Type</th>\n",
       "      <th>Optimisation</th>\n",
       "      <th>Optim_improve</th>\n",
       "    </tr>\n",
       "  </thead>\n",
       "  <tbody>\n",
       "    <tr>\n",
       "      <th>85</th>\n",
       "      <td>Pandas</td>\n",
       "      <td>1</td>\n",
       "      <td>Pandas Baseline</td>\n",
       "      <td>13</td>\n",
       "      <td>1.996691</td>\n",
       "      <td>True</td>\n",
       "      <td>Yes</td>\n",
       "      <td>[2.211064338684082, 1.981858730316162, 2.01536...</td>\n",
       "      <td>Pandas Baseline</td>\n",
       "      <td>B</td>\n",
       "      <td>0.000000</td>\n",
       "    </tr>\n",
       "    <tr>\n",
       "      <th>87</th>\n",
       "      <td>Pandas</td>\n",
       "      <td>1</td>\n",
       "      <td>Pandas 2</td>\n",
       "      <td>13</td>\n",
       "      <td>2.011116</td>\n",
       "      <td>True</td>\n",
       "      <td>Yes</td>\n",
       "      <td>[2.0847365856170654, 2.0121281147003174, 2.024...</td>\n",
       "      <td>Pandas 2</td>\n",
       "      <td>2</td>\n",
       "      <td>-0.007224</td>\n",
       "    </tr>\n",
       "    <tr>\n",
       "      <th>88</th>\n",
       "      <td>Pandas</td>\n",
       "      <td>1</td>\n",
       "      <td>Pandas 3</td>\n",
       "      <td>13</td>\n",
       "      <td>2.018594</td>\n",
       "      <td>True</td>\n",
       "      <td>Yes</td>\n",
       "      <td>[2.1278209686279297, 2.0304818153381348, 2.013...</td>\n",
       "      <td>Pandas 3</td>\n",
       "      <td>3</td>\n",
       "      <td>-0.010970</td>\n",
       "    </tr>\n",
       "    <tr>\n",
       "      <th>86</th>\n",
       "      <td>Pandas</td>\n",
       "      <td>1</td>\n",
       "      <td>Pandas 1</td>\n",
       "      <td>13</td>\n",
       "      <td>2.020074</td>\n",
       "      <td>True</td>\n",
       "      <td>Yes</td>\n",
       "      <td>[2.138037919998169, 1.9940385818481445, 1.9893...</td>\n",
       "      <td>Pandas 1</td>\n",
       "      <td>1</td>\n",
       "      <td>-0.011711</td>\n",
       "    </tr>\n",
       "    <tr>\n",
       "      <th>89</th>\n",
       "      <td>Pandas</td>\n",
       "      <td>1</td>\n",
       "      <td>Pandas 2+3</td>\n",
       "      <td>13</td>\n",
       "      <td>2.025371</td>\n",
       "      <td>True</td>\n",
       "      <td>Yes</td>\n",
       "      <td>[2.1352365016937256, 2.024132251739502, 2.0649...</td>\n",
       "      <td>Pandas 2+3</td>\n",
       "      <td>2+3</td>\n",
       "      <td>-0.014364</td>\n",
       "    </tr>\n",
       "    <tr>\n",
       "      <th>90</th>\n",
       "      <td>Pandas</td>\n",
       "      <td>1</td>\n",
       "      <td>Pandas 1+2+3</td>\n",
       "      <td>13</td>\n",
       "      <td>2.104574</td>\n",
       "      <td>True</td>\n",
       "      <td>Yes</td>\n",
       "      <td>[2.0856688022613525, 2.0210752487182617, 2.120...</td>\n",
       "      <td>Pandas 1+2+3</td>\n",
       "      <td>1+2+3</td>\n",
       "      <td>-0.054031</td>\n",
       "    </tr>\n",
       "  </tbody>\n",
       "</table>\n",
       "</div>"
      ],
      "text/plain": [
       "   Data Type  Scaling Factor       Query Name  Query Number      Mean  \\\n",
       "85    Pandas               1  Pandas Baseline            13  1.996691   \n",
       "87    Pandas               1         Pandas 2            13  2.011116   \n",
       "88    Pandas               1         Pandas 3            13  2.018594   \n",
       "86    Pandas               1         Pandas 1            13  2.020074   \n",
       "89    Pandas               1       Pandas 2+3            13  2.025371   \n",
       "90    Pandas               1     Pandas 1+2+3            13  2.104574   \n",
       "\n",
       "    Correct Executed                                               Runs  \\\n",
       "85     True      Yes  [2.211064338684082, 1.981858730316162, 2.01536...   \n",
       "87     True      Yes  [2.0847365856170654, 2.0121281147003174, 2.024...   \n",
       "88     True      Yes  [2.1278209686279297, 2.0304818153381348, 2.013...   \n",
       "86     True      Yes  [2.138037919998169, 1.9940385818481445, 1.9893...   \n",
       "89     True      Yes  [2.1352365016937256, 2.024132251739502, 2.0649...   \n",
       "90     True      Yes  [2.0856688022613525, 2.0210752487182617, 2.120...   \n",
       "\n",
       "         Query Type Optimisation  Optim_improve  \n",
       "85  Pandas Baseline            B       0.000000  \n",
       "87         Pandas 2            2      -0.007224  \n",
       "88         Pandas 3            3      -0.010970  \n",
       "86         Pandas 1            1      -0.011711  \n",
       "89       Pandas 2+3          2+3      -0.014364  \n",
       "90     Pandas 1+2+3        1+2+3      -0.054031  "
      ]
     },
     "execution_count": 12,
     "metadata": {},
     "output_type": "execute_result"
    }
   ],
   "source": [
    "sort_res = results.sort_values(by=[\"Optim_improve\"], ascending=False)\n",
    "sort_res[sort_res[\"Query Number\"] == 13]"
   ]
  },
  {
   "cell_type": "markdown",
   "metadata": {},
   "source": [
    "### Make a graph for Q5, Q13 and Q22"
   ]
  },
  {
   "cell_type": "code",
   "execution_count": 13,
   "metadata": {},
   "outputs": [],
   "source": [
    "specific_queries = results[(results[\"Query Number\"].isin([5,13])) & (results[\"Optimisation\"].isin([\"B\", \"1+2+3\"]))]\n",
    "#specific_queries.head(20)"
   ]
  },
  {
   "cell_type": "code",
   "execution_count": 14,
   "metadata": {},
   "outputs": [
    {
     "data": {
      "image/png": "[encoded data removed]",
      "text/plain": [
       "<Figure size 1000x600 with 1 Axes>"
      ]
     },
     "metadata": {},
     "output_type": "display_data"
    }
   ],
   "source": [
    "# plot with seaborn barplot\n",
    "sns.set(rc={'figure.figsize':(10,6)})\n",
    "background_color = '#f1f4f5'\n",
    "sns.set(rc={'axes.facecolor':background_color})\n",
    "plt.rcParams['patch.linewidth'] = 0.3\n",
    "plt.rcParams['patch.edgecolor'] = 'k'\n",
    "\n",
    "# The other colors are 70% tints of the original\n",
    "# From: https://imagecolorpicker.com/color-code/\n",
    "color = ['lightgrey','tab:purple']\n",
    "order = [\"Pandas Baseline\", \"Pandas 1+2+3\"]\n",
    "\n",
    "ax = sns.barplot(data=specific_queries, x='Query Number', y='Mean', hue='Query Type',\n",
    "                 palette=color, hue_order=order)\n",
    "\n",
    "ax.set_yscale(\"log\")\n",
    "ax.set(xlabel='Queries', ylabel='Mean Runtime (s)')\n",
    "\n",
    "# the non-logarithmic labels \n",
    "ticks = [0.1, 1, 10]\n",
    "ax.set_yticks(ticks)\n",
    "ax.set_yticklabels(ticks)\n",
    "\n",
    "#set parameters for tick labels\n",
    "plt.tick_params(axis='x', which='major', labelsize=10)\n",
    "plt.tick_params(axis='y', which='major', direction=\"out\", colors=\"k\", left=True)\n",
    "\n",
    "ax.legend(loc='upper center', bbox_to_anchor=(0.5, 1.10),\n",
    "          ncol=4, fancybox=True, shadow=True)\n",
    "\n",
    "plt.savefig(\"../analysis_results/\" + str(test_name) + \"_specific_queries.pdf\", bbox_inches=\"tight\")\n",
    "plt.show()"
   ]
  }
 ],
 "metadata": {
  "kernelspec": {
   "display_name": "Python [conda env:sql_benchmark] *",
   "language": "python",
   "name": "conda-env-sql_benchmark-py"
  },
  "language_info": {
   "codemirror_mode": {
    "name": "ipython",
    "version": 3
   },
   "file_extension": ".py",
   "mimetype": "text/x-python",
   "name": "python",
   "nbconvert_exporter": "python",
   "pygments_lexer": "ipython3",
   "version": "3.9.16"
  },
  "vscode": {
   "interpreter": {
    "hash": "3eb53a504e8f544f2db49e5c7d22a7422ec84315f2f9760969f8c7a9f3384b9e"
   }
  }
 },
 "nbformat": 4,
 "nbformat_minor": 2
}
