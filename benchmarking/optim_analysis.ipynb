{
 "cells": [
  {
   "cell_type": "code",
   "execution_count": 26,
   "metadata": {},
   "outputs": [],
   "source": [
    "import pandas as pd\n",
    "import matplotlib.pyplot as plt\n",
    "from matplotlib.ticker import MultipleLocator\n",
    "plt.style.use('ggplot')\n",
    "import seaborn as sns\n",
    "import statistics"
   ]
  },
  {
   "cell_type": "code",
   "execution_count": 27,
   "metadata": {},
   "outputs": [],
   "source": [
    "results = pd.read_csv(\"test_results/pg_optimisations_retry_tpch_queries_test_results.csv\") \n",
    "test_name = \"postgres_optimisations\"\n",
    "\n",
    "results = results.rename(columns={\"Average\": \"Mean\"})"
   ]
  },
  {
   "cell_type": "code",
   "execution_count": 28,
   "metadata": {},
   "outputs": [],
   "source": [
    "#print(len(results))\n",
    "#results.head()"
   ]
  },
  {
   "cell_type": "code",
   "execution_count": 29,
   "metadata": {},
   "outputs": [
    {
     "name": "stdout",
     "output_type": "stream",
     "text": [
      "154\n"
     ]
    }
   ],
   "source": [
    "# Filter for Correct == True and Executed == Yes\n",
    "results = results[(results.Correct == True) & (results.Executed == \"Yes\")]\n",
    "print(len(results))"
   ]
  },
  {
   "cell_type": "code",
   "execution_count": 30,
   "metadata": {},
   "outputs": [],
   "source": [
    "# Sort Query Name column to in-order\n",
    "def extract_number(name):\n",
    "    return int(name.split(\" \")[1])\n",
    "\n",
    "results['Query Number'] = results.apply(lambda row : extract_number(row['Query Number']), axis = 1)\n",
    "results = results.sort_values(['Query Number'])\n",
    "\n",
    "# Fix the runs column\n",
    "def fix_runs(runs):\n",
    "    new_runs = list(str(str(runs)[1:-1]).split(\",\"))\n",
    "    for i in range(0, len(new_runs)):\n",
    "        new_runs[i] = float(new_runs[i].strip())\n",
    "    return new_runs\n",
    "\n",
    "results['Runs'] = results.apply(lambda row : fix_runs(row['Runs']), axis = 1)\n",
    "\n",
    "results['Median'] = results.apply(lambda row: statistics.median(sorted(row['Runs'])), axis = 1)\n",
    "\n",
    "def ignore_first_mean(runs):\n",
    "    return statistics.mean(runs[1:])\n",
    "\n",
    "results['Mean'] = results.apply(lambda row : ignore_first_mean(row['Runs']), axis = 1)\n",
    "results[\"Query Type\"] = results[\"Query Name\"]"
   ]
  },
  {
   "cell_type": "code",
   "execution_count": 31,
   "metadata": {},
   "outputs": [],
   "source": [
    "def process_optim_type(name):\n",
    "    split_name = name.split(\" \")\n",
    "    if split_name[-1] == \"Baseline\":\n",
    "        return \"B\"\n",
    "    else:\n",
    "        return str(split_name[-1]).strip()\n",
    "\n",
    "results = results[results[\"Data Type\"] != \"SQL\"]\n",
    "results['Optimisation'] = results.apply(lambda row : process_optim_type(row['Query Name']), axis = 1)\n",
    "#results"
   ]
  },
  {
   "cell_type": "code",
   "execution_count": 32,
   "metadata": {},
   "outputs": [],
   "source": [
    "results = results.sort_values(by=['Query Number', 'Query Name'], ascending=[True, True])\n",
    "#results.head(15)"
   ]
  },
  {
   "cell_type": "code",
   "execution_count": 33,
   "metadata": {},
   "outputs": [],
   "source": [
    "#results\n",
    "unique_query_numbers = list(results[\"Query Number\"].unique())\n",
    "q_scores_in_order = []\n",
    "#unique_query_numbers\n",
    "for q_num in unique_query_numbers:\n",
    "    baseline_score = float(results[(results[\"Query Number\"] == q_num) & (results[\"Optimisation\"] == \"B\")][\"Mean\"])\n",
    "    query_scores = results[(results[\"Query Number\"] == q_num) & (results[\"Optimisation\"] != \"B\")]\n",
    "    \n",
    "    optimisation_types = list(query_scores[\"Optimisation\"].unique())\n",
    "    for optim in optimisation_types:\n",
    "        current_q_score = query_scores[query_scores[\"Optimisation\"] == optim]\n",
    "        q_scores_in_order.append(float((baseline_score - current_q_score[\"Mean\"]) / baseline_score))\n",
    "    q_scores_in_order.append(0)\n",
    "    \n",
    "    #print(baseline_score)"
   ]
  },
  {
   "cell_type": "code",
   "execution_count": 34,
   "metadata": {},
   "outputs": [],
   "source": [
    "\n",
    "results['Optim_improve'] = pd.Series(q_scores_in_order, index=results.index)\n",
    "#results.head(15)"
   ]
  },
  {
   "cell_type": "code",
   "execution_count": 35,
   "metadata": {},
   "outputs": [
    {
     "data": {
      "text/html": [
       "<div>\n",
       "<style scoped>\n",
       "    .dataframe tbody tr th:only-of-type {\n",
       "        vertical-align: middle;\n",
       "    }\n",
       "\n",
       "    .dataframe tbody tr th {\n",
       "        vertical-align: top;\n",
       "    }\n",
       "\n",
       "    .dataframe thead th {\n",
       "        text-align: right;\n",
       "    }\n",
       "</style>\n",
       "<table border=\"1\" class=\"dataframe\">\n",
       "  <thead>\n",
       "    <tr style=\"text-align: right;\">\n",
       "      <th></th>\n",
       "      <th>Optimisation</th>\n",
       "      <th>avg_percent_improve</th>\n",
       "      <th>Percentage Improvement</th>\n",
       "    </tr>\n",
       "  </thead>\n",
       "  <tbody>\n",
       "    <tr>\n",
       "      <th>0</th>\n",
       "      <td>1</td>\n",
       "      <td>-0.000194</td>\n",
       "      <td>-0.019370</td>\n",
       "    </tr>\n",
       "    <tr>\n",
       "      <th>1</th>\n",
       "      <td>1+2+3</td>\n",
       "      <td>0.005488</td>\n",
       "      <td>0.548769</td>\n",
       "    </tr>\n",
       "    <tr>\n",
       "      <th>2</th>\n",
       "      <td>2</td>\n",
       "      <td>0.001287</td>\n",
       "      <td>0.128695</td>\n",
       "    </tr>\n",
       "    <tr>\n",
       "      <th>3</th>\n",
       "      <td>2+3</td>\n",
       "      <td>0.003735</td>\n",
       "      <td>0.373460</td>\n",
       "    </tr>\n",
       "    <tr>\n",
       "      <th>4</th>\n",
       "      <td>3</td>\n",
       "      <td>0.000291</td>\n",
       "      <td>0.029060</td>\n",
       "    </tr>\n",
       "  </tbody>\n",
       "</table>\n",
       "</div>"
      ],
      "text/plain": [
       "  Optimisation  avg_percent_improve  Percentage Improvement\n",
       "0            1            -0.000194               -0.019370\n",
       "1        1+2+3             0.005488                0.548769\n",
       "2            2             0.001287                0.128695\n",
       "3          2+3             0.003735                0.373460\n",
       "4            3             0.000291                0.029060"
      ]
     },
     "execution_count": 35,
     "metadata": {},
     "output_type": "execute_result"
    }
   ],
   "source": [
    "optim_results = results \\\n",
    "    .groupby(by=[\"Optimisation\"]) \\\n",
    "    .agg(\n",
    "            avg_percent_improve=(\"Optim_improve\", \"mean\"),\n",
    "        )\n",
    "\n",
    "optim_results['Percentage Improvement'] = optim_results['avg_percent_improve'].apply(lambda x: x*100)\n",
    "optim_results = optim_results.reset_index()\n",
    "optim_results = optim_results[optim_results[\"Optimisation\"] != \"B\"]\n",
    "optim_results"
   ]
  },
  {
   "cell_type": "code",
   "execution_count": 36,
   "metadata": {},
   "outputs": [
    {
     "data": {
      "image/png": "[encoded data removed]",
      "text/plain": [
       "<Figure size 1000x600 with 1 Axes>"
      ]
     },
     "metadata": {},
     "output_type": "display_data"
    }
   ],
   "source": [
    "sns.set(rc={'figure.figsize':(10,6)})\n",
    "background_color = '#f1f4f5'\n",
    "sns.set(rc={'axes.facecolor':background_color})\n",
    "plt.rcParams['patch.linewidth'] = 0.3\n",
    "plt.rcParams['patch.edgecolor'] = 'k'\n",
    "\n",
    "colors = ['tab:orange','tab:blue','tab:green', 'tab:red', 'tab:purple']\n",
    "optim_order = [\"1\", \"2\", \"3\", \"2+3\", \"1+2+3\"]\n",
    "\n",
    "ax = sns.barplot(data=optim_results, x='Optimisation', y='Percentage Improvement',\n",
    "                 order=optim_order, palette=colors)\n",
    "\n",
    "plt.savefig(\"analysis_results/\" + str(test_name) + \"_compare.pdf\", bbox_inches=\"tight\")\n",
    "plt.show()"
   ]
  }
 ],
 "metadata": {
  "kernelspec": {
   "display_name": "Python [conda env:.conda-sql_benchmark] *",
   "language": "python",
   "name": "conda-env-.conda-sql_benchmark-py"
  },
  "language_info": {
   "codemirror_mode": {
    "name": "ipython",
    "version": 3
   },
   "file_extension": ".py",
   "mimetype": "text/x-python",
   "name": "python",
   "nbconvert_exporter": "python",
   "pygments_lexer": "ipython3",
   "version": "3.9.16"
  },
  "vscode": {
   "interpreter": {
    "hash": "3eb53a504e8f544f2db49e5c7d22a7422ec84315f2f9760969f8c7a9f3384b9e"
   }
  }
 },
 "nbformat": 4,
 "nbformat_minor": 2
}
