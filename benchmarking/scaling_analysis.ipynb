{
 "cells": [
  {
   "cell_type": "code",
   "execution_count": 29,
   "metadata": {},
   "outputs": [],
   "source": [
    "import pandas as pd\n",
    "import matplotlib.pyplot as plt\n",
    "from matplotlib.ticker import MultipleLocator\n",
    "plt.style.use('ggplot')\n",
    "import seaborn as sns\n",
    "import statistics"
   ]
  },
  {
   "cell_type": "code",
   "execution_count": 30,
   "metadata": {},
   "outputs": [],
   "source": [
    "results = pd.read_csv(\"test_results/pg_duck_tpch_scaling_test_results.csv\") \n",
    "test_name = \"postgres_duck_db_scaling\"\n",
    "\n",
    "results = results.rename(columns={\"Average\": \"Mean\"})"
   ]
  },
  {
   "cell_type": "code",
   "execution_count": 31,
   "metadata": {},
   "outputs": [
    {
     "name": "stdout",
     "output_type": "stream",
     "text": [
      "264\n"
     ]
    },
    {
     "data": {
      "text/html": [
       "<div>\n",
       "<style scoped>\n",
       "    .dataframe tbody tr th:only-of-type {\n",
       "        vertical-align: middle;\n",
       "    }\n",
       "\n",
       "    .dataframe tbody tr th {\n",
       "        vertical-align: top;\n",
       "    }\n",
       "\n",
       "    .dataframe thead th {\n",
       "        text-align: right;\n",
       "    }\n",
       "</style>\n",
       "<table border=\"1\" class=\"dataframe\">\n",
       "  <thead>\n",
       "    <tr style=\"text-align: right;\">\n",
       "      <th></th>\n",
       "      <th>Data Type</th>\n",
       "      <th>Scaling Factor</th>\n",
       "      <th>Query Name</th>\n",
       "      <th>Query Number</th>\n",
       "      <th>Mean</th>\n",
       "      <th>Correct</th>\n",
       "      <th>Executed</th>\n",
       "      <th>Runs</th>\n",
       "    </tr>\n",
       "  </thead>\n",
       "  <tbody>\n",
       "    <tr>\n",
       "      <th>0</th>\n",
       "      <td>SQL</td>\n",
       "      <td>1</td>\n",
       "      <td>Postgres</td>\n",
       "      <td>Query 1</td>\n",
       "      <td>6.010</td>\n",
       "      <td>True</td>\n",
       "      <td>Yes</td>\n",
       "      <td>[5.971983909606934, 5.659321069717407, 5.90975...</td>\n",
       "    </tr>\n",
       "    <tr>\n",
       "      <th>1</th>\n",
       "      <td>SQL</td>\n",
       "      <td>1</td>\n",
       "      <td>Duck DB</td>\n",
       "      <td>Query 1</td>\n",
       "      <td>0.454</td>\n",
       "      <td>True</td>\n",
       "      <td>Yes</td>\n",
       "      <td>[0.44919443130493164, 0.43576788902282715, 0.4...</td>\n",
       "    </tr>\n",
       "    <tr>\n",
       "      <th>2</th>\n",
       "      <td>Pandas</td>\n",
       "      <td>1</td>\n",
       "      <td>Pandas Converted (Duck DB)</td>\n",
       "      <td>Query 1</td>\n",
       "      <td>1.400</td>\n",
       "      <td>True</td>\n",
       "      <td>Yes</td>\n",
       "      <td>[1.8382604122161865, 1.316760778427124, 1.2993...</td>\n",
       "    </tr>\n",
       "    <tr>\n",
       "      <th>3</th>\n",
       "      <td>Pandas</td>\n",
       "      <td>1</td>\n",
       "      <td>Pandas Converted (Postgres)</td>\n",
       "      <td>Query 1</td>\n",
       "      <td>1.650</td>\n",
       "      <td>True</td>\n",
       "      <td>Yes</td>\n",
       "      <td>[2.179121971130371, 1.5935218334197998, 1.6101...</td>\n",
       "    </tr>\n",
       "    <tr>\n",
       "      <th>4</th>\n",
       "      <td>SQL</td>\n",
       "      <td>1</td>\n",
       "      <td>Postgres</td>\n",
       "      <td>Query 2</td>\n",
       "      <td>1.190</td>\n",
       "      <td>True</td>\n",
       "      <td>Yes</td>\n",
       "      <td>[1.3112611770629883, 1.133206844329834, 1.1428...</td>\n",
       "    </tr>\n",
       "  </tbody>\n",
       "</table>\n",
       "</div>"
      ],
      "text/plain": [
       "  Data Type  Scaling Factor                   Query Name Query Number   Mean  \\\n",
       "0       SQL               1                     Postgres      Query 1  6.010   \n",
       "1       SQL               1                      Duck DB      Query 1  0.454   \n",
       "2    Pandas               1   Pandas Converted (Duck DB)      Query 1  1.400   \n",
       "3    Pandas               1  Pandas Converted (Postgres)      Query 1  1.650   \n",
       "4       SQL               1                     Postgres      Query 2  1.190   \n",
       "\n",
       "   Correct Executed                                               Runs  \n",
       "0     True      Yes  [5.971983909606934, 5.659321069717407, 5.90975...  \n",
       "1     True      Yes  [0.44919443130493164, 0.43576788902282715, 0.4...  \n",
       "2     True      Yes  [1.8382604122161865, 1.316760778427124, 1.2993...  \n",
       "3     True      Yes  [2.179121971130371, 1.5935218334197998, 1.6101...  \n",
       "4     True      Yes  [1.3112611770629883, 1.133206844329834, 1.1428...  "
      ]
     },
     "execution_count": 31,
     "metadata": {},
     "output_type": "execute_result"
    }
   ],
   "source": [
    "print(len(results))\n",
    "results.head()"
   ]
  },
  {
   "cell_type": "code",
   "execution_count": 32,
   "metadata": {},
   "outputs": [
    {
     "name": "stdout",
     "output_type": "stream",
     "text": [
      "264\n"
     ]
    }
   ],
   "source": [
    "# Filter for Correct == True and Executed == Yes\n",
    "results = results[(results.Correct == True) & (results.Executed == \"Yes\")]\n",
    "print(len(results))"
   ]
  },
  {
   "cell_type": "code",
   "execution_count": 33,
   "metadata": {},
   "outputs": [],
   "source": [
    "# Sort Query Name column to in-order\n",
    "def extract_number(name):\n",
    "    return int(name.split(\" \")[1])\n",
    "\n",
    "results['Query Number'] = results.apply(lambda row : extract_number(row['Query Number']), axis = 1)\n",
    "results = results.sort_values(['Query Number'])\n",
    "\n",
    "# Fix the runs column\n",
    "def fix_runs(runs):\n",
    "    new_runs = list(str(str(runs)[1:-1]).split(\",\"))\n",
    "    for i in range(0, len(new_runs)):\n",
    "        new_runs[i] = float(new_runs[i].strip())\n",
    "    return new_runs\n",
    "\n",
    "results['Runs'] = results.apply(lambda row : fix_runs(row['Runs']), axis = 1)\n",
    "\n",
    "results['Median'] = results.apply(lambda row: statistics.median(sorted(row['Runs'])), axis = 1)\n",
    "\n",
    "def ignore_first_mean(runs):\n",
    "    return statistics.mean(runs[1:])\n",
    "\n",
    "results['Mean_first'] = results.apply(lambda row : ignore_first_mean(row['Runs']), axis = 1)\n",
    "results[\"Query Type\"] = results[\"Query Name\"]"
   ]
  },
  {
   "cell_type": "code",
   "execution_count": 34,
   "metadata": {},
   "outputs": [],
   "source": [
    "scaling_results = results \\\n",
    "    .groupby(['Scaling Factor', 'Query Type'], sort=False, as_index=False) \\\n",
    "    .agg(\n",
    "        mean_runtime=(\"Mean_first\", \"mean\"),\n",
    "    )\n",
    "\n",
    "scaling_results = scaling_results.sort_values(by=[\"Scaling Factor\", \"Query Type\"])"
   ]
  },
  {
   "cell_type": "code",
   "execution_count": 35,
   "metadata": {},
   "outputs": [
    {
     "data": {
      "text/html": [
       "<div>\n",
       "<style scoped>\n",
       "    .dataframe tbody tr th:only-of-type {\n",
       "        vertical-align: middle;\n",
       "    }\n",
       "\n",
       "    .dataframe tbody tr th {\n",
       "        vertical-align: top;\n",
       "    }\n",
       "\n",
       "    .dataframe thead th {\n",
       "        text-align: right;\n",
       "    }\n",
       "</style>\n",
       "<table border=\"1\" class=\"dataframe\">\n",
       "  <thead>\n",
       "    <tr style=\"text-align: right;\">\n",
       "      <th></th>\n",
       "      <th>Scaling Factor</th>\n",
       "      <th>Query Type</th>\n",
       "      <th>mean_runtime</th>\n",
       "    </tr>\n",
       "  </thead>\n",
       "  <tbody>\n",
       "    <tr>\n",
       "      <th>10</th>\n",
       "      <td>1</td>\n",
       "      <td>Duck DB</td>\n",
       "      <td>0.361325</td>\n",
       "    </tr>\n",
       "    <tr>\n",
       "      <th>9</th>\n",
       "      <td>1</td>\n",
       "      <td>Pandas Converted (Duck DB)</td>\n",
       "      <td>1.180460</td>\n",
       "    </tr>\n",
       "    <tr>\n",
       "      <th>8</th>\n",
       "      <td>1</td>\n",
       "      <td>Pandas Converted (Postgres)</td>\n",
       "      <td>1.799108</td>\n",
       "    </tr>\n",
       "    <tr>\n",
       "      <th>0</th>\n",
       "      <td>1</td>\n",
       "      <td>Postgres</td>\n",
       "      <td>2.553410</td>\n",
       "    </tr>\n",
       "    <tr>\n",
       "      <th>5</th>\n",
       "      <td>2</td>\n",
       "      <td>Duck DB</td>\n",
       "      <td>0.791060</td>\n",
       "    </tr>\n",
       "    <tr>\n",
       "      <th>6</th>\n",
       "      <td>2</td>\n",
       "      <td>Pandas Converted (Duck DB)</td>\n",
       "      <td>2.675514</td>\n",
       "    </tr>\n",
       "    <tr>\n",
       "      <th>11</th>\n",
       "      <td>2</td>\n",
       "      <td>Pandas Converted (Postgres)</td>\n",
       "      <td>4.019238</td>\n",
       "    </tr>\n",
       "    <tr>\n",
       "      <th>7</th>\n",
       "      <td>2</td>\n",
       "      <td>Postgres</td>\n",
       "      <td>5.363583</td>\n",
       "    </tr>\n",
       "    <tr>\n",
       "      <th>3</th>\n",
       "      <td>4</td>\n",
       "      <td>Duck DB</td>\n",
       "      <td>1.978765</td>\n",
       "    </tr>\n",
       "    <tr>\n",
       "      <th>2</th>\n",
       "      <td>4</td>\n",
       "      <td>Pandas Converted (Duck DB)</td>\n",
       "      <td>6.928626</td>\n",
       "    </tr>\n",
       "    <tr>\n",
       "      <th>1</th>\n",
       "      <td>4</td>\n",
       "      <td>Pandas Converted (Postgres)</td>\n",
       "      <td>11.712133</td>\n",
       "    </tr>\n",
       "    <tr>\n",
       "      <th>4</th>\n",
       "      <td>4</td>\n",
       "      <td>Postgres</td>\n",
       "      <td>12.564392</td>\n",
       "    </tr>\n",
       "  </tbody>\n",
       "</table>\n",
       "</div>"
      ],
      "text/plain": [
       "    Scaling Factor                   Query Type  mean_runtime\n",
       "10               1                      Duck DB      0.361325\n",
       "9                1   Pandas Converted (Duck DB)      1.180460\n",
       "8                1  Pandas Converted (Postgres)      1.799108\n",
       "0                1                     Postgres      2.553410\n",
       "5                2                      Duck DB      0.791060\n",
       "6                2   Pandas Converted (Duck DB)      2.675514\n",
       "11               2  Pandas Converted (Postgres)      4.019238\n",
       "7                2                     Postgres      5.363583\n",
       "3                4                      Duck DB      1.978765\n",
       "2                4   Pandas Converted (Duck DB)      6.928626\n",
       "1                4  Pandas Converted (Postgres)     11.712133\n",
       "4                4                     Postgres     12.564392"
      ]
     },
     "execution_count": 35,
     "metadata": {},
     "output_type": "execute_result"
    }
   ],
   "source": [
    "scaling_results"
   ]
  },
  {
   "cell_type": "code",
   "execution_count": 38,
   "metadata": {},
   "outputs": [
    {
     "data": {
      "image/png": "[encoded data removed]",
      "text/plain": [
       "<Figure size 1000x600 with 1 Axes>"
      ]
     },
     "metadata": {},
     "output_type": "display_data"
    }
   ],
   "source": [
    "# plot with seaborn barplot\n",
    "sns.set(rc={'figure.figsize':(10,6)})\n",
    "background_color = '#f1f4f5'\n",
    "sns.set(rc={'axes.facecolor':background_color})\n",
    "plt.rcParams['patch.linewidth'] = 0.3\n",
    "plt.rcParams['patch.edgecolor'] = 'k'\n",
    "\n",
    "color = ['tab:orange','tab:blue','#ffd9b7', '#bcd6e9']\n",
    "order = [\"Postgres\", \"Duck DB\", \"Pandas Converted (Postgres)\", \"Pandas Converted (Duck DB)\"]\n",
    "\n",
    "ax = sns.barplot(data=scaling_results, x='Scaling Factor', y='mean_runtime', hue='Query Type',\n",
    "                 palette=color, hue_order=order)\n",
    "\n",
    "ax.set(xlabel='Scaling Factor', ylabel='Mean Runtime (s)')\n",
    "\n",
    "ax.legend(loc='upper center', bbox_to_anchor=(0.5, 1.10),\n",
    "           ncol=4, fancybox=True, shadow=True)\n",
    "\n",
    "plt.savefig(\"analysis_results/\" + str(test_name) + \"_queries.pdf\", bbox_inches=\"tight\")\n",
    "plt.show()"
   ]
  }
 ],
 "metadata": {
  "kernelspec": {
   "display_name": "Python [conda env:.conda-sql_benchmark] *",
   "language": "python",
   "name": "conda-env-.conda-sql_benchmark-py"
  },
  "language_info": {
   "codemirror_mode": {
    "name": "ipython",
    "version": 3
   },
   "file_extension": ".py",
   "mimetype": "text/x-python",
   "name": "python",
   "nbconvert_exporter": "python",
   "pygments_lexer": "ipython3",
   "version": "3.9.16"
  },
  "vscode": {
   "interpreter": {
    "hash": "3eb53a504e8f544f2db49e5c7d22a7422ec84315f2f9760969f8c7a9f3384b9e"
   }
  }
 },
 "nbformat": 4,
 "nbformat_minor": 2
}
