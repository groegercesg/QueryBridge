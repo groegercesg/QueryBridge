{
 "cells": [
  {
   "cell_type": "code",
   "execution_count": 1,
   "metadata": {},
   "outputs": [],
   "source": [
    "import pandas as pd\n",
    "import numpy as np\n",
    "import matplotlib.pyplot as plt\n",
    "from matplotlib.ticker import MultipleLocator\n",
    "plt.style.use('ggplot')\n",
    "import seaborn as sns\n",
    "import statistics"
   ]
  },
  {
   "cell_type": "code",
   "execution_count": 2,
   "metadata": {},
   "outputs": [],
   "source": [
    "results = pd.read_csv(\"test_results/pg_duck_tpch_scaling_test_results.csv\") \n",
    "test_name = \"postgres_duck_db_scaling\"\n",
    "\n",
    "results = results.rename(columns={\"Average\": \"Mean\"})"
   ]
  },
  {
   "cell_type": "code",
   "execution_count": 3,
   "metadata": {},
   "outputs": [],
   "source": [
    "#print(len(results))\n",
    "#results.head()"
   ]
  },
  {
   "cell_type": "code",
   "execution_count": 4,
   "metadata": {},
   "outputs": [
    {
     "name": "stdout",
     "output_type": "stream",
     "text": [
      "352\n"
     ]
    }
   ],
   "source": [
    "# Filter for Correct == True and Executed == Yes\n",
    "results = results[(results.Correct == True) & (results.Executed == \"Yes\")]\n",
    "print(len(results))"
   ]
  },
  {
   "cell_type": "code",
   "execution_count": 5,
   "metadata": {},
   "outputs": [],
   "source": [
    "# Sort Query Name column to in-order\n",
    "def extract_number(name):\n",
    "    return int(name.split(\" \")[1])\n",
    "\n",
    "results['Query Number'] = results.apply(lambda row : extract_number(row['Query Number']), axis = 1)\n",
    "results = results.sort_values(['Query Number'])\n",
    "\n",
    "# Fix the runs column\n",
    "def fix_runs(runs):\n",
    "    new_runs = list(str(str(runs)[1:-1]).split(\",\"))\n",
    "    for i in range(0, len(new_runs)):\n",
    "        new_runs[i] = float(new_runs[i].strip())\n",
    "    return new_runs\n",
    "\n",
    "results['Runs'] = results.apply(lambda row : fix_runs(row['Runs']), axis = 1)\n",
    "\n",
    "def g_mean(x):\n",
    "    a = np.log(x)\n",
    "    return np.exp(a.mean())\n",
    "\n",
    "def ignore_first_mean(runs):\n",
    "    return g_mean(runs[1:])\n",
    "\n",
    "results['Mean'] = results.apply(lambda row : ignore_first_mean(row['Runs']), axis = 1)\n",
    "results[\"Query Type\"] = results[\"Query Name\"]"
   ]
  },
  {
   "cell_type": "code",
   "execution_count": 6,
   "metadata": {},
   "outputs": [],
   "source": [
    "scaling_results = results \\\n",
    "    .groupby(['Scaling Factor', 'Query Type'], sort=False, as_index=False) \\\n",
    "    .agg(\n",
    "        mean_runtime=(\"Mean\", g_mean),\n",
    "    )\n",
    "\n",
    "scaling_results = scaling_results.sort_values(by=[\"Scaling Factor\", \"Query Type\"])"
   ]
  },
  {
   "cell_type": "code",
   "execution_count": 7,
   "metadata": {},
   "outputs": [],
   "source": [
    "# Make the numbers relative\n",
    "mean_dict = scaling_results[scaling_results[\"Scaling Factor\"] == 0.5][[\"Query Type\", \"mean_runtime\"]].reset_index(drop=True).set_index([\"Query Type\"]).to_dict('index')\n",
    "\n",
    "def do_scaling(q_type, mean_runtime):\n",
    "    return float(mean_runtime / mean_dict[q_type]['mean_runtime'])\n",
    "\n",
    "scaling_results['Scaled Runtime'] = scaling_results.apply(lambda row : do_scaling(row['Query Type'], row[\"mean_runtime\"]), axis = 1)"
   ]
  },
  {
   "cell_type": "code",
   "execution_count": 8,
   "metadata": {},
   "outputs": [
    {
     "data": {
      "text/html": [
       "<div>\n",
       "<style scoped>\n",
       "    .dataframe tbody tr th:only-of-type {\n",
       "        vertical-align: middle;\n",
       "    }\n",
       "\n",
       "    .dataframe tbody tr th {\n",
       "        vertical-align: top;\n",
       "    }\n",
       "\n",
       "    .dataframe thead th {\n",
       "        text-align: right;\n",
       "    }\n",
       "</style>\n",
       "<table border=\"1\" class=\"dataframe\">\n",
       "  <thead>\n",
       "    <tr style=\"text-align: right;\">\n",
       "      <th></th>\n",
       "      <th>Scaling Factor</th>\n",
       "      <th>Query Type</th>\n",
       "      <th>mean_runtime</th>\n",
       "      <th>Scaled Runtime</th>\n",
       "    </tr>\n",
       "  </thead>\n",
       "  <tbody>\n",
       "    <tr>\n",
       "      <th>13</th>\n",
       "      <td>0.5</td>\n",
       "      <td>Duck DB</td>\n",
       "      <td>0.102788</td>\n",
       "      <td>1.000000</td>\n",
       "    </tr>\n",
       "    <tr>\n",
       "      <th>14</th>\n",
       "      <td>0.5</td>\n",
       "      <td>Pandas Converted (Duck DB)</td>\n",
       "      <td>0.362977</td>\n",
       "      <td>1.000000</td>\n",
       "    </tr>\n",
       "    <tr>\n",
       "      <th>15</th>\n",
       "      <td>0.5</td>\n",
       "      <td>Pandas Converted (Postgres)</td>\n",
       "      <td>0.445983</td>\n",
       "      <td>1.000000</td>\n",
       "    </tr>\n",
       "    <tr>\n",
       "      <th>0</th>\n",
       "      <td>0.5</td>\n",
       "      <td>Postgres</td>\n",
       "      <td>0.650782</td>\n",
       "      <td>1.000000</td>\n",
       "    </tr>\n",
       "    <tr>\n",
       "      <th>7</th>\n",
       "      <td>1.0</td>\n",
       "      <td>Duck DB</td>\n",
       "      <td>0.214884</td>\n",
       "      <td>2.090560</td>\n",
       "    </tr>\n",
       "    <tr>\n",
       "      <th>12</th>\n",
       "      <td>1.0</td>\n",
       "      <td>Pandas Converted (Duck DB)</td>\n",
       "      <td>0.744483</td>\n",
       "      <td>2.051048</td>\n",
       "    </tr>\n",
       "    <tr>\n",
       "      <th>2</th>\n",
       "      <td>1.0</td>\n",
       "      <td>Pandas Converted (Postgres)</td>\n",
       "      <td>0.937648</td>\n",
       "      <td>2.102431</td>\n",
       "    </tr>\n",
       "    <tr>\n",
       "      <th>1</th>\n",
       "      <td>1.0</td>\n",
       "      <td>Postgres</td>\n",
       "      <td>1.432750</td>\n",
       "      <td>2.201582</td>\n",
       "    </tr>\n",
       "    <tr>\n",
       "      <th>4</th>\n",
       "      <td>2.0</td>\n",
       "      <td>Duck DB</td>\n",
       "      <td>0.456099</td>\n",
       "      <td>4.437291</td>\n",
       "    </tr>\n",
       "    <tr>\n",
       "      <th>5</th>\n",
       "      <td>2.0</td>\n",
       "      <td>Pandas Converted (Duck DB)</td>\n",
       "      <td>1.620265</td>\n",
       "      <td>4.463824</td>\n",
       "    </tr>\n",
       "    <tr>\n",
       "      <th>6</th>\n",
       "      <td>2.0</td>\n",
       "      <td>Pandas Converted (Postgres)</td>\n",
       "      <td>1.981154</td>\n",
       "      <td>4.442224</td>\n",
       "    </tr>\n",
       "    <tr>\n",
       "      <th>3</th>\n",
       "      <td>2.0</td>\n",
       "      <td>Postgres</td>\n",
       "      <td>3.019140</td>\n",
       "      <td>4.639248</td>\n",
       "    </tr>\n",
       "    <tr>\n",
       "      <th>9</th>\n",
       "      <td>4.0</td>\n",
       "      <td>Duck DB</td>\n",
       "      <td>1.195703</td>\n",
       "      <td>11.632751</td>\n",
       "    </tr>\n",
       "    <tr>\n",
       "      <th>10</th>\n",
       "      <td>4.0</td>\n",
       "      <td>Pandas Converted (Duck DB)</td>\n",
       "      <td>3.659887</td>\n",
       "      <td>10.082976</td>\n",
       "    </tr>\n",
       "    <tr>\n",
       "      <th>11</th>\n",
       "      <td>4.0</td>\n",
       "      <td>Pandas Converted (Postgres)</td>\n",
       "      <td>4.490126</td>\n",
       "      <td>10.067940</td>\n",
       "    </tr>\n",
       "    <tr>\n",
       "      <th>8</th>\n",
       "      <td>4.0</td>\n",
       "      <td>Postgres</td>\n",
       "      <td>7.514759</td>\n",
       "      <td>11.547273</td>\n",
       "    </tr>\n",
       "  </tbody>\n",
       "</table>\n",
       "</div>"
      ],
      "text/plain": [
       "    Scaling Factor                   Query Type  mean_runtime  Scaled Runtime\n",
       "13             0.5                      Duck DB      0.102788        1.000000\n",
       "14             0.5   Pandas Converted (Duck DB)      0.362977        1.000000\n",
       "15             0.5  Pandas Converted (Postgres)      0.445983        1.000000\n",
       "0              0.5                     Postgres      0.650782        1.000000\n",
       "7              1.0                      Duck DB      0.214884        2.090560\n",
       "12             1.0   Pandas Converted (Duck DB)      0.744483        2.051048\n",
       "2              1.0  Pandas Converted (Postgres)      0.937648        2.102431\n",
       "1              1.0                     Postgres      1.432750        2.201582\n",
       "4              2.0                      Duck DB      0.456099        4.437291\n",
       "5              2.0   Pandas Converted (Duck DB)      1.620265        4.463824\n",
       "6              2.0  Pandas Converted (Postgres)      1.981154        4.442224\n",
       "3              2.0                     Postgres      3.019140        4.639248\n",
       "9              4.0                      Duck DB      1.195703       11.632751\n",
       "10             4.0   Pandas Converted (Duck DB)      3.659887       10.082976\n",
       "11             4.0  Pandas Converted (Postgres)      4.490126       10.067940\n",
       "8              4.0                     Postgres      7.514759       11.547273"
      ]
     },
     "execution_count": 8,
     "metadata": {},
     "output_type": "execute_result"
    }
   ],
   "source": [
    "scaling_results"
   ]
  },
  {
   "cell_type": "code",
   "execution_count": 9,
   "metadata": {},
   "outputs": [
    {
     "data": {
      "image/png": "[encoded data removed]",
      "text/plain": [
       "<Figure size 1000x600 with 1 Axes>"
      ]
     },
     "metadata": {},
     "output_type": "display_data"
    }
   ],
   "source": [
    "# plot with seaborn barplot\n",
    "sns.set(rc={'figure.figsize':(10,6)})\n",
    "background_color = '#f1f4f5'\n",
    "sns.set(rc={'axes.facecolor':background_color})\n",
    "plt.rcParams['patch.linewidth'] = 0.3\n",
    "plt.rcParams['patch.edgecolor'] = 'k'\n",
    "\n",
    "color = ['tab:orange','tab:blue','#ffd9b7', '#bcd6e9']\n",
    "order = [\"Postgres\", \"Duck DB\", \"Pandas Converted (Postgres)\", \"Pandas Converted (Duck DB)\"]\n",
    "\n",
    "ax = sns.barplot(data=scaling_results, x='Scaling Factor', y='Scaled Runtime', hue='Query Type',\n",
    "                 palette=color, hue_order=order)\n",
    "\n",
    "ax.set(xlabel='Scaling Factor', ylabel='Relative Mean Runtime')\n",
    "# ax.set_yscale(\"log\")\n",
    "\n",
    "# # the non-logarithmic labels \n",
    "# ticks = [1, 10]\n",
    "# ax.set_yticks(ticks)\n",
    "# ax.set_yticklabels(ticks)\n",
    "\n",
    "ax.legend(loc='upper center', bbox_to_anchor=(0.5, 1.10),\n",
    "           ncol=4, fancybox=True, shadow=True)\n",
    "\n",
    "plt.savefig(\"analysis_results/\" + str(test_name) + \"_queries.pdf\", bbox_inches=\"tight\")\n",
    "plt.show()"
   ]
  },
  {
   "cell_type": "markdown",
   "metadata": {},
   "source": [
    "### Focus on specific cells"
   ]
  },
  {
   "cell_type": "code",
   "execution_count": 10,
   "metadata": {},
   "outputs": [
    {
     "data": {
      "image/png": "[encoded data removed]",
      "text/plain": [
       "<Figure size 1000x600 with 1 Axes>"
      ]
     },
     "metadata": {},
     "output_type": "display_data"
    }
   ],
   "source": [
    "q20_results = results[results[\"Query Number\"] == 20].sort_values(by=[\"Scaling Factor\", \"Query Type\"])\n",
    "\n",
    "# plot with seaborn barplot\n",
    "sns.set(rc={'figure.figsize':(10,6)})\n",
    "background_color = '#f1f4f5'\n",
    "sns.set(rc={'axes.facecolor':background_color})\n",
    "plt.rcParams['patch.linewidth'] = 0.3\n",
    "plt.rcParams['patch.edgecolor'] = 'k'\n",
    "\n",
    "color = ['tab:orange','tab:blue','#ffd9b7', '#bcd6e9']\n",
    "order = [\"Postgres\", \"Duck DB\", \"Pandas Converted (Postgres)\", \"Pandas Converted (Duck DB)\"]\n",
    "\n",
    "ax = sns.barplot(data=q20_results, x='Scaling Factor', y='Mean', hue='Query Type',\n",
    "                 palette=color, hue_order=order)\n",
    "\n",
    "ax.set(xlabel='Scaling Factor', ylabel='Mean Runtime')\n",
    "# ax.set_yscale(\"log\")\n",
    "\n",
    "# # the non-logarithmic labels \n",
    "# ticks = [1, 10]\n",
    "# ax.set_yticks(ticks)\n",
    "# ax.set_yticklabels(ticks)\n",
    "\n",
    "ax.legend(loc='upper center', bbox_to_anchor=(0.5, 1.10),\n",
    "           ncol=4, fancybox=True, shadow=True)\n",
    "\n",
    "#plt.savefig(\"analysis_results/\" + str(test_name) + \"_queries.pdf\", bbox_inches=\"tight\")\n",
    "plt.show()"
   ]
  }
 ],
 "metadata": {
  "kernelspec": {
   "display_name": "Python [conda env:.conda-sql_benchmark] *",
   "language": "python",
   "name": "conda-env-.conda-sql_benchmark-py"
  },
  "language_info": {
   "codemirror_mode": {
    "name": "ipython",
    "version": 3
   },
   "file_extension": ".py",
   "mimetype": "text/x-python",
   "name": "python",
   "nbconvert_exporter": "python",
   "pygments_lexer": "ipython3",
   "version": "3.9.16"
  },
  "vscode": {
   "interpreter": {
    "hash": "3eb53a504e8f544f2db49e5c7d22a7422ec84315f2f9760969f8c7a9f3384b9e"
   }
  }
 },
 "nbformat": 4,
 "nbformat_minor": 2
}
