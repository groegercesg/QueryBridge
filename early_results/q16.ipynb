{
 "cells": [
  {
   "cell_type": "code",
   "execution_count": 43,
   "metadata": {},
   "outputs": [],
   "source": [
    "from numpy import char\n",
    "from datetime import date\n",
    "import pandas as pd\n",
    "import numpy as np\n",
    "import time\n",
    "pd.set_option('display.float_format', str)"
   ]
  },
  {
   "cell_type": "markdown",
   "metadata": {},
   "source": [
    "### Supplier"
   ]
  },
  {
   "cell_type": "code",
   "execution_count": 44,
   "metadata": {},
   "outputs": [],
   "source": [
    "s_columnnames = [\"S_SUPPKEY\", \"S_NAME\", \"S_ADDRESS\", \"S_NATIONKEY\", \"S_PHONE\", \"S_ACCTBAL\", \"S_COMMENT\"]\n",
    "\n",
    "for i in range(len(s_columnnames)):\n",
    "    s_columnnames[i] = s_columnnames[i].lower()\n",
    "\n",
    "s_data_types = {\n",
    "    's_suppkey': int,\n",
    "    's_name': str,\n",
    "    's_address': str,\n",
    "    's_nationkey': int,\n",
    "    's_phone': str,\n",
    "    's_acctbal': float,\n",
    "    's_comment': str\n",
    "}\n",
    "\n",
    "s_parse_dates = []"
   ]
  },
  {
   "cell_type": "code",
   "execution_count": 45,
   "metadata": {},
   "outputs": [],
   "source": [
    "# Don't set indexes, as we can't access them with Pandas selection!\n",
    "supplier = pd.read_table(\"../tpch-pgsql-master/data/load/supplier.tbl.csv\", sep=\"|\", names=s_columnnames, dtype=s_data_types, parse_dates=s_parse_dates)"
   ]
  },
  {
   "cell_type": "markdown",
   "metadata": {},
   "source": [
    "### Partsupp"
   ]
  },
  {
   "cell_type": "code",
   "execution_count": 46,
   "metadata": {},
   "outputs": [],
   "source": [
    "ps_columnnames = [\"PS_PARTKEY\", \"PS_SUPPKEY\", \"PS_AVAILQTY\", \"PS_SUPPLYCOST\", \"PS_COMMENT\"]\n",
    "\n",
    "for i in range(len(ps_columnnames)):\n",
    "    ps_columnnames[i] = ps_columnnames[i].lower()\n",
    "\n",
    "ps_data_types = {\n",
    "    'ps_partkey': int,\n",
    "    'ps_suppkey': int,\n",
    "    'ps_availqty': int,\n",
    "    'ps_supplycost': float,\n",
    "    'ps_comment': str\n",
    "}\n",
    "\n",
    "ps_parse_dates = []"
   ]
  },
  {
   "cell_type": "code",
   "execution_count": 47,
   "metadata": {},
   "outputs": [],
   "source": [
    "# Don't set indexes, as we can't access them with Pandas selection!\n",
    "partsupp = pd.read_table(\"../tpch-pgsql-master/data/load/partsupp.tbl.csv\", sep=\"|\", names=ps_columnnames, dtype=ps_data_types, parse_dates=ps_parse_dates)"
   ]
  },
  {
   "cell_type": "markdown",
   "metadata": {},
   "source": [
    "### Part"
   ]
  },
  {
   "cell_type": "code",
   "execution_count": 48,
   "metadata": {},
   "outputs": [],
   "source": [
    "p_columnnames = [\"P_PARTKEY\", \"P_NAME\", \"P_MFGR\", \"P_BRAND\", \"P_TYPE\", \"P_SIZE\", \"P_CONTAINER\", \"P_RETAILPRICE\", \"P_COMMENT\"]\n",
    "\n",
    "for i in range(len(p_columnnames)):\n",
    "    p_columnnames[i] = p_columnnames[i].lower()\n",
    "    \n",
    "p_data_types = {\n",
    "    'p_partkey': int, \n",
    "    'p_name': str,\n",
    "    'p_mfgr': str,\n",
    "    'p_brand': str,\n",
    "    'p_type': str,\n",
    "    'p_size': int,\n",
    "    'p_container': str,\n",
    "    'p_retailprice': float,\n",
    "    'p_comment': str\n",
    "}\n",
    "\n",
    "p_parse_dates = []"
   ]
  },
  {
   "cell_type": "code",
   "execution_count": 49,
   "metadata": {},
   "outputs": [],
   "source": [
    "# Don't set indexes, as we can't access them with Pandas selection!\n",
    "part = pd.read_table(\"../tpch-pgsql-master/data/load/part.tbl.csv\", sep=\"|\", names=p_columnnames, dtype=p_data_types, parse_dates=p_parse_dates)"
   ]
  },
  {
   "cell_type": "markdown",
   "metadata": {},
   "source": [
    "## Query"
   ]
  },
  {
   "cell_type": "markdown",
   "metadata": {},
   "source": [
    "#### Hesam"
   ]
  },
  {
   "cell_type": "code",
   "execution_count": 50,
   "metadata": {},
   "outputs": [
    {
     "name": "stdout",
     "output_type": "stream",
     "text": [
      "18314\n",
      "                                         supplier_cnt\n",
      "p_brand  p_type                  p_size              \n",
      "Brand#11 ECONOMY ANODIZED BRASS  3                  4\n",
      "                                 14                16\n",
      "                                 19                 8\n",
      "                                 23                16\n",
      "                                 45                 4\n",
      "...                                               ...\n",
      "Brand#55 STANDARD POLISHED STEEL 45                 8\n",
      "                                 49                 8\n",
      "         STANDARD POLISHED TIN   9                  4\n",
      "                                 19                 4\n",
      "                                 36                 4\n",
      "\n",
      "[18314 rows x 1 columns]\n",
      "---------------\n",
      "1.3878214359283447\n",
      "---------------\n"
     ]
    }
   ],
   "source": [
    "start_t = time.time()\n",
    "\n",
    "pa_filt = part[\n",
    "            (part.p_brand != \"Brand#45\") &\n",
    "            (part.p_type.str.startswith(\"MEDIUM POLISHED\") == False) &\n",
    "            (\n",
    "                    (part.p_size == 49) |\n",
    "                    (part.p_size == 14) |\n",
    "                    (part.p_size == 23) |\n",
    "                    (part.p_size == 45) |\n",
    "                    (part.p_size == 19) |\n",
    "                    (part.p_size == 3)  |\n",
    "                    (part.p_size == 36) |\n",
    "                    (part.p_size == 9)\n",
    "            )\n",
    "        ]\n",
    "pa_proj = pa_filt[[\"p_partkey\", \"p_brand\", \"p_type\", \"p_size\"]]\n",
    "\n",
    "su_filt = supplier[supplier.s_comment.str.contains(\"Customer\") & (supplier.s_comment.str.find(\"Customer\") + 7) < supplier.s_comment.str.find(\"Complaints\")]\n",
    "su_proj = su_filt[[\"s_suppkey\"]]\n",
    "\n",
    "ps_filt = partsupp[~partsupp.ps_suppkey.isin(su_proj[\"s_suppkey\"])]\n",
    "\n",
    "ps_pa_join = pd.merge(pa_proj, ps_filt, left_on = \"p_partkey\", right_on = \"ps_partkey\", how = \"inner\")\n",
    "\n",
    "f1 = lambda x: x.nunique()\n",
    "result = ps_pa_join \\\n",
    "    .groupby([\"p_brand\", \"p_type\", \"p_size\"]) \\\n",
    "    .agg(supplier_cnt=(\"ps_suppkey\", f1))\n",
    "\n",
    "print(len(result))\n",
    "print(result)\n",
    "\n",
    "print(\"---\" * 5)\n",
    "print(time.time() - start_t)\n",
    "print(\"---\" * 5)"
   ]
  },
  {
   "cell_type": "code",
   "execution_count": 51,
   "metadata": {},
   "outputs": [
    {
     "name": "stdout",
     "output_type": "stream",
     "text": [
      "1\n",
      "                                    supplier_cnt\n",
      "p_brand  p_type             p_size              \n",
      "Brand#41 MEDIUM BRUSHED TIN 3                 28\n",
      "---------------\n",
      "1.340609073638916\n",
      "---------------\n"
     ]
    }
   ],
   "source": [
    "start_t = time.time()\n",
    "\n",
    "df_filter_1 = supplier[(supplier.s_comment.str.contains(\"Customer\")) & (supplier.s_comment.str.contains(\"Complaints\")) & (supplier.s_comment.str.find(\"Customer\") < supplier.s_comment.str.find(\"Complaints\"))]\n",
    "df_filter_1 = df_filter_1[['s_suppkey']]\n",
    "df_filter_2 = partsupp[~partsupp.ps_suppkey.isin(df_filter_1[\"s_suppkey\"])]\n",
    "df_filter_2 = df_filter_2[['ps_partkey', 'ps_suppkey']]\n",
    "df_filter_3 = part[(part.p_brand != 'Brand#45') & (part.p_type.str.startswith(\"MEDIUM POLISHED\") == False) & (part.p_size.isin([49,14,23,45,19,3,36,9]))]\n",
    "df_filter_3 = df_filter_3[['p_brand', 'p_type', 'p_size', 'p_partkey']]\n",
    "df_merge_1 = df_filter_2.merge(df_filter_3, left_on=\"ps_partkey\", right_on=\"p_partkey\")\n",
    "df_merge_1 = df_merge_1[['p_brand', 'p_type', 'p_size', 'ps_suppkey']]\n",
    "df_sort_1 = df_merge_1.sort_values(by=['p_brand', 'p_type', 'p_size'], ascending=[True, True, True])\n",
    "df_sort_1 = df_sort_1[['p_brand', 'p_type', 'p_size', 'ps_suppkey']]\n",
    "df_group_1 = df_sort_1 \\\n",
    "    .groupby(['p_brand', 'p_type', 'p_size']) \\\n",
    "    .agg(\n",
    "        supplier_cnt=(\"ps_suppkey\", lambda x: x.nunique()),\n",
    "    )\n",
    "df_group_1 = df_group_1[['supplier_cnt']]\n",
    "df_sort_2 = df_group_1.sort_values(by=['supplier_cnt', 'p_brand', 'p_type', 'p_size'], ascending=[False, True, True, True])\n",
    "df_sort_2 = df_sort_2[['supplier_cnt']]\n",
    "df_limit_1 = df_sort_2[['supplier_cnt']]\n",
    "result = df_limit_1.head(1)\n",
    "\n",
    "print(len(result))\n",
    "print(result)\n",
    "\n",
    "print(\"---\" * 5)\n",
    "print(time.time() - start_t)\n",
    "print(\"---\" * 5)"
   ]
  },
  {
   "cell_type": "code",
   "execution_count": 52,
   "metadata": {},
   "outputs": [],
   "source": [
    "import pandas as pd\n",
    "def query(partsupp, supplier, part):\n",
    "    df_filter_1 = supplier[(supplier.s_comment.str.contains(\"Customer\")) & (supplier.s_comment.str.contains(\"Complaints\")) & (supplier.s_comment.str.find(\"Customer\") < supplier.s_comment.str.find(\"Complaints\"))]\n",
    "    df_filter_1 = df_filter_1[['s_suppkey']]\n",
    "    df_filter_2 = partsupp[~partsupp.ps_suppkey.isin(df_filter_1[\"s_suppkey\"])]\n",
    "    df_filter_2 = df_filter_2[['ps_partkey', 'ps_suppkey']]\n",
    "    df_filter_3 = part[(part.p_brand != 'Brand#45') & (part.p_type.str.startswith(\"MEDIUM POLISHED\") == False) & (part.p_size.isin([49,14,23,45,19,3,36,9]))]\n",
    "    df_filter_3 = df_filter_3[['p_brand', 'p_type', 'p_size', 'p_partkey']]\n",
    "    df_merge_1 = df_filter_2.merge(df_filter_3, left_on=\"ps_partkey\", right_on=\"p_partkey\")\n",
    "    df_merge_1 = df_merge_1[['p_brand', 'p_type', 'p_size', 'ps_suppkey']]\n",
    "    df_sort_1 = df_merge_1.sort_values(by=['p_brand', 'p_type', 'p_size'], ascending=[True, True, True])\n",
    "    df_sort_1 = df_sort_1[['p_brand', 'p_type', 'p_size', 'ps_suppkey']]\n",
    "    df_group_1 = df_sort_1 \\\n",
    "        .groupby(['p_brand', 'p_type', 'p_size']) \\\n",
    "        .agg(\n",
    "            supplier_cnt=(\"ps_suppkey\", lambda x: x.nunique()),\n",
    "        )\n",
    "    df_group_1 = df_group_1[['supplier_cnt']]\n",
    "    df_sort_2 = df_group_1.sort_values(by=['supplier_cnt', 'p_brand', 'p_type', 'p_size'], ascending=[False, True, True, True])\n",
    "    df_sort_2 = df_sort_2[['supplier_cnt']]\n",
    "    df_limit_1 = df_sort_2[['supplier_cnt']]\n",
    "    result = df_limit_1.head(1)\n",
    "    return result"
   ]
  }
 ],
 "metadata": {
  "kernelspec": {
   "display_name": "Python 3.9.12 ('sql_benchmark')",
   "language": "python",
   "name": "python3"
  },
  "language_info": {
   "codemirror_mode": {
    "name": "ipython",
    "version": 3
   },
   "file_extension": ".py",
   "mimetype": "text/x-python",
   "name": "python",
   "nbconvert_exporter": "python",
   "pygments_lexer": "ipython3",
   "version": "3.9.12"
  },
  "orig_nbformat": 4,
  "vscode": {
   "interpreter": {
    "hash": "3eb53a504e8f544f2db49e5c7d22a7422ec84315f2f9760969f8c7a9f3384b9e"
   }
  }
 },
 "nbformat": 4,
 "nbformat_minor": 2
}
