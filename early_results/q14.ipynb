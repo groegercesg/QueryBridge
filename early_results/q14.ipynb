{
 "cells": [
  {
   "cell_type": "code",
   "execution_count": 6,
   "metadata": {},
   "outputs": [],
   "source": [
    "from numpy import char\n",
    "from datetime import date\n",
    "import pandas as pd\n",
    "import numpy as np\n",
    "import time\n",
    "pd.set_option('display.float_format', str)"
   ]
  },
  {
   "cell_type": "code",
   "execution_count": 7,
   "metadata": {},
   "outputs": [],
   "source": [
    "l_columnnames = [\"L_ORDERKEY\", \"L_PARTKEY\", \"L_SUPPKEY\", \"L_LINENUMBER\", \"L_QUANTITY\", \"L_EXTENDEDPRICE\", \"L_DISCOUNT\", \"L_TAX\", \"L_RETURNFLAG\", \"L_LINESTATUS\", \"L_SHIPDATE\", \"L_COMMITDATE\", \"L_RECEIPTDATE\", \"L_SHIPINSTRUCT\",\"L_SHIPMODE\", \"L_COMMENT\"]\n",
    "\n",
    "for i in range(len(l_columnnames)):\n",
    "    l_columnnames[i] = l_columnnames[i].lower()\n",
    "    \n",
    "l_data_types = {\n",
    "    'l_orderkey': int,\n",
    "    'l_partkey': int,\n",
    "    'l_suppkey': int,\n",
    "    'l_linenumber': int,\n",
    "    'l_quantity': float,\n",
    "    'l_extendedprice': float,\n",
    "    'l_discount': float,\n",
    "    'l_tax': float,\n",
    "    'l_returnflag': str,\n",
    "    'l_linestatus': str,\n",
    "    'l_shipinstruct': str,\n",
    "    'l_shipmode': str,\n",
    "    'l_comment': str\n",
    "}\n",
    "\n",
    "l_parse_dates = ['l_shipdate', 'l_commitdate', 'l_receiptdate']"
   ]
  },
  {
   "cell_type": "code",
   "execution_count": 8,
   "metadata": {},
   "outputs": [],
   "source": [
    "# Don't set indexes, as we can't access them with Pandas selection!\n",
    "lineitem = pd.read_table(\"../tpch-pgsql-master/data/load/lineitem.tbl.csv\", sep=\"|\", names=l_columnnames, dtype=l_data_types, parse_dates=l_parse_dates)"
   ]
  },
  {
   "cell_type": "code",
   "execution_count": 9,
   "metadata": {},
   "outputs": [],
   "source": [
    "p_columnnames = [\"P_PARTKEY\", \"P_NAME\", \"P_MFGR\", \"P_BRAND\", \"P_TYPE\", \"P_SIZE\", \"P_CONTAINER\", \"P_RETAILPRICE\", \"P_COMMENT\"]\n",
    "\n",
    "for i in range(len(p_columnnames)):\n",
    "    p_columnnames[i] = p_columnnames[i].lower()\n",
    "    \n",
    "p_data_types = {\n",
    "    'p_partkey': int, \n",
    "    'p_name': str,\n",
    "    'p_mfgr': str,\n",
    "    'p_brand': str,\n",
    "    'p_type': str,\n",
    "    'p_size': int,\n",
    "    'p_container': str,\n",
    "    'p_retailprice': float,\n",
    "    'p_comment': str\n",
    "}\n",
    "\n",
    "p_parse_dates = []"
   ]
  },
  {
   "cell_type": "code",
   "execution_count": 10,
   "metadata": {},
   "outputs": [],
   "source": [
    "# Don't set indexes, as we can't access them with Pandas selection!\n",
    "part = pd.read_table(\"../tpch-pgsql-master/data/load/part.tbl.csv\", sep=\"|\", names=p_columnnames, dtype=p_data_types, parse_dates=p_parse_dates)"
   ]
  },
  {
   "cell_type": "markdown",
   "metadata": {},
   "source": [
    "## Q14"
   ]
  },
  {
   "cell_type": "code",
   "execution_count": 11,
   "metadata": {},
   "outputs": [
    {
     "name": "stdout",
     "output_type": "stream",
     "text": [
      "1\n",
      "       promo_revenue\n",
      "0 16.380778626395536\n",
      "---------------\n",
      "0.9248039722442627\n",
      "---------------\n"
     ]
    }
   ],
   "source": [
    "start_t = time.time()\n",
    "\n",
    "df_filter_1 = lineitem[(lineitem.l_shipdate >= pd.Timestamp('1995-09-01 00:00:00')) & (lineitem.l_shipdate < pd.Timestamp('1995-10-01 00:00:00'))]\n",
    "df_filter_1 = df_filter_1[['l_extendedprice', 'l_discount', 'l_partkey']]\n",
    "df_filter_2 = part[['p_type', 'p_partkey']]\n",
    "df_merge_1 = df_filter_1.merge(df_filter_2, left_on=\"l_partkey\", right_on=\"p_partkey\")\n",
    "df_merge_1 = df_merge_1[['p_type', 'l_extendedprice', 'l_discount']]\n",
    "df_aggr_1 = pd.DataFrame()\n",
    "df_aggr_1['promo_revenue'] = [100.00 * (df_merge_1.apply(lambda x: ( x[\"l_extendedprice\"] * ( 1 - x[\"l_discount\"] )) if x[\"p_type\"].startswith(\"PROMO\") else 0, axis=1)).sum() / (df_merge_1.l_extendedprice * ( 1 - df_merge_1.l_discount )).sum()]\n",
    "df_aggr_1 = df_aggr_1[['promo_revenue']]\n",
    "df_limit_1 = df_aggr_1[['promo_revenue']]\n",
    "result = df_limit_1.head(1)\n",
    "\n",
    "print(len(result))\n",
    "print(result)\n",
    "\n",
    "print(\"---\" * 5)\n",
    "print(time.time() - start_t)\n",
    "print(\"---\" * 5)"
   ]
  }
 ],
 "metadata": {
  "kernelspec": {
   "display_name": "Python 3.10.6 64-bit",
   "language": "python",
   "name": "python3"
  },
  "language_info": {
   "codemirror_mode": {
    "name": "ipython",
    "version": 3
   },
   "file_extension": ".py",
   "mimetype": "text/x-python",
   "name": "python",
   "nbconvert_exporter": "python",
   "pygments_lexer": "ipython3",
   "version": "3.10.6"
  },
  "orig_nbformat": 4,
  "vscode": {
   "interpreter": {
    "hash": "e7370f93d1d0cde622a1f8e1c04877d8463912d04d973331ad4851f04de6915a"
   }
  }
 },
 "nbformat": 4,
 "nbformat_minor": 2
}
