{
 "cells": [
  {
   "cell_type": "code",
   "execution_count": 88,
   "metadata": {},
   "outputs": [],
   "source": [
    "from numpy import char\n",
    "from datetime import date\n",
    "import pandas as pd\n",
    "import numpy as np\n",
    "import time\n",
    "pd.set_option('display.float_format', str)"
   ]
  },
  {
   "cell_type": "code",
   "execution_count": 89,
   "metadata": {},
   "outputs": [],
   "source": [
    "import pandas as pd\n",
    "\n",
    "\n",
    "# Lineitem\n",
    "\n",
    "l_columnnames = [\"L_ORDERKEY\", \"L_PARTKEY\", \"L_SUPPKEY\", \"L_LINENUMBER\", \"L_QUANTITY\", \"L_EXTENDEDPRICE\", \"L_DISCOUNT\", \"L_TAX\",\n",
    "                \"L_RETURNFLAG\", \"L_LINESTATUS\", \"L_SHIPDATE\", \"L_COMMITDATE\", \"L_RECEIPTDATE\", \"L_SHIPINSTRUCT\", \"L_SHIPMODE\", \"L_COMMENT\"]\n",
    "\n",
    "for i in range(len(l_columnnames)):\n",
    "    l_columnnames[i] = l_columnnames[i].lower()\n",
    "\n",
    "l_data_types = {\n",
    "    'l_orderkey': int,\n",
    "    'l_partkey': int,\n",
    "    'l_suppkey': int,\n",
    "    'l_linenumber': int,\n",
    "    'l_quantity': float,\n",
    "    'l_extendedprice': float,\n",
    "    'l_discount': float,\n",
    "    'l_tax': float,\n",
    "    'l_returnflag': str,\n",
    "    'l_linestatus': str,\n",
    "    'l_shipinstruct': str,\n",
    "    'l_shipmode': str,\n",
    "    'l_comment': str\n",
    "}\n",
    "\n",
    "l_parse_dates = ['l_shipdate', 'l_commitdate', 'l_receiptdate']\n",
    "\n",
    "# Don't set indexes, as we can't access them with Pandas selection!\n",
    "lineitem = pd.read_table(\"../data_storage/lineitem.tbl.csv\", sep=\"|\", names=l_columnnames, dtype=l_data_types, parse_dates=l_parse_dates)\n",
    "\n",
    "# Part\n",
    "\n",
    "p_columnnames = [\"P_PARTKEY\", \"P_NAME\", \"P_MFGR\", \"P_BRAND\", \"P_TYPE\", \"P_SIZE\", \"P_CONTAINER\", \"P_RETAILPRICE\", \"P_COMMENT\"]\n",
    "\n",
    "for i in range(len(p_columnnames)):\n",
    "    p_columnnames[i] = p_columnnames[i].lower()\n",
    "    \n",
    "p_data_types = {\n",
    "    'p_partkey': int, \n",
    "    'p_name': str,\n",
    "    'p_mfgr': str,\n",
    "    'p_brand': str,\n",
    "    'p_type': str,\n",
    "    'p_size': int,\n",
    "    'p_container': str,\n",
    "    'p_retailprice': float,\n",
    "    'p_comment': str\n",
    "}\n",
    "\n",
    "p_parse_dates = []\n",
    "\n",
    "# Don't set indexes, as we can't access them with Pandas selection!\n",
    "part = pd.read_table(\"../data_storage/part.tbl.csv\", sep=\"|\", names=p_columnnames, dtype=p_data_types, parse_dates=p_parse_dates)\n"
   ]
  },
  {
   "cell_type": "code",
   "execution_count": 90,
   "metadata": {},
   "outputs": [
    {
     "name": "stdout",
     "output_type": "stream",
     "text": [
      "df_group_1: 200000\n",
      "df_join_1: 204\n",
      "df_filter_1: 587\n"
     ]
    }
   ],
   "source": [
    "df_scan_1 = part[(part.p_brand == 'Brand#23') & (part.p_container == 'MED BOX')]\n",
    "df_scan_1 = df_scan_1[['p_partkey', 'p_brand', 'p_container']]\n",
    "df_scan_2 = lineitem[['l_partkey', 'l_quantity']]\n",
    "df_group_1 = df_scan_2 \\\n",
    "    .groupby(['l_partkey'], sort=False, as_index=False) \\\n",
    "    .agg(\n",
    "        l_quantitymean=('l_quantity', 'mean'),\n",
    "    )\n",
    "print(f\"df_group_1: {len(df_group_1)}\")\n",
    "df_group_1['l_quantitymean1'] = df_group_1.l_quantitymean * 0.2\n",
    "df_join_1 = df_scan_1.merge(df_group_1, left_on=['p_partkey'], right_on=['l_partkey'], how='inner', sort=False)\n",
    "print(f\"df_join_1: {len(df_join_1)}\")\n",
    "df_scan_3 = lineitem[['l_partkey', 'l_quantity', 'l_extendedprice', 'l_linenumber', 'l_orderkey']]\n",
    "df_join_2 = df_join_1.merge(df_scan_3, left_on=['l_partkey', 'p_partkey'], right_on=['l_partkey', 'l_partkey'], how='inner', sort=False)\n",
    "df_filter_1 = df_join_2[(df_join_2.l_quantity < df_join_2.l_quantitymean1)]\n",
    "print(f\"df_filter_1: {len(df_filter_1)}\")\n",
    "df_aggr_1 = pd.DataFrame()\n",
    "df_aggr_1['l_extendedpricesum'] = [df_filter_1.l_extendedprice.sum()]\n",
    "df_aggr_1['l_extendedpricesum1'] = (df_aggr_1.l_extendedpricesum / 7.0)\n",
    "df_output_1 = df_aggr_1.rename(columns={'l_extendedpricesum1': 'avg_yearly'})\n",
    "df_output_1 = df_output_1[['avg_yearly']]"
   ]
  },
  {
   "cell_type": "code",
   "execution_count": 91,
   "metadata": {},
   "outputs": [
    {
     "data": {
      "text/html": [
       "<div>\n",
       "<style scoped>\n",
       "    .dataframe tbody tr th:only-of-type {\n",
       "        vertical-align: middle;\n",
       "    }\n",
       "\n",
       "    .dataframe tbody tr th {\n",
       "        vertical-align: top;\n",
       "    }\n",
       "\n",
       "    .dataframe thead th {\n",
       "        text-align: right;\n",
       "    }\n",
       "</style>\n",
       "<table border=\"1\" class=\"dataframe\">\n",
       "  <thead>\n",
       "    <tr style=\"text-align: right;\">\n",
       "      <th></th>\n",
       "      <th>avg_yearly</th>\n",
       "    </tr>\n",
       "  </thead>\n",
       "  <tbody>\n",
       "    <tr>\n",
       "      <th>0</th>\n",
       "      <td>348406.0542857143</td>\n",
       "    </tr>\n",
       "  </tbody>\n",
       "</table>\n",
       "</div>"
      ],
      "text/plain": [
       "         avg_yearly\n",
       "0 348406.0542857143"
      ]
     },
     "execution_count": 91,
     "metadata": {},
     "output_type": "execute_result"
    }
   ],
   "source": [
    "df_output_1"
   ]
  },
  {
   "cell_type": "code",
   "execution_count": 100,
   "metadata": {},
   "outputs": [],
   "source": [
    "import json\n",
    "json_data = None\n",
    "with open(\"../../SDQL/aggrs/test.json\") as f:\n",
    "    json_data = json.load(f)"
   ]
  },
  {
   "cell_type": "code",
   "execution_count": 93,
   "metadata": {},
   "outputs": [
    {
     "name": "stdout",
     "output_type": "stream",
     "text": [
      "SDQLpy Size: 200000\n"
     ]
    }
   ],
   "source": [
    "print(f\"SDQLpy Size: {len(json_data['Result']['l_partkey_x'])}\")"
   ]
  },
  {
   "cell_type": "code",
   "execution_count": 98,
   "metadata": {},
   "outputs": [],
   "source": [
    "known_partkeys = list(df_group_1['l_partkey'])"
   ]
  },
  {
   "cell_type": "code",
   "execution_count": 96,
   "metadata": {},
   "outputs": [
    {
     "name": "stdout",
     "output_type": "stream",
     "text": [
      "Using l_partket: 176898\n",
      "The Pandas Mean was: 26.41176470588235\n",
      "The SDQLpy Mean was: 56.12\n",
      "The Lineitem Real Mean was: 26.41176470588235\n",
      "---------------\n",
      "Using l_partket: 121083\n",
      "The Pandas Mean was: 22.4\n",
      "The SDQLpy Mean was: 39.53\n",
      "The Lineitem Real Mean was: 22.4\n",
      "---------------\n",
      "Using l_partket: 125865\n",
      "The Pandas Mean was: 25.448275862068964\n",
      "The SDQLpy Mean was: 67.09\n",
      "The Lineitem Real Mean was: 25.448275862068964\n",
      "---------------\n",
      "Using l_partket: 87917\n",
      "The Pandas Mean was: 24.875\n",
      "The SDQLpy Mean was: 41.89\n",
      "The Lineitem Real Mean was: 24.875\n",
      "---------------\n",
      "Using l_partket: 197804\n",
      "The Pandas Mean was: 24.548387096774192\n",
      "The SDQLpy Mean was: 42.28\n",
      "The Lineitem Real Mean was: 24.548387096774192\n",
      "---------------\n"
     ]
    }
   ],
   "source": [
    "import random\n",
    "\n",
    "def do_average(data: list) -> float:\n",
    "    return sum(data) / len(data)\n",
    "\n",
    "choices = 5\n",
    "counter = 0\n",
    "while counter < choices:\n",
    "    target_l_partkey = random.choice(known_partkeys)\n",
    "    print(f\"Using l_partket: {target_l_partkey}\")\n",
    "    pandas_mean = list(df_group_1[df_group_1['l_partkey'] == target_l_partkey]['l_quantitymean'])[0]\n",
    "    print(f\"The Pandas Mean was: {pandas_mean}\")\n",
    "    sdqlpy_mean = json_data['Result']['avg_l_quantity'][[int(x) for x in json_data['Result']['l_partkey_x']].index(target_l_partkey)]\n",
    "    print(f\"The SDQLpy Mean was: {sdqlpy_mean}\")\n",
    "    lineitem_real_mean = list(lineitem[lineitem['l_partkey'] == target_l_partkey]['l_quantity'])\n",
    "    print(f\"The Lineitem Real Mean was: {do_average(lineitem_real_mean)}\")\n",
    "    print(\"---\" * 5)\n",
    "    counter += 1"
   ]
  },
  {
   "cell_type": "code",
   "execution_count": 101,
   "metadata": {},
   "outputs": [
    {
     "name": "stdout",
     "output_type": "stream",
     "text": [
      "Using l_partket: 176898\n",
      "The Pandas Mean was: 26.41176470588235\n",
      "The SDQLpy Mean was: 56.12\n",
      "The Lineitem Real Mean was: 26.41176470588235\n",
      "---------------\n",
      "Using l_partket: 121083\n",
      "The Pandas Mean was: 22.4\n",
      "The SDQLpy Mean was: 37.33\n",
      "The Lineitem Real Mean was: 22.4\n",
      "---------------\n",
      "Using l_partket: 125865\n",
      "The Pandas Mean was: 25.448275862068964\n",
      "The SDQLpy Mean was: 67.09\n",
      "The Lineitem Real Mean was: 25.448275862068964\n",
      "---------------\n",
      "Using l_partket: 87917\n",
      "The Pandas Mean was: 24.875\n",
      "The SDQLpy Mean was: 44.22\n",
      "The Lineitem Real Mean was: 24.875\n",
      "---------------\n",
      "Using l_partket: 197804\n",
      "The Pandas Mean was: 24.548387096774192\n",
      "The SDQLpy Mean was: 40.05\n",
      "The Lineitem Real Mean was: 24.548387096774192\n",
      "---------------\n"
     ]
    }
   ],
   "source": [
    "used_l_partkeys = [176898, 121083, 125865, 87917, 197804]\n",
    "for target_l_partkey in used_l_partkeys: \n",
    "    # target_l_partkey = random.choice(known_partkeys)\n",
    "    print(f\"Using l_partket: {target_l_partkey}\")\n",
    "    pandas_mean = list(df_group_1[df_group_1['l_partkey'] == target_l_partkey]['l_quantitymean'])[0]\n",
    "    print(f\"The Pandas Mean was: {pandas_mean}\")\n",
    "    sdqlpy_mean = json_data['Result']['avg_l_quantity'][[int(x) for x in json_data['Result']['l_partkey_x']].index(target_l_partkey)]\n",
    "    print(f\"The SDQLpy Mean was: {sdqlpy_mean}\")\n",
    "    lineitem_real_mean = list(lineitem[lineitem['l_partkey'] == target_l_partkey]['l_quantity'])\n",
    "    print(f\"The Lineitem Real Mean was: {do_average(lineitem_real_mean)}\")\n",
    "    print(\"---\" * 5)"
   ]
  }
 ],
 "metadata": {
  "kernelspec": {
   "display_name": "sqlconv_env",
   "language": "python",
   "name": "python3"
  },
  "language_info": {
   "codemirror_mode": {
    "name": "ipython",
    "version": 3
   },
   "file_extension": ".py",
   "mimetype": "text/x-python",
   "name": "python",
   "nbconvert_exporter": "python",
   "pygments_lexer": "ipython3",
   "version": "3.10.13"
  }
 },
 "nbformat": 4,
 "nbformat_minor": 2
}
