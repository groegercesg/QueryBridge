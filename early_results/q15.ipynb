{
 "cells": [
  {
   "cell_type": "code",
   "execution_count": null,
   "metadata": {},
   "outputs": [],
   "source": [
    "from numpy import char\n",
    "from datetime import date\n",
    "import pandas as pd\n",
    "import numpy as np\n",
    "import time\n",
    "pd.set_option('display.float_format', str)"
   ]
  },
  {
   "cell_type": "code",
   "execution_count": null,
   "metadata": {},
   "outputs": [],
   "source": [
    "l_columnnames = [\"L_ORDERKEY\", \"L_PARTKEY\", \"L_SUPPKEY\", \"L_LINENUMBER\", \"L_QUANTITY\", \"L_EXTENDEDPRICE\", \"L_DISCOUNT\", \"L_TAX\", \"L_RETURNFLAG\", \"L_LINESTATUS\", \"L_SHIPDATE\", \"L_COMMITDATE\", \"L_RECEIPTDATE\", \"L_SHIPINSTRUCT\",\"L_SHIPMODE\", \"L_COMMENT\"]\n",
    "\n",
    "for i in range(len(l_columnnames)):\n",
    "    l_columnnames[i] = l_columnnames[i].lower()\n",
    "    \n",
    "l_data_types = {\n",
    "    'l_orderkey': int,\n",
    "    'l_partkey': int,\n",
    "    'l_suppkey': int,\n",
    "    'l_linenumber': int,\n",
    "    'l_quantity': float,\n",
    "    'l_extendedprice': float,\n",
    "    'l_discount': float,\n",
    "    'l_tax': float,\n",
    "    'l_returnflag': str,\n",
    "    'l_linestatus': str,\n",
    "    'l_shipinstruct': str,\n",
    "    'l_shipmode': str,\n",
    "    'l_comment': str\n",
    "}\n",
    "\n",
    "l_parse_dates = ['l_shipdate', 'l_commitdate', 'l_receiptdate']"
   ]
  },
  {
   "cell_type": "code",
   "execution_count": null,
   "metadata": {},
   "outputs": [],
   "source": [
    "\"\"\"\n",
    "CREATE TABLE SUPPLIER (\n",
    "    S_SUPPKEY        SERIAL,\n",
    "    S_NAME            CHAR(25),\n",
    "    S_ADDRESS        VARCHAR(40),\n",
    "    S_NATIONKEY        INTEGER NOT NULL, -- references N_NATIONKEY\n",
    "    S_PHONE            CHAR(15),\n",
    "    S_ACCTBAL        DECIMAL,\n",
    "    S_COMMENT        VARCHAR(101)\n",
    ");\n",
    "\"\"\"\n",
    "\n",
    "s_columnnames = [\"S_SUPPKEY\", \"S_NAME\", \"S_ADDRESS\", \"S_NATIONKEY\", \"S_PHONE\", \"S_ACCTBAL\", \"S_COMMENT\"]\n",
    "\n",
    "for i in range(len(l_columnnames)):\n",
    "    l_columnnames[i] = l_columnnames[i].lower()\n",
    "    \n",
    "l_data_types = {\n",
    "    'l_orderkey': int,\n",
    "    'l_partkey': int,\n",
    "    'l_suppkey': int,\n",
    "    'l_linenumber': int,\n",
    "    'l_quantity': float,\n",
    "    'l_extendedprice': float,\n",
    "    'l_discount': float,\n",
    "    'l_tax': float,\n",
    "    'l_returnflag': str,\n",
    "    'l_linestatus': str,\n",
    "    'l_shipinstruct': str,\n",
    "    'l_shipmode': str,\n",
    "    'l_comment': str\n",
    "}\n",
    "\n",
    "l_parse_dates = ['l_shipdate', 'l_commitdate', 'l_receiptdate']"
   ]
  },
  {
   "cell_type": "code",
   "execution_count": null,
   "metadata": {},
   "outputs": [],
   "source": [
    "# Don't set indexes, as we can't access them with Pandas selection!\n",
    "lineitem = pd.read_table(\"../tpch-pgsql-master/data/load/lineitem.tbl.csv\", sep=\"|\", names=l_columnnames, dtype=l_data_types, parse_dates=l_parse_dates)"
   ]
  },
  {
   "cell_type": "code",
   "execution_count": null,
   "metadata": {},
   "outputs": [],
   "source": []
  },
  {
   "cell_type": "code",
   "execution_count": null,
   "metadata": {},
   "outputs": [],
   "source": [
    "df_filter_1 = lineitem[(lineitem_1.l_shipdate >= pd.Timestamp('1996-01-01 00:00:00')) & (lineitem_1.l_shipdate < pd.Timestamp('1996-04-01 00:00:00'))]\n",
    "df_filter_1 = df_filter_1[['l_orderkey', 'l_partkey', 'l_suppkey', 'l_linenumber', 'l_quantity', 'l_extendedprice', 'l_discount', 'l_tax', 'l_returnflag', 'l_linestatus', 'l_shipdate', 'l_commitdate', 'l_receiptdate', 'l_shipinstruct', 'l_shipmode', 'l_comment']]\n",
    "df_filter_1['l_extendedprice1l_discount'] = df_filter_1.l_extendedprice * ( 1 - df_filter_1.l_discount )\n",
    "df_group_1 = df_filter_1 \\\n",
    "    .groupby(['l_suppkey']) \\\n",
    "    .agg(\n",
    "        suml_extendedprice1l_discount=(\"l_extendedprice1l_discount\", \"sum\"),\n",
    "    )\n",
    "df_group_1 = df_group_1[['suml_extendedprice1l_discount']]\n",
    "df_aggr_1 = pd.DataFrame()\n",
    "df_aggr_1['maxsuml_extendedprice1l_discount'] = [(suml_extendedprice1l_discount).max()]\n",
    "df_aggr_1 = df_aggr_1[['maxsuml_extendedprice1l_discount']]\n",
    "dollar_0 = df_aggr_1\n",
    "\n",
    "df_filter_1 = supplier[['s_suppkey', 's_name', 's_address', 's_nationkey', 's_phone', 's_acctbal', 's_comment']]\n",
    "df_filter_2 = lineitem[(lineitem.l_shipdate >= pd.Timestamp('1996-01-01 00:00:00')) & (lineitem.l_shipdate < pd.Timestamp('1996-04-01 00:00:00'))]\n",
    "df_filter_2 = df_filter_2[['l_orderkey', 'l_partkey', 'l_suppkey', 'l_linenumber', 'l_quantity', 'l_extendedprice', 'l_discount', 'l_tax', 'l_returnflag', 'l_linestatus', 'l_shipdate', 'l_commitdate', 'l_receiptdate', 'l_shipinstruct', 'l_shipmode', 'l_comment']]\n",
    "df_filter_2['l_extendedprice1l_discount'] = df_filter_2.l_extendedprice * ( 1 - df_filter_2.l_discount )\n",
    "df_group_1 = df_filter_2 \\\n",
    "    .groupby(['l_suppkey']) \\\n",
    "    .agg(\n",
    "        suml_extendedprice1l_discount=(\"l_extendedprice1l_discount\", \"sum\"),\n",
    "    )\n",
    "df_group_1 = df_group_1[df_group_1.suml_extendedprice1l_discount == dollar_0]\n",
    "df_group_1 = df_group_1[['suml_extendedprice1l_discount']]\n",
    "df_group_1 = df_group_1.rename_axis(['l_suppkey']).reset_index()\n",
    "df_rename_1 = pd.DataFrame()\n",
    "df_rename_1['total_revenue'] = df_group_1['suml_extendedprice1l_discount']\n",
    "df_rename_1['supplier_no'] = df_group_1['l_suppkey']\n",
    "df_sort_1 = df_rename_1.sort_values(by=['supplier_no'], ascending=[True])\n",
    "df_sort_1 = df_sort_1[['total_revenue', 'supplier_no']]\n",
    "df_merge_1 = df_filter_1.merge(df_sort_1, left_on=\"s_suppkey\", right_on=\"supplier_no\")\n",
    "df_merge_1 = df_merge_1[['s_suppkey', 's_name', 's_address', 's_phone', 'total_revenue']]\n",
    "df_limit_1 = df_merge_1[['s_suppkey', 's_name', 's_address', 's_phone', 'total_revenue']]\n",
    "result = df_limit_1.head(1)\n",
    "return result\n"
   ]
  }
 ],
 "metadata": {
  "kernelspec": {
   "display_name": "Python 3.10.6 64-bit",
   "language": "python",
   "name": "python3"
  },
  "language_info": {
   "name": "python",
   "version": "3.10.6"
  },
  "orig_nbformat": 4,
  "vscode": {
   "interpreter": {
    "hash": "e7370f93d1d0cde622a1f8e1c04877d8463912d04d973331ad4851f04de6915a"
   }
  }
 },
 "nbformat": 4,
 "nbformat_minor": 2
}
