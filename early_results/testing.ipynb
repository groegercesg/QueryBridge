{
 "cells": [
  {
   "cell_type": "code",
   "execution_count": 2,
   "metadata": {},
   "outputs": [],
   "source": [
    "from numpy import char\n",
    "from datetime import date\n",
    "import pandas as pd\n",
    "import numpy as np\n",
    "import time\n",
    "pd.set_option('display.float_format', str)"
   ]
  },
  {
   "cell_type": "code",
   "execution_count": 3,
   "metadata": {},
   "outputs": [],
   "source": [
    "s_columnnames = [\"S_SUPPKEY\", \"S_NAME\", \"S_ADDRESS\", \"S_NATIONKEY\", \"S_PHONE\", \"S_ACCTBAL\", \"S_COMMENT\"]\n",
    "\n",
    "for i in range(len(s_columnnames)):\n",
    "    s_columnnames[i] = s_columnnames[i].lower()\n",
    "\n",
    "s_data_types = {\n",
    "    's_suppkey': int,\n",
    "    's_name': str,\n",
    "    's_address': str,\n",
    "    's_nationkey': int,\n",
    "    's_phone': str,\n",
    "    's_acctbal': float,\n",
    "    's_comment': str\n",
    "}\n",
    "\n",
    "s_parse_dates = []"
   ]
  },
  {
   "cell_type": "code",
   "execution_count": 4,
   "metadata": {},
   "outputs": [],
   "source": [
    "# Don't set indexes, as we can't access them with Pandas selection!\n",
    "supplier = pd.read_table(\"../tpch-pgsql-master/data/load/supplier.tbl.csv\", sep=\"|\", names=s_columnnames, dtype=s_data_types, parse_dates=s_parse_dates)"
   ]
  },
  {
   "cell_type": "code",
   "execution_count": 7,
   "metadata": {},
   "outputs": [],
   "source": [
    "df_filter_1 = supplier[(supplier.s_comment.str.contains(\"^.*?a$\", regex=True))]\n",
    "df_filter_1 = df_filter_1[['s_suppkey', 's_comment']]"
   ]
  },
  {
   "cell_type": "code",
   "execution_count": 8,
   "metadata": {},
   "outputs": [
    {
     "data": {
      "text/html": [
       "<div>\n",
       "<style scoped>\n",
       "    .dataframe tbody tr th:only-of-type {\n",
       "        vertical-align: middle;\n",
       "    }\n",
       "\n",
       "    .dataframe tbody tr th {\n",
       "        vertical-align: top;\n",
       "    }\n",
       "\n",
       "    .dataframe thead th {\n",
       "        text-align: right;\n",
       "    }\n",
       "</style>\n",
       "<table border=\"1\" class=\"dataframe\">\n",
       "  <thead>\n",
       "    <tr style=\"text-align: right;\">\n",
       "      <th></th>\n",
       "      <th>s_suppkey</th>\n",
       "      <th>s_comment</th>\n",
       "    </tr>\n",
       "  </thead>\n",
       "  <tbody>\n",
       "    <tr>\n",
       "      <th>4</th>\n",
       "      <td>5</td>\n",
       "      <td>. slyly regular pinto bea</td>\n",
       "    </tr>\n",
       "    <tr>\n",
       "      <th>16</th>\n",
       "      <td>17</td>\n",
       "      <td>eep against the furiously bold ideas. fluffily...</td>\n",
       "    </tr>\n",
       "    <tr>\n",
       "      <th>64</th>\n",
       "      <td>65</td>\n",
       "      <td>l ideas wake carefully around the regular pack...</td>\n",
       "    </tr>\n",
       "    <tr>\n",
       "      <th>68</th>\n",
       "      <td>69</td>\n",
       "      <td>! carefully ironic instructions nag quickly pe...</td>\n",
       "    </tr>\n",
       "    <tr>\n",
       "      <th>72</th>\n",
       "      <td>73</td>\n",
       "      <td>. never pending asymptotes a</td>\n",
       "    </tr>\n",
       "    <tr>\n",
       "      <th>...</th>\n",
       "      <td>...</td>\n",
       "      <td>...</td>\n",
       "    </tr>\n",
       "    <tr>\n",
       "      <th>9910</th>\n",
       "      <td>9911</td>\n",
       "      <td>dolphins detect furiously ironic foxes. dogge...</td>\n",
       "    </tr>\n",
       "    <tr>\n",
       "      <th>9942</th>\n",
       "      <td>9943</td>\n",
       "      <td>express instructions. blithely express account...</td>\n",
       "    </tr>\n",
       "    <tr>\n",
       "      <th>9943</th>\n",
       "      <td>9944</td>\n",
       "      <td>rets. express, bold excuses after the slyly re...</td>\n",
       "    </tr>\n",
       "    <tr>\n",
       "      <th>9979</th>\n",
       "      <td>9980</td>\n",
       "      <td>lly. regular dependencies according to the eve...</td>\n",
       "    </tr>\n",
       "    <tr>\n",
       "      <th>9984</th>\n",
       "      <td>9985</td>\n",
       "      <td>ly at the even deposits; slyly even packages d...</td>\n",
       "    </tr>\n",
       "  </tbody>\n",
       "</table>\n",
       "<p>636 rows × 2 columns</p>\n",
       "</div>"
      ],
      "text/plain": [
       "      s_suppkey                                          s_comment\n",
       "4             5                          . slyly regular pinto bea\n",
       "16           17  eep against the furiously bold ideas. fluffily...\n",
       "64           65  l ideas wake carefully around the regular pack...\n",
       "68           69  ! carefully ironic instructions nag quickly pe...\n",
       "72           73                       . never pending asymptotes a\n",
       "...         ...                                                ...\n",
       "9910       9911   dolphins detect furiously ironic foxes. dogge...\n",
       "9942       9943  express instructions. blithely express account...\n",
       "9943       9944  rets. express, bold excuses after the slyly re...\n",
       "9979       9980  lly. regular dependencies according to the eve...\n",
       "9984       9985  ly at the even deposits; slyly even packages d...\n",
       "\n",
       "[636 rows x 2 columns]"
      ]
     },
     "execution_count": 8,
     "metadata": {},
     "output_type": "execute_result"
    }
   ],
   "source": [
    "df_filter_1"
   ]
  }
 ],
 "metadata": {
  "kernelspec": {
   "display_name": "Python 3.10.6 64-bit",
   "language": "python",
   "name": "python3"
  },
  "language_info": {
   "codemirror_mode": {
    "name": "ipython",
    "version": 3
   },
   "file_extension": ".py",
   "mimetype": "text/x-python",
   "name": "python",
   "nbconvert_exporter": "python",
   "pygments_lexer": "ipython3",
   "version": "3.10.6"
  },
  "orig_nbformat": 4,
  "vscode": {
   "interpreter": {
    "hash": "e7370f93d1d0cde622a1f8e1c04877d8463912d04d973331ad4851f04de6915a"
   }
  }
 },
 "nbformat": 4,
 "nbformat_minor": 2
}
