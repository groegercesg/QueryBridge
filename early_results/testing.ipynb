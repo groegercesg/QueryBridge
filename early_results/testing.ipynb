{
 "cells": [
  {
   "cell_type": "code",
   "execution_count": 31,
   "metadata": {},
   "outputs": [],
   "source": [
    "from numpy import char\n",
    "from datetime import date\n",
    "import pandas as pd\n",
    "import numpy as np\n",
    "import time\n",
    "pd.set_option('display.float_format', str)"
   ]
  },
  {
   "cell_type": "code",
   "execution_count": 32,
   "metadata": {},
   "outputs": [],
   "source": [
    "s_columnnames = [\"S_SUPPKEY\", \"S_NAME\", \"S_ADDRESS\", \"S_NATIONKEY\", \"S_PHONE\", \"S_ACCTBAL\", \"S_COMMENT\"]\n",
    "\n",
    "for i in range(len(s_columnnames)):\n",
    "    s_columnnames[i] = s_columnnames[i].lower()\n",
    "\n",
    "s_data_types = {\n",
    "    's_suppkey': int,\n",
    "    's_name': str,\n",
    "    's_address': str,\n",
    "    's_nationkey': int,\n",
    "    's_phone': str,\n",
    "    's_acctbal': float,\n",
    "    's_comment': str\n",
    "}\n",
    "\n",
    "s_parse_dates = []"
   ]
  },
  {
   "cell_type": "code",
   "execution_count": 33,
   "metadata": {},
   "outputs": [],
   "source": [
    "# Don't set indexes, as we can't access them with Pandas selection!\n",
    "supplier = pd.read_table(\"../tpch-pgsql-master/data/load/supplier.tbl.csv\", sep=\"|\", names=s_columnnames, dtype=s_data_types, parse_dates=s_parse_dates)"
   ]
  }
 ],
 "metadata": {
  "kernelspec": {
   "display_name": "Python 3.10.6 64-bit",
   "language": "python",
   "name": "python3"
  },
  "language_info": {
   "codemirror_mode": {
    "name": "ipython",
    "version": 3
   },
   "file_extension": ".py",
   "mimetype": "text/x-python",
   "name": "python",
   "nbconvert_exporter": "python",
   "pygments_lexer": "ipython3",
   "version": "3.10.6"
  },
  "orig_nbformat": 4,
  "vscode": {
   "interpreter": {
    "hash": "e7370f93d1d0cde622a1f8e1c04877d8463912d04d973331ad4851f04de6915a"
   }
  }
 },
 "nbformat": 4,
 "nbformat_minor": 2
}
