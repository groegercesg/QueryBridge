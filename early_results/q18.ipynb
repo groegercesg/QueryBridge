{
 "cells": [
  {
   "cell_type": "code",
   "execution_count": 14,
   "metadata": {},
   "outputs": [],
   "source": [
    "from numpy import char\n",
    "from datetime import date\n",
    "import pandas as pd\n",
    "import numpy as np\n",
    "import time\n",
    "pd.set_option('display.float_format', str)"
   ]
  },
  {
   "cell_type": "code",
   "execution_count": 15,
   "metadata": {},
   "outputs": [],
   "source": [
    "l_columnnames = [\"L_ORDERKEY\", \"L_PARTKEY\", \"L_SUPPKEY\", \"L_LINENUMBER\", \"L_QUANTITY\", \"L_EXTENDEDPRICE\", \"L_DISCOUNT\", \"L_TAX\", \"L_RETURNFLAG\", \"L_LINESTATUS\", \"L_SHIPDATE\", \"L_COMMITDATE\", \"L_RECEIPTDATE\", \"L_SHIPINSTRUCT\",\"L_SHIPMODE\", \"L_COMMENT\"]\n",
    "\n",
    "for i in range(len(l_columnnames)):\n",
    "    l_columnnames[i] = l_columnnames[i].lower()\n",
    "    \n",
    "l_data_types = {\n",
    "    'l_orderkey': int,\n",
    "    'l_partkey': int,\n",
    "    'l_suppkey': int,\n",
    "    'l_linenumber': int,\n",
    "    'l_quantity': float,\n",
    "    'l_extendedprice': float,\n",
    "    'l_discount': float,\n",
    "    'l_tax': float,\n",
    "    'l_returnflag': str,\n",
    "    'l_linestatus': str,\n",
    "    'l_shipinstruct': str,\n",
    "    'l_shipmode': str,\n",
    "    'l_comment': str\n",
    "}\n",
    "\n",
    "l_parse_dates = ['l_shipdate', 'l_commitdate', 'l_receiptdate']"
   ]
  },
  {
   "cell_type": "code",
   "execution_count": 16,
   "metadata": {},
   "outputs": [],
   "source": [
    "o_columnnames = [\"O_ORDERKEY\", \"O_CUSTKEY\", \"O_ORDERSTATUS\", \"O_TOTALPRICE\", \"O_ORDERDATE\", \"O_ORDERPRIORITY\", \"O_CLERK\", \"O_SHIPPRIORITY\", \"O_COMMENT\"]\n",
    "\n",
    "for i in range(len(o_columnnames)):\n",
    "    o_columnnames[i] = o_columnnames[i].lower()\n",
    "    \n",
    "o_data_types = {\n",
    "    'o_orderkey': int,\n",
    "    'o_custkey': int,\n",
    "    'o_orderstatus': str,\n",
    "    'o_totalprice': float,\n",
    "    'o_orderpriority': str,\n",
    "    'o_clerk': str,\n",
    "    'o_shippriority': int,\n",
    "    'o_comment': str\n",
    "}\n",
    "\n",
    "o_parse_dates = ['o_orderdate']"
   ]
  },
  {
   "cell_type": "code",
   "execution_count": 17,
   "metadata": {},
   "outputs": [],
   "source": [
    "c_columnnames = [\"C_CUSTKEY\", \"C_NAME\", \"C_ADDRESS\", \"C_NATIONKEY\", \"C_PHONE\", \"C_ACCTBAL\", \"C_MKTSEGMENT\", \"C_COMMENT\"]\n",
    "\n",
    "for i in range(len(c_columnnames)):\n",
    "    c_columnnames[i] = c_columnnames[i].lower()\n",
    "    \n",
    "c_data_types = {\n",
    "    'c_custkey': int,\n",
    "    'c_name': str,\n",
    "    'c_address': str,\n",
    "    'c_nationkey': int,\n",
    "    'c_phone': str,\n",
    "    'c_acctbal': float,\n",
    "    'c_mktsegment': str,\n",
    "    'c_comment': str\n",
    "}\n",
    "\n",
    "c_parse_dates = []"
   ]
  },
  {
   "cell_type": "code",
   "execution_count": 18,
   "metadata": {},
   "outputs": [],
   "source": [
    "# Don't set indexes, as we can't access them with Pandas selection!\n",
    "lineitem = pd.read_table(\"../tpch-pgsql-master/data/load/lineitem.tbl.csv\", sep=\"|\", names=l_columnnames, dtype=l_data_types, parse_dates=l_parse_dates)"
   ]
  },
  {
   "cell_type": "code",
   "execution_count": 19,
   "metadata": {},
   "outputs": [],
   "source": [
    "# Don't set indexes, as we can't access them with Pandas selection!\n",
    "orders = pd.read_table(\"../tpch-pgsql-master/data/load/orders.tbl.csv\", sep=\"|\", names=o_columnnames, dtype=o_data_types, parse_dates=o_parse_dates)"
   ]
  },
  {
   "cell_type": "code",
   "execution_count": 20,
   "metadata": {},
   "outputs": [],
   "source": [
    "# Don't set indexes, as we can't access them with Pandas selection!\n",
    "customer = pd.read_table(\"../tpch-pgsql-master/data/load/customer.tbl.csv\", sep=\"|\", names=c_columnnames, dtype=c_data_types, parse_dates=c_parse_dates)"
   ]
  },
  {
   "cell_type": "code",
   "execution_count": 21,
   "metadata": {},
   "outputs": [
    {
     "ename": "TypeError",
     "evalue": "Must provide 'func' or tuples of '(column, aggfunc).",
     "output_type": "error",
     "traceback": [
      "\u001b[0;31m---------------------------------------------------------------------------\u001b[0m",
      "\u001b[0;31mTypeError\u001b[0m                                 Traceback (most recent call last)",
      "\u001b[0;32m/tmp/ipykernel_401100/2888878624.py\u001b[0m in \u001b[0;36m<module>\u001b[0;34m\u001b[0m\n\u001b[1;32m      6\u001b[0m \u001b[0mdf_group_1\u001b[0m \u001b[0;34m=\u001b[0m \u001b[0mdf_filter_3\u001b[0m\u001b[0;31m \u001b[0m\u001b[0;31m\\\u001b[0m\u001b[0;34m\u001b[0m\u001b[0;34m\u001b[0m\u001b[0m\n\u001b[1;32m      7\u001b[0m     \u001b[0;34m.\u001b[0m\u001b[0mgroupby\u001b[0m\u001b[0;34m(\u001b[0m\u001b[0;34m[\u001b[0m\u001b[0;34m'l_orderkey'\u001b[0m\u001b[0;34m]\u001b[0m\u001b[0;34m)\u001b[0m\u001b[0;31m \u001b[0m\u001b[0;31m\\\u001b[0m\u001b[0;34m\u001b[0m\u001b[0;34m\u001b[0m\u001b[0m\n\u001b[0;32m----> 8\u001b[0;31m     .agg(\n\u001b[0m\u001b[1;32m      9\u001b[0m     )\n\u001b[1;32m     10\u001b[0m \u001b[0mdf_group_1\u001b[0m \u001b[0;34m=\u001b[0m \u001b[0mdf_group_1\u001b[0m\u001b[0;34m[\u001b[0m\u001b[0;34m[\u001b[0m\u001b[0;34m'l_orderkey'\u001b[0m\u001b[0;34m]\u001b[0m\u001b[0;34m]\u001b[0m\u001b[0;34m\u001b[0m\u001b[0;34m\u001b[0m\u001b[0m\n",
      "\u001b[0;32m~/.local/lib/python3.10/site-packages/pandas/core/groupby/generic.py\u001b[0m in \u001b[0;36maggregate\u001b[0;34m(self, func, engine, engine_kwargs, *args, **kwargs)\u001b[0m\n\u001b[1;32m    863\u001b[0m             \u001b[0;32mreturn\u001b[0m \u001b[0mself\u001b[0m\u001b[0;34m.\u001b[0m\u001b[0mobj\u001b[0m\u001b[0;34m.\u001b[0m\u001b[0m_constructor\u001b[0m\u001b[0;34m(\u001b[0m\u001b[0mresult\u001b[0m\u001b[0;34m,\u001b[0m \u001b[0mindex\u001b[0m\u001b[0;34m=\u001b[0m\u001b[0mindex\u001b[0m\u001b[0;34m,\u001b[0m \u001b[0mcolumns\u001b[0m\u001b[0;34m=\u001b[0m\u001b[0mdata\u001b[0m\u001b[0;34m.\u001b[0m\u001b[0mcolumns\u001b[0m\u001b[0;34m)\u001b[0m\u001b[0;34m\u001b[0m\u001b[0;34m\u001b[0m\u001b[0m\n\u001b[1;32m    864\u001b[0m \u001b[0;34m\u001b[0m\u001b[0m\n\u001b[0;32m--> 865\u001b[0;31m         \u001b[0mrelabeling\u001b[0m\u001b[0;34m,\u001b[0m \u001b[0mfunc\u001b[0m\u001b[0;34m,\u001b[0m \u001b[0mcolumns\u001b[0m\u001b[0;34m,\u001b[0m \u001b[0morder\u001b[0m \u001b[0;34m=\u001b[0m \u001b[0mreconstruct_func\u001b[0m\u001b[0;34m(\u001b[0m\u001b[0mfunc\u001b[0m\u001b[0;34m,\u001b[0m \u001b[0;34m**\u001b[0m\u001b[0mkwargs\u001b[0m\u001b[0;34m)\u001b[0m\u001b[0;34m\u001b[0m\u001b[0;34m\u001b[0m\u001b[0m\n\u001b[0m\u001b[1;32m    866\u001b[0m         \u001b[0mfunc\u001b[0m \u001b[0;34m=\u001b[0m \u001b[0mmaybe_mangle_lambdas\u001b[0m\u001b[0;34m(\u001b[0m\u001b[0mfunc\u001b[0m\u001b[0;34m)\u001b[0m\u001b[0;34m\u001b[0m\u001b[0;34m\u001b[0m\u001b[0m\n\u001b[1;32m    867\u001b[0m \u001b[0;34m\u001b[0m\u001b[0m\n",
      "\u001b[0;32m~/.local/lib/python3.10/site-packages/pandas/core/apply.py\u001b[0m in \u001b[0;36mreconstruct_func\u001b[0;34m(func, **kwargs)\u001b[0m\n\u001b[1;32m   1258\u001b[0m         \u001b[0;32melif\u001b[0m \u001b[0mfunc\u001b[0m \u001b[0;32mis\u001b[0m \u001b[0;32mNone\u001b[0m\u001b[0;34m:\u001b[0m\u001b[0;34m\u001b[0m\u001b[0;34m\u001b[0m\u001b[0m\n\u001b[1;32m   1259\u001b[0m             \u001b[0;31m# nicer error message\u001b[0m\u001b[0;34m\u001b[0m\u001b[0;34m\u001b[0m\u001b[0m\n\u001b[0;32m-> 1260\u001b[0;31m             \u001b[0;32mraise\u001b[0m \u001b[0mTypeError\u001b[0m\u001b[0;34m(\u001b[0m\u001b[0;34m\"Must provide 'func' or tuples of '(column, aggfunc).\"\u001b[0m\u001b[0;34m)\u001b[0m\u001b[0;34m\u001b[0m\u001b[0;34m\u001b[0m\u001b[0m\n\u001b[0m\u001b[1;32m   1261\u001b[0m \u001b[0;34m\u001b[0m\u001b[0m\n\u001b[1;32m   1262\u001b[0m     \u001b[0;32mif\u001b[0m \u001b[0mrelabeling\u001b[0m\u001b[0;34m:\u001b[0m\u001b[0;34m\u001b[0m\u001b[0;34m\u001b[0m\u001b[0m\n",
      "\u001b[0;31mTypeError\u001b[0m: Must provide 'func' or tuples of '(column, aggfunc)."
     ]
    }
   ],
   "source": [
    "start_t = time.time()\n",
    "\n",
    "df_filter_1 = customer[['c_custkey', 'c_name', 'c_address', 'c_nationkey', 'c_phone', 'c_acctbal', 'c_mktsegment', 'c_comment']]\n",
    "df_filter_2 = orders[['o_orderkey', 'o_orderdate', 'o_totalprice', 'o_custkey']]\n",
    "df_filter_3 = lineitem[['l_orderkey', 'l_partkey', 'l_suppkey', 'l_linenumber', 'l_quantity', 'l_extendedprice', 'l_discount', 'l_tax', 'l_returnflag', 'l_linestatus', 'l_shipdate', 'l_commitdate', 'l_receiptdate', 'l_shipinstruct', 'l_shipmode', 'l_comment']]\n",
    "df_group_1 = df_filter_3 \\\n",
    "    .groupby(['l_orderkey']) \\\n",
    "    .agg(\n",
    "    )\n",
    "df_group_1 = df_group_1[['l_orderkey']]\n",
    "df_merge_1 = df_filter_2.merge(df_group_1, left_on=\"o_orderkey\", right_on=\"l_orderkey\")\n",
    "df_merge_1 = df_merge_1[['o_orderkey', 'o_orderdate', 'o_totalprice', 'o_custkey', 'lineitem_1.l_orderkey']]\n",
    "df_sort_1 = df_merge_1.sort_values(by=['o_custkey'], ascending=[True])\n",
    "df_sort_1 = df_sort_1[['o_orderkey', 'o_orderdate', 'o_totalprice', 'o_custkey', 'lineitem_1.l_orderkey']]\n",
    "df_merge_2 = df_filter_1.merge(df_sort_1, left_on=\"c_custkey\", right_on=\"o_custkey\")\n",
    "df_merge_2 = df_merge_2[['c_name', 'c_custkey', 'o_orderkey', 'o_orderdate', 'o_totalprice', 'lineitem_1.l_orderkey']]\n",
    "df_filter_4 = lineitem[['l_partkey', 'l_suppkey', 'l_linenumber', 'l_quantity', 'l_extendedprice', 'l_discount', 'l_tax', 'l_returnflag', 'l_linestatus', 'l_shipdate', 'l_commitdate', 'l_receiptdate', 'l_shipinstruct', 'l_shipmode', 'l_comment']]\n",
    "df_merge_3 = df_merge_2.merge(df_filter_4, left_on=\"o_orderkey\", right_on=\"l_orderkey\")\n",
    "df_merge_3 = df_merge_3[['c_custkey', 'o_orderkey', 'c_name', 'o_orderdate', 'o_totalprice', 'l_quantity']]\n",
    "df_sort_2 = df_merge_3.sort_values(by=['c_custkey', 'o_orderkey'], ascending=[True, True])\n",
    "df_sort_2 = df_sort_2[['c_custkey', 'o_orderkey', 'c_name', 'o_orderdate', 'o_totalprice', 'l_quantity']]\n",
    "df_group_2 = df_sort_2 \\\n",
    "    .groupby(['c_custkey', 'o_orderkey', 'c_name', 'o_orderdate', 'o_totalprice']) \\\n",
    "    .agg(\n",
    "    )\n",
    "df_group_2 = df_group_2[['sum(l_quantity)']]\n",
    "df_sort_3 = df_group_2.sort_values(by=['o_totalprice', 'o_orderdate'], ascending=[False, True])\n",
    "df_sort_3 = df_sort_3[['(sum(l_quantity))']]\n",
    "df_limit_1 = df_sort_3[['(sum(l_quantity))']]\n",
    "result = df_limit_1.head(100)\n",
    "\n",
    "print(\"---\" * 5)\n",
    "print(time.time() - start_t)\n",
    "print(\"---\" * 5)"
   ]
  }
 ],
 "metadata": {
  "kernelspec": {
   "display_name": "Python 3.10.6 64-bit",
   "language": "python",
   "name": "python3"
  },
  "language_info": {
   "codemirror_mode": {
    "name": "ipython",
    "version": 3
   },
   "file_extension": ".py",
   "mimetype": "text/x-python",
   "name": "python",
   "nbconvert_exporter": "python",
   "pygments_lexer": "ipython3",
   "version": "3.10.6"
  },
  "orig_nbformat": 4,
  "vscode": {
   "interpreter": {
    "hash": "e7370f93d1d0cde622a1f8e1c04877d8463912d04d973331ad4851f04de6915a"
   }
  }
 },
 "nbformat": 4,
 "nbformat_minor": 2
}
