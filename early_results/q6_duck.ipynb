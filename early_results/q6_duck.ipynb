{
 "cells": [
  {
   "cell_type": "code",
   "execution_count": 1,
   "metadata": {},
   "outputs": [],
   "source": [
    "from numpy import char\n",
    "from datetime import date\n",
    "import pandas as pd\n",
    "import numpy as np\n",
    "pd.set_option('display.float_format', str)\n",
    "import time"
   ]
  },
  {
   "cell_type": "code",
   "execution_count": 2,
   "metadata": {},
   "outputs": [],
   "source": [
    "\"\"\" \n",
    "from tpch-pgsql-master/query_root/prep_query:\n",
    "    create_tbl.sql\n",
    "\n",
    "CREATE TABLE LINEITEM (\n",
    "    L_ORDERKEY        INTEGER NOT NULL, -- references O_ORDERKEY\n",
    "    L_PARTKEY        INTEGER NOT NULL, -- references P_PARTKEY (compound fk to PARTSUPP)\n",
    "    L_SUPPKEY        INTEGER NOT NULL, -- references S_SUPPKEY (compound fk to PARTSUPP)\n",
    "    L_LINENUMBER    INTEGER,\n",
    "    L_QUANTITY        DECIMAL,\n",
    "    L_EXTENDEDPRICE    DECIMAL,\n",
    "    L_DISCOUNT        DECIMAL,\n",
    "    L_TAX            DECIMAL,\n",
    "    L_RETURNFLAG    CHAR(1),\n",
    "    L_LINESTATUS    CHAR(1),\n",
    "    L_SHIPDATE        DATE,\n",
    "    L_COMMITDATE    DATE,\n",
    "    L_RECEIPTDATE    DATE,\n",
    "    L_SHIPINSTRUCT    CHAR(25),\n",
    "    L_SHIPMODE        CHAR(10),\n",
    "    L_COMMENT        VARCHAR(44)\n",
    ");\n",
    "\n",
    "and\n",
    "    create_idx.sql\n",
    "    \n",
    "ALTER TABLE LINEITEM ADD PRIMARY KEY (L_ORDERKEY, L_LINENUMBER);\n",
    "\"\"\"\n",
    "\n",
    "columnnames = [\"L_ORDERKEY\", \"L_PARTKEY\", \"L_SUPPKEY\", \"L_LINENUMBER\", \"L_QUANTITY\", \"L_EXTENDEDPRICE\", \"L_DISCOUNT\", \"L_TAX\",\n",
    "               \"L_RETURNFLAG\", \"L_LINESTATUS\", \"L_SHIPDATE\", \"L_COMMITDATE\", \"L_RECEIPTDATE\", \"L_SHIPINSTRUCT\", \"L_SHIPMODE\", \"L_COMMENT\"]\n",
    "\n",
    "for i in range(len(columnnames)):\n",
    "    columnnames[i] = columnnames[i].lower()\n",
    "\n",
    "data_types = {\n",
    "    'l_orderkey': int,\n",
    "    'l_partkey': int,\n",
    "    'l_suppkey': int,\n",
    "    'l_linenumber': int,\n",
    "    'l_quantity': float,\n",
    "    'l_extendedprice': float,\n",
    "    'l_discount': float,\n",
    "    'l_tax': float,\n",
    "    'l_returnflag': str,\n",
    "    'l_linestatus': str,\n",
    "    'l_shipinstruct': str,\n",
    "    'l_shipmode': str,\n",
    "    'l_comment': str\n",
    "}\n"
   ]
  },
  {
   "cell_type": "code",
   "execution_count": 3,
   "metadata": {},
   "outputs": [],
   "source": [
    "# Don't set indexes, as we can't access them with Pandas selection!\n",
    "lineitem = pd.read_table(\"../data_storage/lineitem.tbl.csv\", sep=\"|\",\n",
    "                         names=columnnames, dtype=data_types, parse_dates=['l_shipdate', 'l_commitdate', 'l_receiptdate'])\n"
   ]
  },
  {
   "cell_type": "markdown",
   "metadata": {},
   "source": [
    "## Q6\n"
   ]
  },
  {
   "cell_type": "code",
   "execution_count": 4,
   "metadata": {},
   "outputs": [
    {
     "name": "stdout",
     "output_type": "stream",
     "text": [
      "             revenue\n",
      "0 123141078.22829999\n",
      "--- 0.13068628311157227 seconds ---\n"
     ]
    }
   ],
   "source": [
    "# Hyper Pandas\n",
    "start_time = time.time()\n",
    "\n",
    "df_scan_1 = lineitem[(lineitem.l_quantity < 24.0) & ((lineitem.l_discount.between(0.05, 0.07, inclusive='both')) & (lineitem.l_shipdate.between('1994-01-01', '1995-01-01', inclusive='left')))]\n",
    "df_scan_1 = df_scan_1[['l_orderkey', 'l_partkey', 'l_suppkey', 'l_linenumber', 'l_quantity', 'l_extendedprice', 'l_discount', 'l_tax', 'l_returnflag', 'l_linestatus', 'l_shipdate', 'l_commitdate', 'l_receiptdate', 'l_shipinstruct', 'l_shipmode', 'l_comment']]\n",
    "df_scan_1['l_extendedpricel_discount'] = df_scan_1.l_extendedprice * df_scan_1.l_discount\n",
    "df_group_1 = pd.DataFrame()\n",
    "df_group_1['l_extendedpricel_discountsum'] = [df_scan_1.l_extendedpricel_discount.sum()]\n",
    "df_output_1 = df_group_1\n",
    "df_output_1 = df_output_1.rename(columns={'l_extendedpricel_discountsum': 'revenue'})\n",
    "df_output_1 = df_output_1[['revenue']]\n",
    "\n",
    "end_time = time.time()\n",
    "print(df_output_1.head(1))\n",
    "\n",
    "print(\"--- %s seconds ---\" % (end_time - start_time))\n",
    "# Should be: \n",
    "#              revenue\n",
    "# 0 123141078.22829999\n",
    "#"
   ]
  },
  {
   "cell_type": "code",
   "execution_count": 5,
   "metadata": {},
   "outputs": [
    {
     "name": "stdout",
     "output_type": "stream",
     "text": [
      "             revenue\n",
      "0 123141078.22829999\n",
      "--- 0.17298030853271484 seconds ---\n"
     ]
    },
    {
     "name": "stderr",
     "output_type": "stream",
     "text": [
      "/tmp/ipykernel_15116/785347263.py:5: SettingWithCopyWarning: \n",
      "A value is trying to be set on a copy of a slice from a DataFrame.\n",
      "Try using .loc[row_indexer,col_indexer] = value instead\n",
      "\n",
      "See the caveats in the documentation: https://pandas.pydata.org/pandas-docs/stable/user_guide/indexing.html#returning-a-view-versus-a-copy\n",
      "  df_filter_1['mul_extended_discount'] = df_filter_1.l_extendedprice * df_filter_1.l_discount\n"
     ]
    }
   ],
   "source": [
    "start_time = time.time()\n",
    "\n",
    "df_scan_1 = lineitem[['l_partkey', 'l_quantity', 'l_orderkey', 'l_extendedprice', 'l_shipdate', 'l_linenumber', 'l_suppkey', 'l_discount']]\n",
    "df_filter_1 = df_scan_1[(df_scan_1.l_shipdate >= '1994-01-01') & (df_scan_1.l_shipdate < '1995-01-01') & (df_scan_1.l_discount >= 0.05) & (df_scan_1.l_discount <= 0.07) & (df_scan_1.l_quantity < 24)]\n",
    "df_filter_1['mul_extended_discount'] = df_filter_1.l_extendedprice * df_filter_1.l_discount\n",
    "df_aggr_1 = pd.DataFrame()\n",
    "df_aggr_1['sum_mul_l_extendedprice_l_discount'] = [df_filter_1.mul_extended_discount.sum()]\n",
    "\n",
    "end_time = time.time()\n",
    "print(df_output_1.head(1))\n",
    "\n",
    "print(\"--- %s seconds ---\" % (end_time - start_time))"
   ]
  }
 ],
 "metadata": {
  "kernelspec": {
   "display_name": "Python 3.9.12 ('sql_benchmark')",
   "language": "python",
   "name": "python3"
  },
  "language_info": {
   "codemirror_mode": {
    "name": "ipython",
    "version": 3
   },
   "file_extension": ".py",
   "mimetype": "text/x-python",
   "name": "python",
   "nbconvert_exporter": "python",
   "pygments_lexer": "ipython3",
   "version": "3.10.13"
  },
  "orig_nbformat": 4,
  "vscode": {
   "interpreter": {
    "hash": "3eb53a504e8f544f2db49e5c7d22a7422ec84315f2f9760969f8c7a9f3384b9e"
   }
  }
 },
 "nbformat": 4,
 "nbformat_minor": 2
}
