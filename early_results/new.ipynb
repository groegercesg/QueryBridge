{
 "cells": [
  {
   "cell_type": "code",
   "execution_count": null,
   "metadata": {},
   "outputs": [
    {
     "ename": "",
     "evalue": "",
     "output_type": "error",
     "traceback": [
      "\u001b[1;31mFailed to start the Kernel. \n",
      "\u001b[1;31mJupyter server crashed. Unable to connect. \n",
      "\u001b[1;31mError code from Jupyter: 1\n",
      "\u001b[1;31mTraceback (most recent call last):\n",
      "\u001b[1;31m  File \"/home/callum/.local/bin/jupyter-notebook\", line 5, in <module>\n",
      "\u001b[1;31m    from notebook.notebookapp import main\n",
      "\u001b[1;31m  File \"/home/callum/.local/lib/python3.10/site-packages/notebook/notebookapp.py\", line 80, in <module>\n",
      "\u001b[1;31m    \n",
      "\u001b[1;31mfrom .services.contents.manager import ContentsManager\n",
      "\u001b[1;31m  File \"/home/callum/.local/lib/python3.10/site-packages/notebook/services/contents/manager.py\", line 17, in <module>\n",
      "\u001b[1;31m    from nbformat import sign, validate as validate_nb, ValidationError\n",
      "\u001b[1;31m  File \"/home/callum/.local/lib/python3.10/site-packages/nbformat/__init__.py\", line 32, in <module>\n",
      "\u001b[1;31m    from .validator import validate, ValidationError\n",
      "\u001b[1;31m  File \"/home/callum/.local/lib/python3.10/site-packages/nbformat/validator.py\", line 12, in <module>\n",
      "\u001b[1;31m    from .json_compat import get_current_validator, ValidationError\n",
      "\u001b[1;31m  File \"/home/callum/.local/lib/python3.10/site-packages/nbformat/json_compat.py\", line 10, in <module>\n",
      "\u001b[1;31m    import jsonschema\n",
      "\u001b[1;31m  File \"/home/callum/.local/lib/python3.10/site-packages/jsonschema/__init__.py\", line 12, in <module>\n",
      "\u001b[1;31m    from jsonschema._format import (\n",
      "\u001b[1;31m  File \"/home/callum/.local/lib/python3.10/site-packages/jsonschema/_format.py\", line 7, in <module>\n",
      "\u001b[1;31m    from jsonschema.exceptions import FormatError\n",
      "\u001b[1;31m  File \"/home/callum/.local/lib/python3.10/site-packages/jsonschema/exceptions.py\", line 9, in <module>\n",
      "\u001b[1;31m    import attr\n",
      "\u001b[1;31mModuleNotFoundError: No module named 'attr'. \n",
      "\u001b[1;31mView Jupyter <a href='command:jupyter.viewOutput'>log</a> for further details."
     ]
    }
   ],
   "source": [
    "print(\"Test\")"
   ]
  }
 ],
 "metadata": {
  "kernelspec": {
   "display_name": "sql_benchmark",
   "language": "python",
   "name": "python3"
  },
  "language_info": {
   "name": "python",
   "version": "3.9.16"
  },
  "orig_nbformat": 4,
  "vscode": {
   "interpreter": {
    "hash": "3eb53a504e8f544f2db49e5c7d22a7422ec84315f2f9760969f8c7a9f3384b9e"
   }
  }
 },
 "nbformat": 4,
 "nbformat_minor": 2
}
