{
 "cells": [
  {
   "cell_type": "code",
   "execution_count": 1,
   "metadata": {},
   "outputs": [],
   "source": [
    "from numpy import char\n",
    "from datetime import date\n",
    "import pandas as pd\n",
    "import numpy as np\n",
    "import time\n",
    "pd.set_option('display.float_format', str)"
   ]
  },
  {
   "cell_type": "code",
   "execution_count": 2,
   "metadata": {},
   "outputs": [],
   "source": [
    "# Lineitem\n",
    "\n",
    "l_columnnames = [\"L_ORDERKEY\", \"L_PARTKEY\", \"L_SUPPKEY\", \"L_LINENUMBER\", \"L_QUANTITY\", \"L_EXTENDEDPRICE\", \"L_DISCOUNT\", \"L_TAX\",\n",
    "                \"L_RETURNFLAG\", \"L_LINESTATUS\", \"L_SHIPDATE\", \"L_COMMITDATE\", \"L_RECEIPTDATE\", \"L_SHIPINSTRUCT\", \"L_SHIPMODE\", \"L_COMMENT\"]\n",
    "\n",
    "for i in range(len(l_columnnames)):\n",
    "    l_columnnames[i] = l_columnnames[i].lower()\n",
    "\n",
    "l_data_types = {\n",
    "    'l_orderkey': int,\n",
    "    'l_partkey': int,\n",
    "    'l_suppkey': int,\n",
    "    'l_linenumber': int,\n",
    "    'l_quantity': float,\n",
    "    'l_extendedprice': float,\n",
    "    'l_discount': float,\n",
    "    'l_tax': float,\n",
    "    'l_returnflag': str,\n",
    "    'l_linestatus': str,\n",
    "    'l_shipinstruct': str,\n",
    "    'l_shipmode': str,\n",
    "    'l_comment': str\n",
    "}\n",
    "\n",
    "l_parse_dates = ['l_shipdate', 'l_commitdate', 'l_receiptdate']\n",
    "\n",
    "# Don't set indexes, as we can't access them with Pandas selection!\n",
    "lineitem = pd.read_table(\"../data/lineitem.tbl.csv\", sep=\"|\", names=l_columnnames, dtype=l_data_types, parse_dates=l_parse_dates)"
   ]
  },
  {
   "cell_type": "code",
   "execution_count": 3,
   "metadata": {},
   "outputs": [
    {
     "name": "stdout",
     "output_type": "stream",
     "text": [
      "                                     sum_qty    sum_base_price  \\\n",
      "l_returnflag l_linestatus                                        \n",
      "A            F             943003.2507963751 76546.25946924335   \n",
      "N            F             24759.73739653575  76568.9355216966   \n",
      "             O            1915775.8957876577 76496.03121811729   \n",
      "R            F             943099.2177945763 76501.70925219932   \n",
      "\n",
      "                                  sum_charge  \n",
      "l_returnflag l_linestatus                     \n",
      "A            F             55909065222.82769  \n",
      "N            F             1469649223.194375  \n",
      "             O            113561024263.01378  \n",
      "R            F             55889619119.83193  \n",
      "--- 3.3769378662109375 seconds ---\n"
     ]
    }
   ],
   "source": [
    "start_time = time.time()\n",
    "\n",
    "df_filter_1 = lineitem[['l_orderkey', 'l_partkey', 'l_suppkey', 'l_linenumber', 'l_quantity', 'l_extendedprice', 'l_discount', 'l_tax', 'l_returnflag', 'l_linestatus', 'l_shipdate', 'l_commitdate', 'l_receiptdate', 'l_shipinstruct', 'l_shipmode', 'l_comment']]\n",
    "df_filter_1['before_1'] = (df_filter_1.l_quantity)\n",
    "df_filter_1['before_2'] = ((df_filter_1.l_discount) * 0.5)\n",
    "df_filter_1['before_3'] = (df_filter_1.l_extendedprice)\n",
    "df_filter_1['before_4'] = (df_filter_1.l_tax)\n",
    "df_filter_1['before_5'] = (df_filter_1.l_quantity)\n",
    "df_filter_1['before_6'] = (df_filter_1.l_discount)\n",
    "df_filter_1['before_7'] = (((df_filter_1.l_extendedprice) * (1 - (df_filter_1.l_discount))) * (1 + (df_filter_1.l_tax)))\n",
    "df_group_1 = df_filter_1 \\\n",
    "    .groupby(['l_returnflag', 'l_linestatus']) \\\n",
    "    .agg(\n",
    "        sum_before_1=(\"before_1\", \"sum\"),\n",
    "        mean_before_2=(\"before_2\", \"mean\"),\n",
    "        sum_before_3=(\"before_3\", \"sum\"),\n",
    "        min_before_4=(\"before_4\", \"min\"),\n",
    "        count_before_5=(\"before_5\", \"count\"),\n",
    "        min_before_6=(\"before_6\", \"min\"),\n",
    "        sum_before_7=(\"before_7\", \"sum\"),\n",
    "    )\n",
    "df_group_1['sum_qty'] = ((df_group_1.sum_before_1 * df_group_1.mean_before_2) - 72)\n",
    "df_group_1['sum_base_price'] = (df_group_1.sum_before_3 / (((df_group_1.count_before_5 - df_group_1.min_before_6) - df_group_1.min_before_4) * 0.5))\n",
    "df_group_1['sum_charge'] = df_group_1.sum_before_7\n",
    "df_group_1 = df_group_1[['sum_qty', 'sum_base_price', 'sum_charge']]\n",
    "\n",
    "end_time = time.time()\n",
    "print(df_group_1)\n",
    "\n",
    "print(\"--- %s seconds ---\" % (end_time - start_time))"
   ]
  }
 ],
 "metadata": {
  "kernelspec": {
   "display_name": "Python 3.9.12 ('sql_benchmark')",
   "language": "python",
   "name": "python3"
  },
  "language_info": {
   "codemirror_mode": {
    "name": "ipython",
    "version": 3
   },
   "file_extension": ".py",
   "mimetype": "text/x-python",
   "name": "python",
   "nbconvert_exporter": "python",
   "pygments_lexer": "ipython3",
   "version": "3.9.12"
  },
  "orig_nbformat": 4,
  "vscode": {
   "interpreter": {
    "hash": "3eb53a504e8f544f2db49e5c7d22a7422ec84315f2f9760969f8c7a9f3384b9e"
   }
  }
 },
 "nbformat": 4,
 "nbformat_minor": 2
}
