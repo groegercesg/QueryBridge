{
 "cells": [
  {
   "cell_type": "code",
   "execution_count": 6,
   "metadata": {},
   "outputs": [],
   "source": [
    "from numpy import char\n",
    "from datetime import date\n",
    "import pandas as pd\n",
    "import numpy as np\n",
    "import time\n",
    "pd.set_option('display.float_format', str)"
   ]
  },
  {
   "cell_type": "code",
   "execution_count": 7,
   "metadata": {},
   "outputs": [],
   "source": [
    "# Order\n",
    "\n",
    "o_columnnames = [\"O_ORDERKEY\", \"O_CUSTKEY\", \"O_ORDERSTATUS\", \"O_TOTALPRICE\", \"O_ORDERDATE\", \"O_ORDERPRIORITY\", \"O_CLERK\", \"O_SHIPPRIORITY\", \"O_COMMENT\"]\n",
    "\n",
    "for i in range(len(o_columnnames)):\n",
    "    o_columnnames[i] = o_columnnames[i].lower()\n",
    "    \n",
    "o_data_types = {\n",
    "    'o_orderkey': int,\n",
    "    'o_custkey': int,\n",
    "    'o_orderstatus': str,\n",
    "    'o_totalprice': float,\n",
    "    'o_orderpriority': str,\n",
    "    'o_clerk': str,\n",
    "    'o_shippriority': int,\n",
    "    'o_comment': str\n",
    "}\n",
    "\n",
    "o_parse_dates = ['o_orderdate']\n",
    "\n",
    "# Don't set indexes, as we can't access them with Pandas selection!\n",
    "orders = pd.read_table(\"../data/orders.tbl.csv\", sep=\"|\", names=o_columnnames, dtype=o_data_types, parse_dates=o_parse_dates)"
   ]
  },
  {
   "cell_type": "code",
   "execution_count": 8,
   "metadata": {},
   "outputs": [
    {
     "name": "stdout",
     "output_type": "stream",
     "text": [
      "           customer        fun_aggregate          massive_query\n",
      "o_custkey                                                      \n",
      "1             78002  0.12810308393643452        277457229149.34\n",
      "2            123314   0.2728328523217036     131517134132.36002\n",
      "4             44485 0.060140050380629084          25393471717.0\n",
      "5             55624   1.0575971082868225         179142719014.1\n",
      "7            130057  0.09635563593962534     1129452816091.3499\n",
      "...             ...                  ...                    ...\n",
      "149993        34129   0.2114397542112407     6986911012645099.0\n",
      "149995        94618 0.054745827654903836     1835363180785452.0\n",
      "149996        87190  0.14529664144308146  5.241800038924327e+16\n",
      "149998        62458  0.04995259185356739 1.7912452741612304e+16\n",
      "149999        24202 0.055579803733751744     9985699992814908.0\n",
      "\n",
      "[99996 rows x 3 columns]\n",
      "--- 0.46320533752441406 seconds ---\n"
     ]
    }
   ],
   "source": [
    "start_time = time.time()\n",
    "\n",
    "df_filter_1 = orders[['o_orderkey', 'o_custkey', 'o_orderstatus', 'o_totalprice', 'o_orderdate', 'o_orderpriority', 'o_clerk', 'o_shippriority', 'o_comment']]\n",
    "df_filter_1['before_1'] = (df_filter_1.o_custkey)\n",
    "df_filter_1['before_2'] = (df_filter_1.o_totalprice)\n",
    "df_filter_1['before_3'] = (df_filter_1.o_orderkey)\n",
    "df_filter_1['before_4'] = (df_filter_1.o_shippriority)\n",
    "df_filter_1['before_1'] = (df_filter_1.o_custkey)\n",
    "df_filter_1['before_2'] = (df_filter_1.o_totalprice)\n",
    "df_filter_1['before_3'] = (df_filter_1.o_orderkey)\n",
    "df_filter_1['before_4'] = (df_filter_1.o_shippriority)\n",
    "df_group_1 = df_filter_1 \\\n",
    "    .groupby(['o_custkey']) \\\n",
    "    .agg(\n",
    "        count_before_1=(\"before_1\", \"count\"),\n",
    "        mean_before_2=(\"before_2\", \"mean\"),\n",
    "        sum_before_3=(\"before_3\", \"sum\"),\n",
    "        min_before_4=(\"before_4\", \"min\"),\n",
    "        max_before_1=(\"before_1\", \"max\"),\n",
    "        min_before_2=(\"before_2\", \"min\"),\n",
    "        max_before_3=(\"before_3\", \"max\"),\n",
    "        mean_before_4=(\"before_4\", \"mean\"),\n",
    "    )\n",
    "df_group_1['customer'] = (df_filter_1.o_custkey)\n",
    "df_group_1['fun_aggregate'] = (((df_group_1.count_before_1 + df_group_1.mean_before_2) / (df_group_1.sum_before_3 + df_group_1.min_before_4)) * 25)\n",
    "df_group_1['massive_query'] = (((df_group_1.max_before_1 * df_group_1.min_before_2) * (df_group_1.max_before_3 - df_group_1.mean_before_4)) + 5)\n",
    "df_group_1 = df_group_1[['customer', 'fun_aggregate', 'massive_query']]\n",
    "\n",
    "end_time = time.time()\n",
    "print(df_group_1)\n",
    "\n",
    "print(\"--- %s seconds ---\" % (end_time - start_time))"
   ]
  },
  {
   "cell_type": "code",
   "execution_count": 9,
   "metadata": {},
   "outputs": [
    {
     "name": "stdout",
     "output_type": "stream",
     "text": [
      "           counto_custkeyo_totalprice2avgo_totalprice\n",
      "o_custkey                                            \n",
      "1                                           97966.485\n",
      "2                                  146903.20428571428\n",
      "4                                         132446.8395\n",
      "5                                           171245.32\n",
      "7                                         184882.3225\n",
      "...                                               ...\n",
      "149993                             169943.62833333333\n",
      "149995                             119301.31052631578\n",
      "149996                                      160294.37\n",
      "149998                             145278.90120000002\n",
      "149999                             171159.29727272727\n",
      "\n",
      "[99996 rows x 1 columns]\n",
      "--- 0.3038599491119385 seconds ---\n"
     ]
    }
   ],
   "source": [
    "# Pandas Code for:\n",
    "    # SELECT (COUNT ( o_custkey * (o_totalprice / -1) ) + AVG ( o_totalprice )) FROM orders GROUP BY o_custkey;\n",
    "\n",
    "start_time = time.time()\n",
    "df_filter_1 = orders[['o_orderkey', 'o_custkey', 'o_orderstatus', 'o_totalprice', 'o_orderdate', 'o_orderpriority', 'o_clerk', 'o_shippriority', 'o_comment']]\n",
    "df_filter_1['before_1'] = ((df_filter_1.o_custkey) * ((df_filter_1.o_totalprice) / 2))\n",
    "df_filter_1['before_2'] = (df_filter_1.o_totalprice)\n",
    "df_group_1 = df_filter_1 \\\n",
    "    .groupby(['o_custkey']) \\\n",
    "    .agg(\n",
    "        count_before_1=(\"before_1\", \"count\"),\n",
    "        mean_before_2=(\"before_2\", \"mean\"),\n",
    "    )\n",
    "df_group_1['counto_custkeyo_totalprice2avgo_totalprice'] = (df_group_1.count_before_1 + df_group_1.mean_before_2)\n",
    "df_group_1 = df_group_1[['counto_custkeyo_totalprice2avgo_totalprice']]\n",
    "\n",
    "end_time = time.time()\n",
    "print(df_group_1)\n",
    "\n",
    "print(\"--- %s seconds ---\" % (end_time - start_time))\n"
   ]
  },
  {
   "cell_type": "code",
   "execution_count": 10,
   "metadata": {},
   "outputs": [
    {
     "name": "stdout",
     "output_type": "stream",
     "text": [
      "           count_orders\n",
      "o_custkey              \n",
      "1                     6\n",
      "2                     7\n",
      "4                    20\n",
      "5                     4\n",
      "7                    16\n",
      "...                 ...\n",
      "149993                6\n",
      "149995               19\n",
      "149996                8\n",
      "149998               25\n",
      "149999               22\n",
      "\n",
      "[99996 rows x 1 columns]\n"
     ]
    }
   ],
   "source": [
    "df_filter_1 = orders[['o_orderkey', 'o_custkey', 'o_orderstatus', 'o_totalprice', 'o_orderdate', 'o_orderpriority', 'o_clerk', 'o_shippriority', 'o_comment']]\n",
    "df_filter_1['before_1'] = (df_filter_1.o_orderkey)\n",
    "df_group_1 = df_filter_1 \\\n",
    "    .groupby(['o_custkey']) \\\n",
    "    .agg(\n",
    "        count_before_1=(\"before_1\", \"count\"),\n",
    "    )\n",
    "df_group_1['count_orders'] = df_group_1.count_before_1\n",
    "df_group_1 = df_group_1[['count_orders']]\n",
    "\n",
    "print(df_group_1)"
   ]
  }
 ],
 "metadata": {
  "kernelspec": {
   "display_name": "Python 3.9.12 ('sql_benchmark')",
   "language": "python",
   "name": "python3"
  },
  "language_info": {
   "codemirror_mode": {
    "name": "ipython",
    "version": 3
   },
   "file_extension": ".py",
   "mimetype": "text/x-python",
   "name": "python",
   "nbconvert_exporter": "python",
   "pygments_lexer": "ipython3",
   "version": "3.9.12"
  },
  "orig_nbformat": 4,
  "vscode": {
   "interpreter": {
    "hash": "3eb53a504e8f544f2db49e5c7d22a7422ec84315f2f9760969f8c7a9f3384b9e"
   }
  }
 },
 "nbformat": 4,
 "nbformat_minor": 2
}
